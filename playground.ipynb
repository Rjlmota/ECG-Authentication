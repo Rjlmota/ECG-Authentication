{
 "cells": [
  {
   "cell_type": "code",
   "execution_count": 3,
   "metadata": {},
   "outputs": [],
   "source": [
    "import pandas as pd\n",
    "import numpy as np\n",
    "from scipy import stats\n",
    "import matplotlib.pyplot as plt\n",
    "from sklearn.preprocessing import LabelEncoder, StandardScaler\n",
    "from sklearn.model_selection import train_test_split\n",
    "from sklearn.ensemble import RandomForestClassifier\n",
    "from sklearn.metrics import classification_report, confusion_matrix, precision_score\n",
    "from sklearn.model_selection import StratifiedKFold"
   ]
  },
  {
   "cell_type": "code",
   "execution_count": 4,
   "metadata": {},
   "outputs": [
    {
     "data": {
      "text/html": [
       "<div>\n",
       "<style scoped>\n",
       "    .dataframe tbody tr th:only-of-type {\n",
       "        vertical-align: middle;\n",
       "    }\n",
       "\n",
       "    .dataframe tbody tr th {\n",
       "        vertical-align: top;\n",
       "    }\n",
       "\n",
       "    .dataframe thead th {\n",
       "        text-align: right;\n",
       "    }\n",
       "</style>\n",
       "<table border=\"1\" class=\"dataframe\">\n",
       "  <thead>\n",
       "    <tr style=\"text-align: right;\">\n",
       "      <th></th>\n",
       "      <th>mean_q</th>\n",
       "      <th>mean_r</th>\n",
       "      <th>mean_s</th>\n",
       "      <th>stdev_q</th>\n",
       "      <th>stdev_r</th>\n",
       "      <th>stdev_s</th>\n",
       "      <th>mean_qrs_interval</th>\n",
       "      <th>mean_rr_interval</th>\n",
       "      <th>mean_rq_amplitude</th>\n",
       "      <th>person</th>\n",
       "    </tr>\n",
       "  </thead>\n",
       "  <tbody>\n",
       "    <tr>\n",
       "      <th>0</th>\n",
       "      <td>-1.039036</td>\n",
       "      <td>0.409978</td>\n",
       "      <td>0.154258</td>\n",
       "      <td>0.022635</td>\n",
       "      <td>0.010087</td>\n",
       "      <td>0.019942</td>\n",
       "      <td>930.000000</td>\n",
       "      <td>1.449014</td>\n",
       "      <td>50.000000</td>\n",
       "      <td>tr14-0291</td>\n",
       "    </tr>\n",
       "    <tr>\n",
       "      <th>1</th>\n",
       "      <td>-0.631026</td>\n",
       "      <td>0.342097</td>\n",
       "      <td>0.162954</td>\n",
       "      <td>0.489841</td>\n",
       "      <td>0.070941</td>\n",
       "      <td>0.013946</td>\n",
       "      <td>430.000000</td>\n",
       "      <td>0.973123</td>\n",
       "      <td>61.666667</td>\n",
       "      <td>tr14-0291</td>\n",
       "    </tr>\n",
       "    <tr>\n",
       "      <th>2</th>\n",
       "      <td>-0.760507</td>\n",
       "      <td>0.372729</td>\n",
       "      <td>0.161926</td>\n",
       "      <td>0.512700</td>\n",
       "      <td>0.062801</td>\n",
       "      <td>0.024830</td>\n",
       "      <td>566.666667</td>\n",
       "      <td>1.133236</td>\n",
       "      <td>62.500000</td>\n",
       "      <td>tr14-0291</td>\n",
       "    </tr>\n",
       "    <tr>\n",
       "      <th>3</th>\n",
       "      <td>-1.079679</td>\n",
       "      <td>0.436452</td>\n",
       "      <td>0.169464</td>\n",
       "      <td>0.034610</td>\n",
       "      <td>0.020878</td>\n",
       "      <td>0.008969</td>\n",
       "      <td>920.000000</td>\n",
       "      <td>1.516131</td>\n",
       "      <td>52.500000</td>\n",
       "      <td>tr14-0291</td>\n",
       "    </tr>\n",
       "    <tr>\n",
       "      <th>4</th>\n",
       "      <td>-1.071868</td>\n",
       "      <td>0.458018</td>\n",
       "      <td>0.168823</td>\n",
       "      <td>0.008050</td>\n",
       "      <td>0.019041</td>\n",
       "      <td>0.001151</td>\n",
       "      <td>870.000000</td>\n",
       "      <td>1.529886</td>\n",
       "      <td>50.000000</td>\n",
       "      <td>tr14-0291</td>\n",
       "    </tr>\n",
       "  </tbody>\n",
       "</table>\n",
       "</div>"
      ],
      "text/plain": [
       "     mean_q    mean_r    mean_s   stdev_q   stdev_r   stdev_s  \\\n",
       "0 -1.039036  0.409978  0.154258  0.022635  0.010087  0.019942   \n",
       "1 -0.631026  0.342097  0.162954  0.489841  0.070941  0.013946   \n",
       "2 -0.760507  0.372729  0.161926  0.512700  0.062801  0.024830   \n",
       "3 -1.079679  0.436452  0.169464  0.034610  0.020878  0.008969   \n",
       "4 -1.071868  0.458018  0.168823  0.008050  0.019041  0.001151   \n",
       "\n",
       "   mean_qrs_interval  mean_rr_interval  mean_rq_amplitude     person  \n",
       "0         930.000000          1.449014          50.000000  tr14-0291  \n",
       "1         430.000000          0.973123          61.666667  tr14-0291  \n",
       "2         566.666667          1.133236          62.500000  tr14-0291  \n",
       "3         920.000000          1.516131          52.500000  tr14-0291  \n",
       "4         870.000000          1.529886          50.000000  tr14-0291  "
      ]
     },
     "execution_count": 4,
     "metadata": {},
     "output_type": "execute_result"
    }
   ],
   "source": [
    "features_df = pd.read_csv('extracted_features_files/challange_2020-01-21 14:54:18.299172.csv')\n",
    "#features_df.drop(['qrs_interval.1'], axis=1, inplace=True)\n",
    "features_df.head()\n",
    "#print(features_df['person'].value_counts())"
   ]
  },
  {
   "cell_type": "markdown",
   "metadata": {},
   "source": [
    "## Contagem de segmentos duplicados"
   ]
  },
  {
   "cell_type": "code",
   "execution_count": 5,
   "metadata": {},
   "outputs": [
    {
     "name": "stdout",
     "output_type": "stream",
     "text": [
      "total original:       181552\n",
      "duplicados no original:  10282\n",
      "número de pessoas únicas no original:  1513\n",
      "total sem duplicados:       171270\n",
      "duplicados no final:  0\n",
      "número de pessoas únicas sem dupicados:  1513\n"
     ]
    }
   ],
   "source": [
    "#ecg_id_features.plot(figsize=(20,12))\n",
    "print('total original:      ',len(features_df))\n",
    "print('duplicados no original: ',sum(features_df.duplicated()))\n",
    "print('número de pessoas únicas no original: ', features_df['person'].nunique())\n",
    "features_df.drop_duplicates(keep='first', inplace=True)\n",
    "print('total sem duplicados:      ',len(features_df))\n",
    "print('duplicados no final: ',sum(features_df.duplicated()))\n",
    "print('número de pessoas únicas sem dupicados: ', features_df['person'].nunique())"
   ]
  },
  {
   "cell_type": "code",
   "execution_count": 6,
   "metadata": {},
   "outputs": [],
   "source": [
    "def remove_outliers(original_dataset, lower_threshold, upper_threshold, column_names=[]):\n",
    "    ''' Remove outliers from a dataframe\n",
    "        Everything above or below these percentiles will be cut off\n",
    "    '''\n",
    "    # TODO: add treatment for not numerical columns\n",
    "    dataset = original_dataset.copy()\n",
    "    \n",
    "    if column_names:\n",
    "        for column in column_names:\n",
    "            removed_outliers = remove(dataset[column], lower_threshold, upper_threshold)\n",
    "            # save the indexes of rows that must be removed\n",
    "            indexes_for_removal = dataset[column][~removed_outliers].index\n",
    "            # in fact remove outliers from this column\n",
    "            #print(indexes_for_removal)\n",
    "            dataset.drop(indexes_for_removal, inplace=True)\n",
    "            #print(f'removed {len(indexes_for_removal)} outliers for column {column}')\n",
    "            #print(f'remaining itens in dataset: {len(dataset)}')\n",
    "        return dataset\n",
    "            \n",
    "    else:\n",
    "        column_names = list(dataset.columns)\n",
    "        for column in column_names:\n",
    "            removed_outliers = remove(dataset[column], lower_threshold, upper_threshold)\n",
    "            # save the indexes of rows that must be removed\n",
    "            indexes_for_removal = dataset[column][~removed_outliers].index\n",
    "            # in fact remove outliers from this column \n",
    "            dataset.drop(indexes_for_removal, inplace=True)\n",
    "        return dataset\n",
    "    \n",
    "def remove(series, lower_threshold, upper_threshold):\n",
    "    ''' Remove outliers from a single pandas Series '''\n",
    "    # create a boolean mask where False values are the outliers\n",
    "    removed_outliers = series.between(series.quantile(lower_threshold),\n",
    "                                      series.quantile(upper_threshold))\n",
    "    return removed_outliers"
   ]
  },
  {
   "cell_type": "code",
   "execution_count": 7,
   "metadata": {},
   "outputs": [
    {
     "name": "stdout",
     "output_type": "stream",
     "text": [
      "Original features had 171270 rows\n",
      "Features without outliers has 159938 rows\n"
     ]
    }
   ],
   "source": [
    "lower_threshold = 0.0025 # 0,025%\n",
    "upper_threshold = 0.9975 # 0,025%\n",
    "\n",
    "#lower_threshold = 0.02 # 1%\n",
    "#upper_threshold = 0.98 # 1%\n",
    "\n",
    "column_names = list(features_df.columns)\n",
    "person_index = column_names.index('person')\n",
    "column_names.pop(person_index)\n",
    "print(f'Original features had {len(features_df)} rows')\n",
    "\n",
    "cleaned_features_df = remove_outliers(features_df,lower_threshold, upper_threshold, column_names=column_names)\n",
    "\n",
    "print(f'Features without outliers has {len(cleaned_features_df)} rows')\n",
    "\n",
    "#cleaned_features_df.to_csv('driver_db_cleaned_features.csv', index=False)"
   ]
  },
  {
   "cell_type": "code",
   "execution_count": 8,
   "metadata": {},
   "outputs": [],
   "source": [
    "# Remove os rótulos\n",
    "X = cleaned_features_df.drop(['person'], axis=1)\n",
    "# Preenche os dados faltosos com a média da respectiva coluna\n",
    "X = X.apply(lambda x: x.fillna(x.mean()))\n",
    "# O objeto da predição é 'y' (os rótulos das classes)\n",
    "y = cleaned_features_df['person']\n",
    "#X_train, X_test, y_train, y_test = train_test_split(X, y, test_size = 0.2)"
   ]
  },
  {
   "cell_type": "code",
   "execution_count": 9,
   "metadata": {},
   "outputs": [
    {
     "data": {
      "text/plain": [
       "Text(0.5, 1.0, 'Cumulative distribution of number of examples')"
      ]
     },
     "execution_count": 9,
     "metadata": {},
     "output_type": "execute_result"
    },
    {
     "data": {
      "image/png": "[encoded data removed]",
      "text/plain": [
       "<Figure size 1440x720 with 1 Axes>"
      ]
     },
     "metadata": {
      "needs_background": "light"
     },
     "output_type": "display_data"
    }
   ],
   "source": [
    "# filter_ = cleaned_features_df['person'].value_counts(ascending=True) >= 100\n",
    "plt.figure(figsize=(20,10))\n",
    "cleaned_features_df['person'].value_counts(ascending=True).hist(cumulative=True, density=1)\n",
    "plt.title(\"Cumulative distribution of number of examples\")"
   ]
  },
  {
   "cell_type": "code",
   "execution_count": 10,
   "metadata": {},
   "outputs": [
    {
     "name": "stdout",
     "output_type": "stream",
     "text": [
      "['tr04-1023', 'te11-0559', 'tr05-0048', 'te09-0285', 'te05-0804', 'tr03-0567', 'te06-0395', 'tr12-0646', 'te06-0412', 'te03-1400', 'tr03-0418', 'tr03-0536', 'tr04-1096', 'tr11-0050', 'te04-0203', 'tr05-1457', 'te03-1216', 'tr04-0261', 'te03-1178', 'te09-0459', 'tr05-0857', 'tr05-0800', 'te09-0566', 'tr13-0164', 'te03-0805', 'te11-0601', 'tr05-1547', 'te12-0156', 'te09-0645', 'tr06-0812', 'tr12-0229', 'tr05-1258', 'tr11-0350', 'te10-0605', 'tr06-0721', 'te09-0605', 'te07-0749', 'tr14-0185', 'tr07-0257', 'te12-0256', 'tr05-1121', 'tr09-0122', 'te11-0167', 'tr04-0931', 'te04-0543', 'tr04-0120', 'te03-0750', 'te12-0653', 'te05-1073', 'te09-0634', 'tr10-0626', 'tr05-0256', 'tr05-1317', 'te12-0180', 'tr03-1010', 'te05-1141', 'tr05-1464', 'te03-1117', 'te05-0088', 'tr04-0079', 'te13-0574', 'te12-0660', 'te05-1249', 'tr11-0101', 'te05-0255', 'tr03-0713', 'te09-0121', 'te09-0481', 'tr04-0878', 'tr03-1371', 'tr11-0659', 'tr04-0121', 'tr13-0076', 'te12-0498', 'tr08-0192', 'tr04-0030', 'te07-0270', 'te13-0116', 'tr03-1155', 'tr13-0646', 'te13-0263', 'tr10-0047', 'tr05-0635', 'tr12-0530', 'tr06-0122', 'tr05-0405', 'te12-0651', 'tr04-0649', 'te05-1627', 'tr07-0418', 'te03-0080', 'tr06-0062', 'tr07-0246', 'tr10-0108', 'te07-0006', 'tr09-0568', 'te05-0209', 'te09-0193', 'te10-0859', 'tr03-0955', 'tr08-0214', 'tr05-0572', 'tr04-1013', 'tr07-0125', 'te13-0253', 'te13-0428', 'tr03-0166', 'te07-0547', 'tr12-0308', 'te07-0311', 'tr04-0039', 'te07-0746', 'te12-0612', 'tr03-0900', 'te10-0637', 'tr04-0762', 'te04-0677', 'te07-0060', 'tr04-0551', 'te04-0842', 'tr06-0627', 'te05-1685', 'tr10-0740', 'tr06-0177', 'tr05-0418', 'te05-0421', 'tr03-0134', 'tr03-1319', 'tr12-0408', 'te11-0131', 'te07-0797', 'te06-0695', 'tr07-0665', 'tr05-0627', 'te11-0390', 'tr04-0611', 'tr05-1129', 'te07-0799', 'tr03-0919', 'te13-0636', 'te03-0416', 'te03-1348', 'tr10-0392', 'te04-1035', 'te11-0112', 'te03-0046', 'te05-0695', 'tr05-0686', 'te04-0602', 'te03-0032', 'te07-0704', 'tr04-0332', 'tr07-0642', 'te07-0417', 'tr03-0289', 'tr06-0242', 'te12-0544', 'te05-1296', 'tr08-0348', 'te08-0320', 'tr03-0322', 'tr05-0596', 'tr05-1419', 'tr04-0275', 'te04-0827', 'tr07-0056', 'te04-0813', 'te12-0562', 'te11-0389', 'te11-0695', 'te03-0811', 'te05-1470', 'tr04-0468', 'te11-0753', 'te12-0459', 'te03-1377', 'te03-1291', 'tr05-0932', 'te03-0524', 'te04-0953', 'tr06-0750', 'tr05-0812', 'te12-0547', 'te10-0143', 'tr08-0021', 'te03-0620', 'te04-0651', 'tr13-0801', 'tr08-0113', 'tr12-0185', 'tr11-0347', 'tr13-0447', 'tr05-1225', 'tr06-0315', 'te13-0484', 'te07-0220', 'te09-0300', 'tr05-1489', 'tr04-0400', 'te03-0383', 'te13-0827', 'tr12-0687', 'tr03-0304', 'te06-0445', 'te04-0234', 'te05-1254', 'te11-0346', 'tr09-0217', 'tr03-1112', 'tr07-0100', 'tr08-0012', 'tr12-0607', 'tr04-0393', 'te04-0521', 'tr08-0277', 'te12-0378', 'tr06-0843', 'tr05-0312', 'tr10-0853', 'te07-0271', 'te06-0131', 'tr03-0373', 'tr05-0655', 'tr04-0631', 'tr05-1406', 'te05-1544', 'tr12-0209', 'tr11-0590', 'te06-0896', 'tr07-0197', 'te04-0154', 'tr03-1346', 'te03-0856', 'te05-0567', 'tr05-0610', 'te03-1118', 'tr06-0556', 'te03-0441', 'tr03-0485', 'te03-0978', 'te09-0415', 'te03-0864', 'te03-1308', 'te03-1230', 'te06-0162', 'te04-0092', 'tr08-0256', 'te05-0571', 'tr03-0885', 'tr04-0695', 'tr12-0560', 'te11-0189', 'te03-0910', 'te13-0682', 'te07-0020', 'te05-0433', 'te04-0467', 'tr03-0726', 'tr04-0939', 'tr04-0474', 'tr12-0438', 'tr05-0549', 'te06-0796', 'tr13-0685', 'te06-0887', 'te03-0125', 'tr03-1389', 'te04-0721', 'tr04-0020', 'tr08-0245', 'tr04-0471', 'tr10-0077', 'tr05-0570', 'te05-1069', 'te04-0807', 'te12-0458', 'te05-1559', 'te05-1079', 'tr06-0503', 'tr03-0780', 'tr03-0816', 'te03-0800', 'tr05-0174', 'tr03-0686', 'tr03-0411', 'te03-1318', 'tr03-0743', 'te06-0828', 'te07-0816', 'tr10-0536', 'te06-0867', 'te05-0540', 'tr09-0068', 'te11-0488', 'tr06-0041', 'te13-0418', 'tr05-1190', 'te04-0406', 'te03-0193', 'tr03-0079', 'tr03-0257', 'te03-0950', 'te03-1364', 'te03-0091', 'tr09-0527', 'te03-1093', 'tr07-0016', 'te07-0378', 'te05-1075', 'tr03-1119', 'te05-0693', 'te04-0350', 'te04-0102', 'tr03-1004', 'tr09-0580', 'te04-0125', 'tr04-0503', 'tr12-0135', 'tr05-0838', 'te06-0770', 'tr03-0087', 'te06-0840', 'tr03-0426', 'te05-0886', 'tr06-0883', 'tr03-1082', 'tr05-1042', 'te03-1016', 'tr06-0797', 'te03-0371', 'te09-0156', 'tr11-0736', 'tr09-0186', 'tr13-0607', 'te05-0151', 'tr12-0319', 'te09-0582', 'tr03-0907', 'te10-0180', 'tr07-0610', 'tr12-0368', 'tr04-0223', 'te03-0024', 'te07-0613', 'te04-0497', 'te06-0874', 'te03-0106', 'tr11-0016', 'tr12-0476', 'te06-0641', 'tr04-1105', 'te05-1647', 'tr03-1302', 'tr07-0575', 'tr12-0095', 'tr05-0411', 'te04-0779', 'tr09-0334', 'tr04-1097', 'tr12-0441', 'tr05-1167', 'tr05-0315', 'te05-1044', 'tr04-0960', 'te04-0280', 'tr05-1689', 'te05-0430', 'te04-0012', 'te13-0442', 'tr04-0699', 'tr07-0585', 'te03-1320', 'te05-1267', 'te09-0035', 'tr03-0623', 'tr12-0061', 'tr03-0921', 'tr04-0568', 'tr07-0564', 'te03-0041', 'tr04-0887', 'te03-0132', 'tr03-0086', 'tr07-0568', 'tr12-0685', 'te05-0555', 'te11-0141', 'te09-0407', 'te04-0664', 'tr08-0030', 'tr03-0287', 'tr04-0015', 'te03-0660', 'tr11-0339', 'tr05-0613', 'tr05-0900', 'te06-0021', 'te07-0014', 'tr05-1510', 'te03-0577', 'tr05-1649', 'tr07-0030', 'tr13-0364', 'te13-0851', 'tr04-0008', 'te04-0071', 'te07-0057', 'tr07-0650', 'te04-1130', 'te07-0785', 'tr07-0891', 'te07-0693', 'tr12-0573', 'te11-0196', 'te07-0496', 'te14-0017', 'tr05-1659', 'te11-0728', 'te03-1098', 'te03-0819', 'tr07-0549', 'te04-0669', 'te04-1065', 'te03-0112', 'te03-0422', 'te07-0051', 'te05-0887', 'tr07-0594', 'tr03-0103', 'tr03-0179', 'tr09-0051', 'te12-0430', 'te06-0585', 'tr05-0074', 'tr12-0492', 'te12-0553', 'te03-0031', 'tr03-0764', 'te04-0487', 'tr12-0121', 'tr12-0363', 'tr13-0187', 'te13-0481', 'te06-0208', 'tr03-0792', 'tr06-0449', 'tr05-1475', 'tr03-1129', 'te11-0047', 'tr04-0265', 'tr04-0613', 'te07-0671', 'tr03-0184', 'te04-0172', 'te04-0707', 'te04-0775', 'tr10-0191', 'te05-0450', 'tr03-0697', 'te04-0885', 'te03-0593', 'te07-0480', 'te03-0499', 'te06-0266', 'tr03-0216', 'te13-0209', 'tr12-0106', 'tr09-0205', 'te11-0444', 'te11-0117']\n"
     ]
    }
   ],
   "source": [
    "# se quisser obter as pessoas probleḿaticas\n",
    "#print(list(cleaned_features_df['person'].value_counts(ascending=True)[:470].index))"
   ]
  },
  {
   "cell_type": "code",
   "execution_count": 11,
   "metadata": {},
   "outputs": [
    {
     "name": "stdout",
     "output_type": "stream",
     "text": [
      "StratifiedKFold(n_splits=10, random_state=None, shuffle=False)\n"
     ]
    },
    {
     "name": "stderr",
     "output_type": "stream",
     "text": [
      "/home/renato/anaconda3/lib/python3.7/site-packages/sklearn/model_selection/_split.py:652: Warning: The least populated class in y has only 8 members, which is too few. The minimum number of members in any class cannot be less than n_splits=10.\n",
      "  % (min_groups, self.n_splits)), Warning)\n"
     ]
    },
    {
     "ename": "KeyboardInterrupt",
     "evalue": "",
     "output_type": "error",
     "traceback": [
      "\u001b[0;31m---------------------------------------------------------------------------\u001b[0m",
      "\u001b[0;31mKeyboardInterrupt\u001b[0m                         Traceback (most recent call last)",
      "\u001b[0;32m<ipython-input-11-04489ccfa817>\u001b[0m in \u001b[0;36m<module>\u001b[0;34m\u001b[0m\n\u001b[1;32m      5\u001b[0m \u001b[0mprediction_list\u001b[0m \u001b[0;34m=\u001b[0m \u001b[0;34m[\u001b[0m\u001b[0;34m]\u001b[0m\u001b[0;34m\u001b[0m\u001b[0;34m\u001b[0m\u001b[0m\n\u001b[1;32m      6\u001b[0m \u001b[0;34m\u001b[0m\u001b[0m\n\u001b[0;32m----> 7\u001b[0;31m \u001b[0;32mfor\u001b[0m \u001b[0mtrain_index\u001b[0m\u001b[0;34m,\u001b[0m \u001b[0mtest_index\u001b[0m \u001b[0;32min\u001b[0m \u001b[0mskf\u001b[0m\u001b[0;34m.\u001b[0m\u001b[0msplit\u001b[0m\u001b[0;34m(\u001b[0m\u001b[0mX\u001b[0m\u001b[0;34m,\u001b[0m \u001b[0my\u001b[0m\u001b[0;34m)\u001b[0m\u001b[0;34m:\u001b[0m\u001b[0;34m\u001b[0m\u001b[0;34m\u001b[0m\u001b[0m\n\u001b[0m\u001b[1;32m      8\u001b[0m     \u001b[0mprint\u001b[0m\u001b[0;34m(\u001b[0m\u001b[0;34m\"TRAIN:\"\u001b[0m\u001b[0;34m,\u001b[0m \u001b[0mtrain_index\u001b[0m\u001b[0;34m,\u001b[0m \u001b[0;34m\"TEST:\"\u001b[0m\u001b[0;34m,\u001b[0m \u001b[0mtest_index\u001b[0m\u001b[0;34m)\u001b[0m\u001b[0;34m\u001b[0m\u001b[0;34m\u001b[0m\u001b[0m\n\u001b[1;32m      9\u001b[0m     \u001b[0mX_train\u001b[0m\u001b[0;34m,\u001b[0m \u001b[0mX_test\u001b[0m \u001b[0;34m=\u001b[0m \u001b[0mX\u001b[0m\u001b[0;34m[\u001b[0m\u001b[0mtrain_index\u001b[0m\u001b[0;34m]\u001b[0m\u001b[0;34m,\u001b[0m \u001b[0mX\u001b[0m\u001b[0;34m[\u001b[0m\u001b[0mtest_index\u001b[0m\u001b[0;34m]\u001b[0m\u001b[0;34m\u001b[0m\u001b[0;34m\u001b[0m\u001b[0m\n",
      "\u001b[0;32m~/anaconda3/lib/python3.7/site-packages/sklearn/model_selection/_split.py\u001b[0m in \u001b[0;36msplit\u001b[0;34m(self, X, y, groups)\u001b[0m\n\u001b[1;32m    329\u001b[0m                 .format(self.n_splits, n_samples))\n\u001b[1;32m    330\u001b[0m \u001b[0;34m\u001b[0m\u001b[0m\n\u001b[0;32m--> 331\u001b[0;31m         \u001b[0;32mfor\u001b[0m \u001b[0mtrain\u001b[0m\u001b[0;34m,\u001b[0m \u001b[0mtest\u001b[0m \u001b[0;32min\u001b[0m \u001b[0msuper\u001b[0m\u001b[0;34m(\u001b[0m\u001b[0m_BaseKFold\u001b[0m\u001b[0;34m,\u001b[0m \u001b[0mself\u001b[0m\u001b[0;34m)\u001b[0m\u001b[0;34m.\u001b[0m\u001b[0msplit\u001b[0m\u001b[0;34m(\u001b[0m\u001b[0mX\u001b[0m\u001b[0;34m,\u001b[0m \u001b[0my\u001b[0m\u001b[0;34m,\u001b[0m \u001b[0mgroups\u001b[0m\u001b[0;34m)\u001b[0m\u001b[0;34m:\u001b[0m\u001b[0;34m\u001b[0m\u001b[0;34m\u001b[0m\u001b[0m\n\u001b[0m\u001b[1;32m    332\u001b[0m             \u001b[0;32myield\u001b[0m \u001b[0mtrain\u001b[0m\u001b[0;34m,\u001b[0m \u001b[0mtest\u001b[0m\u001b[0;34m\u001b[0m\u001b[0;34m\u001b[0m\u001b[0m\n\u001b[1;32m    333\u001b[0m \u001b[0;34m\u001b[0m\u001b[0m\n",
      "\u001b[0;32m~/anaconda3/lib/python3.7/site-packages/sklearn/model_selection/_split.py\u001b[0m in \u001b[0;36msplit\u001b[0;34m(self, X, y, groups)\u001b[0m\n\u001b[1;32m     98\u001b[0m         \u001b[0mX\u001b[0m\u001b[0;34m,\u001b[0m \u001b[0my\u001b[0m\u001b[0;34m,\u001b[0m \u001b[0mgroups\u001b[0m \u001b[0;34m=\u001b[0m \u001b[0mindexable\u001b[0m\u001b[0;34m(\u001b[0m\u001b[0mX\u001b[0m\u001b[0;34m,\u001b[0m \u001b[0my\u001b[0m\u001b[0;34m,\u001b[0m \u001b[0mgroups\u001b[0m\u001b[0;34m)\u001b[0m\u001b[0;34m\u001b[0m\u001b[0;34m\u001b[0m\u001b[0m\n\u001b[1;32m     99\u001b[0m         \u001b[0mindices\u001b[0m \u001b[0;34m=\u001b[0m \u001b[0mnp\u001b[0m\u001b[0;34m.\u001b[0m\u001b[0marange\u001b[0m\u001b[0;34m(\u001b[0m\u001b[0m_num_samples\u001b[0m\u001b[0;34m(\u001b[0m\u001b[0mX\u001b[0m\u001b[0;34m)\u001b[0m\u001b[0;34m)\u001b[0m\u001b[0;34m\u001b[0m\u001b[0;34m\u001b[0m\u001b[0m\n\u001b[0;32m--> 100\u001b[0;31m         \u001b[0;32mfor\u001b[0m \u001b[0mtest_index\u001b[0m \u001b[0;32min\u001b[0m \u001b[0mself\u001b[0m\u001b[0;34m.\u001b[0m\u001b[0m_iter_test_masks\u001b[0m\u001b[0;34m(\u001b[0m\u001b[0mX\u001b[0m\u001b[0;34m,\u001b[0m \u001b[0my\u001b[0m\u001b[0;34m,\u001b[0m \u001b[0mgroups\u001b[0m\u001b[0;34m)\u001b[0m\u001b[0;34m:\u001b[0m\u001b[0;34m\u001b[0m\u001b[0;34m\u001b[0m\u001b[0m\n\u001b[0m\u001b[1;32m    101\u001b[0m             \u001b[0mtrain_index\u001b[0m \u001b[0;34m=\u001b[0m \u001b[0mindices\u001b[0m\u001b[0;34m[\u001b[0m\u001b[0mnp\u001b[0m\u001b[0;34m.\u001b[0m\u001b[0mlogical_not\u001b[0m\u001b[0;34m(\u001b[0m\u001b[0mtest_index\u001b[0m\u001b[0;34m)\u001b[0m\u001b[0;34m]\u001b[0m\u001b[0;34m\u001b[0m\u001b[0;34m\u001b[0m\u001b[0m\n\u001b[1;32m    102\u001b[0m             \u001b[0mtest_index\u001b[0m \u001b[0;34m=\u001b[0m \u001b[0mindices\u001b[0m\u001b[0;34m[\u001b[0m\u001b[0mtest_index\u001b[0m\u001b[0;34m]\u001b[0m\u001b[0;34m\u001b[0m\u001b[0;34m\u001b[0m\u001b[0m\n",
      "\u001b[0;32m~/anaconda3/lib/python3.7/site-packages/sklearn/model_selection/_split.py\u001b[0m in \u001b[0;36m_iter_test_masks\u001b[0;34m(self, X, y, groups)\u001b[0m\n\u001b[1;32m    679\u001b[0m \u001b[0;34m\u001b[0m\u001b[0m\n\u001b[1;32m    680\u001b[0m     \u001b[0;32mdef\u001b[0m \u001b[0m_iter_test_masks\u001b[0m\u001b[0;34m(\u001b[0m\u001b[0mself\u001b[0m\u001b[0;34m,\u001b[0m \u001b[0mX\u001b[0m\u001b[0;34m,\u001b[0m \u001b[0my\u001b[0m\u001b[0;34m=\u001b[0m\u001b[0;32mNone\u001b[0m\u001b[0;34m,\u001b[0m \u001b[0mgroups\u001b[0m\u001b[0;34m=\u001b[0m\u001b[0;32mNone\u001b[0m\u001b[0;34m)\u001b[0m\u001b[0;34m:\u001b[0m\u001b[0;34m\u001b[0m\u001b[0;34m\u001b[0m\u001b[0m\n\u001b[0;32m--> 681\u001b[0;31m         \u001b[0mtest_folds\u001b[0m \u001b[0;34m=\u001b[0m \u001b[0mself\u001b[0m\u001b[0;34m.\u001b[0m\u001b[0m_make_test_folds\u001b[0m\u001b[0;34m(\u001b[0m\u001b[0mX\u001b[0m\u001b[0;34m,\u001b[0m \u001b[0my\u001b[0m\u001b[0;34m)\u001b[0m\u001b[0;34m\u001b[0m\u001b[0;34m\u001b[0m\u001b[0m\n\u001b[0m\u001b[1;32m    682\u001b[0m         \u001b[0;32mfor\u001b[0m \u001b[0mi\u001b[0m \u001b[0;32min\u001b[0m \u001b[0mrange\u001b[0m\u001b[0;34m(\u001b[0m\u001b[0mself\u001b[0m\u001b[0;34m.\u001b[0m\u001b[0mn_splits\u001b[0m\u001b[0;34m)\u001b[0m\u001b[0;34m:\u001b[0m\u001b[0;34m\u001b[0m\u001b[0;34m\u001b[0m\u001b[0m\n\u001b[1;32m    683\u001b[0m             \u001b[0;32myield\u001b[0m \u001b[0mtest_folds\u001b[0m \u001b[0;34m==\u001b[0m \u001b[0mi\u001b[0m\u001b[0;34m\u001b[0m\u001b[0;34m\u001b[0m\u001b[0m\n",
      "\u001b[0;32m~/anaconda3/lib/python3.7/site-packages/sklearn/model_selection/_split.py\u001b[0m in \u001b[0;36m_make_test_folds\u001b[0;34m(self, X, y)\u001b[0m\n\u001b[1;32m    666\u001b[0m         \u001b[0;32mfor\u001b[0m \u001b[0mtest_fold_indices\u001b[0m\u001b[0;34m,\u001b[0m \u001b[0mper_cls_splits\u001b[0m \u001b[0;32min\u001b[0m \u001b[0menumerate\u001b[0m\u001b[0;34m(\u001b[0m\u001b[0mzip\u001b[0m\u001b[0;34m(\u001b[0m\u001b[0;34m*\u001b[0m\u001b[0mper_cls_cvs\u001b[0m\u001b[0;34m)\u001b[0m\u001b[0;34m)\u001b[0m\u001b[0;34m:\u001b[0m\u001b[0;34m\u001b[0m\u001b[0;34m\u001b[0m\u001b[0m\n\u001b[1;32m    667\u001b[0m             \u001b[0;32mfor\u001b[0m \u001b[0mcls\u001b[0m\u001b[0;34m,\u001b[0m \u001b[0;34m(\u001b[0m\u001b[0m_\u001b[0m\u001b[0;34m,\u001b[0m \u001b[0mtest_split\u001b[0m\u001b[0;34m)\u001b[0m \u001b[0;32min\u001b[0m \u001b[0mzip\u001b[0m\u001b[0;34m(\u001b[0m\u001b[0munique_y\u001b[0m\u001b[0;34m,\u001b[0m \u001b[0mper_cls_splits\u001b[0m\u001b[0;34m)\u001b[0m\u001b[0;34m:\u001b[0m\u001b[0;34m\u001b[0m\u001b[0;34m\u001b[0m\u001b[0m\n\u001b[0;32m--> 668\u001b[0;31m                 \u001b[0mcls_test_folds\u001b[0m \u001b[0;34m=\u001b[0m \u001b[0mtest_folds\u001b[0m\u001b[0;34m[\u001b[0m\u001b[0my\u001b[0m \u001b[0;34m==\u001b[0m \u001b[0mcls\u001b[0m\u001b[0;34m]\u001b[0m\u001b[0;34m\u001b[0m\u001b[0;34m\u001b[0m\u001b[0m\n\u001b[0m\u001b[1;32m    669\u001b[0m                 \u001b[0;31m# the test split can be too big because we used\u001b[0m\u001b[0;34m\u001b[0m\u001b[0;34m\u001b[0m\u001b[0;34m\u001b[0m\u001b[0m\n\u001b[1;32m    670\u001b[0m                 \u001b[0;31m# KFold(...).split(X[:max(c, n_splits)]) when data is not 100%\u001b[0m\u001b[0;34m\u001b[0m\u001b[0;34m\u001b[0m\u001b[0;34m\u001b[0m\u001b[0m\n",
      "\u001b[0;31mKeyboardInterrupt\u001b[0m: "
     ]
    }
   ],
   "source": [
    "skf = StratifiedKFold(n_splits=10)\n",
    "skf.get_n_splits(X, y)\n",
    "print(skf)\n",
    "\n",
    "prediction_list = []\n",
    "\n",
    "for train_index, test_index in skf.split(X, y):\n",
    "    print(\"TRAIN:\", train_index, \"TEST:\", test_index)\n",
    "    X_train, X_test = X[train_index], X[test_index]\n",
    "    y_train, y_test = y[train_index], y[test_index]\n",
    "    rf = RandomForestClassifier(n_jobs=4, n_estimators=200, max_depth=100, min_samples_leaf=3, min_samples_split=10, verbose=True)\n",
    "    rf.fit(X_train, y_train)\n",
    "    predictions = rf.pŕedict(y_test)\n",
    "    classification_output = classification_report(y_test, predictions)\n",
    "    print(classification_output)\n",
    "    prediction_list.append(classification_output)"
   ]
  },
  {
   "cell_type": "code",
   "execution_count": null,
   "metadata": {},
   "outputs": [],
   "source": []
  }
 ],
 "metadata": {
  "kernelspec": {
   "display_name": "Python 3",
   "language": "python",
   "name": "python3"
  },
  "language_info": {
   "codemirror_mode": {
    "name": "ipython",
    "version": 3
   },
   "file_extension": ".py",
   "mimetype": "text/x-python",
   "name": "python",
   "nbconvert_exporter": "python",
   "pygments_lexer": "ipython3",
   "version": "3.7.4"
  }
 },
 "nbformat": 4,
 "nbformat_minor": 2
}
