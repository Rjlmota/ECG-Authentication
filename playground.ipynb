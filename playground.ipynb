{
 "cells": [
  {
   "cell_type": "code",
   "execution_count": 4,
   "metadata": {},
   "outputs": [],
   "source": [
    "import pandas as pd\n",
    "import numpy as np\n",
    "from scipy import stats\n",
    "import matplotlib.pyplot as plt\n",
    "from sklearn.preprocessing import LabelEncoder, StandardScaler\n",
    "from sklearn.model_selection import train_test_split\n",
    "from sklearn.ensemble import RandomForestClassifier\n",
    "from sklearn.metrics import classification_report, confusion_matrix, precision_score\n",
    "from sklearn.model_selection import StratifiedKFold"
   ]
  },
  {
   "cell_type": "code",
   "execution_count": 5,
   "metadata": {},
   "outputs": [
    {
     "data": {
      "application/vnd.jupyter.widget-view+json": {
       "model_id": "8e5c1af937824cb4ad41181f65643452",
       "version_major": 2,
       "version_minor": 0
      },
      "text/plain": [
       "HBox(children=(IntProgress(value=1, bar_style='info', max=1), HTML(value='')))"
      ]
     },
     "metadata": {},
     "output_type": "display_data"
    },
    {
     "name": "stdout",
     "output_type": "stream",
     "text": [
      "\n"
     ]
    }
   ],
   "source": [
    "# configure tqdm printing\n",
    "#%%capture\n",
    "from tqdm import tqdm_notebook as tqdm\n",
    "tqdm().pandas()"
   ]
  },
  {
   "cell_type": "code",
   "execution_count": 6,
   "metadata": {},
   "outputs": [
    {
     "data": {
      "text/html": [
       "<div>\n",
       "<style scoped>\n",
       "    .dataframe tbody tr th:only-of-type {\n",
       "        vertical-align: middle;\n",
       "    }\n",
       "\n",
       "    .dataframe tbody tr th {\n",
       "        vertical-align: top;\n",
       "    }\n",
       "\n",
       "    .dataframe thead th {\n",
       "        text-align: right;\n",
       "    }\n",
       "</style>\n",
       "<table border=\"1\" class=\"dataframe\">\n",
       "  <thead>\n",
       "    <tr style=\"text-align: right;\">\n",
       "      <th></th>\n",
       "      <th>mean_q</th>\n",
       "      <th>mean_r</th>\n",
       "      <th>mean_s</th>\n",
       "      <th>stdev_q</th>\n",
       "      <th>stdev_r</th>\n",
       "      <th>stdev_s</th>\n",
       "      <th>mean_qrs_interval</th>\n",
       "      <th>mean_rr_interval</th>\n",
       "      <th>mean_rq_amplitude</th>\n",
       "      <th>person</th>\n",
       "    </tr>\n",
       "  </thead>\n",
       "  <tbody>\n",
       "    <tr>\n",
       "      <th>0</th>\n",
       "      <td>-0.104878</td>\n",
       "      <td>0.695049</td>\n",
       "      <td>-0.163521</td>\n",
       "      <td>0.074419</td>\n",
       "      <td>0.033392</td>\n",
       "      <td>0.030779</td>\n",
       "      <td>406.25</td>\n",
       "      <td>0.799927</td>\n",
       "      <td>26.400000</td>\n",
       "      <td>person1</td>\n",
       "    </tr>\n",
       "    <tr>\n",
       "      <th>1</th>\n",
       "      <td>-0.270403</td>\n",
       "      <td>0.562847</td>\n",
       "      <td>-0.321890</td>\n",
       "      <td>0.126695</td>\n",
       "      <td>0.110208</td>\n",
       "      <td>0.169436</td>\n",
       "      <td>543.00</td>\n",
       "      <td>0.833250</td>\n",
       "      <td>28.250000</td>\n",
       "      <td>person1</td>\n",
       "    </tr>\n",
       "    <tr>\n",
       "      <th>2</th>\n",
       "      <td>-0.048579</td>\n",
       "      <td>0.712985</td>\n",
       "      <td>-0.116188</td>\n",
       "      <td>0.036970</td>\n",
       "      <td>0.072378</td>\n",
       "      <td>0.063060</td>\n",
       "      <td>365.25</td>\n",
       "      <td>0.761564</td>\n",
       "      <td>29.800000</td>\n",
       "      <td>person1</td>\n",
       "    </tr>\n",
       "    <tr>\n",
       "      <th>3</th>\n",
       "      <td>-0.476136</td>\n",
       "      <td>0.336879</td>\n",
       "      <td>-0.659080</td>\n",
       "      <td>0.000000</td>\n",
       "      <td>0.000000</td>\n",
       "      <td>0.000000</td>\n",
       "      <td>NaN</td>\n",
       "      <td>0.813015</td>\n",
       "      <td>30.000000</td>\n",
       "      <td>person1</td>\n",
       "    </tr>\n",
       "    <tr>\n",
       "      <th>4</th>\n",
       "      <td>-0.525585</td>\n",
       "      <td>0.381344</td>\n",
       "      <td>-0.567117</td>\n",
       "      <td>0.065124</td>\n",
       "      <td>0.085403</td>\n",
       "      <td>0.115455</td>\n",
       "      <td>729.50</td>\n",
       "      <td>0.906930</td>\n",
       "      <td>35.666667</td>\n",
       "      <td>person1</td>\n",
       "    </tr>\n",
       "  </tbody>\n",
       "</table>\n",
       "</div>"
      ],
      "text/plain": [
       "     mean_q    mean_r    mean_s   stdev_q   stdev_r   stdev_s  \\\n",
       "0 -0.104878  0.695049 -0.163521  0.074419  0.033392  0.030779   \n",
       "1 -0.270403  0.562847 -0.321890  0.126695  0.110208  0.169436   \n",
       "2 -0.048579  0.712985 -0.116188  0.036970  0.072378  0.063060   \n",
       "3 -0.476136  0.336879 -0.659080  0.000000  0.000000  0.000000   \n",
       "4 -0.525585  0.381344 -0.567117  0.065124  0.085403  0.115455   \n",
       "\n",
       "   mean_qrs_interval  mean_rr_interval  mean_rq_amplitude   person  \n",
       "0             406.25          0.799927          26.400000  person1  \n",
       "1             543.00          0.833250          28.250000  person1  \n",
       "2             365.25          0.761564          29.800000  person1  \n",
       "3                NaN          0.813015          30.000000  person1  \n",
       "4             729.50          0.906930          35.666667  person1  "
      ]
     },
     "execution_count": 6,
     "metadata": {},
     "output_type": "execute_result"
    }
   ],
   "source": [
    "features_df = pd.read_csv('extracted_features_files/_ecgiddb.csv')\n",
    "test_features_df = pd.read_csv('extracted_features_files/_ecgiddb_original.csv')\n",
    "\n",
    "#features_df.drop(['qrs_interval.1'], axis=1, inplace=True)\n",
    "features_df.head()\n",
    "#print(features_df['person'].value_counts())"
   ]
  },
  {
   "cell_type": "markdown",
   "metadata": {},
   "source": [
    "## Contagem de segmentos duplicados"
   ]
  },
  {
   "cell_type": "code",
   "execution_count": 7,
   "metadata": {},
   "outputs": [
    {
     "name": "stdout",
     "output_type": "stream",
     "text": [
      "total original:       120\n",
      "duplicados no original:  29\n",
      "número de pessoas únicas no original:  1\n",
      "total sem duplicados:       91\n",
      "duplicados no final:  0\n",
      "número de pessoas únicas sem dupicados:  1\n"
     ]
    }
   ],
   "source": [
    "#ecg_id_features.plot(figsize=(20,12))\n",
    "print('total original:      ',len(features_df))\n",
    "print('duplicados no original: ',sum(features_df.duplicated()))\n",
    "print('número de pessoas únicas no original: ', features_df['person'].nunique())\n",
    "features_df.drop_duplicates(keep='first', inplace=True)\n",
    "print('total sem duplicados:      ',len(features_df))\n",
    "print('duplicados no final: ',sum(features_df.duplicated()))\n",
    "print('número de pessoas únicas sem dupicados: ', features_df['person'].nunique())"
   ]
  },
  {
   "cell_type": "code",
   "execution_count": 5,
   "metadata": {},
   "outputs": [],
   "source": [
    "def remove_outliers(original_dataset, lower_threshold, upper_threshold, column_names=[]):\n",
    "    ''' Remove outliers from a dataframe\n",
    "        Everything above or below these percentiles will be cut off\n",
    "    '''\n",
    "    # TODO: add treatment for not numerical columns\n",
    "    dataset = original_dataset.copy()\n",
    "    \n",
    "    if column_names:\n",
    "        for column in column_names:\n",
    "            removed_outliers = remove(dataset[column], lower_threshold, upper_threshold)\n",
    "            # save the indexes of rows that must be removed\n",
    "            indexes_for_removal = dataset[column][~removed_outliers].index\n",
    "            # in fact remove outliers from this column\n",
    "            #print(indexes_for_removal)\n",
    "            dataset.drop(indexes_for_removal, inplace=True)\n",
    "            #print(f'removed {len(indexes_for_removal)} outliers for column {column}')\n",
    "            #print(f'remaining itens in dataset: {len(dataset)}')\n",
    "        return dataset\n",
    "            \n",
    "    else:\n",
    "        column_names = list(dataset.columns)\n",
    "        for column in column_names:\n",
    "            removed_outliers = remove(dataset[column], lower_threshold, upper_threshold)\n",
    "            # save the indexes of rows that must be removed\n",
    "            indexes_for_removal = dataset[column][~removed_outliers].index\n",
    "            # in fact remove outliers from this column \n",
    "            dataset.drop(indexes_for_removal, inplace=True)\n",
    "        return dataset\n",
    "    \n",
    "def remove(series, lower_threshold, upper_threshold):\n",
    "    ''' Remove outliers from a single pandas Series '''\n",
    "    # create a boolean mask where False values are the outliers\n",
    "    removed_outliers = series.between(series.quantile(lower_threshold),\n",
    "                                      series.quantile(upper_threshold))\n",
    "    return removed_outliers"
   ]
  },
  {
   "cell_type": "code",
   "execution_count": 6,
   "metadata": {},
   "outputs": [
    {
     "name": "stdout",
     "output_type": "stream",
     "text": [
      "Original features had 6478 rows\n",
      "Features without outliers has 5281 rows\n"
     ]
    }
   ],
   "source": [
    "lower_threshold = 0.0025 # 0,025%\n",
    "upper_threshold = 0.9975 # 0,025%\n",
    "\n",
    "#lower_threshold = 0.02 # 1%\n",
    "#upper_threshold = 0.98 # 1%\n",
    "\n",
    "column_names = list(features_df.columns)\n",
    "person_index = column_names.index('person')\n",
    "column_names.pop(person_index)\n",
    "print(f'Original features had {len(features_df)} rows')\n",
    "\n",
    "cleaned_features_df = remove_outliers(features_df,lower_threshold, upper_threshold, column_names=column_names)\n",
    "\n",
    "print(f'Features without outliers has {len(cleaned_features_df)} rows')\n",
    "\n",
    "#cleaned_features_df.to_csv('driver_db_cleaned_features.csv', index=False)"
   ]
  },
  {
   "cell_type": "code",
   "execution_count": null,
   "metadata": {},
   "outputs": [],
   "source": []
  },
  {
   "cell_type": "code",
   "execution_count": 7,
   "metadata": {},
   "outputs": [],
   "source": [
    "\n",
    "\n",
    "# caso precisarmos de um label enconder\n",
    "le = LabelEncoder()\n",
    "cleaned_features_df['person'] = le.fit_transform(cleaned_features_df['person'])\n",
    "#cleaned_features_df.dropna(inplace=True)\n",
    "# Remove os rótulos\n",
    "\n",
    "\n",
    "X = cleaned_features_df.drop(['person'], axis=1)\n",
    "# Preenche os dados faltosos com a média da respectiva coluna\n",
    "X = X.apply(lambda x: x.fillna(x.mean()))\n",
    "# O objeto da predição é 'y' (os rótulos das classes)\n",
    "y = cleaned_features_df['person']\n",
    "X_train, _, y_train, _ = train_test_split(X, y, test_size = 0.2)\n"
   ]
  },
  {
   "cell_type": "code",
   "execution_count": 8,
   "metadata": {},
   "outputs": [],
   "source": [
    "# pegando os dados de treino:\n",
    "original_cleaned_features_df = remove_outliers(test_features_df,lower_threshold, upper_threshold, column_names=column_names)\n",
    "#le = LabelEncoder()\n",
    "original_cleaned_features_df['person'] = le.transform(original_cleaned_features_df['person'])\n",
    "#cleaned_features_df.dropna(inplace=True)\n",
    "# Remove os rótulos\n",
    "\n",
    "\n",
    "X = original_cleaned_features_df.drop(['person'], axis=1)\n",
    "# Preenche os dados faltosos com a média da respectiva coluna\n",
    "X = X.apply(lambda x: x.fillna(x.mean()))\n",
    "# O objeto da predição é 'y' (os rótulos das classes)\n",
    "y = original_cleaned_features_df['person']\n",
    "_, X_test, _, y_test = train_test_split(X, y, test_size = 0.2)"
   ]
  },
  {
   "cell_type": "code",
   "execution_count": 9,
   "metadata": {},
   "outputs": [
    {
     "data": {
      "text/plain": [
       "Text(0.5, 1.0, 'Cumulative distribution of number of examples')"
      ]
     },
     "execution_count": 9,
     "metadata": {},
     "output_type": "execute_result"
    },
    {
     "data": {
      "image/png": "[encoded data removed]",
      "text/plain": [
       "<Figure size 1440x720 with 1 Axes>"
      ]
     },
     "metadata": {
      "needs_background": "light"
     },
     "output_type": "display_data"
    }
   ],
   "source": [
    "# filter_ = cleaned_features_df['person'].value_counts(ascending=True) >= 100\n",
    "plt.figure(figsize=(20,10))\n",
    "\n",
    "cleaned_features_df['person'].value_counts(ascending=True).hist(cumulative=True, density=1)\n",
    "plt.title(\"Cumulative distribution of number of examples\")"
   ]
  },
  {
   "cell_type": "code",
   "execution_count": 10,
   "metadata": {},
   "outputs": [],
   "source": [
    "# se quisser obter as pessoas probleḿaticas\n",
    "#print(list(cleaned_features_df['person'].value_counts(ascending=True)[:470].index))"
   ]
  },
  {
   "cell_type": "code",
   "execution_count": 11,
   "metadata": {},
   "outputs": [],
   "source": [
    "# skf = StratifiedKFold(n_splits=10)\n",
    "# skf.get_n_splits(X, y)\n",
    "# print(skf)\n",
    "\n",
    "# prediction_list = []\n",
    "\n",
    "# for train_index, test_index in tqdm(skf.split(X, y)):\n",
    "#     print(y[test_index])"
   ]
  },
  {
   "cell_type": "code",
   "execution_count": 12,
   "metadata": {},
   "outputs": [
    {
     "name": "stdout",
     "output_type": "stream",
     "text": [
      "              precision    recall  f1-score   support\n",
      "\n",
      "           0       1.00      1.00      1.00         2\n",
      "           1       1.00      1.00      1.00         1\n",
      "           2       1.00      1.00      1.00         1\n",
      "           3       1.00      1.00      1.00         1\n",
      "           6       1.00      1.00      1.00         1\n",
      "           8       1.00      1.00      1.00         2\n",
      "           9       1.00      1.00      1.00         2\n",
      "          10       1.00      1.00      1.00         1\n",
      "          15       0.00      0.00      0.00         0\n",
      "          17       1.00      1.00      1.00         1\n",
      "          18       1.00      1.00      1.00         1\n",
      "          19       1.00      1.00      1.00         2\n",
      "          23       1.00      1.00      1.00         1\n",
      "          24       1.00      1.00      1.00         2\n",
      "          25       1.00      1.00      1.00         1\n",
      "          32       0.00      0.00      0.00         1\n",
      "          36       1.00      1.00      1.00         1\n",
      "          37       1.00      1.00      1.00         1\n",
      "          39       1.00      0.50      0.67         2\n",
      "          41       1.00      1.00      1.00         2\n",
      "          43       1.00      1.00      1.00         1\n",
      "          45       1.00      1.00      1.00         2\n",
      "          47       1.00      1.00      1.00         1\n",
      "          49       1.00      1.00      1.00         2\n",
      "          51       0.00      0.00      0.00         0\n",
      "          54       0.00      0.00      0.00         0\n",
      "          56       1.00      0.50      0.67         2\n",
      "          57       1.00      1.00      1.00         1\n",
      "          58       1.00      1.00      1.00         1\n",
      "          59       1.00      1.00      1.00         2\n",
      "          60       1.00      1.00      1.00         1\n",
      "          62       1.00      1.00      1.00         2\n",
      "          64       1.00      1.00      1.00         1\n",
      "          67       1.00      1.00      1.00         2\n",
      "          69       1.00      1.00      1.00         1\n",
      "          71       1.00      1.00      1.00         1\n",
      "\n",
      "   micro avg       0.93      0.93      0.93        46\n",
      "   macro avg       0.89      0.86      0.87        46\n",
      "weighted avg       0.98      0.93      0.95        46\n",
      "\n"
     ]
    },
    {
     "name": "stderr",
     "output_type": "stream",
     "text": [
      "/home/renato/anaconda3/lib/python3.7/site-packages/sklearn/metrics/classification.py:1143: UndefinedMetricWarning: Precision and F-score are ill-defined and being set to 0.0 in labels with no predicted samples.\n",
      "  'precision', 'predicted', average, warn_for)\n",
      "/home/renato/anaconda3/lib/python3.7/site-packages/sklearn/metrics/classification.py:1145: UndefinedMetricWarning: Recall and F-score are ill-defined and being set to 0.0 in labels with no true samples.\n",
      "  'recall', 'true', average, warn_for)\n"
     ]
    }
   ],
   "source": [
    "rf = RandomForestClassifier(n_estimators=200, max_depth=100, min_samples_leaf=3, min_samples_split=10)\n",
    "rf.fit(X_train, y_train)\n",
    "predictions = rf.predict(X_test)\n",
    "print(classification_report(y_test, predictions))"
   ]
  },
  {
   "cell_type": "code",
   "execution_count": 13,
   "metadata": {},
   "outputs": [
    {
     "data": {
      "text/plain": [
       "array([[2, 0, 0, ..., 0, 0, 0],\n",
       "       [0, 1, 0, ..., 0, 0, 0],\n",
       "       [0, 0, 1, ..., 0, 0, 0],\n",
       "       ...,\n",
       "       [0, 0, 0, ..., 2, 0, 0],\n",
       "       [0, 0, 0, ..., 0, 1, 0],\n",
       "       [0, 0, 0, ..., 0, 0, 1]])"
      ]
     },
     "execution_count": 13,
     "metadata": {},
     "output_type": "execute_result"
    }
   ],
   "source": [
    "confusion_matrix(y_test, predictions)"
   ]
  },
  {
   "cell_type": "code",
   "execution_count": 14,
   "metadata": {},
   "outputs": [],
   "source": [
    "# skf = StratifiedKFold(n_splits=10)\n",
    "# skf.get_n_splits(X, y)\n",
    "# print(skf)\n",
    "\n",
    "# prediction_list = []\n",
    "\n",
    "# for train_index, test_index in tqdm(skf.split(X, y)):\n",
    "#     #print(\"TRAIN:\", train_index, \"TEST:\", test_index)\n",
    "#     X_train, X_test = X.iloc[train_index], X.iloc[test_index]\n",
    "#     y_train, y_test = y.iloc[train_index], y.iloc[test_index]\n",
    "#     rf = RandomForestClassifier(n_jobs=4, n_estimators=200, max_depth=100, min_samples_leaf=3, min_samples_split=10, verbose=True)\n",
    "#     rf.fit(X_train, y_train)\n",
    "#     predictions = rf.predict(X_test)\n",
    "#     classification_output = classification_report(y_test, predictions)\n",
    "#     #print(classification_output)\n",
    "#     prediction_list.append(classification_output)\n",
    "    \n",
    "# print(prediction_list[0])"
   ]
  },
  {
   "cell_type": "code",
   "execution_count": 3,
   "metadata": {},
   "outputs": [
    {
     "name": "stdout",
     "output_type": "stream",
     "text": [
      "antigo len:  7\n",
      "novo len:  8\n",
      "    0        1    2\n",
      "0   1        2    3\n",
      "1   2        3    4\n",
      "2   3        4    5\n",
      "3   4        5    6\n",
      "4   5        6    7\n",
      "5   5        6    2\n",
      "6   5        6    2\n",
      "7   a      4.0  5.0\n",
      "8   1        2    3\n",
      "9   1        5    2\n",
      "10  9        9    9\n",
      "11  8        8    8\n",
      "12  6        6    7\n",
      "13  5     6.15    5\n",
      "14  5  1.00001    2\n",
      "True\n"
     ]
    }
   ],
   "source": [
    "import pandas as pd\n",
    "import numpy as np\n",
    "df = pd.DataFrame([[1.0, 2.0, 3.0],\n",
    "                  [2.0, 3.0, 4.0],\n",
    "                  [3.0, 4.0, 5.0],\n",
    "                  [4.0, 5.0, 6.0],\n",
    "                  [5.0, 6.0, 7.0],\n",
    "                  [5.0, 6.0, 2.0],\n",
    "                  [5.0, 6.0, 2.0]]\n",
    "                  )\n",
    "\n",
    "\n",
    "\n",
    "df2 = pd.DataFrame([[1.0000001, 2.0000010, 3.0000001],\n",
    "                  [1.0, 5.0, 2.0],\n",
    "                  [9.0, 9.0, 9.0],\n",
    "                  [8.0, 8.0, 8.0],\n",
    "                  [6.0, 6.0, 7.0],\n",
    "                  [5.0, 6.15, 5.0],\n",
    "                  [5.0, 1.00001, 2.0]]\n",
    "                  )\n",
    "# skf = StratifiedKFold(n_splits=2)\n",
    "# skf.get_n_splits(X, y)\n",
    "# print(skf)\n",
    "\n",
    "\n",
    "# df.columns = [\"oi\", \"ola\", \"alo\", \"ei\"]\n",
    "\n",
    "# df.head()\n",
    "#print('duplicados no original: ',sum(df.duplicated()))\n",
    "print('antigo len: ',len(df))\n",
    "extracted_features= np.array([\"a\", 4.0, 5.0])\n",
    "df.loc[len(df)] = extracted_features\n",
    "print('novo len: ', len(df))\n",
    "#print(type(extracted_features[0]))\n",
    "#print(type(df.iloc[0][0]))\n",
    "#((df==np.array(extracted_features)).all(1).any())\n",
    "\n",
    "df = pd.concat([df, df2], ignore_index=True)\n",
    "print(df)\n",
    "teste = np.array([1, 2, 3])\n",
    "print((df == teste).all(1).any())"
   ]
  },
  {
   "cell_type": "code",
   "execution_count": null,
   "metadata": {},
   "outputs": [],
   "source": []
  }
 ],
 "metadata": {
  "kernelspec": {
   "display_name": "Python 3",
   "language": "python",
   "name": "python3"
  },
  "language_info": {
   "codemirror_mode": {
    "name": "ipython",
    "version": 3
   },
   "file_extension": ".py",
   "mimetype": "text/x-python",
   "name": "python",
   "nbconvert_exporter": "python",
   "pygments_lexer": "ipython3",
   "version": "3.7.4"
  }
 },
 "nbformat": 4,
 "nbformat_minor": 2
}
