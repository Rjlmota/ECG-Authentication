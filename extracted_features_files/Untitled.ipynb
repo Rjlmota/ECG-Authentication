{
 "cells": [
  {
   "cell_type": "code",
   "execution_count": 8,
   "metadata": {},
   "outputs": [
    {
     "data": {
      "text/plain": [
       "tr03-0251    29\n",
       "tr10-0704    29\n",
       "te12-0508    29\n",
       "te09-0502    29\n",
       "te13-0827    29\n",
       "te03-0286    29\n",
       "te08-0102    29\n",
       "te04-0398    29\n",
       "te03-0798    29\n",
       "tr12-0477    29\n",
       "tr11-0644    29\n",
       "tr05-0635    29\n",
       "te06-0518    29\n",
       "te09-0459    28\n",
       "te03-0231    28\n",
       "te04-0827    28\n",
       "te09-0634    28\n",
       "te05-0740    28\n",
       "tr04-0261    28\n",
       "te05-0421    28\n",
       "te04-0807    28\n",
       "tr04-0279    28\n",
       "tr05-0411    28\n",
       "tr05-1457    28\n",
       "tr06-0883    28\n",
       "tr07-0594    28\n",
       "tr14-0276    28\n",
       "te05-1594    28\n",
       "te12-0381    28\n",
       "tr03-0179    28\n",
       "             ..\n",
       "tr04-0568    27\n",
       "tr03-0645    27\n",
       "tr03-0392    27\n",
       "te11-0420    27\n",
       "te03-0080    27\n",
       "te04-0753    27\n",
       "tr05-1225    27\n",
       "te14-0226    27\n",
       "te04-0487    27\n",
       "tr03-1129    27\n",
       "te03-0557    27\n",
       "tr03-1183    27\n",
       "tr03-0257    27\n",
       "te03-0839    27\n",
       "te04-0130    27\n",
       "te04-0529    27\n",
       "tr03-1302    27\n",
       "te04-0102    27\n",
       "tr05-0864    27\n",
       "tr03-1197    26\n",
       "te03-0805    26\n",
       "te04-1031    26\n",
       "tr03-0473    26\n",
       "tr04-0887    26\n",
       "tr04-0710    26\n",
       "tr05-1489    26\n",
       "tr03-1112    26\n",
       "tr03-0933    26\n",
       "tr03-0092    26\n",
       "te08-0325    25\n",
       "Name: person, Length: 183, dtype: int64"
      ]
     },
     "execution_count": 8,
     "metadata": {},
     "output_type": "execute_result"
    }
   ],
   "source": [
    "import pandas as pd\n",
    "\n",
    "\n",
    "file = pd.read_csv(\"challenge_raw_everyone.csv\")\n",
    "\n",
    "\n",
    "file['person'].value_counts()[1800:]"
   ]
  }
 ],
 "metadata": {
  "kernelspec": {
   "display_name": "Python 3",
   "language": "python",
   "name": "python3"
  },
  "language_info": {
   "codemirror_mode": {
    "name": "ipython",
    "version": 3
   },
   "file_extension": ".py",
   "mimetype": "text/x-python",
   "name": "python",
   "nbconvert_exporter": "python",
   "pygments_lexer": "ipython3",
   "version": "3.7.4"
  }
 },
 "nbformat": 4,
 "nbformat_minor": 2
}
