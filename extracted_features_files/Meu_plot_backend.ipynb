{
 "cells": [
  {
   "cell_type": "code",
   "execution_count": 1,
   "metadata": {
    "colab": {},
    "colab_type": "code",
    "id": "MaoKznvegU8o"
   },
   "outputs": [],
   "source": [
    "import pandas as pd\n",
    "import numpy as np\n",
    "from scipy import stats\n",
    "import matplotlib.pyplot as plt\n",
    "import seaborn as sns\n",
    "sns.set(style=\"whitegrid\")\n",
    "from sklearn.preprocessing import StandardScaler\n",
    "from sklearn.model_selection import train_test_split\n",
    "from sklearn.ensemble import RandomForestClassifier\n",
    "from sklearn.metrics import classification_report, confusion_matrix, precision_score, accuracy_score, precision_recall_fscore_support"
   ]
  },
  {
   "cell_type": "code",
   "execution_count": 2,
   "metadata": {
    "colab": {
     "base_uri": "https://localhost:8080/",
     "height": 122
    },
    "colab_type": "code",
    "id": "4NKy3F3ShyrJ",
    "outputId": "ff603821-45bf-49e8-c58d-fbf4cbe67a29"
   },
   "outputs": [],
   "source": [
    "#from google.colab import drive, files\n",
    "#drive.mount('/content/drive')"
   ]
  },
  {
   "cell_type": "code",
   "execution_count": 3,
   "metadata": {
    "colab": {
     "base_uri": "https://localhost:8080/",
     "height": 34
    },
    "colab_type": "code",
    "id": "v-dwa6SQkuwv",
    "outputId": "f9c37d9b-fe29-435a-c502-8f9931e24c07"
   },
   "outputs": [],
   "source": [
    "#cd \"/content/drive/My Drive/UFPA/Healthsense/second round of tests\"\n",
    "#cd \"/content/drive/My Drive/UFPA/Healthsense/fourth round of tests (additional features for new paper proposal)\""
   ]
  },
  {
   "cell_type": "markdown",
   "metadata": {
    "colab_type": "text",
    "id": "Ho5ZooPYgU80"
   },
   "source": [
    "### Introduzindo os dados"
   ]
  },
  {
   "cell_type": "code",
   "execution_count": 2,
   "metadata": {
    "colab": {},
    "colab_type": "code",
    "id": "DDP33eJUgU81"
   },
   "outputs": [],
   "source": [
    "step_1 = pd.read_csv('challenge_raw_everyone.csv')\n",
    "step_2 = pd.read_csv('challenge_processed_everyone.csv')\n",
    "step_3 = pd.read_csv('challenge_cleaned_everyone.csv')\n",
    "step_4 = pd.read_csv('challenge_cleaned_everyone.csv')\n",
    "step_5 = pd.read_csv('challenge_cleaned_everyone.csv')"
   ]
  },
  {
   "cell_type": "code",
   "execution_count": 5,
   "metadata": {
    "colab": {
     "base_uri": "https://localhost:8080/",
     "height": 309
    },
    "colab_type": "code",
    "id": "B6LOsZgVgU85",
    "outputId": "3191f4f3-235a-43e5-b6a3-7fa0df64c29b"
   },
   "outputs": [
    {
     "data": {
      "text/html": [
       "<div>\n",
       "<style scoped>\n",
       "    .dataframe tbody tr th:only-of-type {\n",
       "        vertical-align: middle;\n",
       "    }\n",
       "\n",
       "    .dataframe tbody tr th {\n",
       "        vertical-align: top;\n",
       "    }\n",
       "\n",
       "    .dataframe thead th {\n",
       "        text-align: right;\n",
       "    }\n",
       "</style>\n",
       "<table border=\"1\" class=\"dataframe\">\n",
       "  <thead>\n",
       "    <tr style=\"text-align: right;\">\n",
       "      <th></th>\n",
       "      <th>mean_q</th>\n",
       "      <th>mean_r</th>\n",
       "      <th>mean_s</th>\n",
       "      <th>mean_p</th>\n",
       "      <th>mean_t</th>\n",
       "      <th>stdev_q</th>\n",
       "      <th>stdev_r</th>\n",
       "      <th>stdev_s</th>\n",
       "      <th>mean_rr_interval</th>\n",
       "      <th>mean_rq_amplitude</th>\n",
       "      <th>...</th>\n",
       "      <th>mean_t_onset</th>\n",
       "      <th>mean_t_offset</th>\n",
       "      <th>mean_qt_interval</th>\n",
       "      <th>mean_st_interval</th>\n",
       "      <th>mean_t_wave</th>\n",
       "      <th>mean_pq_segment</th>\n",
       "      <th>mean_st_segment</th>\n",
       "      <th>mean_tp_segment</th>\n",
       "      <th>mean_pp_interval</th>\n",
       "      <th>person</th>\n",
       "    </tr>\n",
       "  </thead>\n",
       "  <tbody>\n",
       "    <tr>\n",
       "      <th>0</th>\n",
       "      <td>-0.701111</td>\n",
       "      <td>0.784830</td>\n",
       "      <td>-0.179636</td>\n",
       "      <td>0.784830</td>\n",
       "      <td>0.784830</td>\n",
       "      <td>0.018006</td>\n",
       "      <td>0.034715</td>\n",
       "      <td>0.012976</td>\n",
       "      <td>905.000000</td>\n",
       "      <td>1.485941</td>\n",
       "      <td>...</td>\n",
       "      <td>-0.543653</td>\n",
       "      <td>0.294066</td>\n",
       "      <td>25.000000</td>\n",
       "      <td>25.000000</td>\n",
       "      <td>6.000000</td>\n",
       "      <td>25.000000</td>\n",
       "      <td>31.000000</td>\n",
       "      <td>175.500000</td>\n",
       "      <td>905.0</td>\n",
       "      <td>tr14-0291</td>\n",
       "    </tr>\n",
       "    <tr>\n",
       "      <th>1</th>\n",
       "      <td>-0.702451</td>\n",
       "      <td>0.803866</td>\n",
       "      <td>-0.198301</td>\n",
       "      <td>0.836352</td>\n",
       "      <td>0.803866</td>\n",
       "      <td>0.042043</td>\n",
       "      <td>0.046781</td>\n",
       "      <td>0.002086</td>\n",
       "      <td>851.666667</td>\n",
       "      <td>1.506318</td>\n",
       "      <td>...</td>\n",
       "      <td>-0.337942</td>\n",
       "      <td>0.381267</td>\n",
       "      <td>28.000000</td>\n",
       "      <td>28.000000</td>\n",
       "      <td>5.250000</td>\n",
       "      <td>57.666667</td>\n",
       "      <td>33.333333</td>\n",
       "      <td>165.000000</td>\n",
       "      <td>1000.0</td>\n",
       "      <td>tr14-0291</td>\n",
       "    </tr>\n",
       "    <tr>\n",
       "      <th>2</th>\n",
       "      <td>-0.735116</td>\n",
       "      <td>0.828857</td>\n",
       "      <td>-0.189432</td>\n",
       "      <td>0.828857</td>\n",
       "      <td>0.828857</td>\n",
       "      <td>0.011432</td>\n",
       "      <td>0.034666</td>\n",
       "      <td>0.006261</td>\n",
       "      <td>915.000000</td>\n",
       "      <td>1.563974</td>\n",
       "      <td>...</td>\n",
       "      <td>-0.491265</td>\n",
       "      <td>0.339631</td>\n",
       "      <td>27.333333</td>\n",
       "      <td>27.333333</td>\n",
       "      <td>5.666667</td>\n",
       "      <td>27.333333</td>\n",
       "      <td>33.000000</td>\n",
       "      <td>177.500000</td>\n",
       "      <td>915.0</td>\n",
       "      <td>tr14-0291</td>\n",
       "    </tr>\n",
       "    <tr>\n",
       "      <th>3</th>\n",
       "      <td>-0.755942</td>\n",
       "      <td>0.836444</td>\n",
       "      <td>-0.192762</td>\n",
       "      <td>0.836444</td>\n",
       "      <td>0.836444</td>\n",
       "      <td>0.020925</td>\n",
       "      <td>0.024130</td>\n",
       "      <td>0.003897</td>\n",
       "      <td>895.000000</td>\n",
       "      <td>1.592386</td>\n",
       "      <td>...</td>\n",
       "      <td>-0.453542</td>\n",
       "      <td>0.316039</td>\n",
       "      <td>26.000000</td>\n",
       "      <td>26.000000</td>\n",
       "      <td>5.666667</td>\n",
       "      <td>26.000000</td>\n",
       "      <td>31.666667</td>\n",
       "      <td>173.500000</td>\n",
       "      <td>895.0</td>\n",
       "      <td>tr14-0291</td>\n",
       "    </tr>\n",
       "    <tr>\n",
       "      <th>4</th>\n",
       "      <td>-0.774949</td>\n",
       "      <td>0.831752</td>\n",
       "      <td>-0.189265</td>\n",
       "      <td>0.840309</td>\n",
       "      <td>0.831752</td>\n",
       "      <td>0.014634</td>\n",
       "      <td>0.032184</td>\n",
       "      <td>0.004051</td>\n",
       "      <td>916.666667</td>\n",
       "      <td>1.606701</td>\n",
       "      <td>...</td>\n",
       "      <td>-0.558065</td>\n",
       "      <td>0.281888</td>\n",
       "      <td>28.750000</td>\n",
       "      <td>28.750000</td>\n",
       "      <td>6.000000</td>\n",
       "      <td>41.250000</td>\n",
       "      <td>34.750000</td>\n",
       "      <td>177.333333</td>\n",
       "      <td>1000.0</td>\n",
       "      <td>tr14-0291</td>\n",
       "    </tr>\n",
       "  </tbody>\n",
       "</table>\n",
       "<p>5 rows × 27 columns</p>\n",
       "</div>"
      ],
      "text/plain": [
       "     mean_q    mean_r    mean_s    mean_p    mean_t   stdev_q   stdev_r  \\\n",
       "0 -0.701111  0.784830 -0.179636  0.784830  0.784830  0.018006  0.034715   \n",
       "1 -0.702451  0.803866 -0.198301  0.836352  0.803866  0.042043  0.046781   \n",
       "2 -0.735116  0.828857 -0.189432  0.828857  0.828857  0.011432  0.034666   \n",
       "3 -0.755942  0.836444 -0.192762  0.836444  0.836444  0.020925  0.024130   \n",
       "4 -0.774949  0.831752 -0.189265  0.840309  0.831752  0.014634  0.032184   \n",
       "\n",
       "    stdev_s  mean_rr_interval  mean_rq_amplitude    ...      mean_t_onset  \\\n",
       "0  0.012976        905.000000           1.485941    ...         -0.543653   \n",
       "1  0.002086        851.666667           1.506318    ...         -0.337942   \n",
       "2  0.006261        915.000000           1.563974    ...         -0.491265   \n",
       "3  0.003897        895.000000           1.592386    ...         -0.453542   \n",
       "4  0.004051        916.666667           1.606701    ...         -0.558065   \n",
       "\n",
       "   mean_t_offset  mean_qt_interval  mean_st_interval  mean_t_wave  \\\n",
       "0       0.294066         25.000000         25.000000     6.000000   \n",
       "1       0.381267         28.000000         28.000000     5.250000   \n",
       "2       0.339631         27.333333         27.333333     5.666667   \n",
       "3       0.316039         26.000000         26.000000     5.666667   \n",
       "4       0.281888         28.750000         28.750000     6.000000   \n",
       "\n",
       "   mean_pq_segment  mean_st_segment  mean_tp_segment  mean_pp_interval  \\\n",
       "0        25.000000        31.000000       175.500000             905.0   \n",
       "1        57.666667        33.333333       165.000000            1000.0   \n",
       "2        27.333333        33.000000       177.500000             915.0   \n",
       "3        26.000000        31.666667       173.500000             895.0   \n",
       "4        41.250000        34.750000       177.333333            1000.0   \n",
       "\n",
       "      person  \n",
       "0  tr14-0291  \n",
       "1  tr14-0291  \n",
       "2  tr14-0291  \n",
       "3  tr14-0291  \n",
       "4  tr14-0291  \n",
       "\n",
       "[5 rows x 27 columns]"
      ]
     },
     "execution_count": 5,
     "metadata": {},
     "output_type": "execute_result"
    }
   ],
   "source": [
    "step_1.head(5)"
   ]
  },
  {
   "cell_type": "markdown",
   "metadata": {
    "colab_type": "text",
    "id": "gtsuyT6IgU89"
   },
   "source": [
    "## Passo 1: Treino sem modificações aos dados originais"
   ]
  },
  {
   "cell_type": "code",
   "execution_count": 12,
   "metadata": {
    "colab": {
     "base_uri": "https://localhost:8080/",
     "height": 627
    },
    "colab_type": "code",
    "id": "YcbewVamgU9C",
    "outputId": "7a8e7482-7e6b-47cb-de5e-9fbff49c0aad"
   },
   "outputs": [
    {
     "data": {
      "text/plain": [
       "<matplotlib.axes._subplots.AxesSubplot at 0x7f159b7a1610>"
      ]
     },
     "execution_count": 12,
     "metadata": {},
     "output_type": "execute_result"
    },
    {
     "data": {
      "image/png": "[encoded data removed]",
      "text/plain": [
       "<Figure size 1440x720 with 1 Axes>"
      ]
     },
     "metadata": {
      "needs_background": "light"
     },
     "output_type": "display_data"
    }
   ],
   "source": [
    "plt.figure(figsize=(20,10))\n",
    "plt.title(\"Cumulative distribution of number of examples\")\n",
    "step_1['person'].value_counts(ascending=True).hist(cumulative=True, density=1)"
   ]
  },
  {
   "cell_type": "code",
   "execution_count": 13,
   "metadata": {
    "colab": {},
    "colab_type": "code",
    "id": "IaSaauikmso9"
   },
   "outputs": [],
   "source": [
    "## Remove pessoas que tem menos que 28 segmentos\n",
    "min_n_of_segments = 16\n",
    "mask = step_1['person'].value_counts() < min_n_of_segments\n",
    "people_to_remove = list(mask[mask].index)\n",
    "\n",
    "for person in people_to_remove:\n",
    "    step_1 = step_1[step_1.person != person]"
   ]
  },
  {
   "cell_type": "code",
   "execution_count": 14,
   "metadata": {
    "colab": {},
    "colab_type": "code",
    "id": "IXMf70cAgU8-"
   },
   "outputs": [],
   "source": [
    "#le_step_1 = LabelEncoder()\n",
    "#step_1['person'] = pd.Series(le_step_1.fit_transform(step_1['person']))\n",
    "original_columns = ['mean_q', 'mean_r', 'mean_s', 'stdev_q', 'stdev_r','stdev_s',\n",
    "                   'mean_rr_interval', 'mean_rq_amplitude', 'mean_qrs_interval']\n",
    "\n",
    "X_step_1 = step_1[original_columns]\n",
    "# Preenche os dados faltosos com a média da respectiva coluna\n",
    "X_step_1 = X_step_1.apply(lambda x: x.fillna(x.mean()))\n",
    "# O objeto da predição é 'y' (os rótulos das classes)\n",
    "y_step_1 = step_1['person']\n",
    "X_train_step_1, X_test_step_1, y_train_step_1, y_test_step_1 = train_test_split(X_step_1, y_step_1,\n",
    "                                                                                test_size = 0.2)"
   ]
  },
  {
   "cell_type": "code",
   "execution_count": 17,
   "metadata": {
    "colab": {
     "base_uri": "https://localhost:8080/",
     "height": 170
    },
    "colab_type": "code",
    "id": "zEft1Z_EgU9G",
    "outputId": "e06770b9-fa09-406f-e4f1-69c40321ac52"
   },
   "outputs": [
    {
     "name": "stderr",
     "output_type": "stream",
     "text": [
      "[Parallel(n_jobs=1)]: Using backend SequentialBackend with 1 concurrent workers.\n"
     ]
    },
    {
     "name": "stdout",
     "output_type": "stream",
     "text": [
      "building tree 1 of 100\n"
     ]
    },
    {
     "name": "stderr",
     "output_type": "stream",
     "text": [
      "[Parallel(n_jobs=1)]: Done   1 out of   1 | elapsed:    3.6s remaining:    0.0s\n"
     ]
    },
    {
     "name": "stdout",
     "output_type": "stream",
     "text": [
      "building tree 2 of 100\n"
     ]
    },
    {
     "name": "stderr",
     "output_type": "stream",
     "text": [
      "[Parallel(n_jobs=1)]: Done   2 out of   2 | elapsed:    7.0s remaining:    0.0s\n"
     ]
    },
    {
     "name": "stdout",
     "output_type": "stream",
     "text": [
      "building tree 3 of 100\n",
      "building tree 4 of 100\n",
      "building tree 5 of 100\n",
      "building tree 6 of 100\n",
      "building tree 7 of 100\n",
      "building tree 8 of 100\n",
      "building tree 9 of 100\n",
      "building tree 10 of 100\n",
      "building tree 11 of 100\n",
      "building tree 12 of 100\n",
      "building tree 13 of 100\n",
      "building tree 14 of 100\n",
      "building tree 15 of 100\n",
      "building tree 16 of 100\n",
      "building tree 17 of 100\n",
      "building tree 18 of 100\n",
      "building tree 19 of 100\n",
      "building tree 20 of 100\n",
      "building tree 21 of 100\n",
      "building tree 22 of 100\n",
      "building tree 23 of 100\n",
      "building tree 24 of 100\n",
      "building tree 25 of 100\n",
      "building tree 26 of 100\n",
      "building tree 27 of 100\n",
      "building tree 28 of 100\n",
      "building tree 29 of 100\n",
      "building tree 30 of 100\n",
      "building tree 31 of 100\n",
      "building tree 32 of 100\n",
      "building tree 33 of 100\n",
      "building tree 34 of 100\n",
      "building tree 35 of 100\n",
      "building tree 36 of 100\n",
      "building tree 37 of 100\n",
      "building tree 38 of 100\n",
      "building tree 39 of 100\n",
      "building tree 40 of 100\n",
      "building tree 41 of 100\n",
      "building tree 42 of 100\n",
      "building tree 43 of 100\n",
      "building tree 44 of 100\n",
      "building tree 45 of 100\n",
      "building tree 46 of 100\n",
      "building tree 47 of 100\n",
      "building tree 48 of 100\n",
      "building tree 49 of 100\n",
      "building tree 50 of 100\n",
      "building tree 51 of 100\n",
      "building tree 52 of 100\n",
      "building tree 53 of 100\n",
      "building tree 54 of 100\n",
      "building tree 55 of 100\n",
      "building tree 56 of 100\n",
      "building tree 57 of 100\n",
      "building tree 58 of 100\n",
      "building tree 59 of 100\n",
      "building tree 60 of 100\n",
      "building tree 61 of 100\n",
      "building tree 62 of 100\n",
      "building tree 63 of 100\n",
      "building tree 64 of 100\n",
      "building tree 65 of 100\n",
      "building tree 66 of 100\n",
      "building tree 67 of 100\n",
      "building tree 68 of 100\n",
      "building tree 69 of 100\n",
      "building tree 70 of 100\n",
      "building tree 71 of 100\n",
      "building tree 72 of 100\n",
      "building tree 73 of 100\n",
      "building tree 74 of 100\n",
      "building tree 75 of 100\n",
      "building tree 76 of 100\n",
      "building tree 77 of 100\n",
      "building tree 78 of 100\n",
      "building tree 79 of 100\n",
      "building tree 80 of 100\n",
      "building tree 81 of 100\n",
      "building tree 82 of 100\n",
      "building tree 83 of 100\n",
      "building tree 84 of 100\n",
      "building tree 85 of 100\n",
      "building tree 86 of 100\n",
      "building tree 87 of 100\n",
      "building tree 88 of 100\n",
      "building tree 89 of 100\n",
      "building tree 90 of 100\n",
      "building tree 91 of 100\n",
      "building tree 92 of 100\n",
      "building tree 93 of 100\n",
      "building tree 94 of 100\n",
      "building tree 95 of 100\n",
      "building tree 96 of 100\n",
      "building tree 97 of 100\n",
      "building tree 98 of 100\n",
      "building tree 99 of 100\n",
      "building tree 100 of 100\n"
     ]
    },
    {
     "name": "stderr",
     "output_type": "stream",
     "text": [
      "[Parallel(n_jobs=1)]: Done 100 out of 100 | elapsed:  5.4min finished\n",
      "[Parallel(n_jobs=1)]: Using backend SequentialBackend with 1 concurrent workers.\n",
      "[Parallel(n_jobs=1)]: Done   1 out of   1 | elapsed:    0.4s remaining:    0.0s\n",
      "[Parallel(n_jobs=1)]: Done   2 out of   2 | elapsed:    0.6s remaining:    0.0s\n",
      "[Parallel(n_jobs=1)]: Done 100 out of 100 | elapsed:   18.2s finished\n"
     ]
    }
   ],
   "source": [
    "'''\n",
    "rf_step_1 = RandomForestClassifier(n_estimators=200, max_depth=100, min_samples_leaf=3, min_samples_split=10, verbose=3)\n",
    "rf_step_1.fit(X_train_step_1, y_train_step_1)\n",
    "predictions_step_1 = rf_step_1.predict(X_test_step_1)\n",
    "'''\n",
    "n_folds = 1\n",
    "list_of_training_x = np.array_split(X_train_step_1, n_folds)\n",
    "list_of_training_y = np.array_split(y_train_step_1, n_folds)\n",
    "n_estimators = 100\n",
    "\n",
    "rf_step_1 = RandomForestClassifier(warm_start=True, n_estimators=n_estimators, max_depth=80, min_samples_leaf=3, min_samples_split=10, verbose=3)\n",
    "for i in range(n_folds):\n",
    "    rf_step_1.fit(list_of_training_x[i], list_of_training_y[i])\n",
    "    rf_step_1.set_params(n_estimators=n_estimators)\n",
    "    n_estimators+=50\n",
    "\n",
    "predictions_step_1 = rf_step_1.predict(X_test_step_1)"
   ]
  },
  {
   "cell_type": "code",
   "execution_count": 18,
   "metadata": {
    "colab": {
     "base_uri": "https://localhost:8080/",
     "height": 106
    },
    "colab_type": "code",
    "id": "ed-GlASmgU9K",
    "outputId": "3ee0e017-d31a-4bb4-be5c-676fdfb56af2"
   },
   "outputs": [
    {
     "name": "stderr",
     "output_type": "stream",
     "text": [
      "/home/renato/anaconda3/lib/python3.7/site-packages/sklearn/metrics/classification.py:1143: UndefinedMetricWarning: Precision and F-score are ill-defined and being set to 0.0 in labels with no predicted samples.\n",
      "  'precision', 'predicted', average, warn_for)\n",
      "/home/renato/anaconda3/lib/python3.7/site-packages/sklearn/metrics/classification.py:1145: UndefinedMetricWarning: Recall and F-score are ill-defined and being set to 0.0 in labels with no true samples.\n",
      "  'recall', 'true', average, warn_for)\n",
      "/home/renato/anaconda3/lib/python3.7/site-packages/sklearn/metrics/classification.py:1143: UndefinedMetricWarning: Precision and F-score are ill-defined and being set to 0.0 in labels with no predicted samples.\n",
      "  'precision', 'predicted', average, warn_for)\n",
      "/home/renato/anaconda3/lib/python3.7/site-packages/sklearn/metrics/classification.py:1145: UndefinedMetricWarning: Recall and F-score are ill-defined and being set to 0.0 in labels with no true samples.\n",
      "  'recall', 'true', average, warn_for)\n",
      "/home/renato/anaconda3/lib/python3.7/site-packages/sklearn/metrics/classification.py:1143: UndefinedMetricWarning: Precision and F-score are ill-defined and being set to 0.0 in labels with no predicted samples.\n",
      "  'precision', 'predicted', average, warn_for)\n",
      "/home/renato/anaconda3/lib/python3.7/site-packages/sklearn/metrics/classification.py:1145: UndefinedMetricWarning: Recall and F-score are ill-defined and being set to 0.0 in labels with no true samples.\n",
      "  'recall', 'true', average, warn_for)\n"
     ]
    }
   ],
   "source": [
    "cr = classification_report(y_test_step_1, predictions_step_1, output_dict=True)\n",
    "df = pd.DataFrame(cr).transpose()\n",
    "df.to_csv('result_1.csv')"
   ]
  },
  {
   "cell_type": "markdown",
   "metadata": {
    "colab_type": "text",
    "id": "BiUDNVKDgU9S"
   },
   "source": [
    "## Passo 2: Treino com adição de segmentos gerados aleatoriamente"
   ]
  },
  {
   "cell_type": "code",
   "execution_count": 20,
   "metadata": {
    "colab": {
     "base_uri": "https://localhost:8080/",
     "height": 226
    },
    "colab_type": "code",
    "id": "AEz3Sd5VgU9O",
    "outputId": "fff40eaa-b08d-4682-cf06-11430d127282"
   },
   "outputs": [
    {
     "data": {
      "text/html": [
       "<div>\n",
       "<style scoped>\n",
       "    .dataframe tbody tr th:only-of-type {\n",
       "        vertical-align: middle;\n",
       "    }\n",
       "\n",
       "    .dataframe tbody tr th {\n",
       "        vertical-align: top;\n",
       "    }\n",
       "\n",
       "    .dataframe thead th {\n",
       "        text-align: right;\n",
       "    }\n",
       "</style>\n",
       "<table border=\"1\" class=\"dataframe\">\n",
       "  <thead>\n",
       "    <tr style=\"text-align: right;\">\n",
       "      <th></th>\n",
       "      <th>mean_q</th>\n",
       "      <th>mean_r</th>\n",
       "      <th>mean_s</th>\n",
       "      <th>mean_p</th>\n",
       "      <th>mean_t</th>\n",
       "      <th>stdev_q</th>\n",
       "      <th>stdev_r</th>\n",
       "      <th>stdev_s</th>\n",
       "      <th>mean_rr_interval</th>\n",
       "      <th>mean_rq_amplitude</th>\n",
       "      <th>...</th>\n",
       "      <th>mean_t_onset</th>\n",
       "      <th>mean_t_offset</th>\n",
       "      <th>mean_qt_interval</th>\n",
       "      <th>mean_st_interval</th>\n",
       "      <th>mean_t_wave</th>\n",
       "      <th>mean_pq_segment</th>\n",
       "      <th>mean_st_segment</th>\n",
       "      <th>mean_tp_segment</th>\n",
       "      <th>mean_pp_interval</th>\n",
       "      <th>person</th>\n",
       "    </tr>\n",
       "  </thead>\n",
       "  <tbody>\n",
       "    <tr>\n",
       "      <th>0</th>\n",
       "      <td>-0.701111</td>\n",
       "      <td>0.784830</td>\n",
       "      <td>-0.179636</td>\n",
       "      <td>0.784830</td>\n",
       "      <td>0.784830</td>\n",
       "      <td>0.018006</td>\n",
       "      <td>0.034715</td>\n",
       "      <td>0.012976</td>\n",
       "      <td>905.000000</td>\n",
       "      <td>1.485941</td>\n",
       "      <td>...</td>\n",
       "      <td>-0.543653</td>\n",
       "      <td>0.294066</td>\n",
       "      <td>25.000000</td>\n",
       "      <td>25.000000</td>\n",
       "      <td>6.000000</td>\n",
       "      <td>25.000000</td>\n",
       "      <td>31.000000</td>\n",
       "      <td>175.500000</td>\n",
       "      <td>905.0</td>\n",
       "      <td>tr14-0291</td>\n",
       "    </tr>\n",
       "    <tr>\n",
       "      <th>1</th>\n",
       "      <td>-0.702451</td>\n",
       "      <td>0.803866</td>\n",
       "      <td>-0.198301</td>\n",
       "      <td>0.836352</td>\n",
       "      <td>0.803866</td>\n",
       "      <td>0.042043</td>\n",
       "      <td>0.046781</td>\n",
       "      <td>0.002086</td>\n",
       "      <td>851.666667</td>\n",
       "      <td>1.506318</td>\n",
       "      <td>...</td>\n",
       "      <td>-0.337942</td>\n",
       "      <td>0.381267</td>\n",
       "      <td>28.000000</td>\n",
       "      <td>28.000000</td>\n",
       "      <td>5.250000</td>\n",
       "      <td>57.666667</td>\n",
       "      <td>33.333333</td>\n",
       "      <td>165.000000</td>\n",
       "      <td>1000.0</td>\n",
       "      <td>tr14-0291</td>\n",
       "    </tr>\n",
       "    <tr>\n",
       "      <th>2</th>\n",
       "      <td>-0.735116</td>\n",
       "      <td>0.828857</td>\n",
       "      <td>-0.189432</td>\n",
       "      <td>0.828857</td>\n",
       "      <td>0.828857</td>\n",
       "      <td>0.011432</td>\n",
       "      <td>0.034666</td>\n",
       "      <td>0.006261</td>\n",
       "      <td>915.000000</td>\n",
       "      <td>1.563974</td>\n",
       "      <td>...</td>\n",
       "      <td>-0.491265</td>\n",
       "      <td>0.339631</td>\n",
       "      <td>27.333333</td>\n",
       "      <td>27.333333</td>\n",
       "      <td>5.666667</td>\n",
       "      <td>27.333333</td>\n",
       "      <td>33.000000</td>\n",
       "      <td>177.500000</td>\n",
       "      <td>915.0</td>\n",
       "      <td>tr14-0291</td>\n",
       "    </tr>\n",
       "    <tr>\n",
       "      <th>3</th>\n",
       "      <td>-0.755942</td>\n",
       "      <td>0.836444</td>\n",
       "      <td>-0.192762</td>\n",
       "      <td>0.836444</td>\n",
       "      <td>0.836444</td>\n",
       "      <td>0.020925</td>\n",
       "      <td>0.024130</td>\n",
       "      <td>0.003897</td>\n",
       "      <td>895.000000</td>\n",
       "      <td>1.592386</td>\n",
       "      <td>...</td>\n",
       "      <td>-0.453542</td>\n",
       "      <td>0.316039</td>\n",
       "      <td>26.000000</td>\n",
       "      <td>26.000000</td>\n",
       "      <td>5.666667</td>\n",
       "      <td>26.000000</td>\n",
       "      <td>31.666667</td>\n",
       "      <td>173.500000</td>\n",
       "      <td>895.0</td>\n",
       "      <td>tr14-0291</td>\n",
       "    </tr>\n",
       "    <tr>\n",
       "      <th>4</th>\n",
       "      <td>-0.774949</td>\n",
       "      <td>0.831752</td>\n",
       "      <td>-0.189265</td>\n",
       "      <td>0.840309</td>\n",
       "      <td>0.831752</td>\n",
       "      <td>0.014634</td>\n",
       "      <td>0.032184</td>\n",
       "      <td>0.004051</td>\n",
       "      <td>916.666667</td>\n",
       "      <td>1.606701</td>\n",
       "      <td>...</td>\n",
       "      <td>-0.558065</td>\n",
       "      <td>0.281888</td>\n",
       "      <td>28.750000</td>\n",
       "      <td>28.750000</td>\n",
       "      <td>6.000000</td>\n",
       "      <td>41.250000</td>\n",
       "      <td>34.750000</td>\n",
       "      <td>177.333333</td>\n",
       "      <td>1000.0</td>\n",
       "      <td>tr14-0291</td>\n",
       "    </tr>\n",
       "  </tbody>\n",
       "</table>\n",
       "<p>5 rows × 27 columns</p>\n",
       "</div>"
      ],
      "text/plain": [
       "     mean_q    mean_r    mean_s    mean_p    mean_t   stdev_q   stdev_r  \\\n",
       "0 -0.701111  0.784830 -0.179636  0.784830  0.784830  0.018006  0.034715   \n",
       "1 -0.702451  0.803866 -0.198301  0.836352  0.803866  0.042043  0.046781   \n",
       "2 -0.735116  0.828857 -0.189432  0.828857  0.828857  0.011432  0.034666   \n",
       "3 -0.755942  0.836444 -0.192762  0.836444  0.836444  0.020925  0.024130   \n",
       "4 -0.774949  0.831752 -0.189265  0.840309  0.831752  0.014634  0.032184   \n",
       "\n",
       "    stdev_s  mean_rr_interval  mean_rq_amplitude    ...      mean_t_onset  \\\n",
       "0  0.012976        905.000000           1.485941    ...         -0.543653   \n",
       "1  0.002086        851.666667           1.506318    ...         -0.337942   \n",
       "2  0.006261        915.000000           1.563974    ...         -0.491265   \n",
       "3  0.003897        895.000000           1.592386    ...         -0.453542   \n",
       "4  0.004051        916.666667           1.606701    ...         -0.558065   \n",
       "\n",
       "   mean_t_offset  mean_qt_interval  mean_st_interval  mean_t_wave  \\\n",
       "0       0.294066         25.000000         25.000000     6.000000   \n",
       "1       0.381267         28.000000         28.000000     5.250000   \n",
       "2       0.339631         27.333333         27.333333     5.666667   \n",
       "3       0.316039         26.000000         26.000000     5.666667   \n",
       "4       0.281888         28.750000         28.750000     6.000000   \n",
       "\n",
       "   mean_pq_segment  mean_st_segment  mean_tp_segment  mean_pp_interval  \\\n",
       "0        25.000000        31.000000       175.500000             905.0   \n",
       "1        57.666667        33.333333       165.000000            1000.0   \n",
       "2        27.333333        33.000000       177.500000             915.0   \n",
       "3        26.000000        31.666667       173.500000             895.0   \n",
       "4        41.250000        34.750000       177.333333            1000.0   \n",
       "\n",
       "      person  \n",
       "0  tr14-0291  \n",
       "1  tr14-0291  \n",
       "2  tr14-0291  \n",
       "3  tr14-0291  \n",
       "4  tr14-0291  \n",
       "\n",
       "[5 rows x 27 columns]"
      ]
     },
     "execution_count": 20,
     "metadata": {},
     "output_type": "execute_result"
    }
   ],
   "source": [
    "step_2.head()"
   ]
  },
  {
   "cell_type": "code",
   "execution_count": 21,
   "metadata": {
    "colab": {},
    "colab_type": "code",
    "id": "atiYKJ-mgU9T"
   },
   "outputs": [],
   "source": [
    "#le_step_2 = LabelEncoder()\n",
    "#step_2['person'] = pd.Series(le_step_2.fit_transform(step_2['person']))\n",
    "original_columns = ['mean_q', 'mean_r', 'mean_s', 'stdev_q', 'stdev_r','stdev_s',\n",
    "                   'mean_rr_interval', 'mean_rq_amplitude', 'mean_qrs_interval']\n",
    "\n",
    "X_step_2 = step_2[original_columns]\n",
    "# Preenche os dados faltosos com a média da respectiva coluna\n",
    "X_step_2 = X_step_2.apply(lambda x: x.fillna(x.mean()))\n",
    "# O objeto da predição é 'y' (os rótulos das classes)\n",
    "y_step_2 = step_2['person']\n",
    "\n",
    "X_train_step_2, X_test_step_2, y_train_step_2, y_test_step_2 = train_test_split(X_step_2, y_step_2,\n",
    "                                                                                test_size = 0.2)"
   ]
  },
  {
   "cell_type": "code",
   "execution_count": 22,
   "metadata": {
    "colab": {},
    "colab_type": "code",
    "id": "tF90RhgAgU9W"
   },
   "outputs": [
    {
     "data": {
      "text/plain": [
       "<matplotlib.axes._subplots.AxesSubplot at 0x7f159b8931d0>"
      ]
     },
     "execution_count": 22,
     "metadata": {},
     "output_type": "execute_result"
    },
    {
     "data": {
      "image/png": "[encoded data removed]",
      "text/plain": [
       "<Figure size 1440x720 with 1 Axes>"
      ]
     },
     "metadata": {
      "needs_background": "light"
     },
     "output_type": "display_data"
    }
   ],
   "source": [
    "plt.figure(figsize=(20,10))\n",
    "plt.title(\"Cumulative distribution of number of examples\")\n",
    "step_2['person'].value_counts(ascending=True).hist(cumulative=True, density=1)"
   ]
  },
  {
   "cell_type": "code",
   "execution_count": 23,
   "metadata": {
    "colab": {
     "base_uri": "https://localhost:8080/",
     "height": 1000
    },
    "colab_type": "code",
    "id": "Z8BfbMQhgU9a",
    "outputId": "abacd501-4e39-4fd9-b698-cf16a6ea9e7b"
   },
   "outputs": [
    {
     "name": "stderr",
     "output_type": "stream",
     "text": [
      "[Parallel(n_jobs=1)]: Using backend SequentialBackend with 1 concurrent workers.\n"
     ]
    },
    {
     "name": "stdout",
     "output_type": "stream",
     "text": [
      "building tree 1 of 50\n"
     ]
    },
    {
     "name": "stderr",
     "output_type": "stream",
     "text": [
      "[Parallel(n_jobs=1)]: Done   1 out of   1 | elapsed:   11.9s remaining:    0.0s\n"
     ]
    },
    {
     "name": "stdout",
     "output_type": "stream",
     "text": [
      "building tree 2 of 50\n"
     ]
    },
    {
     "name": "stderr",
     "output_type": "stream",
     "text": [
      "[Parallel(n_jobs=1)]: Done   2 out of   2 | elapsed:   22.8s remaining:    0.0s\n"
     ]
    },
    {
     "name": "stdout",
     "output_type": "stream",
     "text": [
      "building tree 3 of 50\n",
      "building tree 4 of 50\n",
      "building tree 5 of 50\n",
      "building tree 6 of 50\n",
      "building tree 7 of 50\n",
      "building tree 8 of 50\n",
      "building tree 9 of 50\n",
      "building tree 10 of 50\n",
      "building tree 11 of 50\n",
      "building tree 12 of 50\n",
      "building tree 13 of 50\n",
      "building tree 14 of 50\n",
      "building tree 15 of 50\n",
      "building tree 16 of 50\n",
      "building tree 17 of 50\n",
      "building tree 18 of 50\n",
      "building tree 19 of 50\n",
      "building tree 20 of 50\n",
      "building tree 21 of 50\n",
      "building tree 22 of 50\n",
      "building tree 23 of 50\n",
      "building tree 24 of 50\n",
      "building tree 25 of 50\n",
      "building tree 26 of 50\n",
      "building tree 27 of 50\n",
      "building tree 28 of 50\n",
      "building tree 29 of 50\n",
      "building tree 30 of 50\n",
      "building tree 31 of 50\n",
      "building tree 32 of 50\n",
      "building tree 33 of 50\n",
      "building tree 34 of 50\n",
      "building tree 35 of 50\n",
      "building tree 36 of 50\n",
      "building tree 37 of 50\n",
      "building tree 38 of 50\n",
      "building tree 39 of 50\n",
      "building tree 40 of 50\n",
      "building tree 41 of 50\n",
      "building tree 42 of 50\n",
      "building tree 43 of 50\n",
      "building tree 44 of 50\n",
      "building tree 45 of 50\n",
      "building tree 46 of 50\n",
      "building tree 47 of 50\n",
      "building tree 48 of 50\n",
      "building tree 49 of 50\n",
      "building tree 50 of 50\n"
     ]
    },
    {
     "name": "stderr",
     "output_type": "stream",
     "text": [
      "[Parallel(n_jobs=1)]: Done  50 out of  50 | elapsed:  8.7min finished\n",
      "/home/renato/anaconda3/lib/python3.7/site-packages/sklearn/ensemble/forest.py:308: UserWarning: Warm-start fitting without increasing n_estimators does not fit new trees.\n",
      "  warn(\"Warm-start fitting without increasing n_estimators does not \"\n",
      "[Parallel(n_jobs=1)]: Using backend SequentialBackend with 1 concurrent workers.\n",
      "[Parallel(n_jobs=1)]: Done   1 out of   1 | elapsed:    1.8s remaining:    0.0s\n",
      "[Parallel(n_jobs=1)]: Done   2 out of   2 | elapsed:    2.9s remaining:    0.0s\n",
      "[Parallel(n_jobs=1)]: Done  50 out of  50 | elapsed:   48.6s finished\n"
     ]
    }
   ],
   "source": [
    "list_of_training_x = np.array_split(X_train_step_2, 2)\n",
    "list_of_training_y = np.array_split(y_train_step_2, 2)\n",
    "n_estimators = 50\n",
    "\n",
    "rf_step_2 = RandomForestClassifier(warm_start=True, n_estimators=n_estimators, max_depth=80, min_samples_leaf=3, min_samples_split=10, verbose=3)\n",
    "for i in range(2):\n",
    "    rf_step_2.fit(list_of_training_x[i], list_of_training_y[i])\n",
    "    rf_step_2.set_params(n_estimators=n_estimators)\n",
    "    n_estimators+=50\n",
    "\n",
    "predictions_step_2 = rf_step_2.predict(X_test_step_2)"
   ]
  },
  {
   "cell_type": "code",
   "execution_count": 24,
   "metadata": {
    "colab": {},
    "colab_type": "code",
    "id": "ZYwa3C1LgU9d"
   },
   "outputs": [],
   "source": [
    "cr_step_2 = classification_report(y_test_step_2, predictions_step_2, output_dict=True)\n",
    "cr_df_step_2 = pd.DataFrame(cr_step_2).transpose()\n",
    "cr_df_step_2.to_csv('result_2.csv')"
   ]
  },
  {
   "cell_type": "markdown",
   "metadata": {
    "colab_type": "text",
    "id": "1_9qq_BNgU9g"
   },
   "source": [
    "## Passo 3: Treino com adição de segmentos gerados aleatoriamente e remoção de \n",
    "\n",
    "---\n",
    "\n",
    "outliers"
   ]
  },
  {
   "cell_type": "code",
   "execution_count": 25,
   "metadata": {
    "colab": {},
    "colab_type": "code",
    "id": "Dwqc5PbUgU9h"
   },
   "outputs": [
    {
     "data": {
      "text/html": [
       "<div>\n",
       "<style scoped>\n",
       "    .dataframe tbody tr th:only-of-type {\n",
       "        vertical-align: middle;\n",
       "    }\n",
       "\n",
       "    .dataframe tbody tr th {\n",
       "        vertical-align: top;\n",
       "    }\n",
       "\n",
       "    .dataframe thead th {\n",
       "        text-align: right;\n",
       "    }\n",
       "</style>\n",
       "<table border=\"1\" class=\"dataframe\">\n",
       "  <thead>\n",
       "    <tr style=\"text-align: right;\">\n",
       "      <th></th>\n",
       "      <th>mean_q</th>\n",
       "      <th>mean_r</th>\n",
       "      <th>mean_s</th>\n",
       "      <th>mean_p</th>\n",
       "      <th>mean_t</th>\n",
       "      <th>stdev_q</th>\n",
       "      <th>stdev_r</th>\n",
       "      <th>stdev_s</th>\n",
       "      <th>mean_rr_interval</th>\n",
       "      <th>mean_rq_amplitude</th>\n",
       "      <th>...</th>\n",
       "      <th>mean_t_onset</th>\n",
       "      <th>mean_t_offset</th>\n",
       "      <th>mean_qt_interval</th>\n",
       "      <th>mean_st_interval</th>\n",
       "      <th>mean_t_wave</th>\n",
       "      <th>mean_pq_segment</th>\n",
       "      <th>mean_st_segment</th>\n",
       "      <th>mean_tp_segment</th>\n",
       "      <th>mean_pp_interval</th>\n",
       "      <th>person</th>\n",
       "    </tr>\n",
       "  </thead>\n",
       "  <tbody>\n",
       "    <tr>\n",
       "      <th>0</th>\n",
       "      <td>-0.701111</td>\n",
       "      <td>0.784830</td>\n",
       "      <td>-0.179636</td>\n",
       "      <td>0.784830</td>\n",
       "      <td>0.784830</td>\n",
       "      <td>0.018006</td>\n",
       "      <td>0.034715</td>\n",
       "      <td>0.012976</td>\n",
       "      <td>905.000000</td>\n",
       "      <td>1.485941</td>\n",
       "      <td>...</td>\n",
       "      <td>-0.543653</td>\n",
       "      <td>0.294066</td>\n",
       "      <td>25.000000</td>\n",
       "      <td>25.000000</td>\n",
       "      <td>6.000000</td>\n",
       "      <td>25.000000</td>\n",
       "      <td>31.000000</td>\n",
       "      <td>175.500000</td>\n",
       "      <td>905.0</td>\n",
       "      <td>tr14-0291</td>\n",
       "    </tr>\n",
       "    <tr>\n",
       "      <th>1</th>\n",
       "      <td>-0.702451</td>\n",
       "      <td>0.803866</td>\n",
       "      <td>-0.198301</td>\n",
       "      <td>0.836352</td>\n",
       "      <td>0.803866</td>\n",
       "      <td>0.042043</td>\n",
       "      <td>0.046781</td>\n",
       "      <td>0.002086</td>\n",
       "      <td>851.666667</td>\n",
       "      <td>1.506318</td>\n",
       "      <td>...</td>\n",
       "      <td>-0.337942</td>\n",
       "      <td>0.381267</td>\n",
       "      <td>28.000000</td>\n",
       "      <td>28.000000</td>\n",
       "      <td>5.250000</td>\n",
       "      <td>57.666667</td>\n",
       "      <td>33.333333</td>\n",
       "      <td>165.000000</td>\n",
       "      <td>1000.0</td>\n",
       "      <td>tr14-0291</td>\n",
       "    </tr>\n",
       "    <tr>\n",
       "      <th>2</th>\n",
       "      <td>-0.735116</td>\n",
       "      <td>0.828857</td>\n",
       "      <td>-0.189432</td>\n",
       "      <td>0.828857</td>\n",
       "      <td>0.828857</td>\n",
       "      <td>0.011432</td>\n",
       "      <td>0.034666</td>\n",
       "      <td>0.006261</td>\n",
       "      <td>915.000000</td>\n",
       "      <td>1.563974</td>\n",
       "      <td>...</td>\n",
       "      <td>-0.491265</td>\n",
       "      <td>0.339631</td>\n",
       "      <td>27.333333</td>\n",
       "      <td>27.333333</td>\n",
       "      <td>5.666667</td>\n",
       "      <td>27.333333</td>\n",
       "      <td>33.000000</td>\n",
       "      <td>177.500000</td>\n",
       "      <td>915.0</td>\n",
       "      <td>tr14-0291</td>\n",
       "    </tr>\n",
       "    <tr>\n",
       "      <th>3</th>\n",
       "      <td>-0.755942</td>\n",
       "      <td>0.836444</td>\n",
       "      <td>-0.192762</td>\n",
       "      <td>0.836444</td>\n",
       "      <td>0.836444</td>\n",
       "      <td>0.020925</td>\n",
       "      <td>0.024130</td>\n",
       "      <td>0.003897</td>\n",
       "      <td>895.000000</td>\n",
       "      <td>1.592386</td>\n",
       "      <td>...</td>\n",
       "      <td>-0.453542</td>\n",
       "      <td>0.316039</td>\n",
       "      <td>26.000000</td>\n",
       "      <td>26.000000</td>\n",
       "      <td>5.666667</td>\n",
       "      <td>26.000000</td>\n",
       "      <td>31.666667</td>\n",
       "      <td>173.500000</td>\n",
       "      <td>895.0</td>\n",
       "      <td>tr14-0291</td>\n",
       "    </tr>\n",
       "    <tr>\n",
       "      <th>4</th>\n",
       "      <td>-0.774949</td>\n",
       "      <td>0.831752</td>\n",
       "      <td>-0.189265</td>\n",
       "      <td>0.840309</td>\n",
       "      <td>0.831752</td>\n",
       "      <td>0.014634</td>\n",
       "      <td>0.032184</td>\n",
       "      <td>0.004051</td>\n",
       "      <td>916.666667</td>\n",
       "      <td>1.606701</td>\n",
       "      <td>...</td>\n",
       "      <td>-0.558065</td>\n",
       "      <td>0.281888</td>\n",
       "      <td>28.750000</td>\n",
       "      <td>28.750000</td>\n",
       "      <td>6.000000</td>\n",
       "      <td>41.250000</td>\n",
       "      <td>34.750000</td>\n",
       "      <td>177.333333</td>\n",
       "      <td>1000.0</td>\n",
       "      <td>tr14-0291</td>\n",
       "    </tr>\n",
       "  </tbody>\n",
       "</table>\n",
       "<p>5 rows × 27 columns</p>\n",
       "</div>"
      ],
      "text/plain": [
       "     mean_q    mean_r    mean_s    mean_p    mean_t   stdev_q   stdev_r  \\\n",
       "0 -0.701111  0.784830 -0.179636  0.784830  0.784830  0.018006  0.034715   \n",
       "1 -0.702451  0.803866 -0.198301  0.836352  0.803866  0.042043  0.046781   \n",
       "2 -0.735116  0.828857 -0.189432  0.828857  0.828857  0.011432  0.034666   \n",
       "3 -0.755942  0.836444 -0.192762  0.836444  0.836444  0.020925  0.024130   \n",
       "4 -0.774949  0.831752 -0.189265  0.840309  0.831752  0.014634  0.032184   \n",
       "\n",
       "    stdev_s  mean_rr_interval  mean_rq_amplitude    ...      mean_t_onset  \\\n",
       "0  0.012976        905.000000           1.485941    ...         -0.543653   \n",
       "1  0.002086        851.666667           1.506318    ...         -0.337942   \n",
       "2  0.006261        915.000000           1.563974    ...         -0.491265   \n",
       "3  0.003897        895.000000           1.592386    ...         -0.453542   \n",
       "4  0.004051        916.666667           1.606701    ...         -0.558065   \n",
       "\n",
       "   mean_t_offset  mean_qt_interval  mean_st_interval  mean_t_wave  \\\n",
       "0       0.294066         25.000000         25.000000     6.000000   \n",
       "1       0.381267         28.000000         28.000000     5.250000   \n",
       "2       0.339631         27.333333         27.333333     5.666667   \n",
       "3       0.316039         26.000000         26.000000     5.666667   \n",
       "4       0.281888         28.750000         28.750000     6.000000   \n",
       "\n",
       "   mean_pq_segment  mean_st_segment  mean_tp_segment  mean_pp_interval  \\\n",
       "0        25.000000        31.000000       175.500000             905.0   \n",
       "1        57.666667        33.333333       165.000000            1000.0   \n",
       "2        27.333333        33.000000       177.500000             915.0   \n",
       "3        26.000000        31.666667       173.500000             895.0   \n",
       "4        41.250000        34.750000       177.333333            1000.0   \n",
       "\n",
       "      person  \n",
       "0  tr14-0291  \n",
       "1  tr14-0291  \n",
       "2  tr14-0291  \n",
       "3  tr14-0291  \n",
       "4  tr14-0291  \n",
       "\n",
       "[5 rows x 27 columns]"
      ]
     },
     "execution_count": 25,
     "metadata": {},
     "output_type": "execute_result"
    }
   ],
   "source": [
    "step_3.head()"
   ]
  },
  {
   "cell_type": "code",
   "execution_count": 26,
   "metadata": {
    "colab": {},
    "colab_type": "code",
    "id": "o3Sfs4nbhrIY"
   },
   "outputs": [
    {
     "data": {
      "text/plain": [
       "<matplotlib.axes._subplots.AxesSubplot at 0x7f15992d0ad0>"
      ]
     },
     "execution_count": 26,
     "metadata": {},
     "output_type": "execute_result"
    },
    {
     "data": {
      "image/png": "[encoded data removed]",
      "text/plain": [
       "<Figure size 1440x720 with 1 Axes>"
      ]
     },
     "metadata": {
      "needs_background": "light"
     },
     "output_type": "display_data"
    }
   ],
   "source": [
    "plt.figure(figsize=(20,10))\n",
    "plt.title(\"Cumulative distribution of number of examples\")\n",
    "step_3['person'].value_counts(ascending=True).hist(cumulative=True, density=1)"
   ]
  },
  {
   "cell_type": "code",
   "execution_count": 27,
   "metadata": {
    "colab": {},
    "colab_type": "code",
    "id": "WLj6E66ChyN_"
   },
   "outputs": [],
   "source": [
    "## Remove pessoas que tem menos que 60 segmentos\n",
    "min_n_of_segments = 60\n",
    "mask = step_3['person'].value_counts() < min_n_of_segments\n",
    "people_to_remove = list(mask[mask].index)\n",
    "for person in people_to_remove:\n",
    "    step_3 = step_3[step_3.person != person]"
   ]
  },
  {
   "cell_type": "code",
   "execution_count": 28,
   "metadata": {
    "colab": {},
    "colab_type": "code",
    "id": "gE95-EKZRUAs"
   },
   "outputs": [
    {
     "name": "stdout",
     "output_type": "stream",
     "text": [
      "Há 1882 classes únicas no conjunto de TREINO\n",
      "Há 1882 classes únicas no conjunto de TESTE\n"
     ]
    }
   ],
   "source": [
    "#le_step_3 = LabelEncoder()\n",
    "#step_3['person'] = pd.Series(le_step_3.fit_transform(step_3['person']))\n",
    "original_columns = ['mean_q', 'mean_r', 'mean_s', 'stdev_q', 'stdev_r','stdev_s',\n",
    "                   'mean_rr_interval', 'mean_rq_amplitude', 'mean_qrs_interval']\n",
    "\n",
    "X_step_3 = step_3[original_columns]\n",
    "# Preenche os dados faltosos com a média da respectiva coluna\n",
    "X_step_3 = X_step_3.apply(lambda x: x.fillna(x.mean()))\n",
    "# O objeto da predição é 'y' (os rótulos das classes)\n",
    "y_step_3 = step_3['person']\n",
    "\n",
    "X_train_step_3, X_test_step_3, y_train_step_3, y_test_step_3 = train_test_split(X_step_3, y_step_3,\n",
    "                                                                                test_size = 0.2, stratify=y_step_3)\n",
    "print(f'Há {y_train_step_3.nunique()} classes únicas no conjunto de TREINO')\n",
    "print(f'Há {y_test_step_3.nunique()} classes únicas no conjunto de TESTE')"
   ]
  },
  {
   "cell_type": "code",
   "execution_count": 29,
   "metadata": {
    "colab": {},
    "colab_type": "code",
    "id": "j7hC7qujReaT"
   },
   "outputs": [
    {
     "name": "stdout",
     "output_type": "stream",
     "text": [
      "Elementos unicos no split 0: 1882\n",
      "Elementos unicos no split 1: 1882\n"
     ]
    },
    {
     "name": "stderr",
     "output_type": "stream",
     "text": [
      "[Parallel(n_jobs=1)]: Using backend SequentialBackend with 1 concurrent workers.\n"
     ]
    },
    {
     "name": "stdout",
     "output_type": "stream",
     "text": [
      "building tree 1 of 50\n"
     ]
    },
    {
     "name": "stderr",
     "output_type": "stream",
     "text": [
      "[Parallel(n_jobs=1)]: Done   1 out of   1 | elapsed:   11.4s remaining:    0.0s\n"
     ]
    },
    {
     "name": "stdout",
     "output_type": "stream",
     "text": [
      "building tree 2 of 50\n"
     ]
    },
    {
     "name": "stderr",
     "output_type": "stream",
     "text": [
      "[Parallel(n_jobs=1)]: Done   2 out of   2 | elapsed:   19.7s remaining:    0.0s\n"
     ]
    },
    {
     "name": "stdout",
     "output_type": "stream",
     "text": [
      "building tree 3 of 50\n",
      "building tree 4 of 50\n",
      "building tree 5 of 50\n",
      "building tree 6 of 50\n",
      "building tree 7 of 50\n",
      "building tree 8 of 50\n",
      "building tree 9 of 50\n",
      "building tree 10 of 50\n",
      "building tree 11 of 50\n",
      "building tree 12 of 50\n",
      "building tree 13 of 50\n",
      "building tree 14 of 50\n",
      "building tree 15 of 50\n",
      "building tree 16 of 50\n",
      "building tree 17 of 50\n",
      "building tree 18 of 50\n",
      "building tree 19 of 50\n",
      "building tree 20 of 50\n",
      "building tree 21 of 50\n",
      "building tree 22 of 50\n",
      "building tree 23 of 50\n",
      "building tree 24 of 50\n",
      "building tree 25 of 50\n",
      "building tree 26 of 50\n",
      "building tree 27 of 50\n",
      "building tree 28 of 50\n",
      "building tree 29 of 50\n",
      "building tree 30 of 50\n",
      "building tree 31 of 50\n",
      "building tree 32 of 50\n",
      "building tree 33 of 50\n",
      "building tree 34 of 50\n",
      "building tree 35 of 50\n",
      "building tree 36 of 50\n",
      "building tree 37 of 50\n",
      "building tree 38 of 50\n",
      "building tree 39 of 50\n",
      "building tree 40 of 50\n",
      "building tree 41 of 50\n",
      "building tree 42 of 50\n",
      "building tree 43 of 50\n",
      "building tree 44 of 50\n",
      "building tree 45 of 50\n",
      "building tree 46 of 50\n",
      "building tree 47 of 50\n",
      "building tree 48 of 50\n",
      "building tree 49 of 50\n",
      "building tree 50 of 50\n"
     ]
    },
    {
     "name": "stderr",
     "output_type": "stream",
     "text": [
      "[Parallel(n_jobs=1)]: Done  50 out of  50 | elapsed:  7.7min finished\n",
      "[Parallel(n_jobs=1)]: Using backend SequentialBackend with 1 concurrent workers.\n"
     ]
    },
    {
     "name": "stdout",
     "output_type": "stream",
     "text": [
      "building tree 1 of 50\n"
     ]
    },
    {
     "name": "stderr",
     "output_type": "stream",
     "text": [
      "[Parallel(n_jobs=1)]: Done   1 out of   1 | elapsed:   10.2s remaining:    0.0s\n"
     ]
    },
    {
     "name": "stdout",
     "output_type": "stream",
     "text": [
      "building tree 2 of 50\n"
     ]
    },
    {
     "name": "stderr",
     "output_type": "stream",
     "text": [
      "[Parallel(n_jobs=1)]: Done   2 out of   2 | elapsed:   19.0s remaining:    0.0s\n"
     ]
    },
    {
     "name": "stdout",
     "output_type": "stream",
     "text": [
      "building tree 3 of 50\n",
      "building tree 4 of 50\n",
      "building tree 5 of 50\n",
      "building tree 6 of 50\n",
      "building tree 7 of 50\n",
      "building tree 8 of 50\n",
      "building tree 9 of 50\n",
      "building tree 10 of 50\n",
      "building tree 11 of 50\n",
      "building tree 12 of 50\n",
      "building tree 13 of 50\n",
      "building tree 14 of 50\n",
      "building tree 15 of 50\n",
      "building tree 16 of 50\n",
      "building tree 17 of 50\n",
      "building tree 18 of 50\n",
      "building tree 19 of 50\n",
      "building tree 20 of 50\n",
      "building tree 21 of 50\n",
      "building tree 22 of 50\n",
      "building tree 23 of 50\n",
      "building tree 24 of 50\n",
      "building tree 25 of 50\n",
      "building tree 26 of 50\n",
      "building tree 27 of 50\n",
      "building tree 28 of 50\n",
      "building tree 29 of 50\n",
      "building tree 30 of 50\n",
      "building tree 31 of 50\n",
      "building tree 32 of 50\n",
      "building tree 33 of 50\n",
      "building tree 34 of 50\n",
      "building tree 35 of 50\n",
      "building tree 36 of 50\n",
      "building tree 37 of 50\n",
      "building tree 38 of 50\n",
      "building tree 39 of 50\n",
      "building tree 40 of 50\n",
      "building tree 41 of 50\n",
      "building tree 42 of 50\n",
      "building tree 43 of 50\n",
      "building tree 44 of 50\n",
      "building tree 45 of 50\n",
      "building tree 46 of 50\n",
      "building tree 47 of 50\n",
      "building tree 48 of 50\n",
      "building tree 49 of 50\n",
      "building tree 50 of 50\n"
     ]
    },
    {
     "name": "stderr",
     "output_type": "stream",
     "text": [
      "[Parallel(n_jobs=1)]: Done  50 out of  50 | elapsed:  7.4min finished\n"
     ]
    }
   ],
   "source": [
    "batch_size = 2\n",
    "list_of_training_x_step_3 = np.array_split(X_train_step_3, batch_size)\n",
    "list_of_training_y_step_3 = np.array_split(y_train_step_3, batch_size)\n",
    "n_estimators = 50\n",
    "\n",
    "# Verifica sem algum split ficou com uma amostra a menos\n",
    "for count, y in enumerate(list_of_training_y_step_3):\n",
    "    print(f'Elementos unicos no split {count}:', y.nunique())\n",
    "\n",
    "rf_step_3 = RandomForestClassifier(warm_start=True, n_estimators=n_estimators, max_depth=80, min_samples_leaf=3, min_samples_split=10, verbose=3)\n",
    "\n",
    "for i in range(batch_size):\n",
    "    rf_step_3.fit(list_of_training_x_step_3[i], list_of_training_y_step_3[i])\n",
    "    n_estimators += 50\n",
    "    rf_step_3.set_params(n_estimators=n_estimators)"
   ]
  },
  {
   "cell_type": "code",
   "execution_count": 30,
   "metadata": {
    "colab": {},
    "colab_type": "code",
    "id": "UkqHQnt_AIPp"
   },
   "outputs": [
    {
     "name": "stderr",
     "output_type": "stream",
     "text": [
      "[Parallel(n_jobs=1)]: Using backend SequentialBackend with 1 concurrent workers.\n",
      "[Parallel(n_jobs=1)]: Done   1 out of   1 | elapsed:    1.4s remaining:    0.0s\n",
      "[Parallel(n_jobs=1)]: Done   2 out of   2 | elapsed:    2.3s remaining:    0.0s\n",
      "[Parallel(n_jobs=1)]: Done 100 out of 100 | elapsed:  1.3min finished\n"
     ]
    }
   ],
   "source": [
    "predictions_step_3 = rf_step_3.predict(X_test_step_3)"
   ]
  },
  {
   "cell_type": "code",
   "execution_count": 31,
   "metadata": {
    "colab": {},
    "colab_type": "code",
    "id": "dc7_nFhay9VZ"
   },
   "outputs": [
    {
     "name": "stderr",
     "output_type": "stream",
     "text": [
      "/home/renato/anaconda3/lib/python3.7/site-packages/sklearn/metrics/classification.py:1143: UndefinedMetricWarning: Precision and F-score are ill-defined and being set to 0.0 in labels with no predicted samples.\n",
      "  'precision', 'predicted', average, warn_for)\n",
      "/home/renato/anaconda3/lib/python3.7/site-packages/sklearn/metrics/classification.py:1143: UndefinedMetricWarning: Precision and F-score are ill-defined and being set to 0.0 in labels with no predicted samples.\n",
      "  'precision', 'predicted', average, warn_for)\n",
      "/home/renato/anaconda3/lib/python3.7/site-packages/sklearn/metrics/classification.py:1143: UndefinedMetricWarning: Precision and F-score are ill-defined and being set to 0.0 in labels with no predicted samples.\n",
      "  'precision', 'predicted', average, warn_for)\n"
     ]
    }
   ],
   "source": [
    "cr_step_3 = classification_report(y_test_step_3, predictions_step_3, output_dict=True)\n",
    "cr_df_step_3 = pd.DataFrame(cr_step_3).transpose()\n",
    "cr_df_step_3.to_csv('result_3.csv')"
   ]
  },
  {
   "cell_type": "markdown",
   "metadata": {
    "colab_type": "text",
    "id": "l6UlsDoHyKO7"
   },
   "source": [
    "## Passo 4: Treino com algumas novas features, segmentos gerados aleatoriamente e remoção de ouliers"
   ]
  },
  {
   "cell_type": "code",
   "execution_count": 3,
   "metadata": {
    "colab": {},
    "colab_type": "code",
    "id": "ZtcnpNjEhRmN"
   },
   "outputs": [
    {
     "data": {
      "text/html": [
       "<div>\n",
       "<style scoped>\n",
       "    .dataframe tbody tr th:only-of-type {\n",
       "        vertical-align: middle;\n",
       "    }\n",
       "\n",
       "    .dataframe tbody tr th {\n",
       "        vertical-align: top;\n",
       "    }\n",
       "\n",
       "    .dataframe thead th {\n",
       "        text-align: right;\n",
       "    }\n",
       "</style>\n",
       "<table border=\"1\" class=\"dataframe\">\n",
       "  <thead>\n",
       "    <tr style=\"text-align: right;\">\n",
       "      <th></th>\n",
       "      <th>mean_q</th>\n",
       "      <th>mean_r</th>\n",
       "      <th>mean_s</th>\n",
       "      <th>mean_p</th>\n",
       "      <th>mean_t</th>\n",
       "      <th>stdev_q</th>\n",
       "      <th>stdev_r</th>\n",
       "      <th>stdev_s</th>\n",
       "      <th>mean_rr_interval</th>\n",
       "      <th>mean_rq_amplitude</th>\n",
       "      <th>...</th>\n",
       "      <th>mean_t_onset</th>\n",
       "      <th>mean_t_offset</th>\n",
       "      <th>mean_qt_interval</th>\n",
       "      <th>mean_st_interval</th>\n",
       "      <th>mean_t_wave</th>\n",
       "      <th>mean_pq_segment</th>\n",
       "      <th>mean_st_segment</th>\n",
       "      <th>mean_tp_segment</th>\n",
       "      <th>mean_pp_interval</th>\n",
       "      <th>person</th>\n",
       "    </tr>\n",
       "  </thead>\n",
       "  <tbody>\n",
       "    <tr>\n",
       "      <th>0</th>\n",
       "      <td>-0.701111</td>\n",
       "      <td>0.784830</td>\n",
       "      <td>-0.179636</td>\n",
       "      <td>0.784830</td>\n",
       "      <td>0.784830</td>\n",
       "      <td>0.018006</td>\n",
       "      <td>0.034715</td>\n",
       "      <td>0.012976</td>\n",
       "      <td>905.000000</td>\n",
       "      <td>1.485941</td>\n",
       "      <td>...</td>\n",
       "      <td>-0.543653</td>\n",
       "      <td>0.294066</td>\n",
       "      <td>25.000000</td>\n",
       "      <td>25.000000</td>\n",
       "      <td>6.000000</td>\n",
       "      <td>25.000000</td>\n",
       "      <td>31.000000</td>\n",
       "      <td>175.500000</td>\n",
       "      <td>905.0</td>\n",
       "      <td>tr14-0291</td>\n",
       "    </tr>\n",
       "    <tr>\n",
       "      <th>1</th>\n",
       "      <td>-0.702451</td>\n",
       "      <td>0.803866</td>\n",
       "      <td>-0.198301</td>\n",
       "      <td>0.836352</td>\n",
       "      <td>0.803866</td>\n",
       "      <td>0.042043</td>\n",
       "      <td>0.046781</td>\n",
       "      <td>0.002086</td>\n",
       "      <td>851.666667</td>\n",
       "      <td>1.506318</td>\n",
       "      <td>...</td>\n",
       "      <td>-0.337942</td>\n",
       "      <td>0.381267</td>\n",
       "      <td>28.000000</td>\n",
       "      <td>28.000000</td>\n",
       "      <td>5.250000</td>\n",
       "      <td>57.666667</td>\n",
       "      <td>33.333333</td>\n",
       "      <td>165.000000</td>\n",
       "      <td>1000.0</td>\n",
       "      <td>tr14-0291</td>\n",
       "    </tr>\n",
       "    <tr>\n",
       "      <th>2</th>\n",
       "      <td>-0.735116</td>\n",
       "      <td>0.828857</td>\n",
       "      <td>-0.189432</td>\n",
       "      <td>0.828857</td>\n",
       "      <td>0.828857</td>\n",
       "      <td>0.011432</td>\n",
       "      <td>0.034666</td>\n",
       "      <td>0.006261</td>\n",
       "      <td>915.000000</td>\n",
       "      <td>1.563974</td>\n",
       "      <td>...</td>\n",
       "      <td>-0.491265</td>\n",
       "      <td>0.339631</td>\n",
       "      <td>27.333333</td>\n",
       "      <td>27.333333</td>\n",
       "      <td>5.666667</td>\n",
       "      <td>27.333333</td>\n",
       "      <td>33.000000</td>\n",
       "      <td>177.500000</td>\n",
       "      <td>915.0</td>\n",
       "      <td>tr14-0291</td>\n",
       "    </tr>\n",
       "    <tr>\n",
       "      <th>3</th>\n",
       "      <td>-0.755942</td>\n",
       "      <td>0.836444</td>\n",
       "      <td>-0.192762</td>\n",
       "      <td>0.836444</td>\n",
       "      <td>0.836444</td>\n",
       "      <td>0.020925</td>\n",
       "      <td>0.024130</td>\n",
       "      <td>0.003897</td>\n",
       "      <td>895.000000</td>\n",
       "      <td>1.592386</td>\n",
       "      <td>...</td>\n",
       "      <td>-0.453542</td>\n",
       "      <td>0.316039</td>\n",
       "      <td>26.000000</td>\n",
       "      <td>26.000000</td>\n",
       "      <td>5.666667</td>\n",
       "      <td>26.000000</td>\n",
       "      <td>31.666667</td>\n",
       "      <td>173.500000</td>\n",
       "      <td>895.0</td>\n",
       "      <td>tr14-0291</td>\n",
       "    </tr>\n",
       "    <tr>\n",
       "      <th>4</th>\n",
       "      <td>-0.774949</td>\n",
       "      <td>0.831752</td>\n",
       "      <td>-0.189265</td>\n",
       "      <td>0.840309</td>\n",
       "      <td>0.831752</td>\n",
       "      <td>0.014634</td>\n",
       "      <td>0.032184</td>\n",
       "      <td>0.004051</td>\n",
       "      <td>916.666667</td>\n",
       "      <td>1.606701</td>\n",
       "      <td>...</td>\n",
       "      <td>-0.558065</td>\n",
       "      <td>0.281888</td>\n",
       "      <td>28.750000</td>\n",
       "      <td>28.750000</td>\n",
       "      <td>6.000000</td>\n",
       "      <td>41.250000</td>\n",
       "      <td>34.750000</td>\n",
       "      <td>177.333333</td>\n",
       "      <td>1000.0</td>\n",
       "      <td>tr14-0291</td>\n",
       "    </tr>\n",
       "  </tbody>\n",
       "</table>\n",
       "<p>5 rows × 27 columns</p>\n",
       "</div>"
      ],
      "text/plain": [
       "     mean_q    mean_r    mean_s    mean_p    mean_t   stdev_q   stdev_r  \\\n",
       "0 -0.701111  0.784830 -0.179636  0.784830  0.784830  0.018006  0.034715   \n",
       "1 -0.702451  0.803866 -0.198301  0.836352  0.803866  0.042043  0.046781   \n",
       "2 -0.735116  0.828857 -0.189432  0.828857  0.828857  0.011432  0.034666   \n",
       "3 -0.755942  0.836444 -0.192762  0.836444  0.836444  0.020925  0.024130   \n",
       "4 -0.774949  0.831752 -0.189265  0.840309  0.831752  0.014634  0.032184   \n",
       "\n",
       "    stdev_s  mean_rr_interval  mean_rq_amplitude    ...      mean_t_onset  \\\n",
       "0  0.012976        905.000000           1.485941    ...         -0.543653   \n",
       "1  0.002086        851.666667           1.506318    ...         -0.337942   \n",
       "2  0.006261        915.000000           1.563974    ...         -0.491265   \n",
       "3  0.003897        895.000000           1.592386    ...         -0.453542   \n",
       "4  0.004051        916.666667           1.606701    ...         -0.558065   \n",
       "\n",
       "   mean_t_offset  mean_qt_interval  mean_st_interval  mean_t_wave  \\\n",
       "0       0.294066         25.000000         25.000000     6.000000   \n",
       "1       0.381267         28.000000         28.000000     5.250000   \n",
       "2       0.339631         27.333333         27.333333     5.666667   \n",
       "3       0.316039         26.000000         26.000000     5.666667   \n",
       "4       0.281888         28.750000         28.750000     6.000000   \n",
       "\n",
       "   mean_pq_segment  mean_st_segment  mean_tp_segment  mean_pp_interval  \\\n",
       "0        25.000000        31.000000       175.500000             905.0   \n",
       "1        57.666667        33.333333       165.000000            1000.0   \n",
       "2        27.333333        33.000000       177.500000             915.0   \n",
       "3        26.000000        31.666667       173.500000             895.0   \n",
       "4        41.250000        34.750000       177.333333            1000.0   \n",
       "\n",
       "      person  \n",
       "0  tr14-0291  \n",
       "1  tr14-0291  \n",
       "2  tr14-0291  \n",
       "3  tr14-0291  \n",
       "4  tr14-0291  \n",
       "\n",
       "[5 rows x 27 columns]"
      ]
     },
     "execution_count": 3,
     "metadata": {},
     "output_type": "execute_result"
    }
   ],
   "source": [
    "step_4.head()"
   ]
  },
  {
   "cell_type": "code",
   "execution_count": 33,
   "metadata": {},
   "outputs": [
    {
     "data": {
      "text/plain": [
       "<matplotlib.axes._subplots.AxesSubplot at 0x7f159a7f5410>"
      ]
     },
     "execution_count": 33,
     "metadata": {},
     "output_type": "execute_result"
    },
    {
     "data": {
      "image/png": "[encoded data removed]",
      "text/plain": [
       "<Figure size 1440x720 with 1 Axes>"
      ]
     },
     "metadata": {
      "needs_background": "light"
     },
     "output_type": "display_data"
    }
   ],
   "source": [
    "plt.figure(figsize=(20,10))\n",
    "plt.title(\"Cumulative distribution of number of examples\")\n",
    "step_4['person'].value_counts(ascending=True).hist(cumulative=True, density=1)"
   ]
  },
  {
   "cell_type": "code",
   "execution_count": 4,
   "metadata": {
    "colab": {},
    "colab_type": "code",
    "id": "TvtX5VfByIo_"
   },
   "outputs": [],
   "source": [
    "## Remove pessoas que tem menos que 60 segmentos\n",
    "min_n_of_segments = 60\n",
    "mask = step_4['person'].value_counts() < min_n_of_segments\n",
    "people_to_remove = list(mask[mask].index)\n",
    "for person in people_to_remove:\n",
    "    step_4 = step_4[step_4.person != person]"
   ]
  },
  {
   "cell_type": "code",
   "execution_count": 5,
   "metadata": {
    "colab": {},
    "colab_type": "code",
    "id": "MzGiOgn9yi12"
   },
   "outputs": [
    {
     "name": "stdout",
     "output_type": "stream",
     "text": [
      "Há 1882 classes únicas no conjunto de TREINO\n",
      "Há 1882 classes únicas no conjunto de TESTE\n"
     ]
    }
   ],
   "source": [
    "#le_step_4 = LabelEncoder()\n",
    "#step_4['person'] = pd.Series(le_step_4.fit_transform(step_4['person']))\n",
    "\n",
    "X_step_4 = step_4.drop(['mean_qt_interval', 'mean_st_interval', 'mean_t_wave', 'mean_pq_segment', 'mean_st_segment', 'mean_tp_segment', 'mean_pp_interval', 'person'], axis=1)\n",
    "# Preenche os dados faltosos com a média da respectiva coluna\n",
    "X_step_4 = X_step_4.apply(lambda x: x.fillna(x.mean()))\n",
    "# O objeto da predição é 'y' (os rótulos das classes)\n",
    "y_step_4 = step_4['person']\n",
    "\n",
    "X_train_step_4, X_test_step_4, y_train_step_4, y_test_step_4 = train_test_split(X_step_4, y_step_4,\n",
    "                                                                                test_size = 0.2, stratify=y_step_4)\n",
    "print(f'Há {y_train_step_4.nunique()} classes únicas no conjunto de TREINO')\n",
    "print(f'Há {y_test_step_4.nunique()} classes únicas no conjunto de TESTE')"
   ]
  },
  {
   "cell_type": "code",
   "execution_count": 7,
   "metadata": {
    "colab": {},
    "colab_type": "code",
    "id": "f0Z1Kou4ynRM"
   },
   "outputs": [
    {
     "name": "stdout",
     "output_type": "stream",
     "text": [
      "Elementos unicos no split 0: 1882\n",
      "Elementos unicos no split 1: 1882\n",
      "Elementos unicos no split 2: 1882\n",
      "Elementos unicos no split 3: 1882\n",
      "building tree 1 of 50\n"
     ]
    },
    {
     "name": "stderr",
     "output_type": "stream",
     "text": [
      "[Parallel(n_jobs=1)]: Using backend SequentialBackend with 1 concurrent workers.\n",
      "[Parallel(n_jobs=1)]: Done   1 out of   1 | elapsed:    6.4s remaining:    0.0s\n"
     ]
    },
    {
     "name": "stdout",
     "output_type": "stream",
     "text": [
      "building tree 2 of 50\n"
     ]
    },
    {
     "name": "stderr",
     "output_type": "stream",
     "text": [
      "[Parallel(n_jobs=1)]: Done   2 out of   2 | elapsed:   12.4s remaining:    0.0s\n"
     ]
    },
    {
     "name": "stdout",
     "output_type": "stream",
     "text": [
      "building tree 3 of 50\n",
      "building tree 4 of 50\n",
      "building tree 5 of 50\n",
      "building tree 6 of 50\n",
      "building tree 7 of 50\n",
      "building tree 8 of 50\n",
      "building tree 9 of 50\n",
      "building tree 10 of 50\n",
      "building tree 11 of 50\n",
      "building tree 12 of 50\n",
      "building tree 13 of 50\n",
      "building tree 14 of 50\n",
      "building tree 15 of 50\n",
      "building tree 16 of 50\n",
      "building tree 17 of 50\n",
      "building tree 18 of 50\n",
      "building tree 19 of 50\n",
      "building tree 20 of 50\n",
      "building tree 21 of 50\n",
      "building tree 22 of 50\n",
      "building tree 23 of 50\n",
      "building tree 24 of 50\n",
      "building tree 25 of 50\n",
      "building tree 26 of 50\n",
      "building tree 27 of 50\n",
      "building tree 28 of 50\n",
      "building tree 29 of 50\n",
      "building tree 30 of 50\n",
      "building tree 31 of 50\n",
      "building tree 32 of 50\n",
      "building tree 33 of 50\n",
      "building tree 34 of 50\n",
      "building tree 35 of 50\n",
      "building tree 36 of 50\n",
      "building tree 37 of 50\n",
      "building tree 38 of 50\n",
      "building tree 39 of 50\n",
      "building tree 40 of 50\n",
      "building tree 41 of 50\n",
      "building tree 42 of 50\n",
      "building tree 43 of 50\n",
      "building tree 44 of 50\n",
      "building tree 45 of 50\n",
      "building tree 46 of 50\n",
      "building tree 47 of 50\n",
      "building tree 48 of 50\n",
      "building tree 49 of 50\n",
      "building tree 50 of 50\n"
     ]
    },
    {
     "name": "stderr",
     "output_type": "stream",
     "text": [
      "[Parallel(n_jobs=1)]: Done  50 out of  50 | elapsed:  5.5min finished\n",
      "[Parallel(n_jobs=1)]: Using backend SequentialBackend with 1 concurrent workers.\n"
     ]
    },
    {
     "name": "stdout",
     "output_type": "stream",
     "text": [
      "building tree 1 of 25\n"
     ]
    },
    {
     "name": "stderr",
     "output_type": "stream",
     "text": [
      "[Parallel(n_jobs=1)]: Done   1 out of   1 | elapsed:    6.1s remaining:    0.0s\n"
     ]
    },
    {
     "name": "stdout",
     "output_type": "stream",
     "text": [
      "building tree 2 of 25\n"
     ]
    },
    {
     "name": "stderr",
     "output_type": "stream",
     "text": [
      "[Parallel(n_jobs=1)]: Done   2 out of   2 | elapsed:   12.1s remaining:    0.0s\n"
     ]
    },
    {
     "name": "stdout",
     "output_type": "stream",
     "text": [
      "building tree 3 of 25\n",
      "building tree 4 of 25\n",
      "building tree 5 of 25\n",
      "building tree 6 of 25\n",
      "building tree 7 of 25\n",
      "building tree 8 of 25\n",
      "building tree 9 of 25\n",
      "building tree 10 of 25\n",
      "building tree 11 of 25\n",
      "building tree 12 of 25\n",
      "building tree 13 of 25\n",
      "building tree 14 of 25\n",
      "building tree 15 of 25\n",
      "building tree 16 of 25\n",
      "building tree 17 of 25\n",
      "building tree 18 of 25\n",
      "building tree 19 of 25\n",
      "building tree 20 of 25\n",
      "building tree 21 of 25\n",
      "building tree 22 of 25\n",
      "building tree 23 of 25\n",
      "building tree 24 of 25\n",
      "building tree 25 of 25\n"
     ]
    },
    {
     "name": "stderr",
     "output_type": "stream",
     "text": [
      "[Parallel(n_jobs=1)]: Done  25 out of  25 | elapsed:  2.7min finished\n",
      "[Parallel(n_jobs=1)]: Using backend SequentialBackend with 1 concurrent workers.\n"
     ]
    },
    {
     "name": "stdout",
     "output_type": "stream",
     "text": [
      "building tree 1 of 25\n"
     ]
    },
    {
     "name": "stderr",
     "output_type": "stream",
     "text": [
      "[Parallel(n_jobs=1)]: Done   1 out of   1 | elapsed:    5.5s remaining:    0.0s\n"
     ]
    },
    {
     "name": "stdout",
     "output_type": "stream",
     "text": [
      "building tree 2 of 25\n"
     ]
    },
    {
     "name": "stderr",
     "output_type": "stream",
     "text": [
      "[Parallel(n_jobs=1)]: Done   2 out of   2 | elapsed:   12.2s remaining:    0.0s\n"
     ]
    },
    {
     "name": "stdout",
     "output_type": "stream",
     "text": [
      "building tree 3 of 25\n",
      "building tree 4 of 25\n",
      "building tree 5 of 25\n",
      "building tree 6 of 25\n",
      "building tree 7 of 25\n",
      "building tree 8 of 25\n",
      "building tree 9 of 25\n",
      "building tree 10 of 25\n",
      "building tree 11 of 25\n",
      "building tree 12 of 25\n",
      "building tree 13 of 25\n",
      "building tree 14 of 25\n",
      "building tree 15 of 25\n",
      "building tree 16 of 25\n",
      "building tree 17 of 25\n",
      "building tree 18 of 25\n",
      "building tree 19 of 25\n",
      "building tree 20 of 25\n",
      "building tree 21 of 25\n",
      "building tree 22 of 25\n",
      "building tree 23 of 25\n",
      "building tree 24 of 25\n",
      "building tree 25 of 25\n"
     ]
    },
    {
     "name": "stderr",
     "output_type": "stream",
     "text": [
      "[Parallel(n_jobs=1)]: Done  25 out of  25 | elapsed:  2.7min finished\n",
      "[Parallel(n_jobs=1)]: Using backend SequentialBackend with 1 concurrent workers.\n"
     ]
    },
    {
     "name": "stdout",
     "output_type": "stream",
     "text": [
      "building tree 1 of 25\n"
     ]
    },
    {
     "name": "stderr",
     "output_type": "stream",
     "text": [
      "[Parallel(n_jobs=1)]: Done   1 out of   1 | elapsed:    7.3s remaining:    0.0s\n"
     ]
    },
    {
     "name": "stdout",
     "output_type": "stream",
     "text": [
      "building tree 2 of 25\n"
     ]
    },
    {
     "name": "stderr",
     "output_type": "stream",
     "text": [
      "[Parallel(n_jobs=1)]: Done   2 out of   2 | elapsed:   14.2s remaining:    0.0s\n"
     ]
    },
    {
     "name": "stdout",
     "output_type": "stream",
     "text": [
      "building tree 3 of 25\n",
      "building tree 4 of 25\n",
      "building tree 5 of 25\n",
      "building tree 6 of 25\n",
      "building tree 7 of 25\n",
      "building tree 8 of 25\n",
      "building tree 9 of 25\n",
      "building tree 10 of 25\n",
      "building tree 11 of 25\n",
      "building tree 12 of 25\n",
      "building tree 13 of 25\n",
      "building tree 14 of 25\n",
      "building tree 15 of 25\n",
      "building tree 16 of 25\n",
      "building tree 17 of 25\n",
      "building tree 18 of 25\n",
      "building tree 19 of 25\n",
      "building tree 20 of 25\n",
      "building tree 21 of 25\n",
      "building tree 22 of 25\n",
      "building tree 23 of 25\n",
      "building tree 24 of 25\n",
      "building tree 25 of 25\n"
     ]
    },
    {
     "name": "stderr",
     "output_type": "stream",
     "text": [
      "[Parallel(n_jobs=1)]: Done  25 out of  25 | elapsed:  2.7min finished\n"
     ]
    }
   ],
   "source": [
    "batch_size = 4\n",
    "list_of_training_x_step_4 = np.array_split(X_train_step_4, batch_size)\n",
    "list_of_training_y_step_4 = np.array_split(y_train_step_4, batch_size)\n",
    "n_estimators = 50\n",
    "\n",
    "# Verifica sem algum split ficou com uma amostra a menos\n",
    "for count, y in enumerate(list_of_training_y_step_4):\n",
    "    print(f'Elementos unicos no split {count}:', y.nunique())\n",
    "\n",
    "rf_step_4 = RandomForestClassifier(warm_start=True, n_estimators=n_estimators, max_depth=100, min_samples_leaf=3, min_samples_split=10, verbose=3)\n",
    "\n",
    "for i in range(batch_size):\n",
    "    rf_step_4.fit(list_of_training_x_step_4[i], list_of_training_y_step_4[i])\n",
    "    n_estimators += 25\n",
    "    rf_step_4.set_params(n_estimators=n_estimators)"
   ]
  },
  {
   "cell_type": "code",
   "execution_count": 8,
   "metadata": {
    "colab": {},
    "colab_type": "code",
    "id": "o-GMp6LYzRWl"
   },
   "outputs": [
    {
     "name": "stderr",
     "output_type": "stream",
     "text": [
      "[Parallel(n_jobs=1)]: Using backend SequentialBackend with 1 concurrent workers.\n",
      "[Parallel(n_jobs=1)]: Done   1 out of   1 | elapsed:    1.4s remaining:    0.0s\n",
      "[Parallel(n_jobs=1)]: Done   2 out of   2 | elapsed:    2.3s remaining:    0.0s\n",
      "[Parallel(n_jobs=1)]: Done 125 out of 125 | elapsed:  1.7min finished\n"
     ]
    }
   ],
   "source": [
    "predictions_step_4 = rf_step_4.predict(X_test_step_4)"
   ]
  },
  {
   "cell_type": "code",
   "execution_count": 9,
   "metadata": {
    "colab": {},
    "colab_type": "code",
    "id": "ZjeGJS4-zTYL"
   },
   "outputs": [
    {
     "name": "stderr",
     "output_type": "stream",
     "text": [
      "/home/renato/anaconda3/lib/python3.7/site-packages/sklearn/metrics/classification.py:1143: UndefinedMetricWarning: Precision and F-score are ill-defined and being set to 0.0 in labels with no predicted samples.\n",
      "  'precision', 'predicted', average, warn_for)\n",
      "/home/renato/anaconda3/lib/python3.7/site-packages/sklearn/metrics/classification.py:1143: UndefinedMetricWarning: Precision and F-score are ill-defined and being set to 0.0 in labels with no predicted samples.\n",
      "  'precision', 'predicted', average, warn_for)\n",
      "/home/renato/anaconda3/lib/python3.7/site-packages/sklearn/metrics/classification.py:1143: UndefinedMetricWarning: Precision and F-score are ill-defined and being set to 0.0 in labels with no predicted samples.\n",
      "  'precision', 'predicted', average, warn_for)\n"
     ]
    }
   ],
   "source": [
    "cr_step_4 = classification_report(y_test_step_4, predictions_step_4, output_dict=True)\n",
    "cr_df_step_4 = pd.DataFrame(cr_step_4).transpose()\n",
    "cr_df_step_4.to_csv('result_4.csv')"
   ]
  },
  {
   "cell_type": "markdown",
   "metadata": {
    "colab_type": "text",
    "id": "qxZFNJw802cA"
   },
   "source": [
    "## Passo 5: Adicionando ainda mais features"
   ]
  },
  {
   "cell_type": "code",
   "execution_count": null,
   "metadata": {
    "colab": {},
    "colab_type": "code",
    "id": "1XI26ebn077e"
   },
   "outputs": [],
   "source": [
    "step_5.head()"
   ]
  },
  {
   "cell_type": "code",
   "execution_count": 3,
   "metadata": {},
   "outputs": [
    {
     "data": {
      "text/plain": [
       "<matplotlib.axes._subplots.AxesSubplot at 0x7fed05099f10>"
      ]
     },
     "execution_count": 3,
     "metadata": {},
     "output_type": "execute_result"
    },
    {
     "data": {
      "image/png": "[encoded data removed]",
      "text/plain": [
       "<Figure size 1440x720 with 1 Axes>"
      ]
     },
     "metadata": {
      "needs_background": "light"
     },
     "output_type": "display_data"
    }
   ],
   "source": [
    "plt.figure(figsize=(20,10))\n",
    "plt.title(\"Cumulative distribution of number of examples\")\n",
    "step_5['person'].value_counts(ascending=True).hist(cumulative=True, density=1)"
   ]
  },
  {
   "cell_type": "code",
   "execution_count": 4,
   "metadata": {
    "colab": {},
    "colab_type": "code",
    "id": "EQ1nx_pT0-A-"
   },
   "outputs": [],
   "source": [
    "## Remove pessoas que tem menos que 60 segmentos\n",
    "min_n_of_segments = 60\n",
    "mask = step_5['person'].value_counts() < min_n_of_segments\n",
    "people_to_remove = list(mask[mask].index)\n",
    "\n",
    "for person in people_to_remove:\n",
    "    step_5 = step_5[step_5.person != person]"
   ]
  },
  {
   "cell_type": "code",
   "execution_count": 5,
   "metadata": {
    "colab": {},
    "colab_type": "code",
    "id": "ZRVbP5r01Lsz"
   },
   "outputs": [
    {
     "name": "stdout",
     "output_type": "stream",
     "text": [
      "Há 1882 classes únicas no conjunto de TREINO\n",
      "Há 1882 classes únicas no conjunto de TESTE\n"
     ]
    }
   ],
   "source": [
    "#le_step_5 = LabelEncoder()\n",
    "#step_5['person'] = pd.Series(le_step_5.fit_transform(step_5['person']))\n",
    "\n",
    "X_step_5 = step_5.drop('person', axis=1)\n",
    "# Preenche os dados faltosos com a média da respectiva coluna\n",
    "X_step_5 = X_step_5.apply(lambda x: x.fillna(x.mean()))\n",
    "# O objeto da predição é 'y' (os rótulos das classes)\n",
    "y_step_5 = step_5['person']\n",
    "\n",
    "X_train_step_5, X_test_step_5, y_train_step_5, y_test_step_5 = train_test_split(X_step_5, y_step_5,\n",
    "                                                                                test_size = 0.2, stratify=y_step_5)\n",
    "print(f'Há {y_train_step_5.nunique()} classes únicas no conjunto de TREINO')\n",
    "print(f'Há {y_test_step_5.nunique()} classes únicas no conjunto de TESTE')"
   ]
  },
  {
   "cell_type": "code",
   "execution_count": 6,
   "metadata": {
    "colab": {},
    "colab_type": "code",
    "id": "3dzqPuMx1MDE"
   },
   "outputs": [
    {
     "name": "stdout",
     "output_type": "stream",
     "text": [
      "Elementos unicos no split 0: 1882\n",
      "Elementos unicos no split 1: 1882\n",
      "Elementos unicos no split 2: 1882\n",
      "Elementos unicos no split 3: 1882\n",
      "building tree 1 of 50\n"
     ]
    },
    {
     "name": "stderr",
     "output_type": "stream",
     "text": [
      "[Parallel(n_jobs=1)]: Using backend SequentialBackend with 1 concurrent workers.\n",
      "[Parallel(n_jobs=1)]: Done   1 out of   1 | elapsed:    7.6s remaining:    0.0s\n"
     ]
    },
    {
     "name": "stdout",
     "output_type": "stream",
     "text": [
      "building tree 2 of 50\n"
     ]
    },
    {
     "name": "stderr",
     "output_type": "stream",
     "text": [
      "[Parallel(n_jobs=1)]: Done   2 out of   2 | elapsed:   12.9s remaining:    0.0s\n"
     ]
    },
    {
     "name": "stdout",
     "output_type": "stream",
     "text": [
      "building tree 3 of 50\n",
      "building tree 4 of 50\n",
      "building tree 5 of 50\n",
      "building tree 6 of 50\n",
      "building tree 7 of 50\n",
      "building tree 8 of 50\n",
      "building tree 9 of 50\n",
      "building tree 10 of 50\n",
      "building tree 11 of 50\n",
      "building tree 12 of 50\n",
      "building tree 13 of 50\n",
      "building tree 14 of 50\n",
      "building tree 15 of 50\n",
      "building tree 16 of 50\n",
      "building tree 17 of 50\n",
      "building tree 18 of 50\n",
      "building tree 19 of 50\n",
      "building tree 20 of 50\n",
      "building tree 21 of 50\n",
      "building tree 22 of 50\n",
      "building tree 23 of 50\n",
      "building tree 24 of 50\n",
      "building tree 25 of 50\n",
      "building tree 26 of 50\n",
      "building tree 27 of 50\n",
      "building tree 28 of 50\n",
      "building tree 29 of 50\n",
      "building tree 30 of 50\n",
      "building tree 31 of 50\n",
      "building tree 32 of 50\n",
      "building tree 33 of 50\n",
      "building tree 34 of 50\n",
      "building tree 35 of 50\n",
      "building tree 36 of 50\n",
      "building tree 37 of 50\n",
      "building tree 38 of 50\n",
      "building tree 39 of 50\n",
      "building tree 40 of 50\n",
      "building tree 41 of 50\n",
      "building tree 42 of 50\n",
      "building tree 43 of 50\n",
      "building tree 44 of 50\n",
      "building tree 45 of 50\n",
      "building tree 46 of 50\n",
      "building tree 47 of 50\n",
      "building tree 48 of 50\n",
      "building tree 49 of 50\n",
      "building tree 50 of 50\n"
     ]
    },
    {
     "name": "stderr",
     "output_type": "stream",
     "text": [
      "[Parallel(n_jobs=1)]: Done  50 out of  50 | elapsed:  5.3min finished\n",
      "[Parallel(n_jobs=1)]: Using backend SequentialBackend with 1 concurrent workers.\n"
     ]
    },
    {
     "name": "stdout",
     "output_type": "stream",
     "text": [
      "building tree 1 of 25\n"
     ]
    },
    {
     "name": "stderr",
     "output_type": "stream",
     "text": [
      "[Parallel(n_jobs=1)]: Done   1 out of   1 | elapsed:    6.2s remaining:    0.0s\n"
     ]
    },
    {
     "name": "stdout",
     "output_type": "stream",
     "text": [
      "building tree 2 of 25\n"
     ]
    },
    {
     "name": "stderr",
     "output_type": "stream",
     "text": [
      "[Parallel(n_jobs=1)]: Done   2 out of   2 | elapsed:   12.4s remaining:    0.0s\n"
     ]
    },
    {
     "name": "stdout",
     "output_type": "stream",
     "text": [
      "building tree 3 of 25\n",
      "building tree 4 of 25\n",
      "building tree 5 of 25\n",
      "building tree 6 of 25\n",
      "building tree 7 of 25\n",
      "building tree 8 of 25\n",
      "building tree 9 of 25\n",
      "building tree 10 of 25\n",
      "building tree 11 of 25\n",
      "building tree 12 of 25\n",
      "building tree 13 of 25\n",
      "building tree 14 of 25\n",
      "building tree 15 of 25\n",
      "building tree 16 of 25\n",
      "building tree 17 of 25\n",
      "building tree 18 of 25\n",
      "building tree 19 of 25\n",
      "building tree 20 of 25\n",
      "building tree 21 of 25\n",
      "building tree 22 of 25\n",
      "building tree 23 of 25\n",
      "building tree 24 of 25\n",
      "building tree 25 of 25\n"
     ]
    },
    {
     "name": "stderr",
     "output_type": "stream",
     "text": [
      "[Parallel(n_jobs=1)]: Done  25 out of  25 | elapsed:  2.6min finished\n",
      "[Parallel(n_jobs=1)]: Using backend SequentialBackend with 1 concurrent workers.\n"
     ]
    },
    {
     "name": "stdout",
     "output_type": "stream",
     "text": [
      "building tree 1 of 25\n"
     ]
    },
    {
     "name": "stderr",
     "output_type": "stream",
     "text": [
      "[Parallel(n_jobs=1)]: Done   1 out of   1 | elapsed:    6.8s remaining:    0.0s\n"
     ]
    },
    {
     "name": "stdout",
     "output_type": "stream",
     "text": [
      "building tree 2 of 25\n"
     ]
    },
    {
     "name": "stderr",
     "output_type": "stream",
     "text": [
      "[Parallel(n_jobs=1)]: Done   2 out of   2 | elapsed:   13.1s remaining:    0.0s\n"
     ]
    },
    {
     "name": "stdout",
     "output_type": "stream",
     "text": [
      "building tree 3 of 25\n",
      "building tree 4 of 25\n",
      "building tree 5 of 25\n",
      "building tree 6 of 25\n",
      "building tree 7 of 25\n",
      "building tree 8 of 25\n",
      "building tree 9 of 25\n",
      "building tree 10 of 25\n",
      "building tree 11 of 25\n",
      "building tree 12 of 25\n",
      "building tree 13 of 25\n",
      "building tree 14 of 25\n",
      "building tree 15 of 25\n",
      "building tree 16 of 25\n",
      "building tree 17 of 25\n",
      "building tree 18 of 25\n",
      "building tree 19 of 25\n",
      "building tree 20 of 25\n",
      "building tree 21 of 25\n",
      "building tree 22 of 25\n",
      "building tree 23 of 25\n",
      "building tree 24 of 25\n",
      "building tree 25 of 25\n"
     ]
    },
    {
     "name": "stderr",
     "output_type": "stream",
     "text": [
      "[Parallel(n_jobs=1)]: Done  25 out of  25 | elapsed:  2.7min finished\n",
      "[Parallel(n_jobs=1)]: Using backend SequentialBackend with 1 concurrent workers.\n"
     ]
    },
    {
     "name": "stdout",
     "output_type": "stream",
     "text": [
      "building tree 1 of 25\n"
     ]
    },
    {
     "name": "stderr",
     "output_type": "stream",
     "text": [
      "[Parallel(n_jobs=1)]: Done   1 out of   1 | elapsed:    6.8s remaining:    0.0s\n"
     ]
    },
    {
     "name": "stdout",
     "output_type": "stream",
     "text": [
      "building tree 2 of 25\n"
     ]
    },
    {
     "name": "stderr",
     "output_type": "stream",
     "text": [
      "[Parallel(n_jobs=1)]: Done   2 out of   2 | elapsed:   14.0s remaining:    0.0s\n"
     ]
    },
    {
     "name": "stdout",
     "output_type": "stream",
     "text": [
      "building tree 3 of 25\n",
      "building tree 4 of 25\n",
      "building tree 5 of 25\n",
      "building tree 6 of 25\n",
      "building tree 7 of 25\n",
      "building tree 8 of 25\n",
      "building tree 9 of 25\n",
      "building tree 10 of 25\n",
      "building tree 11 of 25\n",
      "building tree 12 of 25\n",
      "building tree 13 of 25\n",
      "building tree 14 of 25\n",
      "building tree 15 of 25\n",
      "building tree 16 of 25\n",
      "building tree 17 of 25\n",
      "building tree 18 of 25\n",
      "building tree 19 of 25\n",
      "building tree 20 of 25\n",
      "building tree 21 of 25\n",
      "building tree 22 of 25\n",
      "building tree 23 of 25\n",
      "building tree 24 of 25\n",
      "building tree 25 of 25\n"
     ]
    },
    {
     "name": "stderr",
     "output_type": "stream",
     "text": [
      "[Parallel(n_jobs=1)]: Done  25 out of  25 | elapsed:  2.6min finished\n"
     ]
    }
   ],
   "source": [
    "batch_size = 4\n",
    "list_of_training_x_step_5 = np.array_split(X_train_step_5, batch_size)\n",
    "list_of_training_y_step_5 = np.array_split(y_train_step_5, batch_size)\n",
    "n_estimators = 50\n",
    "\n",
    "# Verifica sem algum split ficou com uma amostra a menos\n",
    "for count, y in enumerate(list_of_training_y_step_5):\n",
    "    print(f'Elementos unicos no split {count}:', y.nunique())\n",
    "\n",
    "rf_step_5 = RandomForestClassifier(warm_start=True, n_estimators=n_estimators, max_depth=100, min_samples_leaf=3, min_samples_split=10, verbose=3)\n",
    "\n",
    "for i in range(batch_size):\n",
    "    rf_step_5.fit(list_of_training_x_step_5[i], list_of_training_y_step_5[i])\n",
    "    n_estimators += 25\n",
    "    rf_step_5.set_params(n_estimators=n_estimators)"
   ]
  },
  {
   "cell_type": "code",
   "execution_count": 7,
   "metadata": {
    "colab": {},
    "colab_type": "code",
    "id": "0q-z8ioF1MUS"
   },
   "outputs": [
    {
     "name": "stderr",
     "output_type": "stream",
     "text": [
      "[Parallel(n_jobs=1)]: Using backend SequentialBackend with 1 concurrent workers.\n",
      "[Parallel(n_jobs=1)]: Done   1 out of   1 | elapsed:    1.3s remaining:    0.0s\n",
      "[Parallel(n_jobs=1)]: Done   2 out of   2 | elapsed:    2.1s remaining:    0.0s\n",
      "[Parallel(n_jobs=1)]: Done 125 out of 125 | elapsed:  1.5min finished\n"
     ]
    }
   ],
   "source": [
    "predictions_step_5 = rf_step_5.predict(X_test_step_5)"
   ]
  },
  {
   "cell_type": "code",
   "execution_count": 8,
   "metadata": {
    "colab": {},
    "colab_type": "code",
    "id": "DCLcgyta1bWO"
   },
   "outputs": [],
   "source": [
    "cr_step_5 = classification_report(y_test_step_5, predictions_step_5, output_dict=True)\n",
    "cr_df_step_5 = pd.DataFrame(cr_step_5).transpose()\n",
    "cr_df_step_5.to_csv('result_5.csv')"
   ]
  },
  {
   "cell_type": "markdown",
   "metadata": {},
   "source": [
    "## Verificando a importância das features"
   ]
  },
  {
   "cell_type": "code",
   "execution_count": 9,
   "metadata": {},
   "outputs": [
    {
     "name": "stdout",
     "output_type": "stream",
     "text": [
      "Feature: mean_q               Importance: 0.07\n",
      "Feature: mean_s               Importance: 0.06\n",
      "Feature: mean_rr_interval     Importance: 0.06\n",
      "Feature: mean_rq_amplitude    Importance: 0.06\n",
      "Feature: mean_t_wave          Importance: 0.06\n",
      "Feature: mean_tp_segment      Importance: 0.06\n",
      "Feature: mean_r               Importance: 0.05\n",
      "Feature: mean_p               Importance: 0.05\n",
      "Feature: mean_t               Importance: 0.05\n",
      "Feature: mean_qrs_offset      Importance: 0.05\n",
      "Feature: mean_qrs_onset       Importance: 0.05\n",
      "Feature: mean_t_offset        Importance: 0.05\n",
      "Feature: mean_p_offset        Importance: 0.04\n",
      "Feature: mean_st_segment      Importance: 0.04\n",
      "Feature: mean_pp_interval     Importance: 0.04\n",
      "Feature: mean_qs_distance     Importance: 0.03\n",
      "Feature: mean_qt_distance     Importance: 0.03\n",
      "Feature: mean_p_onset         Importance: 0.03\n",
      "Feature: mean_t_onset         Importance: 0.03\n",
      "Feature: mean_qt_interval     Importance: 0.03\n",
      "Feature: mean_st_interval     Importance: 0.03\n",
      "Feature: stdev_q              Importance: 0.02\n",
      "Feature: stdev_r              Importance: 0.02\n",
      "Feature: mean_pq_segment      Importance: 0.02\n",
      "Feature: stdev_s              Importance: 0.01\n",
      "Feature: mean_qrs_interval    Importance: 0.0\n"
     ]
    }
   ],
   "source": [
    "importances = [(feature, round(importance, 2)) for feature, importance in zip(X_step_5.columns, rf_step_5.feature_importances_)]\n",
    "sorted_importances = sorted(importances, key=lambda x:x[1], reverse=True) \n",
    "\n",
    "for pair in sorted_importances:\n",
    "    print('Feature: {:20} Importance: {}'.format(*pair))"
   ]
  },
  {
   "cell_type": "code",
   "execution_count": 10,
   "metadata": {},
   "outputs": [
    {
     "data": {
      "image/png": "[encoded data removed]",
      "text/plain": [
       "<Figure size 720x864 with 1 Axes>"
      ]
     },
     "metadata": {
      "needs_background": "light"
     },
     "output_type": "display_data"
    }
   ],
   "source": [
    "x_values = range(len(rf_step_5.feature_importances_))\n",
    "plt.figure(figsize=(10,12))\n",
    "plt.ylabel('Importance')\n",
    "plt.xlabel('Feature')\n",
    "plt.title('Feature Importance')\n",
    "plt.xticks(x_values, X_step_5.columns, rotation='vertical')\n",
    "plt.bar(x_values, rf_step_5.feature_importances_, orientation = 'vertical')\n",
    "plt.savefig(\"feature_importance.jpg\")"
   ]
  },
  {
   "cell_type": "markdown",
   "metadata": {
    "colab_type": "text",
    "id": "7ADmpqTQAm9M"
   },
   "source": [
    "## Visualizing the results"
   ]
  },
  {
   "cell_type": "code",
   "execution_count": 11,
   "metadata": {
    "colab": {},
    "colab_type": "code",
    "id": "8pYeYw6_GS9d"
   },
   "outputs": [],
   "source": [
    " def set_shared_ylabel(a, ylabel, labelpad = 0.01):\n",
    "    \"\"\"Set a y label shared by multiple axes\n",
    "    Parameters\n",
    "    ----------\n",
    "    a: list of axes\n",
    "    ylabel: string\n",
    "    labelpad: float\n",
    "        Sets the padding between ticklabels and axis label\"\"\"\n",
    "\n",
    "    f = a[0].get_figure()\n",
    "    f.canvas.draw() #sets f.canvas.renderer needed below\n",
    "\n",
    "    # get the center position for all plots\n",
    "    top = a[0].get_position().y1\n",
    "    bottom = a[-1].get_position().y0\n",
    "\n",
    "    # get the coordinates of the left side of the tick labels \n",
    "    x0 = 1\n",
    "    for at in a:\n",
    "        at.set_ylabel('') # just to make sure we don't and up with multiple labels\n",
    "        bboxes, _ = at.yaxis.get_ticklabel_extents(f.canvas.renderer)\n",
    "        bboxes = bboxes.inverse_transformed(f.transFigure)\n",
    "        xt = bboxes.x0\n",
    "        if xt < x0:\n",
    "            x0 = xt\n",
    "    tick_label_left = x0\n",
    "\n",
    "    # set position of label\n",
    "    a[-1].set_ylabel(ylabel, fontsize=22)\n",
    "    a[-1].yaxis.set_label_coords(tick_label_left - labelpad,(bottom + top)/2, transform=f.transFigure)"
   ]
  },
  {
   "cell_type": "code",
   "execution_count": 12,
   "metadata": {
    "colab": {},
    "colab_type": "code",
    "id": "7Ieu112kA9Wv"
   },
   "outputs": [],
   "source": [
    "def filter_results(results):\n",
    "    \"\"\" Remove the last three rows of a result csv\n",
    "        where there are the accuracy, macro avg and\n",
    "        weighted avg values\n",
    "    \"\"\"\n",
    "    results.rename(columns={\"Unnamed: 0\": \"person\"}, inplace=True)\n",
    "\n",
    "    accuracy = results[results['person'] == 'accuracy']\n",
    "    macro_avg = results[results['person'] == 'macro avg']\n",
    "    weighted_avg = results[results['person'] == 'weighted avg']\n",
    "\n",
    "    results.drop(results.tail(3).index,inplace=True)\n",
    "\n",
    "    return results, accuracy, macro_avg, weighted_avg"
   ]
  },
  {
   "cell_type": "code",
   "execution_count": 13,
   "metadata": {
    "colab": {},
    "colab_type": "code",
    "id": "l8_qSoaGH1cf"
   },
   "outputs": [],
   "source": [
    "# plot settings\n",
    "\n",
    "sns.set_context(\"paper\", font_scale=2, rc={\"lines.linewidth\": 2})\n",
    "#plt.rcParams['font.family'] = 'Arial'\n",
    "plt.rcParams['mathtext.rm'] = 'Arial'\n",
    "plt.rcParams.update({'font.size': 22})"
   ]
  },
  {
   "cell_type": "code",
   "execution_count": 14,
   "metadata": {
    "colab": {},
    "colab_type": "code",
    "id": "_2Y46T76Apsl"
   },
   "outputs": [],
   "source": [
    "results_step_1, accuracy_step_1, macro_avg_step_1, weighted_avg_step_1 = filter_results(pd.read_csv('result_1.csv'))\n",
    "results_step_2, accuracy_step_2, macro_avg_step_2, weighted_avg_step_2 = filter_results(pd.read_csv('result_2.csv'))\n",
    "results_step_3, accuracy_step_3, macro_avg_step_3, weighted_avg_step_3 = filter_results(pd.read_csv('result_3.csv'))\n",
    "results_step_4, accuracy_step_4, macro_avg_step_4, weighted_avg_step_4 = filter_results(pd.read_csv('result_4.csv'))\n",
    "results_step_5, accuracy_step_5, macro_avg_step_5, weighted_avg_step_5 = filter_results(pd.read_csv('result_5.csv'))"
   ]
  },
  {
   "cell_type": "code",
   "execution_count": 15,
   "metadata": {
    "colab": {
     "base_uri": "https://localhost:8080/",
     "height": 48
    },
    "colab_type": "code",
    "id": "2KvCXipOWlEs",
    "outputId": "c579fd82-68cd-433c-9bdc-2256cf7bf746"
   },
   "outputs": [
    {
     "data": {
      "text/html": [
       "<div>\n",
       "<style scoped>\n",
       "    .dataframe tbody tr th:only-of-type {\n",
       "        vertical-align: middle;\n",
       "    }\n",
       "\n",
       "    .dataframe tbody tr th {\n",
       "        vertical-align: top;\n",
       "    }\n",
       "\n",
       "    .dataframe thead th {\n",
       "        text-align: right;\n",
       "    }\n",
       "</style>\n",
       "<table border=\"1\" class=\"dataframe\">\n",
       "  <thead>\n",
       "    <tr style=\"text-align: right;\">\n",
       "      <th></th>\n",
       "      <th>person</th>\n",
       "      <th>f1-score</th>\n",
       "      <th>precision</th>\n",
       "      <th>recall</th>\n",
       "      <th>support</th>\n",
       "    </tr>\n",
       "  </thead>\n",
       "  <tbody>\n",
       "  </tbody>\n",
       "</table>\n",
       "</div>"
      ],
      "text/plain": [
       "Empty DataFrame\n",
       "Columns: [person, f1-score, precision, recall, support]\n",
       "Index: []"
      ]
     },
     "execution_count": 15,
     "metadata": {},
     "output_type": "execute_result"
    }
   ],
   "source": [
    "# example\n",
    "accuracy_step_4.tail()"
   ]
  },
  {
   "cell_type": "code",
   "execution_count": 29,
   "metadata": {
    "colab": {
     "base_uri": "https://localhost:8080/",
     "height": 891
    },
    "colab_type": "code",
    "id": "BdGgrYsrZAPS",
    "outputId": "4df8e669-1508-4fcf-f169-1651a6d1c8dd"
   },
   "outputs": [
    {
     "data": {
      "image/png": "[encoded data removed]",
      "text/plain": [
       "<Figure size 1440x864 with 5 Axes>"
      ]
     },
     "metadata": {
      "needs_background": "light"
     },
     "output_type": "display_data"
    }
   ],
   "source": [
    "sharex='col'\n",
    "f, axes = plt.subplots(5, 1, figsize=(20, 12), sharex=True, sharey=True)\n",
    "plt.xlim(0, 1)\n",
    "metric= 'precision'\n",
    "bins = 20\n",
    "kde = False\n",
    "aplha = 1\n",
    "y_lower_lim = 0\n",
    "y_upper_lim = 650\n",
    "\n",
    "#f.suptitle(f'{metric} histogram', fontsize=17)\n",
    "set_shared_ylabel(axes, 'Classes count')\n",
    "plt.xticks(labels=None)\n",
    "# shared x label \n",
    "f.text(0.5, 0.08, 'Precision', ha='center', va='center', fontsize=22)\n",
    "\n",
    "# first distplot blue\n",
    "sns.distplot(results_step_1[metric], bins=bins, kde=kde,\n",
    "             ax=axes[0], color=\"#cccccc\",\n",
    "             label=\"Data without any improvement (Scenario 1)\",\n",
    "             hist_kws={\"alpha\":aplha})\n",
    "axes[0].legend(loc=\"upper left\", prop={'size': 22})\n",
    "axes[0].set_ylim(y_lower_lim,y_upper_lim)\n",
    "axes[0].set_xlabel(None)\n",
    "\n",
    "# second distpot olive\n",
    "sns.distplot(results_step_2[metric], bins=bins, kde=kde,\n",
    "             ax=axes[1], color=\"#999999\",\n",
    "             label=\"Data with an increased number of examples (Scenario 2)\",\n",
    "             hist_kws={\"alpha\":aplha})\n",
    "axes[1].legend(loc=\"upper left\", prop={'size': 22})\n",
    "axes[1].set_ylim(y_lower_lim,y_upper_lim)\n",
    "axes[1].set_xlabel(None)\n",
    "\n",
    "# third distplot red\n",
    "sns.distplot(results_step_3[metric], bins=bins, kde=kde,\n",
    "             ax=axes[2], color=\"#666666\",\n",
    "             label=\"Data with an increased number of examples and outlier removal (Scenario 3)\",\n",
    "             hist_kws={\"alpha\":aplha})\n",
    "axes[2].legend(loc=\"upper left\", prop={'size': 22})\n",
    "axes[2].set_ylim(y_lower_lim,y_upper_lim)\n",
    "axes[2].set_xlabel(None)\n",
    "\n",
    "# fourth distplot purple\n",
    "sns.distplot(results_step_4[metric], bins=bins, kde=kde,\n",
    "             ax=axes[3], color=\"#333333\",\n",
    "             label=\"First additon of features\",\n",
    "             hist_kws={\"alpha\":aplha})\n",
    "axes[3].legend(loc=\"upper left\", prop={'size': 22})\n",
    "axes[3].set_ylim(y_lower_lim,y_upper_lim)\n",
    "axes[3].set_xlabel(None)\n",
    "\n",
    "# fifth distplot purple\n",
    "sns.distplot(results_step_5[metric], bins=bins, kde=kde,\n",
    "             ax=axes[4], color=\"#000000\",\n",
    "             label=\"Second addition of features\",\n",
    "             hist_kws={\"alpha\":aplha})\n",
    "axes[4].legend(loc=\"upper left\", prop={'size': 22})\n",
    "axes[4].set_ylim(y_lower_lim,y_upper_lim)\n",
    "axes[4].set_xlabel(None)\n",
    "\n",
    "plt.savefig(\"precision_histogram.png\")\n",
    "#files.download(\"precision_histogram.eps\")"
   ]
  },
  {
   "cell_type": "code",
   "execution_count": 17,
   "metadata": {
    "colab": {
     "base_uri": "https://localhost:8080/",
     "height": 584
    },
    "colab_type": "code",
    "id": "wlXdEUIAD217",
    "outputId": "14f709a0-2bd0-4420-ff6b-6e3a4dee54d4"
   },
   "outputs": [
    {
     "name": "stderr",
     "output_type": "stream",
     "text": [
      "/home/renato/anaconda3/lib/python3.7/site-packages/scipy/stats/stats.py:1713: FutureWarning: Using a non-tuple sequence for multidimensional indexing is deprecated; use `arr[tuple(seq)]` instead of `arr[seq]`. In the future this will be interpreted as an array index, `arr[np.array(seq)]`, which will result either in an error or a different result.\n",
      "  return np.add.reduce(sorted[indexer] * weights, axis=axis) / sumval\n"
     ]
    },
    {
     "data": {
      "image/png": "[encoded data removed]",
      "text/plain": [
       "<Figure size 1440x648 with 1 Axes>"
      ]
     },
     "metadata": {
      "needs_background": "light"
     },
     "output_type": "display_data"
    }
   ],
   "source": [
    "#Number of classesTODO deix as cores do fundo opacas\n",
    "plt.figure(figsize=(20,9))\n",
    "bins = 20\n",
    "metric = 'precision'\n",
    "kde=True\n",
    "sns.distplot(results_step_5[metric], bins=bins, kde=kde, color=\"orange\", label=\"Second addition of features\")\n",
    "sns.distplot(results_step_4[metric], bins=bins, kde=kde, color=\"purple\", label=\"First addition of features\")\n",
    "sns.distplot(results_step_3[metric], bins=bins, kde=kde, color=\"red\", label=\"Data with an increased number of examples and outlier removal\")\n",
    "sns.distplot(results_step_2[metric], bins=bins, kde=kde, color=\"olive\", label=\"Data with an increased number of examples\")\n",
    "sns.distplot(results_step_1[metric], bins=bins, kde=kde, color=\"blue\", label=\"Data without any improvement\")\n",
    "plt.ylabel('Classes count (hundreds)', fontsize=22)\n",
    "plt.xlabel('Precision', fontsize=22)\n",
    "#plt.title(f'Overlapped {metric} histogram', fontsize=22)\n",
    "plt.xlim(0, 1)\n",
    "#plt.ylim(0, 500)\n",
    "plt.legend(loc=\"upper left\", prop={'size': 22})\n",
    "\n",
    "plt.savefig(\"precision_final.png\")\n",
    "#files.download(\"precision_final.png\") "
   ]
  },
  {
   "cell_type": "code",
   "execution_count": 18,
   "metadata": {
    "colab": {
     "base_uri": "https://localhost:8080/",
     "height": 175
    },
    "colab_type": "code",
    "id": "pChbqn6ch2PC",
    "outputId": "cfdcfd3c-f208-4322-b0f1-186717ffe399"
   },
   "outputs": [
    {
     "data": {
      "text/html": [
       "<div>\n",
       "<style scoped>\n",
       "    .dataframe tbody tr th:only-of-type {\n",
       "        vertical-align: middle;\n",
       "    }\n",
       "\n",
       "    .dataframe tbody tr th {\n",
       "        vertical-align: top;\n",
       "    }\n",
       "\n",
       "    .dataframe thead th {\n",
       "        text-align: right;\n",
       "    }\n",
       "</style>\n",
       "<table border=\"1\" class=\"dataframe\">\n",
       "  <thead>\n",
       "    <tr style=\"text-align: right;\">\n",
       "      <th></th>\n",
       "      <th>f1-score</th>\n",
       "      <th>precision</th>\n",
       "      <th>recall</th>\n",
       "    </tr>\n",
       "  </thead>\n",
       "  <tbody>\n",
       "    <tr>\n",
       "      <th>0</th>\n",
       "      <td>0.616611</td>\n",
       "      <td>0.647721</td>\n",
       "      <td>0.661120</td>\n",
       "    </tr>\n",
       "    <tr>\n",
       "      <th>1</th>\n",
       "      <td>0.768269</td>\n",
       "      <td>0.778729</td>\n",
       "      <td>0.777329</td>\n",
       "    </tr>\n",
       "    <tr>\n",
       "      <th>2</th>\n",
       "      <td>0.812263</td>\n",
       "      <td>0.825120</td>\n",
       "      <td>0.815583</td>\n",
       "    </tr>\n",
       "    <tr>\n",
       "      <th>3</th>\n",
       "      <td>0.860039</td>\n",
       "      <td>0.873666</td>\n",
       "      <td>0.862276</td>\n",
       "    </tr>\n",
       "    <tr>\n",
       "      <th>4</th>\n",
       "      <td>0.888802</td>\n",
       "      <td>0.900181</td>\n",
       "      <td>0.889923</td>\n",
       "    </tr>\n",
       "  </tbody>\n",
       "</table>\n",
       "</div>"
      ],
      "text/plain": [
       "   f1-score  precision    recall\n",
       "0  0.616611   0.647721  0.661120\n",
       "1  0.768269   0.778729  0.777329\n",
       "2  0.812263   0.825120  0.815583\n",
       "3  0.860039   0.873666  0.862276\n",
       "4  0.888802   0.900181  0.889923"
      ]
     },
     "execution_count": 18,
     "metadata": {},
     "output_type": "execute_result"
    }
   ],
   "source": [
    " #unifica os resultados dos 4 testes em um dataframe unico\n",
    "list_of_results = [results_step_1.mean(), results_step_2.mean(), results_step_3.mean(), results_step_4.mean(), results_step_5.mean()]\n",
    "df = pd.DataFrame(list_of_results)\n",
    "df.drop(['support'],  axis=1, inplace=True)\n",
    "df"
   ]
  },
  {
   "cell_type": "markdown",
   "metadata": {
    "colab_type": "text",
    "id": "PwI_2PvXncW2"
   },
   "source": [
    "## Barplot empilhado"
   ]
  },
  {
   "cell_type": "code",
   "execution_count": null,
   "metadata": {
    "colab": {
     "base_uri": "https://localhost:8080/",
     "height": 543
    },
    "colab_type": "code",
    "id": "dtkykwk3lq7f",
    "outputId": "bf01b1c4-ec00-4e58-c5c9-df1c5678ed8e"
   },
   "outputs": [],
   "source": [
    "# y-axis in bold\n",
    "plt.figure(figsize=(18,8))\n",
    "# \n",
    "bars1 = np.add(df.loc[0], df.loc[1]).tolist()\n",
    "bars2 = np.add(np.add(df.loc[0], df.loc[1]), df.loc[2]).tolist()\n",
    "# The position of the bars on the x-axis\n",
    "r = [0,1,2]\n",
    " \n",
    "# Names of group and bar width\n",
    "names = ['precision','recall','f1-score']\n",
    "barWidth = 0.60\n",
    "plt.ylim(0.0,1)\n",
    "alpha = 1\n",
    "\n",
    "# Create brown bars\n",
    "# 368069 old color\n",
    "plt.bar(r, df.loc[3], color='#c7f0db', alpha=alpha, width=barWidth, label=\"Data using our proposed model\")\n",
    "\n",
    "# Create green bars (middle), on top of the firs ones\n",
    "# 56CCA9 old color\n",
    "plt.bar(r, df.loc[2], color='#8bbabb', alpha=alpha, width=barWidth, label=\"Data with an increased number of examples and outlier removal\")\n",
    "\n",
    "# Create green bars (top)\n",
    "#6BFFD3\n",
    "plt.bar(r, df.loc[1], color='#6c7b95', alpha=alpha, width=barWidth, label=\"Data with an increased number of examples\")\n",
    "\n",
    "# step 4\n",
    "#B8FFEA\n",
    "plt.bar(r, df.loc[0], color='#464159', alpha=alpha, width=barWidth, label=\"Data without any improvement\")\n",
    " \n",
    "# Custom X axis\n",
    "plt.xticks(r, names, fontweight='bold')\n",
    "#plt.title('Metrics increase over dataset improvements', fontsize=16)\n",
    "plt.ylabel(\"Evaluation\", fontsize=22)\n",
    "plt.xlabel(\"Metric\", fontsize=22)\n",
    "plt.legend(loc=\"lower right\", prop={'size':22})\n",
    "\n",
    "plt.savefig(\"increased_signal.png\")\n",
    "#files.download(\"increased_signal.png\")"
   ]
  },
  {
   "cell_type": "code",
   "execution_count": 22,
   "metadata": {
    "colab": {
     "base_uri": "https://localhost:8080/",
     "height": 547
    },
    "colab_type": "code",
    "id": "2CIS-30zX4CI",
    "outputId": "61218192-cbf7-4fbd-87a2-945d831134bc"
   },
   "outputs": [
    {
     "data": {
      "image/png": "[encoded data removed]",
      "text/plain": [
       "<Figure size 1152x576 with 1 Axes>"
      ]
     },
     "metadata": {
      "needs_background": "light"
     },
     "output_type": "display_data"
    }
   ],
   "source": [
    "plt.figure(figsize=(16,8))\n",
    "\n",
    "# set width of bar\n",
    "barWidth = 0.25\n",
    "\n",
    "# Set position of bar on X axis\n",
    "r1 = np.arange(len(df['precision']))\n",
    "r2 = [x + barWidth for x in r1]\n",
    "r3 = [x + barWidth for x in r2]\n",
    " \n",
    "# Make the plot\n",
    "plt.bar(r1, df['precision'], color='#cccccc', width=barWidth,\n",
    "        edgecolor='white', label='Precision')\n",
    "\n",
    "plt.bar(r2, df['recall'], color='#666666', width=barWidth, \n",
    "        edgecolor='white', label='Recall')\n",
    "\n",
    "plt.bar(r3, df['f1-score'], color='#000000', \n",
    "        width=barWidth, edgecolor='white', label='f1-score')\n",
    " \n",
    "# Add xticks on the middle of the group bars\n",
    "plt.ylabel('Evaluation', fontweight='bold')\n",
    "plt.xticks([r + barWidth for r in range(len(df['precision']))],\n",
    "           ['Scenario 1','Scenario 2','Scenario 3','Scenario 4', 'Scenario 5'],\n",
    "           fontweight='bold')\n",
    "plt.ylim(0,1)\n",
    " \n",
    "# Create legend & Show graphic\n",
    "plt.legend(loc='upper left')\n",
    "\n",
    "plt.savefig(\"increased_signal_version_2.png\")\n",
    "#files.download(\"increased_signal_version_2.eps\")"
   ]
  }
 ],
 "metadata": {
  "accelerator": "GPU",
  "colab": {
   "collapsed_sections": [],
   "machine_shape": "hm",
   "name": "Meu plot - backend.ipynb",
   "provenance": []
  },
  "kernelspec": {
   "display_name": "Python 3",
   "language": "python",
   "name": "python3"
  },
  "language_info": {
   "codemirror_mode": {
    "name": "ipython",
    "version": 3
   },
   "file_extension": ".py",
   "mimetype": "text/x-python",
   "name": "python",
   "nbconvert_exporter": "python",
   "pygments_lexer": "ipython3",
   "version": "3.7.4"
  }
 },
 "nbformat": 4,
 "nbformat_minor": 2
}
