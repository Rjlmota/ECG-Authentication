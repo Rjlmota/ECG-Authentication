{
 "cells": [
  {
   "cell_type": "code",
   "execution_count": 1,
   "metadata": {
    "colab": {},
    "colab_type": "code",
    "id": "MaoKznvegU8o"
   },
   "outputs": [],
   "source": [
    "import pandas as pd\n",
    "import numpy as np\n",
    "from scipy import stats\n",
    "import matplotlib.pyplot as plt\n",
    "import seaborn as sns\n",
    "sns.set(style=\"whitegrid\")\n",
    "from sklearn.preprocessing import StandardScaler\n",
    "from sklearn.model_selection import train_test_split\n",
    "from sklearn.ensemble import RandomForestClassifier\n",
    "from sklearn.metrics import classification_report, confusion_matrix, precision_score, accuracy_score, precision_recall_fscore_support"
   ]
  },
  {
   "cell_type": "code",
   "execution_count": 4,
   "metadata": {
    "colab": {
     "base_uri": "https://localhost:8080/",
     "height": 122
    },
    "colab_type": "code",
    "id": "4NKy3F3ShyrJ",
    "outputId": "ff603821-45bf-49e8-c58d-fbf4cbe67a29"
   },
   "outputs": [],
   "source": [
    "#from google.colab import drive, files\n",
    "#drive.mount('/content/drive')"
   ]
  },
  {
   "cell_type": "code",
   "execution_count": 5,
   "metadata": {
    "colab": {
     "base_uri": "https://localhost:8080/",
     "height": 34
    },
    "colab_type": "code",
    "id": "v-dwa6SQkuwv",
    "outputId": "f9c37d9b-fe29-435a-c502-8f9931e24c07"
   },
   "outputs": [],
   "source": [
    "#cd \"/content/drive/My Drive/UFPA/Healthsense/second round of tests\"\n",
    "#cd \"/content/drive/My Drive/UFPA/Healthsense/fourth round of tests (additional features for new paper proposal)\""
   ]
  },
  {
   "cell_type": "markdown",
   "metadata": {
    "colab_type": "text",
    "id": "Ho5ZooPYgU80"
   },
   "source": [
    "### Introduzindo os dados"
   ]
  },
  {
   "cell_type": "code",
   "execution_count": 2,
   "metadata": {
    "colab": {},
    "colab_type": "code",
    "id": "DDP33eJUgU81"
   },
   "outputs": [],
   "source": [
    "step_1 = pd.read_csv('challenge_raw_everyone.csv')\n",
    "step_2 = pd.read_csv('challenge_processed_everyone.csv')\n",
    "step_3 = pd.read_csv('challenge_cleaned_everyone.csv')\n",
    "step_4 = pd.read_csv('challenge_cleaned_everyone.csv')\n",
    "step_5 = pd.read_csv('challenge_cleaned_everyone.csv')"
   ]
  },
  {
   "cell_type": "code",
   "execution_count": 3,
   "metadata": {
    "colab": {
     "base_uri": "https://localhost:8080/",
     "height": 309
    },
    "colab_type": "code",
    "id": "B6LOsZgVgU85",
    "outputId": "3191f4f3-235a-43e5-b6a3-7fa0df64c29b"
   },
   "outputs": [
    {
     "data": {
      "text/html": [
       "<div>\n",
       "<style scoped>\n",
       "    .dataframe tbody tr th:only-of-type {\n",
       "        vertical-align: middle;\n",
       "    }\n",
       "\n",
       "    .dataframe tbody tr th {\n",
       "        vertical-align: top;\n",
       "    }\n",
       "\n",
       "    .dataframe thead th {\n",
       "        text-align: right;\n",
       "    }\n",
       "</style>\n",
       "<table border=\"1\" class=\"dataframe\">\n",
       "  <thead>\n",
       "    <tr style=\"text-align: right;\">\n",
       "      <th></th>\n",
       "      <th>mean_q</th>\n",
       "      <th>mean_r</th>\n",
       "      <th>mean_s</th>\n",
       "      <th>mean_p</th>\n",
       "      <th>mean_t</th>\n",
       "      <th>stdev_q</th>\n",
       "      <th>stdev_r</th>\n",
       "      <th>stdev_s</th>\n",
       "      <th>mean_rr_interval</th>\n",
       "      <th>mean_rq_amplitude</th>\n",
       "      <th>...</th>\n",
       "      <th>mean_t_onset</th>\n",
       "      <th>mean_t_offset</th>\n",
       "      <th>mean_qt_interval</th>\n",
       "      <th>mean_st_interval</th>\n",
       "      <th>mean_t_wave</th>\n",
       "      <th>mean_pq_segment</th>\n",
       "      <th>mean_st_segment</th>\n",
       "      <th>mean_tp_segment</th>\n",
       "      <th>mean_pp_interval</th>\n",
       "      <th>person</th>\n",
       "    </tr>\n",
       "  </thead>\n",
       "  <tbody>\n",
       "    <tr>\n",
       "      <th>0</th>\n",
       "      <td>-0.713329</td>\n",
       "      <td>0.792270</td>\n",
       "      <td>-0.173784</td>\n",
       "      <td>0.792270</td>\n",
       "      <td>0.792270</td>\n",
       "      <td>0.006206</td>\n",
       "      <td>0.040516</td>\n",
       "      <td>0.012240</td>\n",
       "      <td>930.0</td>\n",
       "      <td>1.505599</td>\n",
       "      <td>...</td>\n",
       "      <td>-0.612744</td>\n",
       "      <td>0.332516</td>\n",
       "      <td>23.5</td>\n",
       "      <td>23.5</td>\n",
       "      <td>6.000000</td>\n",
       "      <td>23.5</td>\n",
       "      <td>29.5</td>\n",
       "      <td>180.0</td>\n",
       "      <td>930.0</td>\n",
       "      <td>tr14-0291</td>\n",
       "    </tr>\n",
       "    <tr>\n",
       "      <th>1</th>\n",
       "      <td>-0.665888</td>\n",
       "      <td>0.758830</td>\n",
       "      <td>-0.193415</td>\n",
       "      <td>0.758830</td>\n",
       "      <td>0.758830</td>\n",
       "      <td>0.010788</td>\n",
       "      <td>0.011119</td>\n",
       "      <td>0.002074</td>\n",
       "      <td>860.0</td>\n",
       "      <td>1.424718</td>\n",
       "      <td>...</td>\n",
       "      <td>-0.340489</td>\n",
       "      <td>0.303593</td>\n",
       "      <td>28.0</td>\n",
       "      <td>28.0</td>\n",
       "      <td>5.500000</td>\n",
       "      <td>28.0</td>\n",
       "      <td>33.5</td>\n",
       "      <td>166.0</td>\n",
       "      <td>860.0</td>\n",
       "      <td>tr14-0291</td>\n",
       "    </tr>\n",
       "    <tr>\n",
       "      <th>2</th>\n",
       "      <td>-0.724221</td>\n",
       "      <td>0.822585</td>\n",
       "      <td>-0.199239</td>\n",
       "      <td>0.849976</td>\n",
       "      <td>0.822585</td>\n",
       "      <td>0.021476</td>\n",
       "      <td>0.038941</td>\n",
       "      <td>0.001512</td>\n",
       "      <td>850.0</td>\n",
       "      <td>1.546806</td>\n",
       "      <td>...</td>\n",
       "      <td>-0.358754</td>\n",
       "      <td>0.378349</td>\n",
       "      <td>28.0</td>\n",
       "      <td>28.0</td>\n",
       "      <td>5.333333</td>\n",
       "      <td>58.0</td>\n",
       "      <td>33.5</td>\n",
       "      <td>164.5</td>\n",
       "      <td>1000.0</td>\n",
       "      <td>tr14-0291</td>\n",
       "    </tr>\n",
       "    <tr>\n",
       "      <th>3</th>\n",
       "      <td>-0.727936</td>\n",
       "      <td>0.840291</td>\n",
       "      <td>-0.191848</td>\n",
       "      <td>0.840291</td>\n",
       "      <td>0.840291</td>\n",
       "      <td>0.006431</td>\n",
       "      <td>0.037556</td>\n",
       "      <td>0.006425</td>\n",
       "      <td>925.0</td>\n",
       "      <td>1.568227</td>\n",
       "      <td>...</td>\n",
       "      <td>-0.490308</td>\n",
       "      <td>0.376719</td>\n",
       "      <td>27.5</td>\n",
       "      <td>27.5</td>\n",
       "      <td>5.500000</td>\n",
       "      <td>27.5</td>\n",
       "      <td>33.0</td>\n",
       "      <td>179.0</td>\n",
       "      <td>925.0</td>\n",
       "      <td>tr14-0291</td>\n",
       "    </tr>\n",
       "    <tr>\n",
       "      <th>4</th>\n",
       "      <td>-0.742179</td>\n",
       "      <td>0.808661</td>\n",
       "      <td>-0.189985</td>\n",
       "      <td>0.808661</td>\n",
       "      <td>0.808661</td>\n",
       "      <td>0.007297</td>\n",
       "      <td>0.002672</td>\n",
       "      <td>0.005386</td>\n",
       "      <td>870.0</td>\n",
       "      <td>1.550841</td>\n",
       "      <td>...</td>\n",
       "      <td>-0.517346</td>\n",
       "      <td>0.263979</td>\n",
       "      <td>27.5</td>\n",
       "      <td>27.5</td>\n",
       "      <td>6.000000</td>\n",
       "      <td>27.5</td>\n",
       "      <td>33.5</td>\n",
       "      <td>168.0</td>\n",
       "      <td>870.0</td>\n",
       "      <td>tr14-0291</td>\n",
       "    </tr>\n",
       "  </tbody>\n",
       "</table>\n",
       "<p>5 rows × 27 columns</p>\n",
       "</div>"
      ],
      "text/plain": [
       "     mean_q    mean_r    mean_s    mean_p    mean_t   stdev_q   stdev_r  \\\n",
       "0 -0.713329  0.792270 -0.173784  0.792270  0.792270  0.006206  0.040516   \n",
       "1 -0.665888  0.758830 -0.193415  0.758830  0.758830  0.010788  0.011119   \n",
       "2 -0.724221  0.822585 -0.199239  0.849976  0.822585  0.021476  0.038941   \n",
       "3 -0.727936  0.840291 -0.191848  0.840291  0.840291  0.006431  0.037556   \n",
       "4 -0.742179  0.808661 -0.189985  0.808661  0.808661  0.007297  0.002672   \n",
       "\n",
       "    stdev_s  mean_rr_interval  mean_rq_amplitude    ...      mean_t_onset  \\\n",
       "0  0.012240             930.0           1.505599    ...         -0.612744   \n",
       "1  0.002074             860.0           1.424718    ...         -0.340489   \n",
       "2  0.001512             850.0           1.546806    ...         -0.358754   \n",
       "3  0.006425             925.0           1.568227    ...         -0.490308   \n",
       "4  0.005386             870.0           1.550841    ...         -0.517346   \n",
       "\n",
       "   mean_t_offset  mean_qt_interval  mean_st_interval  mean_t_wave  \\\n",
       "0       0.332516              23.5              23.5     6.000000   \n",
       "1       0.303593              28.0              28.0     5.500000   \n",
       "2       0.378349              28.0              28.0     5.333333   \n",
       "3       0.376719              27.5              27.5     5.500000   \n",
       "4       0.263979              27.5              27.5     6.000000   \n",
       "\n",
       "   mean_pq_segment  mean_st_segment  mean_tp_segment  mean_pp_interval  \\\n",
       "0             23.5             29.5            180.0             930.0   \n",
       "1             28.0             33.5            166.0             860.0   \n",
       "2             58.0             33.5            164.5            1000.0   \n",
       "3             27.5             33.0            179.0             925.0   \n",
       "4             27.5             33.5            168.0             870.0   \n",
       "\n",
       "      person  \n",
       "0  tr14-0291  \n",
       "1  tr14-0291  \n",
       "2  tr14-0291  \n",
       "3  tr14-0291  \n",
       "4  tr14-0291  \n",
       "\n",
       "[5 rows x 27 columns]"
      ]
     },
     "execution_count": 3,
     "metadata": {},
     "output_type": "execute_result"
    }
   ],
   "source": [
    "step_1.head(5)"
   ]
  },
  {
   "cell_type": "markdown",
   "metadata": {
    "colab_type": "text",
    "id": "gtsuyT6IgU89"
   },
   "source": [
    "## Passo 1: Treino sem modificações aos dados originais"
   ]
  },
  {
   "cell_type": "code",
   "execution_count": 8,
   "metadata": {
    "colab": {
     "base_uri": "https://localhost:8080/",
     "height": 627
    },
    "colab_type": "code",
    "id": "YcbewVamgU9C",
    "outputId": "7a8e7482-7e6b-47cb-de5e-9fbff49c0aad"
   },
   "outputs": [
    {
     "data": {
      "text/plain": [
       "<matplotlib.axes._subplots.AxesSubplot at 0x7f8b199d81d0>"
      ]
     },
     "execution_count": 8,
     "metadata": {},
     "output_type": "execute_result"
    },
    {
     "data": {
      "image/png": "[encoded data removed]",
      "text/plain": [
       "<Figure size 1440x720 with 1 Axes>"
      ]
     },
     "metadata": {},
     "output_type": "display_data"
    }
   ],
   "source": [
    "plt.figure(figsize=(20,10))\n",
    "plt.title(\"Cumulative distribution of number of examples\")\n",
    "step_1['person'].value_counts(ascending=True).hist(cumulative=True, density=1)"
   ]
  },
  {
   "cell_type": "code",
   "execution_count": 9,
   "metadata": {
    "colab": {},
    "colab_type": "code",
    "id": "IaSaauikmso9"
   },
   "outputs": [],
   "source": [
    "## Remove pessoas que tem menos que 28 segmentos\n",
    "min_n_of_segments = 29\n",
    "mask = step_1['person'].value_counts() < min_n_of_segments\n",
    "people_to_remove = list(mask[mask].index)\n",
    "\n",
    "for person in people_to_remove:\n",
    "    step_1 = step_1[step_1.person != person]"
   ]
  },
  {
   "cell_type": "code",
   "execution_count": 10,
   "metadata": {
    "colab": {},
    "colab_type": "code",
    "id": "IXMf70cAgU8-"
   },
   "outputs": [],
   "source": [
    "#le_step_1 = LabelEncoder()\n",
    "#step_1['person'] = pd.Series(le_step_1.fit_transform(step_1['person']))\n",
    "original_columns = ['mean_q', 'mean_r', 'mean_s', 'stdev_q', 'stdev_r','stdev_s',\n",
    "                   'mean_rr_interval', 'mean_rq_amplitude', 'mean_qrs_interval']\n",
    "\n",
    "X_step_1 = step_1[original_columns]\n",
    "# Preenche os dados faltosos com a média da respectiva coluna\n",
    "X_step_1 = X_step_1.apply(lambda x: x.fillna(x.mean()))\n",
    "# O objeto da predição é 'y' (os rótulos das classes)\n",
    "y_step_1 = step_1['person']\n",
    "X_train_step_1, X_test_step_1, y_train_step_1, y_test_step_1 = train_test_split(X_step_1, y_step_1,\n",
    "                                                                                test_size = 0.2)"
   ]
  },
  {
   "cell_type": "code",
   "execution_count": 11,
   "metadata": {
    "colab": {
     "base_uri": "https://localhost:8080/",
     "height": 170
    },
    "colab_type": "code",
    "id": "zEft1Z_EgU9G",
    "outputId": "e06770b9-fa09-406f-e4f1-69c40321ac52"
   },
   "outputs": [
    {
     "name": "stderr",
     "output_type": "stream",
     "text": [
      "[Parallel(n_jobs=1)]: Using backend SequentialBackend with 1 concurrent workers.\n"
     ]
    },
    {
     "name": "stdout",
     "output_type": "stream",
     "text": [
      "building tree 1 of 50\n"
     ]
    },
    {
     "name": "stderr",
     "output_type": "stream",
     "text": [
      "[Parallel(n_jobs=1)]: Done   1 out of   1 | elapsed:    1.8s remaining:    0.0s\n"
     ]
    },
    {
     "name": "stdout",
     "output_type": "stream",
     "text": [
      "building tree 2 of 50\n"
     ]
    },
    {
     "name": "stderr",
     "output_type": "stream",
     "text": [
      "[Parallel(n_jobs=1)]: Done   2 out of   2 | elapsed:    3.4s remaining:    0.0s\n"
     ]
    },
    {
     "name": "stdout",
     "output_type": "stream",
     "text": [
      "building tree 3 of 50\n",
      "building tree 4 of 50\n",
      "building tree 5 of 50\n",
      "building tree 6 of 50\n",
      "building tree 7 of 50\n",
      "building tree 8 of 50\n",
      "building tree 9 of 50\n",
      "building tree 10 of 50\n",
      "building tree 11 of 50\n",
      "building tree 12 of 50\n",
      "building tree 13 of 50\n",
      "building tree 14 of 50\n",
      "building tree 15 of 50\n",
      "building tree 16 of 50\n",
      "building tree 17 of 50\n",
      "building tree 18 of 50\n",
      "building tree 19 of 50\n",
      "building tree 20 of 50\n",
      "building tree 21 of 50\n",
      "building tree 22 of 50\n",
      "building tree 23 of 50\n",
      "building tree 24 of 50\n",
      "building tree 25 of 50\n",
      "building tree 26 of 50\n",
      "building tree 27 of 50\n",
      "building tree 28 of 50\n",
      "building tree 29 of 50\n",
      "building tree 30 of 50\n",
      "building tree 31 of 50\n",
      "building tree 32 of 50\n",
      "building tree 33 of 50\n",
      "building tree 34 of 50\n",
      "building tree 35 of 50\n",
      "building tree 36 of 50\n",
      "building tree 37 of 50\n",
      "building tree 38 of 50\n",
      "building tree 39 of 50\n",
      "building tree 40 of 50\n",
      "building tree 41 of 50\n",
      "building tree 42 of 50\n",
      "building tree 43 of 50\n",
      "building tree 44 of 50\n",
      "building tree 45 of 50\n",
      "building tree 46 of 50\n",
      "building tree 47 of 50\n",
      "building tree 48 of 50\n",
      "building tree 49 of 50\n",
      "building tree 50 of 50\n"
     ]
    },
    {
     "name": "stderr",
     "output_type": "stream",
     "text": [
      "[Parallel(n_jobs=1)]: Done  50 out of  50 | elapsed:  1.4min finished\n",
      "/home/renato/anaconda3/lib/python3.7/site-packages/sklearn/ensemble/forest.py:308: UserWarning: Warm-start fitting without increasing n_estimators does not fit new trees.\n",
      "  warn(\"Warm-start fitting without increasing n_estimators does not \"\n",
      "[Parallel(n_jobs=1)]: Using backend SequentialBackend with 1 concurrent workers.\n",
      "[Parallel(n_jobs=1)]: Done   1 out of   1 | elapsed:    0.2s remaining:    0.0s\n",
      "[Parallel(n_jobs=1)]: Done   2 out of   2 | elapsed:    0.4s remaining:    0.0s\n",
      "[Parallel(n_jobs=1)]: Done  50 out of  50 | elapsed:    7.9s finished\n"
     ]
    }
   ],
   "source": [
    "'''\n",
    "rf_step_1 = RandomForestClassifier(n_estimators=200, max_depth=100, min_samples_leaf=3, min_samples_split=10, verbose=3)\n",
    "rf_step_1.fit(X_train_step_1, y_train_step_1)\n",
    "predictions_step_1 = rf_step_1.predict(X_test_step_1)\n",
    "'''\n",
    "\n",
    "list_of_training_x = np.array_split(X_train_step_1, 2)\n",
    "list_of_training_y = np.array_split(y_train_step_1, 2)\n",
    "n_estimators = 50\n",
    "\n",
    "rf_step_1 = RandomForestClassifier(warm_start=True, n_estimators=n_estimators, max_depth=80, min_samples_leaf=3, min_samples_split=10, verbose=3)\n",
    "for i in range(2):\n",
    "    rf_step_1.fit(list_of_training_x[i], list_of_training_y[i])\n",
    "    rf_step_1.set_params(n_estimators=n_estimators)\n",
    "    n_estimators+=50\n",
    "\n",
    "predictions_step_1 = rf_step_1.predict(X_test_step_1)"
   ]
  },
  {
   "cell_type": "code",
   "execution_count": 12,
   "metadata": {
    "colab": {
     "base_uri": "https://localhost:8080/",
     "height": 106
    },
    "colab_type": "code",
    "id": "ed-GlASmgU9K",
    "outputId": "3ee0e017-d31a-4bb4-be5c-676fdfb56af2"
   },
   "outputs": [
    {
     "name": "stderr",
     "output_type": "stream",
     "text": [
      "/home/renato/anaconda3/lib/python3.7/site-packages/sklearn/metrics/classification.py:1143: UndefinedMetricWarning: Precision and F-score are ill-defined and being set to 0.0 in labels with no predicted samples.\n",
      "  'precision', 'predicted', average, warn_for)\n",
      "/home/renato/anaconda3/lib/python3.7/site-packages/sklearn/metrics/classification.py:1145: UndefinedMetricWarning: Recall and F-score are ill-defined and being set to 0.0 in labels with no true samples.\n",
      "  'recall', 'true', average, warn_for)\n",
      "/home/renato/anaconda3/lib/python3.7/site-packages/sklearn/metrics/classification.py:1143: UndefinedMetricWarning: Precision and F-score are ill-defined and being set to 0.0 in labels with no predicted samples.\n",
      "  'precision', 'predicted', average, warn_for)\n",
      "/home/renato/anaconda3/lib/python3.7/site-packages/sklearn/metrics/classification.py:1145: UndefinedMetricWarning: Recall and F-score are ill-defined and being set to 0.0 in labels with no true samples.\n",
      "  'recall', 'true', average, warn_for)\n",
      "/home/renato/anaconda3/lib/python3.7/site-packages/sklearn/metrics/classification.py:1143: UndefinedMetricWarning: Precision and F-score are ill-defined and being set to 0.0 in labels with no predicted samples.\n",
      "  'precision', 'predicted', average, warn_for)\n",
      "/home/renato/anaconda3/lib/python3.7/site-packages/sklearn/metrics/classification.py:1145: UndefinedMetricWarning: Recall and F-score are ill-defined and being set to 0.0 in labels with no true samples.\n",
      "  'recall', 'true', average, warn_for)\n"
     ]
    }
   ],
   "source": [
    "cr = classification_report(y_test_step_1, predictions_step_1, output_dict=True)\n",
    "df = pd.DataFrame(cr).transpose()\n",
    "df.to_csv('result_1.csv')"
   ]
  },
  {
   "cell_type": "markdown",
   "metadata": {
    "colab_type": "text",
    "id": "BiUDNVKDgU9S"
   },
   "source": [
    "## Passo 2: Treino com adição de segmentos gerados aleatoriamente"
   ]
  },
  {
   "cell_type": "code",
   "execution_count": 13,
   "metadata": {
    "colab": {
     "base_uri": "https://localhost:8080/",
     "height": 226
    },
    "colab_type": "code",
    "id": "AEz3Sd5VgU9O",
    "outputId": "fff40eaa-b08d-4682-cf06-11430d127282"
   },
   "outputs": [
    {
     "data": {
      "text/html": [
       "<div>\n",
       "<style scoped>\n",
       "    .dataframe tbody tr th:only-of-type {\n",
       "        vertical-align: middle;\n",
       "    }\n",
       "\n",
       "    .dataframe tbody tr th {\n",
       "        vertical-align: top;\n",
       "    }\n",
       "\n",
       "    .dataframe thead th {\n",
       "        text-align: right;\n",
       "    }\n",
       "</style>\n",
       "<table border=\"1\" class=\"dataframe\">\n",
       "  <thead>\n",
       "    <tr style=\"text-align: right;\">\n",
       "      <th></th>\n",
       "      <th>mean_q</th>\n",
       "      <th>mean_r</th>\n",
       "      <th>mean_s</th>\n",
       "      <th>mean_p</th>\n",
       "      <th>mean_t</th>\n",
       "      <th>stdev_q</th>\n",
       "      <th>stdev_r</th>\n",
       "      <th>stdev_s</th>\n",
       "      <th>mean_rr_interval</th>\n",
       "      <th>mean_rq_amplitude</th>\n",
       "      <th>...</th>\n",
       "      <th>mean_t_onset</th>\n",
       "      <th>mean_t_offset</th>\n",
       "      <th>mean_qt_interval</th>\n",
       "      <th>mean_st_interval</th>\n",
       "      <th>mean_t_wave</th>\n",
       "      <th>mean_pq_segment</th>\n",
       "      <th>mean_st_segment</th>\n",
       "      <th>mean_tp_segment</th>\n",
       "      <th>mean_pp_interval</th>\n",
       "      <th>person</th>\n",
       "    </tr>\n",
       "  </thead>\n",
       "  <tbody>\n",
       "    <tr>\n",
       "      <th>0</th>\n",
       "      <td>-0.713329</td>\n",
       "      <td>0.792270</td>\n",
       "      <td>-0.173784</td>\n",
       "      <td>0.792270</td>\n",
       "      <td>0.792270</td>\n",
       "      <td>0.006206</td>\n",
       "      <td>0.040516</td>\n",
       "      <td>0.012240</td>\n",
       "      <td>930.0</td>\n",
       "      <td>1.505599</td>\n",
       "      <td>...</td>\n",
       "      <td>-0.612744</td>\n",
       "      <td>0.332516</td>\n",
       "      <td>23.5</td>\n",
       "      <td>23.5</td>\n",
       "      <td>6.000000</td>\n",
       "      <td>23.5</td>\n",
       "      <td>29.5</td>\n",
       "      <td>180.0</td>\n",
       "      <td>930.0</td>\n",
       "      <td>tr14-0291</td>\n",
       "    </tr>\n",
       "    <tr>\n",
       "      <th>1</th>\n",
       "      <td>-0.665888</td>\n",
       "      <td>0.758830</td>\n",
       "      <td>-0.193415</td>\n",
       "      <td>0.758830</td>\n",
       "      <td>0.758830</td>\n",
       "      <td>0.010788</td>\n",
       "      <td>0.011119</td>\n",
       "      <td>0.002074</td>\n",
       "      <td>860.0</td>\n",
       "      <td>1.424718</td>\n",
       "      <td>...</td>\n",
       "      <td>-0.340489</td>\n",
       "      <td>0.303593</td>\n",
       "      <td>28.0</td>\n",
       "      <td>28.0</td>\n",
       "      <td>5.500000</td>\n",
       "      <td>28.0</td>\n",
       "      <td>33.5</td>\n",
       "      <td>166.0</td>\n",
       "      <td>860.0</td>\n",
       "      <td>tr14-0291</td>\n",
       "    </tr>\n",
       "    <tr>\n",
       "      <th>2</th>\n",
       "      <td>-0.724221</td>\n",
       "      <td>0.822585</td>\n",
       "      <td>-0.199239</td>\n",
       "      <td>0.849976</td>\n",
       "      <td>0.822585</td>\n",
       "      <td>0.021476</td>\n",
       "      <td>0.038941</td>\n",
       "      <td>0.001512</td>\n",
       "      <td>850.0</td>\n",
       "      <td>1.546806</td>\n",
       "      <td>...</td>\n",
       "      <td>-0.358754</td>\n",
       "      <td>0.378349</td>\n",
       "      <td>28.0</td>\n",
       "      <td>28.0</td>\n",
       "      <td>5.333333</td>\n",
       "      <td>58.0</td>\n",
       "      <td>33.5</td>\n",
       "      <td>164.5</td>\n",
       "      <td>1000.0</td>\n",
       "      <td>tr14-0291</td>\n",
       "    </tr>\n",
       "    <tr>\n",
       "      <th>3</th>\n",
       "      <td>-0.727936</td>\n",
       "      <td>0.840291</td>\n",
       "      <td>-0.191848</td>\n",
       "      <td>0.840291</td>\n",
       "      <td>0.840291</td>\n",
       "      <td>0.006431</td>\n",
       "      <td>0.037556</td>\n",
       "      <td>0.006425</td>\n",
       "      <td>925.0</td>\n",
       "      <td>1.568227</td>\n",
       "      <td>...</td>\n",
       "      <td>-0.490308</td>\n",
       "      <td>0.376719</td>\n",
       "      <td>27.5</td>\n",
       "      <td>27.5</td>\n",
       "      <td>5.500000</td>\n",
       "      <td>27.5</td>\n",
       "      <td>33.0</td>\n",
       "      <td>179.0</td>\n",
       "      <td>925.0</td>\n",
       "      <td>tr14-0291</td>\n",
       "    </tr>\n",
       "    <tr>\n",
       "      <th>4</th>\n",
       "      <td>-0.742179</td>\n",
       "      <td>0.808661</td>\n",
       "      <td>-0.189985</td>\n",
       "      <td>0.808661</td>\n",
       "      <td>0.808661</td>\n",
       "      <td>0.007297</td>\n",
       "      <td>0.002672</td>\n",
       "      <td>0.005386</td>\n",
       "      <td>870.0</td>\n",
       "      <td>1.550841</td>\n",
       "      <td>...</td>\n",
       "      <td>-0.517346</td>\n",
       "      <td>0.263979</td>\n",
       "      <td>27.5</td>\n",
       "      <td>27.5</td>\n",
       "      <td>6.000000</td>\n",
       "      <td>27.5</td>\n",
       "      <td>33.5</td>\n",
       "      <td>168.0</td>\n",
       "      <td>870.0</td>\n",
       "      <td>tr14-0291</td>\n",
       "    </tr>\n",
       "  </tbody>\n",
       "</table>\n",
       "<p>5 rows × 27 columns</p>\n",
       "</div>"
      ],
      "text/plain": [
       "     mean_q    mean_r    mean_s    mean_p    mean_t   stdev_q   stdev_r  \\\n",
       "0 -0.713329  0.792270 -0.173784  0.792270  0.792270  0.006206  0.040516   \n",
       "1 -0.665888  0.758830 -0.193415  0.758830  0.758830  0.010788  0.011119   \n",
       "2 -0.724221  0.822585 -0.199239  0.849976  0.822585  0.021476  0.038941   \n",
       "3 -0.727936  0.840291 -0.191848  0.840291  0.840291  0.006431  0.037556   \n",
       "4 -0.742179  0.808661 -0.189985  0.808661  0.808661  0.007297  0.002672   \n",
       "\n",
       "    stdev_s  mean_rr_interval  mean_rq_amplitude    ...      mean_t_onset  \\\n",
       "0  0.012240             930.0           1.505599    ...         -0.612744   \n",
       "1  0.002074             860.0           1.424718    ...         -0.340489   \n",
       "2  0.001512             850.0           1.546806    ...         -0.358754   \n",
       "3  0.006425             925.0           1.568227    ...         -0.490308   \n",
       "4  0.005386             870.0           1.550841    ...         -0.517346   \n",
       "\n",
       "   mean_t_offset  mean_qt_interval  mean_st_interval  mean_t_wave  \\\n",
       "0       0.332516              23.5              23.5     6.000000   \n",
       "1       0.303593              28.0              28.0     5.500000   \n",
       "2       0.378349              28.0              28.0     5.333333   \n",
       "3       0.376719              27.5              27.5     5.500000   \n",
       "4       0.263979              27.5              27.5     6.000000   \n",
       "\n",
       "   mean_pq_segment  mean_st_segment  mean_tp_segment  mean_pp_interval  \\\n",
       "0             23.5             29.5            180.0             930.0   \n",
       "1             28.0             33.5            166.0             860.0   \n",
       "2             58.0             33.5            164.5            1000.0   \n",
       "3             27.5             33.0            179.0             925.0   \n",
       "4             27.5             33.5            168.0             870.0   \n",
       "\n",
       "      person  \n",
       "0  tr14-0291  \n",
       "1  tr14-0291  \n",
       "2  tr14-0291  \n",
       "3  tr14-0291  \n",
       "4  tr14-0291  \n",
       "\n",
       "[5 rows x 27 columns]"
      ]
     },
     "execution_count": 13,
     "metadata": {},
     "output_type": "execute_result"
    }
   ],
   "source": [
    "step_2.head()"
   ]
  },
  {
   "cell_type": "code",
   "execution_count": 14,
   "metadata": {
    "colab": {},
    "colab_type": "code",
    "id": "atiYKJ-mgU9T"
   },
   "outputs": [],
   "source": [
    "#le_step_2 = LabelEncoder()\n",
    "#step_2['person'] = pd.Series(le_step_2.fit_transform(step_2['person']))\n",
    "original_columns = ['mean_q', 'mean_r', 'mean_s', 'stdev_q', 'stdev_r','stdev_s',\n",
    "                   'mean_rr_interval', 'mean_rq_amplitude', 'mean_qrs_interval']\n",
    "\n",
    "X_step_2 = step_2[original_columns]\n",
    "# Preenche os dados faltosos com a média da respectiva coluna\n",
    "X_step_2 = X_step_2.apply(lambda x: x.fillna(x.mean()))\n",
    "# O objeto da predição é 'y' (os rótulos das classes)\n",
    "y_step_2 = step_2['person']\n",
    "\n",
    "X_train_step_2, X_test_step_2, y_train_step_2, y_test_step_2 = train_test_split(X_step_2, y_step_2,\n",
    "                                                                                test_size = 0.2)"
   ]
  },
  {
   "cell_type": "code",
   "execution_count": 15,
   "metadata": {
    "colab": {},
    "colab_type": "code",
    "id": "tF90RhgAgU9W"
   },
   "outputs": [
    {
     "data": {
      "text/plain": [
       "<matplotlib.axes._subplots.AxesSubplot at 0x7f8b17a48290>"
      ]
     },
     "execution_count": 15,
     "metadata": {},
     "output_type": "execute_result"
    },
    {
     "data": {
      "image/png": "[encoded data removed]",
      "text/plain": [
       "<Figure size 1440x720 with 1 Axes>"
      ]
     },
     "metadata": {},
     "output_type": "display_data"
    }
   ],
   "source": [
    "plt.figure(figsize=(20,10))\n",
    "plt.title(\"Cumulative distribution of number of examples\")\n",
    "step_2['person'].value_counts(ascending=True).hist(cumulative=True, density=1)"
   ]
  },
  {
   "cell_type": "code",
   "execution_count": 16,
   "metadata": {
    "colab": {
     "base_uri": "https://localhost:8080/",
     "height": 1000
    },
    "colab_type": "code",
    "id": "Z8BfbMQhgU9a",
    "outputId": "abacd501-4e39-4fd9-b698-cf16a6ea9e7b"
   },
   "outputs": [
    {
     "name": "stderr",
     "output_type": "stream",
     "text": [
      "[Parallel(n_jobs=1)]: Using backend SequentialBackend with 1 concurrent workers.\n"
     ]
    },
    {
     "name": "stdout",
     "output_type": "stream",
     "text": [
      "building tree 1 of 50\n"
     ]
    },
    {
     "name": "stderr",
     "output_type": "stream",
     "text": [
      "[Parallel(n_jobs=1)]: Done   1 out of   1 | elapsed:    8.4s remaining:    0.0s\n"
     ]
    },
    {
     "name": "stdout",
     "output_type": "stream",
     "text": [
      "building tree 2 of 50\n"
     ]
    },
    {
     "name": "stderr",
     "output_type": "stream",
     "text": [
      "[Parallel(n_jobs=1)]: Done   2 out of   2 | elapsed:   17.5s remaining:    0.0s\n"
     ]
    },
    {
     "name": "stdout",
     "output_type": "stream",
     "text": [
      "building tree 3 of 50\n",
      "building tree 4 of 50\n",
      "building tree 5 of 50\n",
      "building tree 6 of 50\n",
      "building tree 7 of 50\n",
      "building tree 8 of 50\n",
      "building tree 9 of 50\n",
      "building tree 10 of 50\n",
      "building tree 11 of 50\n",
      "building tree 12 of 50\n",
      "building tree 13 of 50\n",
      "building tree 14 of 50\n",
      "building tree 15 of 50\n",
      "building tree 16 of 50\n",
      "building tree 17 of 50\n",
      "building tree 18 of 50\n",
      "building tree 19 of 50\n",
      "building tree 20 of 50\n",
      "building tree 21 of 50\n",
      "building tree 22 of 50\n",
      "building tree 23 of 50\n",
      "building tree 24 of 50\n",
      "building tree 25 of 50\n",
      "building tree 26 of 50\n",
      "building tree 27 of 50\n",
      "building tree 28 of 50\n",
      "building tree 29 of 50\n",
      "building tree 30 of 50\n",
      "building tree 31 of 50\n",
      "building tree 32 of 50\n",
      "building tree 33 of 50\n",
      "building tree 34 of 50\n",
      "building tree 35 of 50\n",
      "building tree 36 of 50\n",
      "building tree 37 of 50\n",
      "building tree 38 of 50\n",
      "building tree 39 of 50\n",
      "building tree 40 of 50\n",
      "building tree 41 of 50\n",
      "building tree 42 of 50\n",
      "building tree 43 of 50\n",
      "building tree 44 of 50\n",
      "building tree 45 of 50\n",
      "building tree 46 of 50\n",
      "building tree 47 of 50\n",
      "building tree 48 of 50\n",
      "building tree 49 of 50\n",
      "building tree 50 of 50\n"
     ]
    },
    {
     "name": "stderr",
     "output_type": "stream",
     "text": [
      "[Parallel(n_jobs=1)]: Done  50 out of  50 | elapsed:  6.7min finished\n",
      "/home/renato/anaconda3/lib/python3.7/site-packages/sklearn/ensemble/forest.py:308: UserWarning: Warm-start fitting without increasing n_estimators does not fit new trees.\n",
      "  warn(\"Warm-start fitting without increasing n_estimators does not \"\n",
      "[Parallel(n_jobs=1)]: Using backend SequentialBackend with 1 concurrent workers.\n",
      "[Parallel(n_jobs=1)]: Done   1 out of   1 | elapsed:    1.2s remaining:    0.0s\n",
      "[Parallel(n_jobs=1)]: Done   2 out of   2 | elapsed:    1.9s remaining:    0.0s\n",
      "[Parallel(n_jobs=1)]: Done  50 out of  50 | elapsed:   35.6s finished\n"
     ]
    }
   ],
   "source": [
    "list_of_training_x = np.array_split(X_train_step_2, 2)\n",
    "list_of_training_y = np.array_split(y_train_step_2, 2)\n",
    "n_estimators = 50\n",
    "\n",
    "rf_step_2 = RandomForestClassifier(warm_start=True, n_estimators=n_estimators, max_depth=80, min_samples_leaf=3, min_samples_split=10, verbose=3)\n",
    "for i in range(2):\n",
    "    rf_step_2.fit(list_of_training_x[i], list_of_training_y[i])\n",
    "    rf_step_2.set_params(n_estimators=n_estimators)\n",
    "    n_estimators+=50\n",
    "\n",
    "predictions_step_2 = rf_step_2.predict(X_test_step_2)"
   ]
  },
  {
   "cell_type": "code",
   "execution_count": 17,
   "metadata": {
    "colab": {},
    "colab_type": "code",
    "id": "ZYwa3C1LgU9d"
   },
   "outputs": [
    {
     "name": "stderr",
     "output_type": "stream",
     "text": [
      "/home/renato/anaconda3/lib/python3.7/site-packages/sklearn/metrics/classification.py:1143: UndefinedMetricWarning: Precision and F-score are ill-defined and being set to 0.0 in labels with no predicted samples.\n",
      "  'precision', 'predicted', average, warn_for)\n",
      "/home/renato/anaconda3/lib/python3.7/site-packages/sklearn/metrics/classification.py:1143: UndefinedMetricWarning: Precision and F-score are ill-defined and being set to 0.0 in labels with no predicted samples.\n",
      "  'precision', 'predicted', average, warn_for)\n",
      "/home/renato/anaconda3/lib/python3.7/site-packages/sklearn/metrics/classification.py:1143: UndefinedMetricWarning: Precision and F-score are ill-defined and being set to 0.0 in labels with no predicted samples.\n",
      "  'precision', 'predicted', average, warn_for)\n"
     ]
    }
   ],
   "source": [
    "cr_step_2 = classification_report(y_test_step_2, predictions_step_2, output_dict=True)\n",
    "cr_df_step_2 = pd.DataFrame(cr_step_2).transpose()\n",
    "cr_df_step_2.to_csv('result_2.csv')"
   ]
  },
  {
   "cell_type": "markdown",
   "metadata": {
    "colab_type": "text",
    "id": "1_9qq_BNgU9g"
   },
   "source": [
    "## Passo 3: Treino com adição de segmentos gerados aleatoriamente e remoção de \n",
    "\n",
    "---\n",
    "\n",
    "outliers"
   ]
  },
  {
   "cell_type": "code",
   "execution_count": 18,
   "metadata": {
    "colab": {},
    "colab_type": "code",
    "id": "Dwqc5PbUgU9h"
   },
   "outputs": [
    {
     "data": {
      "text/html": [
       "<div>\n",
       "<style scoped>\n",
       "    .dataframe tbody tr th:only-of-type {\n",
       "        vertical-align: middle;\n",
       "    }\n",
       "\n",
       "    .dataframe tbody tr th {\n",
       "        vertical-align: top;\n",
       "    }\n",
       "\n",
       "    .dataframe thead th {\n",
       "        text-align: right;\n",
       "    }\n",
       "</style>\n",
       "<table border=\"1\" class=\"dataframe\">\n",
       "  <thead>\n",
       "    <tr style=\"text-align: right;\">\n",
       "      <th></th>\n",
       "      <th>mean_q</th>\n",
       "      <th>mean_r</th>\n",
       "      <th>mean_s</th>\n",
       "      <th>mean_p</th>\n",
       "      <th>mean_t</th>\n",
       "      <th>stdev_q</th>\n",
       "      <th>stdev_r</th>\n",
       "      <th>stdev_s</th>\n",
       "      <th>mean_rr_interval</th>\n",
       "      <th>mean_rq_amplitude</th>\n",
       "      <th>...</th>\n",
       "      <th>mean_t_onset</th>\n",
       "      <th>mean_t_offset</th>\n",
       "      <th>mean_qt_interval</th>\n",
       "      <th>mean_st_interval</th>\n",
       "      <th>mean_t_wave</th>\n",
       "      <th>mean_pq_segment</th>\n",
       "      <th>mean_st_segment</th>\n",
       "      <th>mean_tp_segment</th>\n",
       "      <th>mean_pp_interval</th>\n",
       "      <th>person</th>\n",
       "    </tr>\n",
       "  </thead>\n",
       "  <tbody>\n",
       "    <tr>\n",
       "      <th>0</th>\n",
       "      <td>-0.713329</td>\n",
       "      <td>0.792270</td>\n",
       "      <td>-0.173784</td>\n",
       "      <td>0.792270</td>\n",
       "      <td>0.792270</td>\n",
       "      <td>0.006206</td>\n",
       "      <td>0.040516</td>\n",
       "      <td>0.012240</td>\n",
       "      <td>930.0</td>\n",
       "      <td>1.505599</td>\n",
       "      <td>...</td>\n",
       "      <td>-0.612744</td>\n",
       "      <td>0.332516</td>\n",
       "      <td>23.5</td>\n",
       "      <td>23.5</td>\n",
       "      <td>6.000000</td>\n",
       "      <td>23.5</td>\n",
       "      <td>29.5</td>\n",
       "      <td>180.0</td>\n",
       "      <td>930.0</td>\n",
       "      <td>tr14-0291</td>\n",
       "    </tr>\n",
       "    <tr>\n",
       "      <th>1</th>\n",
       "      <td>-0.665888</td>\n",
       "      <td>0.758830</td>\n",
       "      <td>-0.193415</td>\n",
       "      <td>0.758830</td>\n",
       "      <td>0.758830</td>\n",
       "      <td>0.010788</td>\n",
       "      <td>0.011119</td>\n",
       "      <td>0.002074</td>\n",
       "      <td>860.0</td>\n",
       "      <td>1.424718</td>\n",
       "      <td>...</td>\n",
       "      <td>-0.340489</td>\n",
       "      <td>0.303593</td>\n",
       "      <td>28.0</td>\n",
       "      <td>28.0</td>\n",
       "      <td>5.500000</td>\n",
       "      <td>28.0</td>\n",
       "      <td>33.5</td>\n",
       "      <td>166.0</td>\n",
       "      <td>860.0</td>\n",
       "      <td>tr14-0291</td>\n",
       "    </tr>\n",
       "    <tr>\n",
       "      <th>2</th>\n",
       "      <td>-0.724221</td>\n",
       "      <td>0.822585</td>\n",
       "      <td>-0.199239</td>\n",
       "      <td>0.849976</td>\n",
       "      <td>0.822585</td>\n",
       "      <td>0.021476</td>\n",
       "      <td>0.038941</td>\n",
       "      <td>0.001512</td>\n",
       "      <td>850.0</td>\n",
       "      <td>1.546806</td>\n",
       "      <td>...</td>\n",
       "      <td>-0.358754</td>\n",
       "      <td>0.378349</td>\n",
       "      <td>28.0</td>\n",
       "      <td>28.0</td>\n",
       "      <td>5.333333</td>\n",
       "      <td>58.0</td>\n",
       "      <td>33.5</td>\n",
       "      <td>164.5</td>\n",
       "      <td>1000.0</td>\n",
       "      <td>tr14-0291</td>\n",
       "    </tr>\n",
       "    <tr>\n",
       "      <th>3</th>\n",
       "      <td>-0.727936</td>\n",
       "      <td>0.840291</td>\n",
       "      <td>-0.191848</td>\n",
       "      <td>0.840291</td>\n",
       "      <td>0.840291</td>\n",
       "      <td>0.006431</td>\n",
       "      <td>0.037556</td>\n",
       "      <td>0.006425</td>\n",
       "      <td>925.0</td>\n",
       "      <td>1.568227</td>\n",
       "      <td>...</td>\n",
       "      <td>-0.490308</td>\n",
       "      <td>0.376719</td>\n",
       "      <td>27.5</td>\n",
       "      <td>27.5</td>\n",
       "      <td>5.500000</td>\n",
       "      <td>27.5</td>\n",
       "      <td>33.0</td>\n",
       "      <td>179.0</td>\n",
       "      <td>925.0</td>\n",
       "      <td>tr14-0291</td>\n",
       "    </tr>\n",
       "    <tr>\n",
       "      <th>4</th>\n",
       "      <td>-0.742179</td>\n",
       "      <td>0.808661</td>\n",
       "      <td>-0.189985</td>\n",
       "      <td>0.808661</td>\n",
       "      <td>0.808661</td>\n",
       "      <td>0.007297</td>\n",
       "      <td>0.002672</td>\n",
       "      <td>0.005386</td>\n",
       "      <td>870.0</td>\n",
       "      <td>1.550841</td>\n",
       "      <td>...</td>\n",
       "      <td>-0.517346</td>\n",
       "      <td>0.263979</td>\n",
       "      <td>27.5</td>\n",
       "      <td>27.5</td>\n",
       "      <td>6.000000</td>\n",
       "      <td>27.5</td>\n",
       "      <td>33.5</td>\n",
       "      <td>168.0</td>\n",
       "      <td>870.0</td>\n",
       "      <td>tr14-0291</td>\n",
       "    </tr>\n",
       "  </tbody>\n",
       "</table>\n",
       "<p>5 rows × 27 columns</p>\n",
       "</div>"
      ],
      "text/plain": [
       "     mean_q    mean_r    mean_s    mean_p    mean_t   stdev_q   stdev_r  \\\n",
       "0 -0.713329  0.792270 -0.173784  0.792270  0.792270  0.006206  0.040516   \n",
       "1 -0.665888  0.758830 -0.193415  0.758830  0.758830  0.010788  0.011119   \n",
       "2 -0.724221  0.822585 -0.199239  0.849976  0.822585  0.021476  0.038941   \n",
       "3 -0.727936  0.840291 -0.191848  0.840291  0.840291  0.006431  0.037556   \n",
       "4 -0.742179  0.808661 -0.189985  0.808661  0.808661  0.007297  0.002672   \n",
       "\n",
       "    stdev_s  mean_rr_interval  mean_rq_amplitude    ...      mean_t_onset  \\\n",
       "0  0.012240             930.0           1.505599    ...         -0.612744   \n",
       "1  0.002074             860.0           1.424718    ...         -0.340489   \n",
       "2  0.001512             850.0           1.546806    ...         -0.358754   \n",
       "3  0.006425             925.0           1.568227    ...         -0.490308   \n",
       "4  0.005386             870.0           1.550841    ...         -0.517346   \n",
       "\n",
       "   mean_t_offset  mean_qt_interval  mean_st_interval  mean_t_wave  \\\n",
       "0       0.332516              23.5              23.5     6.000000   \n",
       "1       0.303593              28.0              28.0     5.500000   \n",
       "2       0.378349              28.0              28.0     5.333333   \n",
       "3       0.376719              27.5              27.5     5.500000   \n",
       "4       0.263979              27.5              27.5     6.000000   \n",
       "\n",
       "   mean_pq_segment  mean_st_segment  mean_tp_segment  mean_pp_interval  \\\n",
       "0             23.5             29.5            180.0             930.0   \n",
       "1             28.0             33.5            166.0             860.0   \n",
       "2             58.0             33.5            164.5            1000.0   \n",
       "3             27.5             33.0            179.0             925.0   \n",
       "4             27.5             33.5            168.0             870.0   \n",
       "\n",
       "      person  \n",
       "0  tr14-0291  \n",
       "1  tr14-0291  \n",
       "2  tr14-0291  \n",
       "3  tr14-0291  \n",
       "4  tr14-0291  \n",
       "\n",
       "[5 rows x 27 columns]"
      ]
     },
     "execution_count": 18,
     "metadata": {},
     "output_type": "execute_result"
    }
   ],
   "source": [
    "step_3.head()"
   ]
  },
  {
   "cell_type": "code",
   "execution_count": 19,
   "metadata": {
    "colab": {},
    "colab_type": "code",
    "id": "o3Sfs4nbhrIY"
   },
   "outputs": [
    {
     "data": {
      "text/plain": [
       "<matplotlib.axes._subplots.AxesSubplot at 0x7f8b178eac50>"
      ]
     },
     "execution_count": 19,
     "metadata": {},
     "output_type": "execute_result"
    },
    {
     "data": {
      "image/png": "[encoded data removed]",
      "text/plain": [
       "<Figure size 1440x720 with 1 Axes>"
      ]
     },
     "metadata": {},
     "output_type": "display_data"
    }
   ],
   "source": [
    "plt.figure(figsize=(20,10))\n",
    "plt.title(\"Cumulative distribution of number of examples\")\n",
    "step_3['person'].value_counts(ascending=True).hist(cumulative=True, density=1)"
   ]
  },
  {
   "cell_type": "code",
   "execution_count": 20,
   "metadata": {
    "colab": {},
    "colab_type": "code",
    "id": "WLj6E66ChyN_"
   },
   "outputs": [],
   "source": [
    "## Remove pessoas que tem menos que 60 segmentos\n",
    "min_n_of_segments = 60\n",
    "mask = step_3['person'].value_counts() < min_n_of_segments\n",
    "people_to_remove = list(mask[mask].index)\n",
    "for person in people_to_remove:\n",
    "    step_3 = step_3[step_3.person != person]"
   ]
  },
  {
   "cell_type": "code",
   "execution_count": 21,
   "metadata": {
    "colab": {},
    "colab_type": "code",
    "id": "gE95-EKZRUAs"
   },
   "outputs": [
    {
     "name": "stdout",
     "output_type": "stream",
     "text": [
      "Há 1769 classes únicas no conjunto de TREINO\n",
      "Há 1769 classes únicas no conjunto de TESTE\n"
     ]
    }
   ],
   "source": [
    "#le_step_3 = LabelEncoder()\n",
    "#step_3['person'] = pd.Series(le_step_3.fit_transform(step_3['person']))\n",
    "original_columns = ['mean_q', 'mean_r', 'mean_s', 'stdev_q', 'stdev_r','stdev_s',\n",
    "                   'mean_rr_interval', 'mean_rq_amplitude', 'mean_qrs_interval']\n",
    "\n",
    "X_step_3 = step_3[original_columns]\n",
    "# Preenche os dados faltosos com a média da respectiva coluna\n",
    "X_step_3 = X_step_3.apply(lambda x: x.fillna(x.mean()))\n",
    "# O objeto da predição é 'y' (os rótulos das classes)\n",
    "y_step_3 = step_3['person']\n",
    "\n",
    "X_train_step_3, X_test_step_3, y_train_step_3, y_test_step_3 = train_test_split(X_step_3, y_step_3,\n",
    "                                                                                test_size = 0.2, stratify=y_step_3)\n",
    "print(f'Há {y_train_step_3.nunique()} classes únicas no conjunto de TREINO')\n",
    "print(f'Há {y_test_step_3.nunique()} classes únicas no conjunto de TESTE')"
   ]
  },
  {
   "cell_type": "code",
   "execution_count": 22,
   "metadata": {
    "colab": {},
    "colab_type": "code",
    "id": "j7hC7qujReaT"
   },
   "outputs": [
    {
     "name": "stdout",
     "output_type": "stream",
     "text": [
      "Elementos unicos no split 0: 1769\n",
      "Elementos unicos no split 1: 1769\n",
      "Elementos unicos no split 2: 1769\n",
      "building tree 1 of 30\n"
     ]
    },
    {
     "name": "stderr",
     "output_type": "stream",
     "text": [
      "[Parallel(n_jobs=1)]: Using backend SequentialBackend with 1 concurrent workers.\n",
      "[Parallel(n_jobs=1)]: Done   1 out of   1 | elapsed:    3.7s remaining:    0.0s\n"
     ]
    },
    {
     "name": "stdout",
     "output_type": "stream",
     "text": [
      "building tree 2 of 30\n"
     ]
    },
    {
     "name": "stderr",
     "output_type": "stream",
     "text": [
      "[Parallel(n_jobs=1)]: Done   2 out of   2 | elapsed:    7.4s remaining:    0.0s\n"
     ]
    },
    {
     "name": "stdout",
     "output_type": "stream",
     "text": [
      "building tree 3 of 30\n",
      "building tree 4 of 30\n",
      "building tree 5 of 30\n",
      "building tree 6 of 30\n",
      "building tree 7 of 30\n",
      "building tree 8 of 30\n",
      "building tree 9 of 30\n",
      "building tree 10 of 30\n",
      "building tree 11 of 30\n",
      "building tree 12 of 30\n",
      "building tree 13 of 30\n",
      "building tree 14 of 30\n",
      "building tree 15 of 30\n",
      "building tree 16 of 30\n",
      "building tree 17 of 30\n",
      "building tree 18 of 30\n",
      "building tree 19 of 30\n",
      "building tree 20 of 30\n",
      "building tree 21 of 30\n",
      "building tree 22 of 30\n",
      "building tree 23 of 30\n",
      "building tree 24 of 30\n",
      "building tree 25 of 30\n",
      "building tree 26 of 30\n",
      "building tree 27 of 30\n",
      "building tree 28 of 30\n",
      "building tree 29 of 30\n",
      "building tree 30 of 30\n"
     ]
    },
    {
     "name": "stderr",
     "output_type": "stream",
     "text": [
      "[Parallel(n_jobs=1)]: Done  30 out of  30 | elapsed:  2.0min finished\n",
      "[Parallel(n_jobs=1)]: Using backend SequentialBackend with 1 concurrent workers.\n"
     ]
    },
    {
     "name": "stdout",
     "output_type": "stream",
     "text": [
      "building tree 1 of 50\n"
     ]
    },
    {
     "name": "stderr",
     "output_type": "stream",
     "text": [
      "[Parallel(n_jobs=1)]: Done   1 out of   1 | elapsed:    4.0s remaining:    0.0s\n"
     ]
    },
    {
     "name": "stdout",
     "output_type": "stream",
     "text": [
      "building tree 2 of 50\n"
     ]
    },
    {
     "name": "stderr",
     "output_type": "stream",
     "text": [
      "[Parallel(n_jobs=1)]: Done   2 out of   2 | elapsed:    8.1s remaining:    0.0s\n"
     ]
    },
    {
     "name": "stdout",
     "output_type": "stream",
     "text": [
      "building tree 3 of 50\n",
      "building tree 4 of 50\n",
      "building tree 5 of 50\n",
      "building tree 6 of 50\n",
      "building tree 7 of 50\n",
      "building tree 8 of 50\n",
      "building tree 9 of 50\n",
      "building tree 10 of 50\n",
      "building tree 11 of 50\n",
      "building tree 12 of 50\n",
      "building tree 13 of 50\n",
      "building tree 14 of 50\n",
      "building tree 15 of 50\n",
      "building tree 16 of 50\n",
      "building tree 17 of 50\n",
      "building tree 18 of 50\n",
      "building tree 19 of 50\n",
      "building tree 20 of 50\n",
      "building tree 21 of 50\n",
      "building tree 22 of 50\n",
      "building tree 23 of 50\n",
      "building tree 24 of 50\n",
      "building tree 25 of 50\n",
      "building tree 26 of 50\n",
      "building tree 27 of 50\n",
      "building tree 28 of 50\n",
      "building tree 29 of 50\n",
      "building tree 30 of 50\n",
      "building tree 31 of 50\n",
      "building tree 32 of 50\n",
      "building tree 33 of 50\n",
      "building tree 34 of 50\n",
      "building tree 35 of 50\n",
      "building tree 36 of 50\n",
      "building tree 37 of 50\n",
      "building tree 38 of 50\n",
      "building tree 39 of 50\n",
      "building tree 40 of 50\n",
      "building tree 41 of 50\n",
      "building tree 42 of 50\n",
      "building tree 43 of 50\n",
      "building tree 44 of 50\n",
      "building tree 45 of 50\n",
      "building tree 46 of 50\n",
      "building tree 47 of 50\n",
      "building tree 48 of 50\n",
      "building tree 49 of 50\n",
      "building tree 50 of 50\n"
     ]
    },
    {
     "name": "stderr",
     "output_type": "stream",
     "text": [
      "[Parallel(n_jobs=1)]: Done  50 out of  50 | elapsed:  3.2min finished\n",
      "[Parallel(n_jobs=1)]: Using backend SequentialBackend with 1 concurrent workers.\n"
     ]
    },
    {
     "name": "stdout",
     "output_type": "stream",
     "text": [
      "building tree 1 of 50\n"
     ]
    },
    {
     "name": "stderr",
     "output_type": "stream",
     "text": [
      "[Parallel(n_jobs=1)]: Done   1 out of   1 | elapsed:    3.6s remaining:    0.0s\n"
     ]
    },
    {
     "name": "stdout",
     "output_type": "stream",
     "text": [
      "building tree 2 of 50\n"
     ]
    },
    {
     "name": "stderr",
     "output_type": "stream",
     "text": [
      "[Parallel(n_jobs=1)]: Done   2 out of   2 | elapsed:    7.1s remaining:    0.0s\n"
     ]
    },
    {
     "name": "stdout",
     "output_type": "stream",
     "text": [
      "building tree 3 of 50\n",
      "building tree 4 of 50\n",
      "building tree 5 of 50\n",
      "building tree 6 of 50\n",
      "building tree 7 of 50\n",
      "building tree 8 of 50\n",
      "building tree 9 of 50\n",
      "building tree 10 of 50\n",
      "building tree 11 of 50\n",
      "building tree 12 of 50\n",
      "building tree 13 of 50\n",
      "building tree 14 of 50\n",
      "building tree 15 of 50\n",
      "building tree 16 of 50\n",
      "building tree 17 of 50\n",
      "building tree 18 of 50\n",
      "building tree 19 of 50\n",
      "building tree 20 of 50\n",
      "building tree 21 of 50\n",
      "building tree 22 of 50\n",
      "building tree 23 of 50\n",
      "building tree 24 of 50\n",
      "building tree 25 of 50\n",
      "building tree 26 of 50\n",
      "building tree 27 of 50\n",
      "building tree 28 of 50\n",
      "building tree 29 of 50\n",
      "building tree 30 of 50\n",
      "building tree 31 of 50\n",
      "building tree 32 of 50\n",
      "building tree 33 of 50\n",
      "building tree 34 of 50\n",
      "building tree 35 of 50\n",
      "building tree 36 of 50\n",
      "building tree 37 of 50\n",
      "building tree 38 of 50\n",
      "building tree 39 of 50\n",
      "building tree 40 of 50\n",
      "building tree 41 of 50\n",
      "building tree 42 of 50\n",
      "building tree 43 of 50\n",
      "building tree 44 of 50\n",
      "building tree 45 of 50\n",
      "building tree 46 of 50\n",
      "building tree 47 of 50\n",
      "building tree 48 of 50\n",
      "building tree 49 of 50\n",
      "building tree 50 of 50\n"
     ]
    },
    {
     "name": "stderr",
     "output_type": "stream",
     "text": [
      "[Parallel(n_jobs=1)]: Done  50 out of  50 | elapsed:  3.2min finished\n"
     ]
    }
   ],
   "source": [
    "batch_size = 3\n",
    "list_of_training_x_step_3 = np.array_split(X_train_step_3, batch_size)\n",
    "list_of_training_y_step_3 = np.array_split(y_train_step_3, batch_size)\n",
    "n_estimators = 30\n",
    "\n",
    "# Verifica sem algum split ficou com uma amostra a menos\n",
    "for count, y in enumerate(list_of_training_y_step_3):\n",
    "    print(f'Elementos unicos no split {count}:', y.nunique())\n",
    "\n",
    "rf_step_3 = RandomForestClassifier(warm_start=True, n_estimators=n_estimators, max_depth=80, min_samples_leaf=3, min_samples_split=10, verbose=3)\n",
    "\n",
    "for i in range(batch_size):\n",
    "    rf_step_3.fit(list_of_training_x_step_3[i], list_of_training_y_step_3[i])\n",
    "    n_estimators += 50\n",
    "    rf_step_3.set_params(n_estimators=n_estimators)"
   ]
  },
  {
   "cell_type": "code",
   "execution_count": 23,
   "metadata": {
    "colab": {},
    "colab_type": "code",
    "id": "UkqHQnt_AIPp"
   },
   "outputs": [
    {
     "name": "stderr",
     "output_type": "stream",
     "text": [
      "[Parallel(n_jobs=1)]: Using backend SequentialBackend with 1 concurrent workers.\n",
      "[Parallel(n_jobs=1)]: Done   1 out of   1 | elapsed:    0.8s remaining:    0.0s\n",
      "[Parallel(n_jobs=1)]: Done   2 out of   2 | elapsed:    1.3s remaining:    0.0s\n",
      "[Parallel(n_jobs=1)]: Done 130 out of 130 | elapsed:  1.0min finished\n"
     ]
    }
   ],
   "source": [
    "predictions_step_3 = rf_step_3.predict(X_test_step_3)"
   ]
  },
  {
   "cell_type": "code",
   "execution_count": 24,
   "metadata": {
    "colab": {},
    "colab_type": "code",
    "id": "dc7_nFhay9VZ"
   },
   "outputs": [
    {
     "name": "stderr",
     "output_type": "stream",
     "text": [
      "/home/renato/anaconda3/lib/python3.7/site-packages/sklearn/metrics/classification.py:1143: UndefinedMetricWarning: Precision and F-score are ill-defined and being set to 0.0 in labels with no predicted samples.\n",
      "  'precision', 'predicted', average, warn_for)\n",
      "/home/renato/anaconda3/lib/python3.7/site-packages/sklearn/metrics/classification.py:1143: UndefinedMetricWarning: Precision and F-score are ill-defined and being set to 0.0 in labels with no predicted samples.\n",
      "  'precision', 'predicted', average, warn_for)\n",
      "/home/renato/anaconda3/lib/python3.7/site-packages/sklearn/metrics/classification.py:1143: UndefinedMetricWarning: Precision and F-score are ill-defined and being set to 0.0 in labels with no predicted samples.\n",
      "  'precision', 'predicted', average, warn_for)\n"
     ]
    }
   ],
   "source": [
    "cr_step_3 = classification_report(y_test_step_3, predictions_step_3, output_dict=True)\n",
    "cr_df_step_3 = pd.DataFrame(cr_step_3).transpose()\n",
    "cr_df_step_3.to_csv('result_3.csv')"
   ]
  },
  {
   "cell_type": "markdown",
   "metadata": {
    "colab_type": "text",
    "id": "l6UlsDoHyKO7"
   },
   "source": [
    "## Passo 4: Treino com algumas novas features, segmentos gerados aleatoriamente e remoção de ouliers"
   ]
  },
  {
   "cell_type": "code",
   "execution_count": 25,
   "metadata": {
    "colab": {},
    "colab_type": "code",
    "id": "ZtcnpNjEhRmN"
   },
   "outputs": [
    {
     "data": {
      "text/html": [
       "<div>\n",
       "<style scoped>\n",
       "    .dataframe tbody tr th:only-of-type {\n",
       "        vertical-align: middle;\n",
       "    }\n",
       "\n",
       "    .dataframe tbody tr th {\n",
       "        vertical-align: top;\n",
       "    }\n",
       "\n",
       "    .dataframe thead th {\n",
       "        text-align: right;\n",
       "    }\n",
       "</style>\n",
       "<table border=\"1\" class=\"dataframe\">\n",
       "  <thead>\n",
       "    <tr style=\"text-align: right;\">\n",
       "      <th></th>\n",
       "      <th>mean_q</th>\n",
       "      <th>mean_r</th>\n",
       "      <th>mean_s</th>\n",
       "      <th>mean_p</th>\n",
       "      <th>mean_t</th>\n",
       "      <th>stdev_q</th>\n",
       "      <th>stdev_r</th>\n",
       "      <th>stdev_s</th>\n",
       "      <th>mean_rr_interval</th>\n",
       "      <th>mean_rq_amplitude</th>\n",
       "      <th>...</th>\n",
       "      <th>mean_t_onset</th>\n",
       "      <th>mean_t_offset</th>\n",
       "      <th>mean_qt_interval</th>\n",
       "      <th>mean_st_interval</th>\n",
       "      <th>mean_t_wave</th>\n",
       "      <th>mean_pq_segment</th>\n",
       "      <th>mean_st_segment</th>\n",
       "      <th>mean_tp_segment</th>\n",
       "      <th>mean_pp_interval</th>\n",
       "      <th>person</th>\n",
       "    </tr>\n",
       "  </thead>\n",
       "  <tbody>\n",
       "    <tr>\n",
       "      <th>0</th>\n",
       "      <td>-0.713329</td>\n",
       "      <td>0.792270</td>\n",
       "      <td>-0.173784</td>\n",
       "      <td>0.792270</td>\n",
       "      <td>0.792270</td>\n",
       "      <td>0.006206</td>\n",
       "      <td>0.040516</td>\n",
       "      <td>0.012240</td>\n",
       "      <td>930.0</td>\n",
       "      <td>1.505599</td>\n",
       "      <td>...</td>\n",
       "      <td>-0.612744</td>\n",
       "      <td>0.332516</td>\n",
       "      <td>23.5</td>\n",
       "      <td>23.5</td>\n",
       "      <td>6.000000</td>\n",
       "      <td>23.5</td>\n",
       "      <td>29.5</td>\n",
       "      <td>180.0</td>\n",
       "      <td>930.0</td>\n",
       "      <td>tr14-0291</td>\n",
       "    </tr>\n",
       "    <tr>\n",
       "      <th>1</th>\n",
       "      <td>-0.665888</td>\n",
       "      <td>0.758830</td>\n",
       "      <td>-0.193415</td>\n",
       "      <td>0.758830</td>\n",
       "      <td>0.758830</td>\n",
       "      <td>0.010788</td>\n",
       "      <td>0.011119</td>\n",
       "      <td>0.002074</td>\n",
       "      <td>860.0</td>\n",
       "      <td>1.424718</td>\n",
       "      <td>...</td>\n",
       "      <td>-0.340489</td>\n",
       "      <td>0.303593</td>\n",
       "      <td>28.0</td>\n",
       "      <td>28.0</td>\n",
       "      <td>5.500000</td>\n",
       "      <td>28.0</td>\n",
       "      <td>33.5</td>\n",
       "      <td>166.0</td>\n",
       "      <td>860.0</td>\n",
       "      <td>tr14-0291</td>\n",
       "    </tr>\n",
       "    <tr>\n",
       "      <th>2</th>\n",
       "      <td>-0.724221</td>\n",
       "      <td>0.822585</td>\n",
       "      <td>-0.199239</td>\n",
       "      <td>0.849976</td>\n",
       "      <td>0.822585</td>\n",
       "      <td>0.021476</td>\n",
       "      <td>0.038941</td>\n",
       "      <td>0.001512</td>\n",
       "      <td>850.0</td>\n",
       "      <td>1.546806</td>\n",
       "      <td>...</td>\n",
       "      <td>-0.358754</td>\n",
       "      <td>0.378349</td>\n",
       "      <td>28.0</td>\n",
       "      <td>28.0</td>\n",
       "      <td>5.333333</td>\n",
       "      <td>58.0</td>\n",
       "      <td>33.5</td>\n",
       "      <td>164.5</td>\n",
       "      <td>1000.0</td>\n",
       "      <td>tr14-0291</td>\n",
       "    </tr>\n",
       "    <tr>\n",
       "      <th>3</th>\n",
       "      <td>-0.727936</td>\n",
       "      <td>0.840291</td>\n",
       "      <td>-0.191848</td>\n",
       "      <td>0.840291</td>\n",
       "      <td>0.840291</td>\n",
       "      <td>0.006431</td>\n",
       "      <td>0.037556</td>\n",
       "      <td>0.006425</td>\n",
       "      <td>925.0</td>\n",
       "      <td>1.568227</td>\n",
       "      <td>...</td>\n",
       "      <td>-0.490308</td>\n",
       "      <td>0.376719</td>\n",
       "      <td>27.5</td>\n",
       "      <td>27.5</td>\n",
       "      <td>5.500000</td>\n",
       "      <td>27.5</td>\n",
       "      <td>33.0</td>\n",
       "      <td>179.0</td>\n",
       "      <td>925.0</td>\n",
       "      <td>tr14-0291</td>\n",
       "    </tr>\n",
       "    <tr>\n",
       "      <th>4</th>\n",
       "      <td>-0.742179</td>\n",
       "      <td>0.808661</td>\n",
       "      <td>-0.189985</td>\n",
       "      <td>0.808661</td>\n",
       "      <td>0.808661</td>\n",
       "      <td>0.007297</td>\n",
       "      <td>0.002672</td>\n",
       "      <td>0.005386</td>\n",
       "      <td>870.0</td>\n",
       "      <td>1.550841</td>\n",
       "      <td>...</td>\n",
       "      <td>-0.517346</td>\n",
       "      <td>0.263979</td>\n",
       "      <td>27.5</td>\n",
       "      <td>27.5</td>\n",
       "      <td>6.000000</td>\n",
       "      <td>27.5</td>\n",
       "      <td>33.5</td>\n",
       "      <td>168.0</td>\n",
       "      <td>870.0</td>\n",
       "      <td>tr14-0291</td>\n",
       "    </tr>\n",
       "  </tbody>\n",
       "</table>\n",
       "<p>5 rows × 27 columns</p>\n",
       "</div>"
      ],
      "text/plain": [
       "     mean_q    mean_r    mean_s    mean_p    mean_t   stdev_q   stdev_r  \\\n",
       "0 -0.713329  0.792270 -0.173784  0.792270  0.792270  0.006206  0.040516   \n",
       "1 -0.665888  0.758830 -0.193415  0.758830  0.758830  0.010788  0.011119   \n",
       "2 -0.724221  0.822585 -0.199239  0.849976  0.822585  0.021476  0.038941   \n",
       "3 -0.727936  0.840291 -0.191848  0.840291  0.840291  0.006431  0.037556   \n",
       "4 -0.742179  0.808661 -0.189985  0.808661  0.808661  0.007297  0.002672   \n",
       "\n",
       "    stdev_s  mean_rr_interval  mean_rq_amplitude    ...      mean_t_onset  \\\n",
       "0  0.012240             930.0           1.505599    ...         -0.612744   \n",
       "1  0.002074             860.0           1.424718    ...         -0.340489   \n",
       "2  0.001512             850.0           1.546806    ...         -0.358754   \n",
       "3  0.006425             925.0           1.568227    ...         -0.490308   \n",
       "4  0.005386             870.0           1.550841    ...         -0.517346   \n",
       "\n",
       "   mean_t_offset  mean_qt_interval  mean_st_interval  mean_t_wave  \\\n",
       "0       0.332516              23.5              23.5     6.000000   \n",
       "1       0.303593              28.0              28.0     5.500000   \n",
       "2       0.378349              28.0              28.0     5.333333   \n",
       "3       0.376719              27.5              27.5     5.500000   \n",
       "4       0.263979              27.5              27.5     6.000000   \n",
       "\n",
       "   mean_pq_segment  mean_st_segment  mean_tp_segment  mean_pp_interval  \\\n",
       "0             23.5             29.5            180.0             930.0   \n",
       "1             28.0             33.5            166.0             860.0   \n",
       "2             58.0             33.5            164.5            1000.0   \n",
       "3             27.5             33.0            179.0             925.0   \n",
       "4             27.5             33.5            168.0             870.0   \n",
       "\n",
       "      person  \n",
       "0  tr14-0291  \n",
       "1  tr14-0291  \n",
       "2  tr14-0291  \n",
       "3  tr14-0291  \n",
       "4  tr14-0291  \n",
       "\n",
       "[5 rows x 27 columns]"
      ]
     },
     "execution_count": 25,
     "metadata": {},
     "output_type": "execute_result"
    }
   ],
   "source": [
    "step_4.head()"
   ]
  },
  {
   "cell_type": "code",
   "execution_count": 26,
   "metadata": {},
   "outputs": [
    {
     "data": {
      "text/plain": [
       "<matplotlib.axes._subplots.AxesSubplot at 0x7f8b17bcf910>"
      ]
     },
     "execution_count": 26,
     "metadata": {},
     "output_type": "execute_result"
    },
    {
     "data": {
      "image/png": "[encoded data removed]",
      "text/plain": [
       "<Figure size 1440x720 with 1 Axes>"
      ]
     },
     "metadata": {},
     "output_type": "display_data"
    }
   ],
   "source": [
    "plt.figure(figsize=(20,10))\n",
    "plt.title(\"Cumulative distribution of number of examples\")\n",
    "step_4['person'].value_counts(ascending=True).hist(cumulative=True, density=1)"
   ]
  },
  {
   "cell_type": "code",
   "execution_count": 27,
   "metadata": {
    "colab": {},
    "colab_type": "code",
    "id": "TvtX5VfByIo_"
   },
   "outputs": [],
   "source": [
    "## Remove pessoas que tem menos que 60 segmentos\n",
    "min_n_of_segments = 60\n",
    "mask = step_4['person'].value_counts() < min_n_of_segments\n",
    "people_to_remove = list(mask[mask].index)\n",
    "for person in people_to_remove:\n",
    "    step_4 = step_4[step_4.person != person]"
   ]
  },
  {
   "cell_type": "code",
   "execution_count": 28,
   "metadata": {
    "colab": {},
    "colab_type": "code",
    "id": "MzGiOgn9yi12"
   },
   "outputs": [
    {
     "name": "stdout",
     "output_type": "stream",
     "text": [
      "Há 1769 classes únicas no conjunto de TREINO\n",
      "Há 1769 classes únicas no conjunto de TESTE\n"
     ]
    }
   ],
   "source": [
    "#le_step_4 = LabelEncoder()\n",
    "#step_4['person'] = pd.Series(le_step_4.fit_transform(step_4['person']))\n",
    "\n",
    "X_step_4 = step_4.drop(['mean_qt_interval', 'mean_st_interval', 'mean_t_wave', 'mean_pq_segment', 'mean_st_segment', 'mean_tp_segment', 'mean_pp_interval', 'person'], axis=1)\n",
    "# Preenche os dados faltosos com a média da respectiva coluna\n",
    "X_step_4 = X_step_4.apply(lambda x: x.fillna(x.mean()))\n",
    "# O objeto da predição é 'y' (os rótulos das classes)\n",
    "y_step_4 = step_4['person']\n",
    "\n",
    "X_train_step_4, X_test_step_4, y_train_step_4, y_test_step_4 = train_test_split(X_step_4, y_step_4,\n",
    "                                                                                test_size = 0.2, stratify=y_step_4)\n",
    "print(f'Há {y_train_step_4.nunique()} classes únicas no conjunto de TREINO')\n",
    "print(f'Há {y_test_step_4.nunique()} classes únicas no conjunto de TESTE')"
   ]
  },
  {
   "cell_type": "code",
   "execution_count": 29,
   "metadata": {
    "colab": {},
    "colab_type": "code",
    "id": "f0Z1Kou4ynRM"
   },
   "outputs": [
    {
     "name": "stdout",
     "output_type": "stream",
     "text": [
      "Elementos unicos no split 0: 1769\n",
      "Elementos unicos no split 1: 1769\n",
      "Elementos unicos no split 2: 1769\n",
      "Elementos unicos no split 3: 1769\n",
      "building tree 1 of 10\n"
     ]
    },
    {
     "name": "stderr",
     "output_type": "stream",
     "text": [
      "[Parallel(n_jobs=1)]: Using backend SequentialBackend with 1 concurrent workers.\n",
      "[Parallel(n_jobs=1)]: Done   1 out of   1 | elapsed:    3.9s remaining:    0.0s\n"
     ]
    },
    {
     "name": "stdout",
     "output_type": "stream",
     "text": [
      "building tree 2 of 10\n"
     ]
    },
    {
     "name": "stderr",
     "output_type": "stream",
     "text": [
      "[Parallel(n_jobs=1)]: Done   2 out of   2 | elapsed:    7.6s remaining:    0.0s\n"
     ]
    },
    {
     "name": "stdout",
     "output_type": "stream",
     "text": [
      "building tree 3 of 10\n",
      "building tree 4 of 10\n",
      "building tree 5 of 10\n",
      "building tree 6 of 10\n",
      "building tree 7 of 10\n",
      "building tree 8 of 10\n",
      "building tree 9 of 10\n",
      "building tree 10 of 10\n"
     ]
    },
    {
     "name": "stderr",
     "output_type": "stream",
     "text": [
      "[Parallel(n_jobs=1)]: Done  10 out of  10 | elapsed:   39.0s finished\n",
      "[Parallel(n_jobs=1)]: Using backend SequentialBackend with 1 concurrent workers.\n"
     ]
    },
    {
     "name": "stdout",
     "output_type": "stream",
     "text": [
      "building tree 1 of 35\n"
     ]
    },
    {
     "name": "stderr",
     "output_type": "stream",
     "text": [
      "[Parallel(n_jobs=1)]: Done   1 out of   1 | elapsed:    3.8s remaining:    0.0s\n"
     ]
    },
    {
     "name": "stdout",
     "output_type": "stream",
     "text": [
      "building tree 2 of 35\n"
     ]
    },
    {
     "name": "stderr",
     "output_type": "stream",
     "text": [
      "[Parallel(n_jobs=1)]: Done   2 out of   2 | elapsed:    8.1s remaining:    0.0s\n"
     ]
    },
    {
     "name": "stdout",
     "output_type": "stream",
     "text": [
      "building tree 3 of 35\n",
      "building tree 4 of 35\n",
      "building tree 5 of 35\n",
      "building tree 6 of 35\n",
      "building tree 7 of 35\n",
      "building tree 8 of 35\n",
      "building tree 9 of 35\n",
      "building tree 10 of 35\n",
      "building tree 11 of 35\n",
      "building tree 12 of 35\n",
      "building tree 13 of 35\n",
      "building tree 14 of 35\n",
      "building tree 15 of 35\n",
      "building tree 16 of 35\n",
      "building tree 17 of 35\n",
      "building tree 18 of 35\n",
      "building tree 19 of 35\n",
      "building tree 20 of 35\n",
      "building tree 21 of 35\n",
      "building tree 22 of 35\n",
      "building tree 23 of 35\n",
      "building tree 24 of 35\n",
      "building tree 25 of 35\n",
      "building tree 26 of 35\n",
      "building tree 27 of 35\n",
      "building tree 28 of 35\n",
      "building tree 29 of 35\n",
      "building tree 30 of 35\n",
      "building tree 31 of 35\n",
      "building tree 32 of 35\n",
      "building tree 33 of 35\n",
      "building tree 34 of 35\n",
      "building tree 35 of 35\n"
     ]
    },
    {
     "name": "stderr",
     "output_type": "stream",
     "text": [
      "[Parallel(n_jobs=1)]: Done  35 out of  35 | elapsed:  2.4min finished\n",
      "[Parallel(n_jobs=1)]: Using backend SequentialBackend with 1 concurrent workers.\n"
     ]
    },
    {
     "name": "stdout",
     "output_type": "stream",
     "text": [
      "building tree 1 of 35\n"
     ]
    },
    {
     "name": "stderr",
     "output_type": "stream",
     "text": [
      "[Parallel(n_jobs=1)]: Done   1 out of   1 | elapsed:    4.2s remaining:    0.0s\n"
     ]
    },
    {
     "name": "stdout",
     "output_type": "stream",
     "text": [
      "building tree 2 of 35\n"
     ]
    },
    {
     "name": "stderr",
     "output_type": "stream",
     "text": [
      "[Parallel(n_jobs=1)]: Done   2 out of   2 | elapsed:    8.2s remaining:    0.0s\n"
     ]
    },
    {
     "name": "stdout",
     "output_type": "stream",
     "text": [
      "building tree 3 of 35\n",
      "building tree 4 of 35\n",
      "building tree 5 of 35\n",
      "building tree 6 of 35\n",
      "building tree 7 of 35\n",
      "building tree 8 of 35\n",
      "building tree 9 of 35\n",
      "building tree 10 of 35\n",
      "building tree 11 of 35\n",
      "building tree 12 of 35\n",
      "building tree 13 of 35\n",
      "building tree 14 of 35\n",
      "building tree 15 of 35\n",
      "building tree 16 of 35\n",
      "building tree 17 of 35\n",
      "building tree 18 of 35\n",
      "building tree 19 of 35\n",
      "building tree 20 of 35\n",
      "building tree 21 of 35\n",
      "building tree 22 of 35\n",
      "building tree 23 of 35\n",
      "building tree 24 of 35\n",
      "building tree 25 of 35\n",
      "building tree 26 of 35\n",
      "building tree 27 of 35\n",
      "building tree 28 of 35\n",
      "building tree 29 of 35\n",
      "building tree 30 of 35\n",
      "building tree 31 of 35\n",
      "building tree 32 of 35\n",
      "building tree 33 of 35\n",
      "building tree 34 of 35\n",
      "building tree 35 of 35\n"
     ]
    },
    {
     "name": "stderr",
     "output_type": "stream",
     "text": [
      "[Parallel(n_jobs=1)]: Done  35 out of  35 | elapsed:  2.4min finished\n",
      "[Parallel(n_jobs=1)]: Using backend SequentialBackend with 1 concurrent workers.\n"
     ]
    },
    {
     "name": "stdout",
     "output_type": "stream",
     "text": [
      "building tree 1 of 35\n"
     ]
    },
    {
     "name": "stderr",
     "output_type": "stream",
     "text": [
      "[Parallel(n_jobs=1)]: Done   1 out of   1 | elapsed:    4.3s remaining:    0.0s\n"
     ]
    },
    {
     "name": "stdout",
     "output_type": "stream",
     "text": [
      "building tree 2 of 35\n"
     ]
    },
    {
     "name": "stderr",
     "output_type": "stream",
     "text": [
      "[Parallel(n_jobs=1)]: Done   2 out of   2 | elapsed:    8.3s remaining:    0.0s\n"
     ]
    },
    {
     "name": "stdout",
     "output_type": "stream",
     "text": [
      "building tree 3 of 35\n",
      "building tree 4 of 35\n",
      "building tree 5 of 35\n",
      "building tree 6 of 35\n",
      "building tree 7 of 35\n",
      "building tree 8 of 35\n",
      "building tree 9 of 35\n",
      "building tree 10 of 35\n",
      "building tree 11 of 35\n",
      "building tree 12 of 35\n",
      "building tree 13 of 35\n",
      "building tree 14 of 35\n",
      "building tree 15 of 35\n",
      "building tree 16 of 35\n",
      "building tree 17 of 35\n",
      "building tree 18 of 35\n",
      "building tree 19 of 35\n",
      "building tree 20 of 35\n",
      "building tree 21 of 35\n",
      "building tree 22 of 35\n",
      "building tree 23 of 35\n",
      "building tree 24 of 35\n",
      "building tree 25 of 35\n",
      "building tree 26 of 35\n",
      "building tree 27 of 35\n",
      "building tree 28 of 35\n",
      "building tree 29 of 35\n",
      "building tree 30 of 35\n",
      "building tree 31 of 35\n",
      "building tree 32 of 35\n",
      "building tree 33 of 35\n",
      "building tree 34 of 35\n",
      "building tree 35 of 35\n"
     ]
    },
    {
     "name": "stderr",
     "output_type": "stream",
     "text": [
      "[Parallel(n_jobs=1)]: Done  35 out of  35 | elapsed:  2.4min finished\n"
     ]
    }
   ],
   "source": [
    "batch_size = 4\n",
    "list_of_training_x_step_4 = np.array_split(X_train_step_4, batch_size)\n",
    "list_of_training_y_step_4 = np.array_split(y_train_step_4, batch_size)\n",
    "n_estimators = 10\n",
    "\n",
    "# Verifica sem algum split ficou com uma amostra a menos\n",
    "for count, y in enumerate(list_of_training_y_step_4):\n",
    "    print(f'Elementos unicos no split {count}:', y.nunique())\n",
    "\n",
    "rf_step_4 = RandomForestClassifier(warm_start=True, n_estimators=n_estimators, max_depth=100, min_samples_leaf=3, min_samples_split=10, verbose=3)\n",
    "\n",
    "for i in range(batch_size):\n",
    "    rf_step_4.fit(list_of_training_x_step_4[i], list_of_training_y_step_4[i])\n",
    "    n_estimators += 35\n",
    "    rf_step_4.set_params(n_estimators=n_estimators)"
   ]
  },
  {
   "cell_type": "code",
   "execution_count": 30,
   "metadata": {
    "colab": {},
    "colab_type": "code",
    "id": "o-GMp6LYzRWl"
   },
   "outputs": [
    {
     "name": "stderr",
     "output_type": "stream",
     "text": [
      "[Parallel(n_jobs=1)]: Using backend SequentialBackend with 1 concurrent workers.\n",
      "[Parallel(n_jobs=1)]: Done   1 out of   1 | elapsed:    0.9s remaining:    0.0s\n",
      "[Parallel(n_jobs=1)]: Done   2 out of   2 | elapsed:    1.3s remaining:    0.0s\n",
      "[Parallel(n_jobs=1)]: Done 115 out of 115 | elapsed:   56.6s finished\n"
     ]
    }
   ],
   "source": [
    "predictions_step_4 = rf_step_4.predict(X_test_step_4)"
   ]
  },
  {
   "cell_type": "code",
   "execution_count": 31,
   "metadata": {
    "colab": {},
    "colab_type": "code",
    "id": "ZjeGJS4-zTYL"
   },
   "outputs": [
    {
     "name": "stderr",
     "output_type": "stream",
     "text": [
      "/home/renato/anaconda3/lib/python3.7/site-packages/sklearn/metrics/classification.py:1143: UndefinedMetricWarning: Precision and F-score are ill-defined and being set to 0.0 in labels with no predicted samples.\n",
      "  'precision', 'predicted', average, warn_for)\n",
      "/home/renato/anaconda3/lib/python3.7/site-packages/sklearn/metrics/classification.py:1143: UndefinedMetricWarning: Precision and F-score are ill-defined and being set to 0.0 in labels with no predicted samples.\n",
      "  'precision', 'predicted', average, warn_for)\n",
      "/home/renato/anaconda3/lib/python3.7/site-packages/sklearn/metrics/classification.py:1143: UndefinedMetricWarning: Precision and F-score are ill-defined and being set to 0.0 in labels with no predicted samples.\n",
      "  'precision', 'predicted', average, warn_for)\n"
     ]
    }
   ],
   "source": [
    "cr_step_4 = classification_report(y_test_step_4, predictions_step_4, output_dict=True)\n",
    "cr_df_step_4 = pd.DataFrame(cr_step_4).transpose()\n",
    "cr_df_step_4.to_csv('result_4.csv')"
   ]
  },
  {
   "cell_type": "markdown",
   "metadata": {
    "colab_type": "text",
    "id": "qxZFNJw802cA"
   },
   "source": [
    "## Passo 5: Adicionando ainda mais features"
   ]
  },
  {
   "cell_type": "code",
   "execution_count": 15,
   "metadata": {
    "colab": {},
    "colab_type": "code",
    "id": "1XI26ebn077e"
   },
   "outputs": [
    {
     "data": {
      "text/html": [
       "<div>\n",
       "<style scoped>\n",
       "    .dataframe tbody tr th:only-of-type {\n",
       "        vertical-align: middle;\n",
       "    }\n",
       "\n",
       "    .dataframe tbody tr th {\n",
       "        vertical-align: top;\n",
       "    }\n",
       "\n",
       "    .dataframe thead th {\n",
       "        text-align: right;\n",
       "    }\n",
       "</style>\n",
       "<table border=\"1\" class=\"dataframe\">\n",
       "  <thead>\n",
       "    <tr style=\"text-align: right;\">\n",
       "      <th></th>\n",
       "      <th>mean_q</th>\n",
       "      <th>mean_r</th>\n",
       "      <th>mean_s</th>\n",
       "      <th>mean_p</th>\n",
       "      <th>mean_t</th>\n",
       "      <th>stdev_q</th>\n",
       "      <th>stdev_r</th>\n",
       "      <th>stdev_s</th>\n",
       "      <th>mean_rr_interval</th>\n",
       "      <th>mean_rq_amplitude</th>\n",
       "      <th>...</th>\n",
       "      <th>mean_t_onset</th>\n",
       "      <th>mean_t_offset</th>\n",
       "      <th>mean_qt_interval</th>\n",
       "      <th>mean_st_interval</th>\n",
       "      <th>mean_t_wave</th>\n",
       "      <th>mean_pq_segment</th>\n",
       "      <th>mean_st_segment</th>\n",
       "      <th>mean_tp_segment</th>\n",
       "      <th>mean_pp_interval</th>\n",
       "      <th>person</th>\n",
       "    </tr>\n",
       "  </thead>\n",
       "  <tbody>\n",
       "    <tr>\n",
       "      <th>0</th>\n",
       "      <td>-0.713329</td>\n",
       "      <td>0.792270</td>\n",
       "      <td>-0.173784</td>\n",
       "      <td>0.792270</td>\n",
       "      <td>0.792270</td>\n",
       "      <td>0.006206</td>\n",
       "      <td>0.040516</td>\n",
       "      <td>0.012240</td>\n",
       "      <td>930.0</td>\n",
       "      <td>1.505599</td>\n",
       "      <td>...</td>\n",
       "      <td>-0.612744</td>\n",
       "      <td>0.332516</td>\n",
       "      <td>23.5</td>\n",
       "      <td>23.5</td>\n",
       "      <td>6.000000</td>\n",
       "      <td>23.5</td>\n",
       "      <td>29.5</td>\n",
       "      <td>180.0</td>\n",
       "      <td>930.0</td>\n",
       "      <td>tr14-0291</td>\n",
       "    </tr>\n",
       "    <tr>\n",
       "      <th>1</th>\n",
       "      <td>-0.665888</td>\n",
       "      <td>0.758830</td>\n",
       "      <td>-0.193415</td>\n",
       "      <td>0.758830</td>\n",
       "      <td>0.758830</td>\n",
       "      <td>0.010788</td>\n",
       "      <td>0.011119</td>\n",
       "      <td>0.002074</td>\n",
       "      <td>860.0</td>\n",
       "      <td>1.424718</td>\n",
       "      <td>...</td>\n",
       "      <td>-0.340489</td>\n",
       "      <td>0.303593</td>\n",
       "      <td>28.0</td>\n",
       "      <td>28.0</td>\n",
       "      <td>5.500000</td>\n",
       "      <td>28.0</td>\n",
       "      <td>33.5</td>\n",
       "      <td>166.0</td>\n",
       "      <td>860.0</td>\n",
       "      <td>tr14-0291</td>\n",
       "    </tr>\n",
       "    <tr>\n",
       "      <th>2</th>\n",
       "      <td>-0.724221</td>\n",
       "      <td>0.822585</td>\n",
       "      <td>-0.199239</td>\n",
       "      <td>0.849976</td>\n",
       "      <td>0.822585</td>\n",
       "      <td>0.021476</td>\n",
       "      <td>0.038941</td>\n",
       "      <td>0.001512</td>\n",
       "      <td>850.0</td>\n",
       "      <td>1.546806</td>\n",
       "      <td>...</td>\n",
       "      <td>-0.358754</td>\n",
       "      <td>0.378349</td>\n",
       "      <td>28.0</td>\n",
       "      <td>28.0</td>\n",
       "      <td>5.333333</td>\n",
       "      <td>58.0</td>\n",
       "      <td>33.5</td>\n",
       "      <td>164.5</td>\n",
       "      <td>1000.0</td>\n",
       "      <td>tr14-0291</td>\n",
       "    </tr>\n",
       "    <tr>\n",
       "      <th>3</th>\n",
       "      <td>-0.727936</td>\n",
       "      <td>0.840291</td>\n",
       "      <td>-0.191848</td>\n",
       "      <td>0.840291</td>\n",
       "      <td>0.840291</td>\n",
       "      <td>0.006431</td>\n",
       "      <td>0.037556</td>\n",
       "      <td>0.006425</td>\n",
       "      <td>925.0</td>\n",
       "      <td>1.568227</td>\n",
       "      <td>...</td>\n",
       "      <td>-0.490308</td>\n",
       "      <td>0.376719</td>\n",
       "      <td>27.5</td>\n",
       "      <td>27.5</td>\n",
       "      <td>5.500000</td>\n",
       "      <td>27.5</td>\n",
       "      <td>33.0</td>\n",
       "      <td>179.0</td>\n",
       "      <td>925.0</td>\n",
       "      <td>tr14-0291</td>\n",
       "    </tr>\n",
       "    <tr>\n",
       "      <th>4</th>\n",
       "      <td>-0.742179</td>\n",
       "      <td>0.808661</td>\n",
       "      <td>-0.189985</td>\n",
       "      <td>0.808661</td>\n",
       "      <td>0.808661</td>\n",
       "      <td>0.007297</td>\n",
       "      <td>0.002672</td>\n",
       "      <td>0.005386</td>\n",
       "      <td>870.0</td>\n",
       "      <td>1.550841</td>\n",
       "      <td>...</td>\n",
       "      <td>-0.517346</td>\n",
       "      <td>0.263979</td>\n",
       "      <td>27.5</td>\n",
       "      <td>27.5</td>\n",
       "      <td>6.000000</td>\n",
       "      <td>27.5</td>\n",
       "      <td>33.5</td>\n",
       "      <td>168.0</td>\n",
       "      <td>870.0</td>\n",
       "      <td>tr14-0291</td>\n",
       "    </tr>\n",
       "  </tbody>\n",
       "</table>\n",
       "<p>5 rows × 27 columns</p>\n",
       "</div>"
      ],
      "text/plain": [
       "     mean_q    mean_r    mean_s    mean_p    mean_t   stdev_q   stdev_r  \\\n",
       "0 -0.713329  0.792270 -0.173784  0.792270  0.792270  0.006206  0.040516   \n",
       "1 -0.665888  0.758830 -0.193415  0.758830  0.758830  0.010788  0.011119   \n",
       "2 -0.724221  0.822585 -0.199239  0.849976  0.822585  0.021476  0.038941   \n",
       "3 -0.727936  0.840291 -0.191848  0.840291  0.840291  0.006431  0.037556   \n",
       "4 -0.742179  0.808661 -0.189985  0.808661  0.808661  0.007297  0.002672   \n",
       "\n",
       "    stdev_s  mean_rr_interval  mean_rq_amplitude    ...      mean_t_onset  \\\n",
       "0  0.012240             930.0           1.505599    ...         -0.612744   \n",
       "1  0.002074             860.0           1.424718    ...         -0.340489   \n",
       "2  0.001512             850.0           1.546806    ...         -0.358754   \n",
       "3  0.006425             925.0           1.568227    ...         -0.490308   \n",
       "4  0.005386             870.0           1.550841    ...         -0.517346   \n",
       "\n",
       "   mean_t_offset  mean_qt_interval  mean_st_interval  mean_t_wave  \\\n",
       "0       0.332516              23.5              23.5     6.000000   \n",
       "1       0.303593              28.0              28.0     5.500000   \n",
       "2       0.378349              28.0              28.0     5.333333   \n",
       "3       0.376719              27.5              27.5     5.500000   \n",
       "4       0.263979              27.5              27.5     6.000000   \n",
       "\n",
       "   mean_pq_segment  mean_st_segment  mean_tp_segment  mean_pp_interval  \\\n",
       "0             23.5             29.5            180.0             930.0   \n",
       "1             28.0             33.5            166.0             860.0   \n",
       "2             58.0             33.5            164.5            1000.0   \n",
       "3             27.5             33.0            179.0             925.0   \n",
       "4             27.5             33.5            168.0             870.0   \n",
       "\n",
       "      person  \n",
       "0  tr14-0291  \n",
       "1  tr14-0291  \n",
       "2  tr14-0291  \n",
       "3  tr14-0291  \n",
       "4  tr14-0291  \n",
       "\n",
       "[5 rows x 27 columns]"
      ]
     },
     "execution_count": 15,
     "metadata": {},
     "output_type": "execute_result"
    }
   ],
   "source": [
    "step_5.head()"
   ]
  },
  {
   "cell_type": "code",
   "execution_count": 7,
   "metadata": {},
   "outputs": [
    {
     "data": {
      "text/plain": [
       "<matplotlib.axes._subplots.AxesSubplot at 0x7fb4f20cafd0>"
      ]
     },
     "execution_count": 7,
     "metadata": {},
     "output_type": "execute_result"
    },
    {
     "data": {
      "image/png": "[encoded data removed]",
      "text/plain": [
       "<Figure size 1440x720 with 1 Axes>"
      ]
     },
     "metadata": {
      "needs_background": "light"
     },
     "output_type": "display_data"
    }
   ],
   "source": [
    "plt.figure(figsize=(20,10))\n",
    "plt.title(\"Cumulative distribution of number of examples\")\n",
    "step_5['person'].value_counts(ascending=True).hist(cumulative=True, density=1)"
   ]
  },
  {
   "cell_type": "code",
   "execution_count": 6,
   "metadata": {
    "colab": {},
    "colab_type": "code",
    "id": "EQ1nx_pT0-A-"
   },
   "outputs": [],
   "source": [
    "## Remove pessoas que tem menos que 60 segmentos\n",
    "min_n_of_segments = 60\n",
    "mask = step_5['person'].value_counts() < min_n_of_segments\n",
    "people_to_remove = list(mask[mask].index)\n",
    "\n",
    "for person in people_to_remove:\n",
    "    step_5 = step_5[step_5.person != person]"
   ]
  },
  {
   "cell_type": "code",
   "execution_count": 8,
   "metadata": {
    "colab": {},
    "colab_type": "code",
    "id": "ZRVbP5r01Lsz"
   },
   "outputs": [
    {
     "name": "stdout",
     "output_type": "stream",
     "text": [
      "Há 1769 classes únicas no conjunto de TREINO\n",
      "Há 1769 classes únicas no conjunto de TESTE\n"
     ]
    }
   ],
   "source": [
    "#le_step_5 = LabelEncoder()\n",
    "#step_5['person'] = pd.Series(le_step_5.fit_transform(step_5['person']))\n",
    "\n",
    "X_step_5 = step_5.drop('person', axis=1)\n",
    "# Preenche os dados faltosos com a média da respectiva coluna\n",
    "X_step_5 = X_step_5.apply(lambda x: x.fillna(x.mean()))\n",
    "# O objeto da predição é 'y' (os rótulos das classes)\n",
    "y_step_5 = step_5['person']\n",
    "\n",
    "X_train_step_5, X_test_step_5, y_train_step_5, y_test_step_5 = train_test_split(X_step_5, y_step_5,\n",
    "                                                                                test_size = 0.2, stratify=y_step_5)\n",
    "print(f'Há {y_train_step_5.nunique()} classes únicas no conjunto de TREINO')\n",
    "print(f'Há {y_test_step_5.nunique()} classes únicas no conjunto de TESTE')"
   ]
  },
  {
   "cell_type": "code",
   "execution_count": 9,
   "metadata": {
    "colab": {},
    "colab_type": "code",
    "id": "3dzqPuMx1MDE"
   },
   "outputs": [
    {
     "name": "stdout",
     "output_type": "stream",
     "text": [
      "Elementos unicos no split 0: 1769\n",
      "Elementos unicos no split 1: 1769\n",
      "Elementos unicos no split 2: 1769\n",
      "Elementos unicos no split 3: 1769\n",
      "building tree 1 of 10\n"
     ]
    },
    {
     "name": "stderr",
     "output_type": "stream",
     "text": [
      "[Parallel(n_jobs=1)]: Using backend SequentialBackend with 1 concurrent workers.\n",
      "[Parallel(n_jobs=1)]: Done   1 out of   1 | elapsed:    4.1s remaining:    0.0s\n"
     ]
    },
    {
     "name": "stdout",
     "output_type": "stream",
     "text": [
      "building tree 2 of 10\n"
     ]
    },
    {
     "name": "stderr",
     "output_type": "stream",
     "text": [
      "[Parallel(n_jobs=1)]: Done   2 out of   2 | elapsed:    8.2s remaining:    0.0s\n"
     ]
    },
    {
     "name": "stdout",
     "output_type": "stream",
     "text": [
      "building tree 3 of 10\n",
      "building tree 4 of 10\n",
      "building tree 5 of 10\n",
      "building tree 6 of 10\n",
      "building tree 7 of 10\n",
      "building tree 8 of 10\n",
      "building tree 9 of 10\n",
      "building tree 10 of 10\n"
     ]
    },
    {
     "name": "stderr",
     "output_type": "stream",
     "text": [
      "[Parallel(n_jobs=1)]: Done  10 out of  10 | elapsed:   40.8s finished\n",
      "[Parallel(n_jobs=1)]: Using backend SequentialBackend with 1 concurrent workers.\n"
     ]
    },
    {
     "name": "stdout",
     "output_type": "stream",
     "text": [
      "building tree 1 of 35\n"
     ]
    },
    {
     "name": "stderr",
     "output_type": "stream",
     "text": [
      "[Parallel(n_jobs=1)]: Done   1 out of   1 | elapsed:    4.3s remaining:    0.0s\n"
     ]
    },
    {
     "name": "stdout",
     "output_type": "stream",
     "text": [
      "building tree 2 of 35\n"
     ]
    },
    {
     "name": "stderr",
     "output_type": "stream",
     "text": [
      "[Parallel(n_jobs=1)]: Done   2 out of   2 | elapsed:    8.9s remaining:    0.0s\n"
     ]
    },
    {
     "name": "stdout",
     "output_type": "stream",
     "text": [
      "building tree 3 of 35\n",
      "building tree 4 of 35\n",
      "building tree 5 of 35\n",
      "building tree 6 of 35\n",
      "building tree 7 of 35\n",
      "building tree 8 of 35\n",
      "building tree 9 of 35\n",
      "building tree 10 of 35\n",
      "building tree 11 of 35\n",
      "building tree 12 of 35\n",
      "building tree 13 of 35\n",
      "building tree 14 of 35\n",
      "building tree 15 of 35\n",
      "building tree 16 of 35\n",
      "building tree 17 of 35\n",
      "building tree 18 of 35\n",
      "building tree 19 of 35\n",
      "building tree 20 of 35\n",
      "building tree 21 of 35\n",
      "building tree 22 of 35\n",
      "building tree 23 of 35\n",
      "building tree 24 of 35\n",
      "building tree 25 of 35\n",
      "building tree 26 of 35\n",
      "building tree 27 of 35\n",
      "building tree 28 of 35\n",
      "building tree 29 of 35\n",
      "building tree 30 of 35\n",
      "building tree 31 of 35\n",
      "building tree 32 of 35\n",
      "building tree 33 of 35\n",
      "building tree 34 of 35\n",
      "building tree 35 of 35\n"
     ]
    },
    {
     "name": "stderr",
     "output_type": "stream",
     "text": [
      "[Parallel(n_jobs=1)]: Done  35 out of  35 | elapsed:  2.4min finished\n",
      "[Parallel(n_jobs=1)]: Using backend SequentialBackend with 1 concurrent workers.\n"
     ]
    },
    {
     "name": "stdout",
     "output_type": "stream",
     "text": [
      "building tree 1 of 35\n"
     ]
    },
    {
     "name": "stderr",
     "output_type": "stream",
     "text": [
      "[Parallel(n_jobs=1)]: Done   1 out of   1 | elapsed:    4.4s remaining:    0.0s\n"
     ]
    },
    {
     "name": "stdout",
     "output_type": "stream",
     "text": [
      "building tree 2 of 35\n"
     ]
    },
    {
     "name": "stderr",
     "output_type": "stream",
     "text": [
      "[Parallel(n_jobs=1)]: Done   2 out of   2 | elapsed:    8.6s remaining:    0.0s\n"
     ]
    },
    {
     "name": "stdout",
     "output_type": "stream",
     "text": [
      "building tree 3 of 35\n",
      "building tree 4 of 35\n",
      "building tree 5 of 35\n",
      "building tree 6 of 35\n",
      "building tree 7 of 35\n",
      "building tree 8 of 35\n",
      "building tree 9 of 35\n",
      "building tree 10 of 35\n",
      "building tree 11 of 35\n",
      "building tree 12 of 35\n",
      "building tree 13 of 35\n",
      "building tree 14 of 35\n",
      "building tree 15 of 35\n",
      "building tree 16 of 35\n",
      "building tree 17 of 35\n",
      "building tree 18 of 35\n",
      "building tree 19 of 35\n",
      "building tree 20 of 35\n",
      "building tree 21 of 35\n",
      "building tree 22 of 35\n",
      "building tree 23 of 35\n",
      "building tree 24 of 35\n",
      "building tree 25 of 35\n",
      "building tree 26 of 35\n",
      "building tree 27 of 35\n",
      "building tree 28 of 35\n",
      "building tree 29 of 35\n",
      "building tree 30 of 35\n",
      "building tree 31 of 35\n",
      "building tree 32 of 35\n",
      "building tree 33 of 35\n",
      "building tree 34 of 35\n",
      "building tree 35 of 35\n"
     ]
    },
    {
     "name": "stderr",
     "output_type": "stream",
     "text": [
      "[Parallel(n_jobs=1)]: Done  35 out of  35 | elapsed:  2.5min finished\n",
      "[Parallel(n_jobs=1)]: Using backend SequentialBackend with 1 concurrent workers.\n"
     ]
    },
    {
     "name": "stdout",
     "output_type": "stream",
     "text": [
      "building tree 1 of 35\n"
     ]
    },
    {
     "name": "stderr",
     "output_type": "stream",
     "text": [
      "[Parallel(n_jobs=1)]: Done   1 out of   1 | elapsed:    4.1s remaining:    0.0s\n"
     ]
    },
    {
     "name": "stdout",
     "output_type": "stream",
     "text": [
      "building tree 2 of 35\n"
     ]
    },
    {
     "name": "stderr",
     "output_type": "stream",
     "text": [
      "[Parallel(n_jobs=1)]: Done   2 out of   2 | elapsed:    8.3s remaining:    0.0s\n"
     ]
    },
    {
     "name": "stdout",
     "output_type": "stream",
     "text": [
      "building tree 3 of 35\n",
      "building tree 4 of 35\n",
      "building tree 5 of 35\n",
      "building tree 6 of 35\n",
      "building tree 7 of 35\n",
      "building tree 8 of 35\n",
      "building tree 9 of 35\n",
      "building tree 10 of 35\n",
      "building tree 11 of 35\n",
      "building tree 12 of 35\n",
      "building tree 13 of 35\n",
      "building tree 14 of 35\n",
      "building tree 15 of 35\n",
      "building tree 16 of 35\n",
      "building tree 17 of 35\n",
      "building tree 18 of 35\n",
      "building tree 19 of 35\n",
      "building tree 20 of 35\n",
      "building tree 21 of 35\n",
      "building tree 22 of 35\n",
      "building tree 23 of 35\n",
      "building tree 24 of 35\n",
      "building tree 25 of 35\n",
      "building tree 26 of 35\n",
      "building tree 27 of 35\n",
      "building tree 28 of 35\n",
      "building tree 29 of 35\n",
      "building tree 30 of 35\n",
      "building tree 31 of 35\n",
      "building tree 32 of 35\n",
      "building tree 33 of 35\n",
      "building tree 34 of 35\n",
      "building tree 35 of 35\n"
     ]
    },
    {
     "name": "stderr",
     "output_type": "stream",
     "text": [
      "[Parallel(n_jobs=1)]: Done  35 out of  35 | elapsed:  2.4min finished\n"
     ]
    }
   ],
   "source": [
    "batch_size = 4\n",
    "list_of_training_x_step_5 = np.array_split(X_train_step_5, batch_size)\n",
    "list_of_training_y_step_5 = np.array_split(y_train_step_5, batch_size)\n",
    "n_estimators = 10\n",
    "\n",
    "# Verifica sem algum split ficou com uma amostra a menos\n",
    "for count, y in enumerate(list_of_training_y_step_5):\n",
    "    print(f'Elementos unicos no split {count}:', y.nunique())\n",
    "\n",
    "rf_step_5 = RandomForestClassifier(warm_start=True, n_estimators=n_estimators, max_depth=100, min_samples_leaf=3, min_samples_split=10, verbose=3)\n",
    "\n",
    "for i in range(batch_size):\n",
    "    rf_step_5.fit(list_of_training_x_step_5[i], list_of_training_y_step_5[i])\n",
    "    n_estimators += 35\n",
    "    rf_step_5.set_params(n_estimators=n_estimators)"
   ]
  },
  {
   "cell_type": "code",
   "execution_count": 10,
   "metadata": {
    "colab": {},
    "colab_type": "code",
    "id": "0q-z8ioF1MUS"
   },
   "outputs": [
    {
     "name": "stderr",
     "output_type": "stream",
     "text": [
      "[Parallel(n_jobs=1)]: Using backend SequentialBackend with 1 concurrent workers.\n",
      "[Parallel(n_jobs=1)]: Done   1 out of   1 | elapsed:    0.8s remaining:    0.0s\n",
      "[Parallel(n_jobs=1)]: Done   2 out of   2 | elapsed:    1.3s remaining:    0.0s\n",
      "[Parallel(n_jobs=1)]: Done 115 out of 115 | elapsed:   56.5s finished\n"
     ]
    }
   ],
   "source": [
    "predictions_step_5 = rf_step_5.predict(X_test_step_5)"
   ]
  },
  {
   "cell_type": "code",
   "execution_count": 12,
   "metadata": {
    "colab": {},
    "colab_type": "code",
    "id": "DCLcgyta1bWO"
   },
   "outputs": [],
   "source": [
    "cr_step_5 = classification_report(y_test_step_5, predictions_step_5, output_dict=True)\n",
    "cr_df_step_5 = pd.DataFrame(cr_step_5).transpose()\n",
    "cr_df_step_5.to_csv('result_5.csv')"
   ]
  },
  {
   "cell_type": "markdown",
   "metadata": {},
   "source": [
    "## Verificando a importância das features"
   ]
  },
  {
   "cell_type": "code",
   "execution_count": 18,
   "metadata": {},
   "outputs": [
    {
     "name": "stdout",
     "output_type": "stream",
     "text": [
      "Feature: mean_q               Importance: 0.07\n",
      "Feature: mean_s               Importance: 0.06\n",
      "Feature: mean_rr_interval     Importance: 0.06\n",
      "Feature: mean_rq_amplitude    Importance: 0.06\n",
      "Feature: mean_tp_segment      Importance: 0.06\n",
      "Feature: mean_r               Importance: 0.05\n",
      "Feature: mean_p               Importance: 0.05\n",
      "Feature: mean_t               Importance: 0.05\n",
      "Feature: mean_qrs_offset      Importance: 0.05\n",
      "Feature: mean_qrs_onset       Importance: 0.05\n",
      "Feature: mean_t_offset        Importance: 0.05\n",
      "Feature: mean_t_wave          Importance: 0.05\n",
      "Feature: mean_p_offset        Importance: 0.04\n",
      "Feature: mean_st_segment      Importance: 0.04\n",
      "Feature: mean_qs_distance     Importance: 0.03\n",
      "Feature: mean_p_onset         Importance: 0.03\n",
      "Feature: mean_t_onset         Importance: 0.03\n",
      "Feature: mean_qt_interval     Importance: 0.03\n",
      "Feature: mean_st_interval     Importance: 0.03\n",
      "Feature: mean_pp_interval     Importance: 0.03\n",
      "Feature: stdev_r              Importance: 0.02\n",
      "Feature: mean_qt_distance     Importance: 0.02\n",
      "Feature: mean_pq_segment      Importance: 0.02\n",
      "Feature: stdev_q              Importance: 0.01\n",
      "Feature: stdev_s              Importance: 0.01\n",
      "Feature: mean_qrs_interval    Importance: 0.0\n"
     ]
    }
   ],
   "source": [
    "importances = [(feature, round(importance, 2)) for feature, importance in zip(X_step_5.columns, rf_step_5.feature_importances_)]\n",
    "sorted_importances = sorted(importances, key=lambda x:x[1], reverse=True) \n",
    "\n",
    "for pair in sorted_importances:\n",
    "    print('Feature: {:20} Importance: {}'.format(*pair))"
   ]
  },
  {
   "cell_type": "code",
   "execution_count": 31,
   "metadata": {},
   "outputs": [
    {
     "data": {
      "image/png": "[encoded data removed]",
      "text/plain": [
       "<Figure size 720x864 with 1 Axes>"
      ]
     },
     "metadata": {
      "needs_background": "light"
     },
     "output_type": "display_data"
    }
   ],
   "source": [
    "x_values = range(len(rf_step_5.feature_importances_))\n",
    "plt.figure(figsize=(10,12))\n",
    "plt.ylabel('Importance')\n",
    "plt.xlabel('Feature')\n",
    "plt.title('Feature Importance')\n",
    "plt.xticks(x_values, X_step_5.columns, rotation='vertical')\n",
    "plt.bar(x_values, rf_step_5.feature_importances_, orientation = 'vertical')\n",
    "plt.savefig(\"feature_importance.jpg\")"
   ]
  },
  {
   "cell_type": "markdown",
   "metadata": {
    "colab_type": "text",
    "id": "7ADmpqTQAm9M"
   },
   "source": [
    "## Visualizing the results"
   ]
  },
  {
   "cell_type": "code",
   "execution_count": 47,
   "metadata": {
    "colab": {},
    "colab_type": "code",
    "id": "8pYeYw6_GS9d"
   },
   "outputs": [],
   "source": [
    " def set_shared_ylabel(a, ylabel, labelpad = 0.01):\n",
    "    \"\"\"Set a y label shared by multiple axes\n",
    "    Parameters\n",
    "    ----------\n",
    "    a: list of axes\n",
    "    ylabel: string\n",
    "    labelpad: float\n",
    "        Sets the padding between ticklabels and axis label\"\"\"\n",
    "\n",
    "    f = a[0].get_figure()\n",
    "    f.canvas.draw() #sets f.canvas.renderer needed below\n",
    "\n",
    "    # get the center position for all plots\n",
    "    top = a[0].get_position().y1\n",
    "    bottom = a[-1].get_position().y0\n",
    "\n",
    "    # get the coordinates of the left side of the tick labels \n",
    "    x0 = 1\n",
    "    for at in a:\n",
    "        at.set_ylabel('') # just to make sure we don't and up with multiple labels\n",
    "        bboxes, _ = at.yaxis.get_ticklabel_extents(f.canvas.renderer)\n",
    "        bboxes = bboxes.inverse_transformed(f.transFigure)\n",
    "        xt = bboxes.x0\n",
    "        if xt < x0:\n",
    "            x0 = xt\n",
    "    tick_label_left = x0\n",
    "\n",
    "    # set position of label\n",
    "    a[-1].set_ylabel(ylabel, fontsize=22)\n",
    "    a[-1].yaxis.set_label_coords(tick_label_left - labelpad,(bottom + top)/2, transform=f.transFigure)"
   ]
  },
  {
   "cell_type": "code",
   "execution_count": 48,
   "metadata": {
    "colab": {},
    "colab_type": "code",
    "id": "7Ieu112kA9Wv"
   },
   "outputs": [],
   "source": [
    "def filter_results(results):\n",
    "    \"\"\" Remove the last three rows of a result csv\n",
    "        where there are the accuracy, macro avg and\n",
    "        weighted avg values\n",
    "    \"\"\"\n",
    "    results.rename(columns={\"Unnamed: 0\": \"person\"}, inplace=True)\n",
    "\n",
    "    accuracy = results[results['person'] == 'accuracy']\n",
    "    macro_avg = results[results['person'] == 'macro avg']\n",
    "    weighted_avg = results[results['person'] == 'weighted avg']\n",
    "\n",
    "    results.drop(results.tail(3).index,inplace=True)\n",
    "\n",
    "    return results, accuracy, macro_avg, weighted_avg"
   ]
  },
  {
   "cell_type": "code",
   "execution_count": 23,
   "metadata": {
    "colab": {},
    "colab_type": "code",
    "id": "l8_qSoaGH1cf"
   },
   "outputs": [],
   "source": [
    "# plot settings\n",
    "\n",
    "sns.set_context(\"paper\", font_scale=2, rc={\"lines.linewidth\": 2})\n",
    "#plt.rcParams['font.family'] = 'Arial'\n",
    "plt.rcParams['mathtext.rm'] = 'Arial'\n",
    "plt.rcParams.update({'font.size': 22})"
   ]
  },
  {
   "cell_type": "code",
   "execution_count": 50,
   "metadata": {
    "colab": {},
    "colab_type": "code",
    "id": "_2Y46T76Apsl"
   },
   "outputs": [],
   "source": [
    "results_step_1, accuracy_step_1, macro_avg_step_1, weighted_avg_step_1 = filter_results(pd.read_csv('result_1.csv'))\n",
    "results_step_2, accuracy_step_2, macro_avg_step_2, weighted_avg_step_2 = filter_results(pd.read_csv('result_2.csv'))\n",
    "results_step_3, accuracy_step_3, macro_avg_step_3, weighted_avg_step_3 = filter_results(pd.read_csv('result_3.csv'))\n",
    "results_step_4, accuracy_step_4, macro_avg_step_4, weighted_avg_step_4 = filter_results(pd.read_csv('result_4.csv'))\n",
    "results_step_5, accuracy_step_5, macro_avg_step_5, weighted_avg_step_5 = filter_results(pd.read_csv('result_5.csv'))"
   ]
  },
  {
   "cell_type": "code",
   "execution_count": 52,
   "metadata": {
    "colab": {
     "base_uri": "https://localhost:8080/",
     "height": 48
    },
    "colab_type": "code",
    "id": "2KvCXipOWlEs",
    "outputId": "c579fd82-68cd-433c-9bdc-2256cf7bf746"
   },
   "outputs": [
    {
     "data": {
      "text/html": [
       "<div>\n",
       "<style scoped>\n",
       "    .dataframe tbody tr th:only-of-type {\n",
       "        vertical-align: middle;\n",
       "    }\n",
       "\n",
       "    .dataframe tbody tr th {\n",
       "        vertical-align: top;\n",
       "    }\n",
       "\n",
       "    .dataframe thead th {\n",
       "        text-align: right;\n",
       "    }\n",
       "</style>\n",
       "<table border=\"1\" class=\"dataframe\">\n",
       "  <thead>\n",
       "    <tr style=\"text-align: right;\">\n",
       "      <th></th>\n",
       "      <th>person</th>\n",
       "      <th>f1-score</th>\n",
       "      <th>precision</th>\n",
       "      <th>recall</th>\n",
       "      <th>support</th>\n",
       "    </tr>\n",
       "  </thead>\n",
       "  <tbody>\n",
       "  </tbody>\n",
       "</table>\n",
       "</div>"
      ],
      "text/plain": [
       "Empty DataFrame\n",
       "Columns: [person, f1-score, precision, recall, support]\n",
       "Index: []"
      ]
     },
     "execution_count": 52,
     "metadata": {},
     "output_type": "execute_result"
    }
   ],
   "source": [
    "# example\n",
    "accuracy_step_4.tail()"
   ]
  },
  {
   "cell_type": "code",
   "execution_count": 63,
   "metadata": {
    "colab": {
     "base_uri": "https://localhost:8080/",
     "height": 891
    },
    "colab_type": "code",
    "id": "BdGgrYsrZAPS",
    "outputId": "4df8e669-1508-4fcf-f169-1651a6d1c8dd"
   },
   "outputs": [
    {
     "data": {
      "image/png": "[encoded data removed]",
      "text/plain": [
       "<Figure size 1440x864 with 5 Axes>"
      ]
     },
     "metadata": {},
     "output_type": "display_data"
    }
   ],
   "source": [
    "sharex='col'\n",
    "f, axes = plt.subplots(5, 1, figsize=(20, 12), sharex=True, sharey=True)\n",
    "plt.xlim(0, 1)\n",
    "plt.ylim(0,300)\n",
    "metric= 'precision'\n",
    "bins = 20\n",
    "kde = False\n",
    "aplha = 1\n",
    "\n",
    "#f.suptitle(f'{metric} histogram', fontsize=17)\n",
    "set_shared_ylabel(axes, 'Classes count')\n",
    "plt.xticks(labels=None)\n",
    "# shared x label \n",
    "f.text(0.5, 0.08, 'Precision', ha='center', va='center', fontsize=22)\n",
    "\n",
    "# first distplot blue\n",
    "sns.distplot(results_step_1[metric], bins=bins, kde=kde,\n",
    "             ax=axes[0], color=\"#cccccc\",\n",
    "             label=\"Data without any improvement (Scenario 1)\",\n",
    "             hist_kws={\"alpha\":aplha})\n",
    "axes[0].legend(loc=\"upper left\", prop={'size': 22})\n",
    "axes[0].set_ylim(0,500)\n",
    "axes[0].set_xlabel(None)\n",
    "\n",
    "# second distpot olive\n",
    "sns.distplot(results_step_2[metric], bins=bins, kde=kde,\n",
    "             ax=axes[1], color=\"#999999\",\n",
    "             label=\"Data with an increased number of examples (Scenario 2)\",\n",
    "             hist_kws={\"alpha\":aplha})\n",
    "axes[1].legend(loc=\"upper left\", prop={'size': 22})\n",
    "axes[1].set_ylim(0,500)\n",
    "axes[1].set_xlabel(None)\n",
    "\n",
    "# third distplot red\n",
    "sns.distplot(results_step_3[metric], bins=bins, kde=kde,\n",
    "             ax=axes[2], color=\"#666666\",\n",
    "             label=\"Data with an increased number of examples and outlier removal (Scenario 3)\",\n",
    "             hist_kws={\"alpha\":aplha})\n",
    "axes[2].legend(loc=\"upper left\", prop={'size': 22})\n",
    "axes[2].set_ylim(0,500)\n",
    "axes[2].set_xlabel(None)\n",
    "\n",
    "# fourth distplot purple\n",
    "sns.distplot(results_step_4[metric], bins=bins, kde=kde,\n",
    "             ax=axes[3], color=\"#333333\",\n",
    "             label=\"First additon of features\",\n",
    "             hist_kws={\"alpha\":aplha})\n",
    "axes[3].legend(loc=\"upper left\", prop={'size': 22})\n",
    "axes[3].set_ylim(0,500)\n",
    "axes[3].set_xlabel(None)\n",
    "\n",
    "# fifth distplot purple\n",
    "sns.distplot(results_step_5[metric], bins=bins, kde=kde,\n",
    "             ax=axes[4], color=\"#000000\",\n",
    "             label=\"Second addition of features\",\n",
    "             hist_kws={\"alpha\":aplha})\n",
    "axes[4].legend(loc=\"upper left\", prop={'size': 22})\n",
    "axes[4].set_ylim(0,500)\n",
    "axes[4].set_xlabel(None)\n",
    "\n",
    "plt.savefig(\"precision_histogram.png\")\n",
    "#files.download(\"precision_histogram.eps\")"
   ]
  },
  {
   "cell_type": "code",
   "execution_count": 56,
   "metadata": {
    "colab": {
     "base_uri": "https://localhost:8080/",
     "height": 584
    },
    "colab_type": "code",
    "id": "wlXdEUIAD217",
    "outputId": "14f709a0-2bd0-4420-ff6b-6e3a4dee54d4"
   },
   "outputs": [
    {
     "name": "stderr",
     "output_type": "stream",
     "text": [
      "/home/renato/anaconda3/lib/python3.7/site-packages/scipy/stats/stats.py:1713: FutureWarning: Using a non-tuple sequence for multidimensional indexing is deprecated; use `arr[tuple(seq)]` instead of `arr[seq]`. In the future this will be interpreted as an array index, `arr[np.array(seq)]`, which will result either in an error or a different result.\n",
      "  return np.add.reduce(sorted[indexer] * weights, axis=axis) / sumval\n"
     ]
    },
    {
     "data": {
      "image/png": "[encoded data removed]",
      "text/plain": [
       "<Figure size 1440x648 with 1 Axes>"
      ]
     },
     "metadata": {},
     "output_type": "display_data"
    }
   ],
   "source": [
    "#Number of classesTODO deix as cores do fundo opacas\n",
    "plt.figure(figsize=(20,9))\n",
    "bins = 20\n",
    "metric = 'precision'\n",
    "kde=True\n",
    "sns.distplot(results_step_5[metric], bins=bins, kde=kde, color=\"orange\", label=\"Second addition of features\")\n",
    "sns.distplot(results_step_4[metric], bins=bins, kde=kde, color=\"purple\", label=\"First addition of features\")\n",
    "sns.distplot(results_step_3[metric], bins=bins, kde=kde, color=\"red\", label=\"Data with an increased number of examples and outlier removal\")\n",
    "sns.distplot(results_step_2[metric], bins=bins, kde=kde, color=\"olive\", label=\"Data with an increased number of examples\")\n",
    "sns.distplot(results_step_1[metric], bins=bins, kde=kde, color=\"blue\", label=\"Data without any improvement\")\n",
    "plt.ylabel('Classes count (hundreds)', fontsize=22)\n",
    "plt.xlabel('Precision', fontsize=22)\n",
    "#plt.title(f'Overlapped {metric} histogram', fontsize=22)\n",
    "plt.xlim(0, 1)\n",
    "#plt.ylim(0, 500)\n",
    "plt.legend(loc=\"upper left\", prop={'size': 22})\n",
    "\n",
    "plt.savefig(\"precision_final.png\")\n",
    "#files.download(\"precision_final.png\") "
   ]
  },
  {
   "cell_type": "code",
   "execution_count": 58,
   "metadata": {
    "colab": {
     "base_uri": "https://localhost:8080/",
     "height": 175
    },
    "colab_type": "code",
    "id": "pChbqn6ch2PC",
    "outputId": "cfdcfd3c-f208-4322-b0f1-186717ffe399"
   },
   "outputs": [
    {
     "data": {
      "text/html": [
       "<div>\n",
       "<style scoped>\n",
       "    .dataframe tbody tr th:only-of-type {\n",
       "        vertical-align: middle;\n",
       "    }\n",
       "\n",
       "    .dataframe tbody tr th {\n",
       "        vertical-align: top;\n",
       "    }\n",
       "\n",
       "    .dataframe thead th {\n",
       "        text-align: right;\n",
       "    }\n",
       "</style>\n",
       "<table border=\"1\" class=\"dataframe\">\n",
       "  <thead>\n",
       "    <tr style=\"text-align: right;\">\n",
       "      <th></th>\n",
       "      <th>f1-score</th>\n",
       "      <th>precision</th>\n",
       "      <th>recall</th>\n",
       "    </tr>\n",
       "  </thead>\n",
       "  <tbody>\n",
       "    <tr>\n",
       "      <th>0</th>\n",
       "      <td>0.506119</td>\n",
       "      <td>0.535932</td>\n",
       "      <td>0.557647</td>\n",
       "    </tr>\n",
       "    <tr>\n",
       "      <th>1</th>\n",
       "      <td>0.672067</td>\n",
       "      <td>0.683719</td>\n",
       "      <td>0.687724</td>\n",
       "    </tr>\n",
       "    <tr>\n",
       "      <th>2</th>\n",
       "      <td>0.697342</td>\n",
       "      <td>0.722697</td>\n",
       "      <td>0.708926</td>\n",
       "    </tr>\n",
       "    <tr>\n",
       "      <th>3</th>\n",
       "      <td>0.777701</td>\n",
       "      <td>0.803922</td>\n",
       "      <td>0.784359</td>\n",
       "    </tr>\n",
       "    <tr>\n",
       "      <th>4</th>\n",
       "      <td>0.820299</td>\n",
       "      <td>0.841033</td>\n",
       "      <td>0.824429</td>\n",
       "    </tr>\n",
       "  </tbody>\n",
       "</table>\n",
       "</div>"
      ],
      "text/plain": [
       "   f1-score  precision    recall\n",
       "0  0.506119   0.535932  0.557647\n",
       "1  0.672067   0.683719  0.687724\n",
       "2  0.697342   0.722697  0.708926\n",
       "3  0.777701   0.803922  0.784359\n",
       "4  0.820299   0.841033  0.824429"
      ]
     },
     "execution_count": 58,
     "metadata": {},
     "output_type": "execute_result"
    }
   ],
   "source": [
    " #unifica os resultados dos 4 testes em um dataframe unico\n",
    "list_of_results = [results_step_1.mean(), results_step_2.mean(), results_step_3.mean(), results_step_4.mean(), results_step_5.mean()]\n",
    "df = pd.DataFrame(list_of_results)\n",
    "df.drop(['support'],  axis=1, inplace=True)\n",
    "df"
   ]
  },
  {
   "cell_type": "markdown",
   "metadata": {
    "colab_type": "text",
    "id": "PwI_2PvXncW2"
   },
   "source": [
    "## Barplot empilhado"
   ]
  },
  {
   "cell_type": "code",
   "execution_count": 59,
   "metadata": {
    "colab": {
     "base_uri": "https://localhost:8080/",
     "height": 543
    },
    "colab_type": "code",
    "id": "dtkykwk3lq7f",
    "outputId": "bf01b1c4-ec00-4e58-c5c9-df1c5678ed8e"
   },
   "outputs": [
    {
     "data": {
      "image/png": "[encoded data removed]",
      "text/plain": [
       "<Figure size 1296x576 with 1 Axes>"
      ]
     },
     "metadata": {},
     "output_type": "display_data"
    }
   ],
   "source": [
    "# y-axis in bold\n",
    "plt.figure(figsize=(18,8))\n",
    "# \n",
    "bars1 = np.add(df.loc[0], df.loc[1]).tolist()\n",
    "bars2 = np.add(np.add(df.loc[0], df.loc[1]), df.loc[2]).tolist()\n",
    "# The position of the bars on the x-axis\n",
    "r = [0,1,2]\n",
    " \n",
    "# Names of group and bar width\n",
    "names = ['precision','recall','f1-score']\n",
    "barWidth = 0.60\n",
    "plt.ylim(0.0,1)\n",
    "alpha = 1\n",
    "\n",
    "# Create brown bars\n",
    "# 368069 old color\n",
    "plt.bar(r, df.loc[3], color='#c7f0db', alpha=alpha, width=barWidth, label=\"Data using our proposed model\")\n",
    "\n",
    "# Create green bars (middle), on top of the firs ones\n",
    "# 56CCA9 old color\n",
    "plt.bar(r, df.loc[2], color='#8bbabb', alpha=alpha, width=barWidth, label=\"Data with an increased number of examples and outlier removal\")\n",
    "\n",
    "# Create green bars (top)\n",
    "#6BFFD3\n",
    "plt.bar(r, df.loc[1], color='#6c7b95', alpha=alpha, width=barWidth, label=\"Data with an increased number of examples\")\n",
    "\n",
    "# step 4\n",
    "#B8FFEA\n",
    "plt.bar(r, df.loc[0], color='#464159', alpha=alpha, width=barWidth, label=\"Data without any improvement\")\n",
    " \n",
    "# Custom X axis\n",
    "plt.xticks(r, names, fontweight='bold')\n",
    "#plt.title('Metrics increase over dataset improvements', fontsize=16)\n",
    "plt.ylabel(\"Evaluation\", fontsize=22)\n",
    "plt.xlabel(\"Metric\", fontsize=22)\n",
    "plt.legend(loc=\"lower right\", prop={'size':22})\n",
    "\n",
    "plt.savefig(\"increased_signal.png\")\n",
    "#files.download(\"increased_signal.png\")"
   ]
  },
  {
   "cell_type": "code",
   "execution_count": 62,
   "metadata": {
    "colab": {
     "base_uri": "https://localhost:8080/",
     "height": 547
    },
    "colab_type": "code",
    "id": "2CIS-30zX4CI",
    "outputId": "61218192-cbf7-4fbd-87a2-945d831134bc"
   },
   "outputs": [
    {
     "data": {
      "image/png": "[encoded data removed]",
      "text/plain": [
       "<Figure size 1152x576 with 1 Axes>"
      ]
     },
     "metadata": {},
     "output_type": "display_data"
    }
   ],
   "source": [
    "plt.figure(figsize=(16,8))\n",
    "\n",
    "# set width of bar\n",
    "barWidth = 0.25\n",
    "\n",
    "# Set position of bar on X axis\n",
    "r1 = np.arange(len(df['precision']))\n",
    "r2 = [x + barWidth for x in r1]\n",
    "r3 = [x + barWidth for x in r2]\n",
    " \n",
    "# Make the plot\n",
    "plt.bar(r1, df['precision'], color='#cccccc', width=barWidth,\n",
    "        edgecolor='white', label='Precision')\n",
    "\n",
    "plt.bar(r2, df['recall'], color='#666666', width=barWidth, \n",
    "        edgecolor='white', label='Recall')\n",
    "\n",
    "plt.bar(r3, df['f1-score'], color='#000000', \n",
    "        width=barWidth, edgecolor='white', label='f1-score')\n",
    " \n",
    "# Add xticks on the middle of the group bars\n",
    "plt.ylabel('Evaluation', fontweight='bold')\n",
    "plt.xticks([r + barWidth for r in range(len(df['precision']))],\n",
    "           ['Scenario 1','Scenario 2','Scenario 3','Scenario 4', 'Scenario 5'],\n",
    "           fontweight='bold')\n",
    " \n",
    "# Create legend & Show graphic\n",
    "plt.legend(loc='upper left')\n",
    "\n",
    "plt.savefig(\"increased_signal_version_2.png\")\n",
    "#files.download(\"increased_signal_version_2.eps\")"
   ]
  }
 ],
 "metadata": {
  "accelerator": "GPU",
  "colab": {
   "collapsed_sections": [],
   "machine_shape": "hm",
   "name": "Meu plot - backend.ipynb",
   "provenance": []
  },
  "kernelspec": {
   "display_name": "Python 3",
   "language": "python",
   "name": "python3"
  },
  "language_info": {
   "codemirror_mode": {
    "name": "ipython",
    "version": 3
   },
   "file_extension": ".py",
   "mimetype": "text/x-python",
   "name": "python",
   "nbconvert_exporter": "python",
   "pygments_lexer": "ipython3",
   "version": "3.7.4"
  }
 },
 "nbformat": 4,
 "nbformat_minor": 2
}
