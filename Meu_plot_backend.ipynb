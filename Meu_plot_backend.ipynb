{
 "cells": [
  {
   "cell_type": "code",
   "execution_count": 1,
   "metadata": {
    "colab": {},
    "colab_type": "code",
    "id": "MaoKznvegU8o"
   },
   "outputs": [],
   "source": [
    "import pandas as pd\n",
    "import numpy as np\n",
    "from scipy import stats\n",
    "import matplotlib.pyplot as plt\n",
    "import seaborn as sns\n",
    "sns.set(style=\"darkgrid\")\n",
    "from sklearn.preprocessing import StandardScaler\n",
    "from sklearn.model_selection import train_test_split\n",
    "from sklearn.ensemble import ExtraTreesClassifier\n",
    "from sklearn.metrics import classification_report, confusion_matrix, precision_score, accuracy_score, precision_recall_fscore_support"
   ]
  },
  {
   "cell_type": "code",
   "execution_count": null,
   "metadata": {
    "colab": {
     "base_uri": "https://localhost:8080/",
     "height": 54
    },
    "colab_type": "code",
    "id": "4NKy3F3ShyrJ",
    "outputId": "66234a31-f6dc-4f33-9fd6-5bb1144a2c16"
   },
   "outputs": [],
   "source": []
  },
  {
   "cell_type": "code",
   "execution_count": null,
   "metadata": {
    "colab": {
     "base_uri": "https://localhost:8080/",
     "height": 34
    },
    "colab_type": "code",
    "id": "v-dwa6SQkuwv",
    "outputId": "312dcf19-1cba-4b1e-df5a-368aaa3b4601"
   },
   "outputs": [],
   "source": []
  },
  {
   "cell_type": "markdown",
   "metadata": {
    "colab_type": "text",
    "id": "Ho5ZooPYgU80"
   },
   "source": [
    "### Introduzindo os dados"
   ]
  },
  {
   "cell_type": "code",
   "execution_count": 2,
   "metadata": {
    "colab": {},
    "colab_type": "code",
    "id": "DDP33eJUgU81"
   },
   "outputs": [],
   "source": [
    "#step_1 = pd.read_csv('extracted_features_files/challenge_raw_everyone.csv')\n",
    "#step_2 = pd.read_csv('extracted_features_files/challenge_processed_everyone.csv')\n",
    "#step_3 = pd.read_csv('extracted_features_files/challenge_cleaned_everyone.csv')\n",
    "step_4 = pd.read_csv('extracted_features_files/challenge_cleaned_everyone.csv')"
   ]
  },
  {
   "cell_type": "code",
   "execution_count": 3,
   "metadata": {
    "colab": {
     "base_uri": "https://localhost:8080/",
     "height": 226
    },
    "colab_type": "code",
    "id": "B6LOsZgVgU85",
    "outputId": "6798b06c-fcb9-4039-90c3-f48e22b3ac3c"
   },
   "outputs": [
    {
     "data": {
      "text/html": [
       "<div>\n",
       "<style scoped>\n",
       "    .dataframe tbody tr th:only-of-type {\n",
       "        vertical-align: middle;\n",
       "    }\n",
       "\n",
       "    .dataframe tbody tr th {\n",
       "        vertical-align: top;\n",
       "    }\n",
       "\n",
       "    .dataframe thead th {\n",
       "        text-align: right;\n",
       "    }\n",
       "</style>\n",
       "<table border=\"1\" class=\"dataframe\">\n",
       "  <thead>\n",
       "    <tr style=\"text-align: right;\">\n",
       "      <th></th>\n",
       "      <th>mean_q</th>\n",
       "      <th>mean_r</th>\n",
       "      <th>mean_s</th>\n",
       "      <th>mean_p</th>\n",
       "      <th>mean_t</th>\n",
       "      <th>stdev_q</th>\n",
       "      <th>stdev_r</th>\n",
       "      <th>stdev_s</th>\n",
       "      <th>mean_rr_interval</th>\n",
       "      <th>mean_rq_amplitude</th>\n",
       "      <th>mean_qrs_interval</th>\n",
       "      <th>mean_qs_distance</th>\n",
       "      <th>mean_qt_distance</th>\n",
       "      <th>mean_qrs_offset</th>\n",
       "      <th>mean_qrs_onset</th>\n",
       "      <th>person</th>\n",
       "    </tr>\n",
       "  </thead>\n",
       "  <tbody>\n",
       "    <tr>\n",
       "      <th>0</th>\n",
       "      <td>-0.713329</td>\n",
       "      <td>0.792270</td>\n",
       "      <td>-0.173784</td>\n",
       "      <td>0.792270</td>\n",
       "      <td>0.792270</td>\n",
       "      <td>0.006206</td>\n",
       "      <td>0.040516</td>\n",
       "      <td>0.012240</td>\n",
       "      <td>930.0</td>\n",
       "      <td>1.505599</td>\n",
       "      <td>42.5</td>\n",
       "      <td>28.500000</td>\n",
       "      <td>5.000000</td>\n",
       "      <td>-0.149761</td>\n",
       "      <td>-0.059106</td>\n",
       "      <td>tr14-0291</td>\n",
       "    </tr>\n",
       "    <tr>\n",
       "      <th>1</th>\n",
       "      <td>-0.665888</td>\n",
       "      <td>0.758830</td>\n",
       "      <td>-0.193415</td>\n",
       "      <td>0.758830</td>\n",
       "      <td>0.758830</td>\n",
       "      <td>0.010788</td>\n",
       "      <td>0.011119</td>\n",
       "      <td>0.002074</td>\n",
       "      <td>860.0</td>\n",
       "      <td>1.424718</td>\n",
       "      <td>47.5</td>\n",
       "      <td>33.500000</td>\n",
       "      <td>5.000000</td>\n",
       "      <td>-0.155581</td>\n",
       "      <td>-0.038329</td>\n",
       "      <td>tr14-0291</td>\n",
       "    </tr>\n",
       "    <tr>\n",
       "      <th>2</th>\n",
       "      <td>-0.724221</td>\n",
       "      <td>0.822585</td>\n",
       "      <td>-0.199239</td>\n",
       "      <td>0.849976</td>\n",
       "      <td>0.822585</td>\n",
       "      <td>0.021476</td>\n",
       "      <td>0.038941</td>\n",
       "      <td>0.001512</td>\n",
       "      <td>850.0</td>\n",
       "      <td>1.546806</td>\n",
       "      <td>76.0</td>\n",
       "      <td>52.333333</td>\n",
       "      <td>24.666667</td>\n",
       "      <td>-0.174172</td>\n",
       "      <td>-0.016297</td>\n",
       "      <td>tr14-0291</td>\n",
       "    </tr>\n",
       "    <tr>\n",
       "      <th>3</th>\n",
       "      <td>-0.727936</td>\n",
       "      <td>0.840291</td>\n",
       "      <td>-0.191848</td>\n",
       "      <td>0.840291</td>\n",
       "      <td>0.840291</td>\n",
       "      <td>0.006431</td>\n",
       "      <td>0.037556</td>\n",
       "      <td>0.006425</td>\n",
       "      <td>925.0</td>\n",
       "      <td>1.568227</td>\n",
       "      <td>44.5</td>\n",
       "      <td>30.500000</td>\n",
       "      <td>5.000000</td>\n",
       "      <td>-0.171177</td>\n",
       "      <td>-0.033540</td>\n",
       "      <td>tr14-0291</td>\n",
       "    </tr>\n",
       "    <tr>\n",
       "      <th>4</th>\n",
       "      <td>-0.742179</td>\n",
       "      <td>0.808661</td>\n",
       "      <td>-0.189985</td>\n",
       "      <td>0.808661</td>\n",
       "      <td>0.808661</td>\n",
       "      <td>0.007297</td>\n",
       "      <td>0.002672</td>\n",
       "      <td>0.005386</td>\n",
       "      <td>870.0</td>\n",
       "      <td>1.550841</td>\n",
       "      <td>44.5</td>\n",
       "      <td>30.500000</td>\n",
       "      <td>4.000000</td>\n",
       "      <td>-0.160617</td>\n",
       "      <td>-0.056178</td>\n",
       "      <td>tr14-0291</td>\n",
       "    </tr>\n",
       "  </tbody>\n",
       "</table>\n",
       "</div>"
      ],
      "text/plain": [
       "     mean_q    mean_r    mean_s    mean_p    mean_t   stdev_q   stdev_r  \\\n",
       "0 -0.713329  0.792270 -0.173784  0.792270  0.792270  0.006206  0.040516   \n",
       "1 -0.665888  0.758830 -0.193415  0.758830  0.758830  0.010788  0.011119   \n",
       "2 -0.724221  0.822585 -0.199239  0.849976  0.822585  0.021476  0.038941   \n",
       "3 -0.727936  0.840291 -0.191848  0.840291  0.840291  0.006431  0.037556   \n",
       "4 -0.742179  0.808661 -0.189985  0.808661  0.808661  0.007297  0.002672   \n",
       "\n",
       "    stdev_s  mean_rr_interval  mean_rq_amplitude  mean_qrs_interval  \\\n",
       "0  0.012240             930.0           1.505599               42.5   \n",
       "1  0.002074             860.0           1.424718               47.5   \n",
       "2  0.001512             850.0           1.546806               76.0   \n",
       "3  0.006425             925.0           1.568227               44.5   \n",
       "4  0.005386             870.0           1.550841               44.5   \n",
       "\n",
       "   mean_qs_distance  mean_qt_distance  mean_qrs_offset  mean_qrs_onset  \\\n",
       "0         28.500000          5.000000        -0.149761       -0.059106   \n",
       "1         33.500000          5.000000        -0.155581       -0.038329   \n",
       "2         52.333333         24.666667        -0.174172       -0.016297   \n",
       "3         30.500000          5.000000        -0.171177       -0.033540   \n",
       "4         30.500000          4.000000        -0.160617       -0.056178   \n",
       "\n",
       "      person  \n",
       "0  tr14-0291  \n",
       "1  tr14-0291  \n",
       "2  tr14-0291  \n",
       "3  tr14-0291  \n",
       "4  tr14-0291  "
      ]
     },
     "execution_count": 3,
     "metadata": {},
     "output_type": "execute_result"
    }
   ],
   "source": [
    "step_1.head(5)"
   ]
  },
  {
   "cell_type": "markdown",
   "metadata": {
    "colab_type": "text",
    "id": "gtsuyT6IgU89"
   },
   "source": [
    "## Passo 1: Treino sem modificações aos dados originais"
   ]
  },
  {
   "cell_type": "code",
   "execution_count": 4,
   "metadata": {
    "colab": {
     "base_uri": "https://localhost:8080/",
     "height": 647
    },
    "colab_type": "code",
    "id": "YcbewVamgU9C",
    "outputId": "595234ff-f59f-4381-fd7d-ec0c693cdc0d"
   },
   "outputs": [
    {
     "data": {
      "text/plain": [
       "<matplotlib.axes._subplots.AxesSubplot at 0x7fa356cb3a50>"
      ]
     },
     "execution_count": 4,
     "metadata": {},
     "output_type": "execute_result"
    },
    {
     "data": {
      "image/png": "[encoded data removed]",
      "text/plain": [
       "<Figure size 1440x720 with 1 Axes>"
      ]
     },
     "metadata": {
      "needs_background": "light"
     },
     "output_type": "display_data"
    }
   ],
   "source": [
    "plt.figure(figsize=(20,10))\n",
    "plt.title(\"Cumulative distribution of number of examples\")\n",
    "step_1['person'].value_counts(ascending=True).hist(cumulative=True, density=1)"
   ]
  },
  {
   "cell_type": "code",
   "execution_count": 5,
   "metadata": {
    "colab": {},
    "colab_type": "code",
    "id": "IaSaauikmso9"
   },
   "outputs": [],
   "source": [
    "## Remove pessoas que tem menos que 28 segmentos\n",
    "min_n_of_segments = 29\n",
    "mask = step_1['person'].value_counts() < min_n_of_segments\n",
    "people_to_remove = list(mask[mask].index)\n",
    "\n",
    "for person in people_to_remove:\n",
    "    step_1 = step_1[step_1.person != person]"
   ]
  },
  {
   "cell_type": "code",
   "execution_count": 6,
   "metadata": {
    "colab": {},
    "colab_type": "code",
    "id": "IXMf70cAgU8-"
   },
   "outputs": [],
   "source": [
    "#le_step_1 = LabelEncoder()\n",
    "#step_1['person'] = pd.Series(le_step_1.fit_transform(step_1['person']))\n",
    "original_columns = ['mean_q', 'mean_r', 'mean_s', 'stdev_q', 'stdev_r','stdev_s',\n",
    "                   'mean_rr_interval', 'mean_rq_amplitude', 'mean_qrs_interval']\n",
    "\n",
    "X_step_1 = step_1[original_columns]\n",
    "# Preenche os dados faltosos com a média da respectiva coluna\n",
    "X_step_1 = X_step_1.apply(lambda x: x.fillna(x.mean()))\n",
    "# O objeto da predição é 'y' (os rótulos das classes)\n",
    "y_step_1 = step_1['person']\n",
    "X_train_step_1, X_test_step_1, y_train_step_1, y_test_step_1 = train_test_split(X_step_1, y_step_1,\n",
    "                                                                                test_size = 0.2)"
   ]
  },
  {
   "cell_type": "code",
   "execution_count": 7,
   "metadata": {
    "colab": {
     "base_uri": "https://localhost:8080/",
     "height": 1000
    },
    "colab_type": "code",
    "id": "zEft1Z_EgU9G",
    "outputId": "7be82cbc-b671-4694-eb3e-18b60640b3e4"
   },
   "outputs": [
    {
     "name": "stderr",
     "output_type": "stream",
     "text": [
      "[Parallel(n_jobs=1)]: Using backend SequentialBackend with 1 concurrent workers.\n",
      "[Parallel(n_jobs=1)]: Done   1 out of   1 | elapsed:    0.2s remaining:    0.0s\n"
     ]
    },
    {
     "name": "stdout",
     "output_type": "stream",
     "text": [
      "building tree 1 of 100\n",
      "building tree 2 of 100\n"
     ]
    },
    {
     "name": "stderr",
     "output_type": "stream",
     "text": [
      "[Parallel(n_jobs=1)]: Done   2 out of   2 | elapsed:    0.4s remaining:    0.0s\n"
     ]
    },
    {
     "name": "stdout",
     "output_type": "stream",
     "text": [
      "building tree 3 of 100\n",
      "building tree 4 of 100\n",
      "building tree 5 of 100\n",
      "building tree 6 of 100\n",
      "building tree 7 of 100\n",
      "building tree 8 of 100\n",
      "building tree 9 of 100\n",
      "building tree 10 of 100\n",
      "building tree 11 of 100\n",
      "building tree 12 of 100\n",
      "building tree 13 of 100\n",
      "building tree 14 of 100\n",
      "building tree 15 of 100\n",
      "building tree 16 of 100\n",
      "building tree 17 of 100\n",
      "building tree 18 of 100\n",
      "building tree 19 of 100\n",
      "building tree 20 of 100\n",
      "building tree 21 of 100\n",
      "building tree 22 of 100\n",
      "building tree 23 of 100\n",
      "building tree 24 of 100\n",
      "building tree 25 of 100\n",
      "building tree 26 of 100\n",
      "building tree 27 of 100\n",
      "building tree 28 of 100\n",
      "building tree 29 of 100\n",
      "building tree 30 of 100\n",
      "building tree 31 of 100\n",
      "building tree 32 of 100\n",
      "building tree 33 of 100\n",
      "building tree 34 of 100\n",
      "building tree 35 of 100\n",
      "building tree 36 of 100\n",
      "building tree 37 of 100\n",
      "building tree 38 of 100\n",
      "building tree 39 of 100\n",
      "building tree 40 of 100\n",
      "building tree 41 of 100\n",
      "building tree 42 of 100\n",
      "building tree 43 of 100\n",
      "building tree 44 of 100\n",
      "building tree 45 of 100\n",
      "building tree 46 of 100\n",
      "building tree 47 of 100\n",
      "building tree 48 of 100\n",
      "building tree 49 of 100\n",
      "building tree 50 of 100\n",
      "building tree 51 of 100\n",
      "building tree 52 of 100\n",
      "building tree 53 of 100\n",
      "building tree 54 of 100\n",
      "building tree 55 of 100\n",
      "building tree 56 of 100\n",
      "building tree 57 of 100\n",
      "building tree 58 of 100\n",
      "building tree 59 of 100\n",
      "building tree 60 of 100\n",
      "building tree 61 of 100\n",
      "building tree 62 of 100\n",
      "building tree 63 of 100\n",
      "building tree 64 of 100\n",
      "building tree 65 of 100\n",
      "building tree 66 of 100\n",
      "building tree 67 of 100\n",
      "building tree 68 of 100\n",
      "building tree 69 of 100\n",
      "building tree 70 of 100\n",
      "building tree 71 of 100\n",
      "building tree 72 of 100\n",
      "building tree 73 of 100\n",
      "building tree 74 of 100\n",
      "building tree 75 of 100\n",
      "building tree 76 of 100\n",
      "building tree 77 of 100\n",
      "building tree 78 of 100\n",
      "building tree 79 of 100\n",
      "building tree 80 of 100\n",
      "building tree 81 of 100\n",
      "building tree 82 of 100\n",
      "building tree 83 of 100\n",
      "building tree 84 of 100\n",
      "building tree 85 of 100\n",
      "building tree 86 of 100\n",
      "building tree 87 of 100\n",
      "building tree 88 of 100\n",
      "building tree 89 of 100\n",
      "building tree 90 of 100\n",
      "building tree 91 of 100\n",
      "building tree 92 of 100\n",
      "building tree 93 of 100\n",
      "building tree 94 of 100\n",
      "building tree 95 of 100\n",
      "building tree 96 of 100\n",
      "building tree 97 of 100\n",
      "building tree 98 of 100\n",
      "building tree 99 of 100\n",
      "building tree 100 of 100\n"
     ]
    },
    {
     "name": "stderr",
     "output_type": "stream",
     "text": [
      "[Parallel(n_jobs=1)]: Done 100 out of 100 | elapsed:   16.0s finished\n",
      "[Parallel(n_jobs=1)]: Using backend SequentialBackend with 1 concurrent workers.\n"
     ]
    },
    {
     "name": "stdout",
     "output_type": "stream",
     "text": [
      "building tree 1 of 100\n",
      "building tree 2 of 100\n"
     ]
    },
    {
     "name": "stderr",
     "output_type": "stream",
     "text": [
      "[Parallel(n_jobs=1)]: Done   1 out of   1 | elapsed:    0.2s remaining:    0.0s\n",
      "[Parallel(n_jobs=1)]: Done   2 out of   2 | elapsed:    0.3s remaining:    0.0s\n"
     ]
    },
    {
     "name": "stdout",
     "output_type": "stream",
     "text": [
      "building tree 3 of 100\n",
      "building tree 4 of 100\n",
      "building tree 5 of 100\n",
      "building tree 6 of 100\n",
      "building tree 7 of 100\n",
      "building tree 8 of 100\n",
      "building tree 9 of 100\n",
      "building tree 10 of 100\n",
      "building tree 11 of 100\n",
      "building tree 12 of 100\n",
      "building tree 13 of 100\n",
      "building tree 14 of 100\n",
      "building tree 15 of 100\n",
      "building tree 16 of 100\n",
      "building tree 17 of 100\n",
      "building tree 18 of 100\n",
      "building tree 19 of 100\n",
      "building tree 20 of 100\n",
      "building tree 21 of 100\n",
      "building tree 22 of 100\n",
      "building tree 23 of 100\n",
      "building tree 24 of 100\n",
      "building tree 25 of 100\n",
      "building tree 26 of 100\n",
      "building tree 27 of 100\n",
      "building tree 28 of 100\n",
      "building tree 29 of 100\n",
      "building tree 30 of 100\n",
      "building tree 31 of 100\n",
      "building tree 32 of 100\n",
      "building tree 33 of 100\n",
      "building tree 34 of 100\n",
      "building tree 35 of 100\n",
      "building tree 36 of 100\n",
      "building tree 37 of 100\n",
      "building tree 38 of 100\n",
      "building tree 39 of 100\n",
      "building tree 40 of 100\n",
      "building tree 41 of 100\n",
      "building tree 42 of 100\n",
      "building tree 43 of 100\n",
      "building tree 44 of 100\n",
      "building tree 45 of 100\n",
      "building tree 46 of 100\n",
      "building tree 47 of 100\n",
      "building tree 48 of 100\n",
      "building tree 49 of 100\n",
      "building tree 50 of 100\n",
      "building tree 51 of 100\n",
      "building tree 52 of 100\n",
      "building tree 53 of 100\n",
      "building tree 54 of 100\n",
      "building tree 55 of 100\n",
      "building tree 56 of 100\n",
      "building tree 57 of 100\n",
      "building tree 58 of 100\n",
      "building tree 59 of 100\n",
      "building tree 60 of 100\n",
      "building tree 61 of 100\n",
      "building tree 62 of 100\n",
      "building tree 63 of 100\n",
      "building tree 64 of 100\n",
      "building tree 65 of 100\n",
      "building tree 66 of 100\n",
      "building tree 67 of 100\n",
      "building tree 68 of 100\n",
      "building tree 69 of 100\n",
      "building tree 70 of 100\n",
      "building tree 71 of 100\n",
      "building tree 72 of 100\n",
      "building tree 73 of 100\n",
      "building tree 74 of 100\n",
      "building tree 75 of 100\n",
      "building tree 76 of 100\n",
      "building tree 77 of 100\n",
      "building tree 78 of 100\n",
      "building tree 79 of 100\n",
      "building tree 80 of 100\n",
      "building tree 81 of 100\n",
      "building tree 82 of 100\n",
      "building tree 83 of 100\n",
      "building tree 84 of 100\n",
      "building tree 85 of 100\n",
      "building tree 86 of 100\n",
      "building tree 87 of 100\n",
      "building tree 88 of 100\n",
      "building tree 89 of 100\n",
      "building tree 90 of 100\n",
      "building tree 91 of 100\n",
      "building tree 92 of 100\n",
      "building tree 93 of 100\n",
      "building tree 94 of 100\n",
      "building tree 95 of 100\n",
      "building tree 96 of 100\n",
      "building tree 97 of 100\n",
      "building tree 98 of 100\n",
      "building tree 99 of 100\n",
      "building tree 100 of 100\n"
     ]
    },
    {
     "name": "stderr",
     "output_type": "stream",
     "text": [
      "[Parallel(n_jobs=1)]: Done 100 out of 100 | elapsed:   16.8s finished\n",
      "[Parallel(n_jobs=1)]: Using backend SequentialBackend with 1 concurrent workers.\n",
      "[Parallel(n_jobs=1)]: Done   1 out of   1 | elapsed:    0.4s remaining:    0.0s\n",
      "[Parallel(n_jobs=1)]: Done   2 out of   2 | elapsed:    0.6s remaining:    0.0s\n",
      "[Parallel(n_jobs=1)]: Done 200 out of 200 | elapsed:  1.2min finished\n"
     ]
    }
   ],
   "source": [
    "n_steps = 2\n",
    "list_of_training_x = np.array_split(X_train_step_1, n_steps)\n",
    "list_of_training_y = np.array_split(y_train_step_1, n_steps)\n",
    "n_estimators = 100\n",
    "\n",
    "rf_step_1 = ExtraTreesClassifier(warm_start=True, n_estimators=n_estimators,\n",
    "                                   max_depth=100, min_samples_leaf=3, min_samples_split=10, verbose=3)\n",
    "for i in range(n_steps):\n",
    "    rf_step_1.fit(list_of_training_x[i],\n",
    "                  list_of_training_y[i])\n",
    "    n_estimators += 100\n",
    "    rf_step_1.set_params(n_estimators=n_estimators)\n",
    "    \n",
    "predictions_step_1 = rf_step_1.predict(X_test_step_1)"
   ]
  },
  {
   "cell_type": "code",
   "execution_count": 8,
   "metadata": {
    "colab": {
     "base_uri": "https://localhost:8080/",
     "height": 106
    },
    "colab_type": "code",
    "id": "ed-GlASmgU9K",
    "outputId": "3ee0e017-d31a-4bb4-be5c-676fdfb56af2"
   },
   "outputs": [
    {
     "name": "stderr",
     "output_type": "stream",
     "text": [
      "/home/renato/anaconda3/lib/python3.7/site-packages/sklearn/metrics/classification.py:1143: UndefinedMetricWarning: Precision and F-score are ill-defined and being set to 0.0 in labels with no predicted samples.\n",
      "  'precision', 'predicted', average, warn_for)\n",
      "/home/renato/anaconda3/lib/python3.7/site-packages/sklearn/metrics/classification.py:1145: UndefinedMetricWarning: Recall and F-score are ill-defined and being set to 0.0 in labels with no true samples.\n",
      "  'recall', 'true', average, warn_for)\n",
      "/home/renato/anaconda3/lib/python3.7/site-packages/sklearn/metrics/classification.py:1143: UndefinedMetricWarning: Precision and F-score are ill-defined and being set to 0.0 in labels with no predicted samples.\n",
      "  'precision', 'predicted', average, warn_for)\n",
      "/home/renato/anaconda3/lib/python3.7/site-packages/sklearn/metrics/classification.py:1145: UndefinedMetricWarning: Recall and F-score are ill-defined and being set to 0.0 in labels with no true samples.\n",
      "  'recall', 'true', average, warn_for)\n",
      "/home/renato/anaconda3/lib/python3.7/site-packages/sklearn/metrics/classification.py:1143: UndefinedMetricWarning: Precision and F-score are ill-defined and being set to 0.0 in labels with no predicted samples.\n",
      "  'precision', 'predicted', average, warn_for)\n",
      "/home/renato/anaconda3/lib/python3.7/site-packages/sklearn/metrics/classification.py:1145: UndefinedMetricWarning: Recall and F-score are ill-defined and being set to 0.0 in labels with no true samples.\n",
      "  'recall', 'true', average, warn_for)\n"
     ]
    }
   ],
   "source": [
    "cr = classification_report(y_test_step_1, predictions_step_1, output_dict=True)\n",
    "df = pd.DataFrame(cr).transpose()\n",
    "df.to_csv('result_1.csv')"
   ]
  },
  {
   "cell_type": "markdown",
   "metadata": {
    "colab_type": "text",
    "id": "BiUDNVKDgU9S"
   },
   "source": [
    "## Passo 2: Treino com adição de segmentos gerados aleatoriamente"
   ]
  },
  {
   "cell_type": "code",
   "execution_count": 3,
   "metadata": {
    "colab": {
     "base_uri": "https://localhost:8080/",
     "height": 226
    },
    "colab_type": "code",
    "id": "AEz3Sd5VgU9O",
    "outputId": "fff40eaa-b08d-4682-cf06-11430d127282"
   },
   "outputs": [
    {
     "data": {
      "text/html": [
       "<div>\n",
       "<style scoped>\n",
       "    .dataframe tbody tr th:only-of-type {\n",
       "        vertical-align: middle;\n",
       "    }\n",
       "\n",
       "    .dataframe tbody tr th {\n",
       "        vertical-align: top;\n",
       "    }\n",
       "\n",
       "    .dataframe thead th {\n",
       "        text-align: right;\n",
       "    }\n",
       "</style>\n",
       "<table border=\"1\" class=\"dataframe\">\n",
       "  <thead>\n",
       "    <tr style=\"text-align: right;\">\n",
       "      <th></th>\n",
       "      <th>mean_q</th>\n",
       "      <th>mean_r</th>\n",
       "      <th>mean_s</th>\n",
       "      <th>mean_p</th>\n",
       "      <th>mean_t</th>\n",
       "      <th>stdev_q</th>\n",
       "      <th>stdev_r</th>\n",
       "      <th>stdev_s</th>\n",
       "      <th>mean_rr_interval</th>\n",
       "      <th>mean_rq_amplitude</th>\n",
       "      <th>mean_qrs_interval</th>\n",
       "      <th>mean_qs_distance</th>\n",
       "      <th>mean_qt_distance</th>\n",
       "      <th>mean_qrs_offset</th>\n",
       "      <th>mean_qrs_onset</th>\n",
       "      <th>person</th>\n",
       "    </tr>\n",
       "  </thead>\n",
       "  <tbody>\n",
       "    <tr>\n",
       "      <th>0</th>\n",
       "      <td>-0.713329</td>\n",
       "      <td>0.792270</td>\n",
       "      <td>-0.173784</td>\n",
       "      <td>0.792270</td>\n",
       "      <td>0.792270</td>\n",
       "      <td>0.006206</td>\n",
       "      <td>0.040516</td>\n",
       "      <td>0.012240</td>\n",
       "      <td>930.0</td>\n",
       "      <td>1.505599</td>\n",
       "      <td>42.5</td>\n",
       "      <td>28.500000</td>\n",
       "      <td>5.000000</td>\n",
       "      <td>-0.149761</td>\n",
       "      <td>-0.059106</td>\n",
       "      <td>tr14-0291</td>\n",
       "    </tr>\n",
       "    <tr>\n",
       "      <th>1</th>\n",
       "      <td>-0.665888</td>\n",
       "      <td>0.758830</td>\n",
       "      <td>-0.193415</td>\n",
       "      <td>0.758830</td>\n",
       "      <td>0.758830</td>\n",
       "      <td>0.010788</td>\n",
       "      <td>0.011119</td>\n",
       "      <td>0.002074</td>\n",
       "      <td>860.0</td>\n",
       "      <td>1.424718</td>\n",
       "      <td>47.5</td>\n",
       "      <td>33.500000</td>\n",
       "      <td>5.000000</td>\n",
       "      <td>-0.155581</td>\n",
       "      <td>-0.038329</td>\n",
       "      <td>tr14-0291</td>\n",
       "    </tr>\n",
       "    <tr>\n",
       "      <th>2</th>\n",
       "      <td>-0.724221</td>\n",
       "      <td>0.822585</td>\n",
       "      <td>-0.199239</td>\n",
       "      <td>0.849976</td>\n",
       "      <td>0.822585</td>\n",
       "      <td>0.021476</td>\n",
       "      <td>0.038941</td>\n",
       "      <td>0.001512</td>\n",
       "      <td>850.0</td>\n",
       "      <td>1.546806</td>\n",
       "      <td>76.0</td>\n",
       "      <td>52.333333</td>\n",
       "      <td>24.666667</td>\n",
       "      <td>-0.174172</td>\n",
       "      <td>-0.016297</td>\n",
       "      <td>tr14-0291</td>\n",
       "    </tr>\n",
       "    <tr>\n",
       "      <th>3</th>\n",
       "      <td>-0.727936</td>\n",
       "      <td>0.840291</td>\n",
       "      <td>-0.191848</td>\n",
       "      <td>0.840291</td>\n",
       "      <td>0.840291</td>\n",
       "      <td>0.006431</td>\n",
       "      <td>0.037556</td>\n",
       "      <td>0.006425</td>\n",
       "      <td>925.0</td>\n",
       "      <td>1.568227</td>\n",
       "      <td>44.5</td>\n",
       "      <td>30.500000</td>\n",
       "      <td>5.000000</td>\n",
       "      <td>-0.171177</td>\n",
       "      <td>-0.033540</td>\n",
       "      <td>tr14-0291</td>\n",
       "    </tr>\n",
       "    <tr>\n",
       "      <th>4</th>\n",
       "      <td>-0.742179</td>\n",
       "      <td>0.808661</td>\n",
       "      <td>-0.189985</td>\n",
       "      <td>0.808661</td>\n",
       "      <td>0.808661</td>\n",
       "      <td>0.007297</td>\n",
       "      <td>0.002672</td>\n",
       "      <td>0.005386</td>\n",
       "      <td>870.0</td>\n",
       "      <td>1.550841</td>\n",
       "      <td>44.5</td>\n",
       "      <td>30.500000</td>\n",
       "      <td>4.000000</td>\n",
       "      <td>-0.160617</td>\n",
       "      <td>-0.056178</td>\n",
       "      <td>tr14-0291</td>\n",
       "    </tr>\n",
       "  </tbody>\n",
       "</table>\n",
       "</div>"
      ],
      "text/plain": [
       "     mean_q    mean_r    mean_s    mean_p    mean_t   stdev_q   stdev_r  \\\n",
       "0 -0.713329  0.792270 -0.173784  0.792270  0.792270  0.006206  0.040516   \n",
       "1 -0.665888  0.758830 -0.193415  0.758830  0.758830  0.010788  0.011119   \n",
       "2 -0.724221  0.822585 -0.199239  0.849976  0.822585  0.021476  0.038941   \n",
       "3 -0.727936  0.840291 -0.191848  0.840291  0.840291  0.006431  0.037556   \n",
       "4 -0.742179  0.808661 -0.189985  0.808661  0.808661  0.007297  0.002672   \n",
       "\n",
       "    stdev_s  mean_rr_interval  mean_rq_amplitude  mean_qrs_interval  \\\n",
       "0  0.012240             930.0           1.505599               42.5   \n",
       "1  0.002074             860.0           1.424718               47.5   \n",
       "2  0.001512             850.0           1.546806               76.0   \n",
       "3  0.006425             925.0           1.568227               44.5   \n",
       "4  0.005386             870.0           1.550841               44.5   \n",
       "\n",
       "   mean_qs_distance  mean_qt_distance  mean_qrs_offset  mean_qrs_onset  \\\n",
       "0         28.500000          5.000000        -0.149761       -0.059106   \n",
       "1         33.500000          5.000000        -0.155581       -0.038329   \n",
       "2         52.333333         24.666667        -0.174172       -0.016297   \n",
       "3         30.500000          5.000000        -0.171177       -0.033540   \n",
       "4         30.500000          4.000000        -0.160617       -0.056178   \n",
       "\n",
       "      person  \n",
       "0  tr14-0291  \n",
       "1  tr14-0291  \n",
       "2  tr14-0291  \n",
       "3  tr14-0291  \n",
       "4  tr14-0291  "
      ]
     },
     "execution_count": 3,
     "metadata": {},
     "output_type": "execute_result"
    }
   ],
   "source": [
    "step_2.head()"
   ]
  },
  {
   "cell_type": "code",
   "execution_count": 4,
   "metadata": {
    "colab": {},
    "colab_type": "code",
    "id": "atiYKJ-mgU9T"
   },
   "outputs": [],
   "source": [
    "#le_step_2 = LabelEncoder()\n",
    "#step_2['person'] = pd.Series(le_step_2.fit_transform(step_2['person']))\n",
    "original_columns = ['mean_q', 'mean_r', 'mean_s', 'stdev_q', 'stdev_r','stdev_s',\n",
    "                   'mean_rr_interval', 'mean_rq_amplitude', 'mean_qrs_interval']\n",
    "\n",
    "X_step_2 = step_2[original_columns]\n",
    "# Preenche os dados faltosos com a média da respectiva coluna\n",
    "X_step_2 = X_step_2.apply(lambda x: x.fillna(x.mean()))\n",
    "# O objeto da predição é 'y' (os rótulos das classes)\n",
    "y_step_2 = step_2['person']\n",
    "\n",
    "X_train_step_2, X_test_step_2, y_train_step_2, y_test_step_2 = train_test_split(X_step_2, y_step_2,\n",
    "                                                                                test_size = 0.2)"
   ]
  },
  {
   "cell_type": "code",
   "execution_count": null,
   "metadata": {
    "colab": {},
    "colab_type": "code",
    "id": "tF90RhgAgU9W"
   },
   "outputs": [],
   "source": [
    "plt.figure(figsize=(20,10))\n",
    "plt.title(\"Cumulative distribution of number of examples\")\n",
    "step_2['person'].value_counts(ascending=True).hist(cumulative=True, density=1)"
   ]
  },
  {
   "cell_type": "code",
   "execution_count": 6,
   "metadata": {
    "colab": {
     "base_uri": "https://localhost:8080/",
     "height": 1000
    },
    "colab_type": "code",
    "id": "Z8BfbMQhgU9a",
    "outputId": "abacd501-4e39-4fd9-b698-cf16a6ea9e7b"
   },
   "outputs": [
    {
     "name": "stderr",
     "output_type": "stream",
     "text": [
      "[Parallel(n_jobs=1)]: Using backend SequentialBackend with 1 concurrent workers.\n"
     ]
    },
    {
     "name": "stdout",
     "output_type": "stream",
     "text": [
      "building tree 1 of 100\n"
     ]
    },
    {
     "name": "stderr",
     "output_type": "stream",
     "text": [
      "[Parallel(n_jobs=1)]: Done   1 out of   1 | elapsed:    0.8s remaining:    0.0s\n"
     ]
    },
    {
     "name": "stdout",
     "output_type": "stream",
     "text": [
      "building tree 2 of 100\n"
     ]
    },
    {
     "name": "stderr",
     "output_type": "stream",
     "text": [
      "[Parallel(n_jobs=1)]: Done   2 out of   2 | elapsed:    1.5s remaining:    0.0s\n"
     ]
    },
    {
     "name": "stdout",
     "output_type": "stream",
     "text": [
      "building tree 3 of 100\n",
      "building tree 4 of 100\n",
      "building tree 5 of 100\n",
      "building tree 6 of 100\n",
      "building tree 7 of 100\n",
      "building tree 8 of 100\n",
      "building tree 9 of 100\n",
      "building tree 10 of 100\n",
      "building tree 11 of 100\n",
      "building tree 12 of 100\n",
      "building tree 13 of 100\n",
      "building tree 14 of 100\n",
      "building tree 15 of 100\n",
      "building tree 16 of 100\n",
      "building tree 17 of 100\n",
      "building tree 18 of 100\n",
      "building tree 19 of 100\n",
      "building tree 20 of 100\n",
      "building tree 21 of 100\n",
      "building tree 22 of 100\n",
      "building tree 23 of 100\n",
      "building tree 24 of 100\n",
      "building tree 25 of 100\n",
      "building tree 26 of 100\n",
      "building tree 27 of 100\n",
      "building tree 28 of 100\n",
      "building tree 29 of 100\n",
      "building tree 30 of 100\n",
      "building tree 31 of 100\n",
      "building tree 32 of 100\n",
      "building tree 33 of 100\n",
      "building tree 34 of 100\n",
      "building tree 35 of 100\n",
      "building tree 36 of 100\n",
      "building tree 37 of 100\n",
      "building tree 38 of 100\n",
      "building tree 39 of 100\n",
      "building tree 40 of 100\n",
      "building tree 41 of 100\n",
      "building tree 42 of 100\n",
      "building tree 43 of 100\n",
      "building tree 44 of 100\n",
      "building tree 45 of 100\n",
      "building tree 46 of 100\n",
      "building tree 47 of 100\n",
      "building tree 48 of 100\n",
      "building tree 49 of 100\n",
      "building tree 50 of 100\n",
      "building tree 51 of 100\n",
      "building tree 52 of 100\n",
      "building tree 53 of 100\n",
      "building tree 54 of 100\n",
      "building tree 55 of 100\n",
      "building tree 56 of 100\n",
      "building tree 57 of 100\n",
      "building tree 58 of 100\n",
      "building tree 59 of 100\n",
      "building tree 60 of 100\n",
      "building tree 61 of 100\n",
      "building tree 62 of 100\n",
      "building tree 63 of 100\n",
      "building tree 64 of 100\n",
      "building tree 65 of 100\n",
      "building tree 66 of 100\n",
      "building tree 67 of 100\n",
      "building tree 68 of 100\n",
      "building tree 69 of 100\n",
      "building tree 70 of 100\n",
      "building tree 71 of 100\n",
      "building tree 72 of 100\n",
      "building tree 73 of 100\n",
      "building tree 74 of 100\n",
      "building tree 75 of 100\n",
      "building tree 76 of 100\n",
      "building tree 77 of 100\n",
      "building tree 78 of 100\n",
      "building tree 79 of 100\n",
      "building tree 80 of 100\n",
      "building tree 81 of 100\n",
      "building tree 82 of 100\n",
      "building tree 83 of 100\n",
      "building tree 84 of 100\n",
      "building tree 85 of 100\n",
      "building tree 86 of 100\n",
      "building tree 87 of 100\n",
      "building tree 88 of 100\n",
      "building tree 89 of 100\n",
      "building tree 90 of 100\n",
      "building tree 91 of 100\n",
      "building tree 92 of 100\n",
      "building tree 93 of 100\n",
      "building tree 94 of 100\n",
      "building tree 95 of 100\n",
      "building tree 96 of 100\n",
      "building tree 97 of 100\n",
      "building tree 98 of 100\n",
      "building tree 99 of 100\n",
      "building tree 100 of 100\n"
     ]
    },
    {
     "name": "stderr",
     "output_type": "stream",
     "text": [
      "[Parallel(n_jobs=1)]: Done 100 out of 100 | elapsed:  1.3min finished\n",
      "/home/renato/anaconda3/lib/python3.7/site-packages/sklearn/ensemble/forest.py:308: UserWarning: Warm-start fitting without increasing n_estimators does not fit new trees.\n",
      "  warn(\"Warm-start fitting without increasing n_estimators does not \"\n",
      "[Parallel(n_jobs=1)]: Using backend SequentialBackend with 1 concurrent workers.\n",
      "[Parallel(n_jobs=1)]: Done   1 out of   1 | elapsed:    1.8s remaining:    0.0s\n",
      "[Parallel(n_jobs=1)]: Done   2 out of   2 | elapsed:    2.8s remaining:    0.0s\n",
      "[Parallel(n_jobs=1)]: Done 100 out of 100 | elapsed:  1.7min finished\n"
     ]
    }
   ],
   "source": [
    "list_of_training_x = np.array_split(X_train_step_2, 2)\n",
    "list_of_training_y = np.array_split(y_train_step_2, 2)\n",
    "n_estimators = 100\n",
    "\n",
    "rf_step_2 = ExtraTreesClassifier(warm_start=True, n_estimators=n_estimators, max_depth=80, min_samples_leaf=3, min_samples_split=10, verbose=3)\n",
    "for i in range(2):\n",
    "    rf_step_2.fit(list_of_training_x[i], list_of_training_y[i])\n",
    "    rf_step_2.set_params(n_estimators=n_estimators)\n",
    "    n_estimators+=100\n",
    "\n",
    "predictions_step_2 = rf_step_2.predict(X_test_step_2)"
   ]
  },
  {
   "cell_type": "code",
   "execution_count": 7,
   "metadata": {
    "colab": {},
    "colab_type": "code",
    "id": "ZYwa3C1LgU9d"
   },
   "outputs": [],
   "source": [
    "cr_step_2 = classification_report(y_test_step_2, predictions_step_2, output_dict=True)\n",
    "cr_df_step_2 = pd.DataFrame(cr_step_2).transpose()\n",
    "cr_df_step_2.to_csv('result_2.csv')"
   ]
  },
  {
   "cell_type": "markdown",
   "metadata": {
    "colab_type": "text",
    "id": "1_9qq_BNgU9g"
   },
   "source": [
    "## Passo 3: Treino com adição de segmentos gerados aleatoriamente e remoção de \n",
    "\n",
    "---\n",
    "\n",
    "outliers"
   ]
  },
  {
   "cell_type": "code",
   "execution_count": null,
   "metadata": {
    "colab": {},
    "colab_type": "code",
    "id": "Dwqc5PbUgU9h"
   },
   "outputs": [],
   "source": [
    "step_3.head()"
   ]
  },
  {
   "cell_type": "code",
   "execution_count": 3,
   "metadata": {
    "colab": {},
    "colab_type": "code",
    "id": "o3Sfs4nbhrIY"
   },
   "outputs": [
    {
     "data": {
      "text/plain": [
       "<matplotlib.axes._subplots.AxesSubplot at 0x7fc5588cbdd0>"
      ]
     },
     "execution_count": 3,
     "metadata": {},
     "output_type": "execute_result"
    },
    {
     "data": {
      "image/png": "[encoded data removed]",
      "text/plain": [
       "<Figure size 1440x720 with 1 Axes>"
      ]
     },
     "metadata": {
      "needs_background": "light"
     },
     "output_type": "display_data"
    }
   ],
   "source": [
    "plt.figure(figsize=(20,10))\n",
    "plt.title(\"Cumulative distribution of number of examples\")\n",
    "step_3['person'].value_counts(ascending=True).hist(cumulative=True, density=1)"
   ]
  },
  {
   "cell_type": "code",
   "execution_count": 4,
   "metadata": {
    "colab": {},
    "colab_type": "code",
    "id": "WLj6E66ChyN_"
   },
   "outputs": [],
   "source": [
    "## Remove pessoas que tem menos que 60 segmentos\n",
    "min_n_of_segments = 60\n",
    "mask = step_3['person'].value_counts() < min_n_of_segments\n",
    "people_to_remove = list(mask[mask].index)\n",
    "for person in people_to_remove:\n",
    "    step_3 = step_3[step_3.person != person]"
   ]
  },
  {
   "cell_type": "code",
   "execution_count": 5,
   "metadata": {
    "colab": {},
    "colab_type": "code",
    "id": "gE95-EKZRUAs"
   },
   "outputs": [
    {
     "name": "stdout",
     "output_type": "stream",
     "text": [
      "Há 1851 classes únicas no conjunto de TREINO\n",
      "Há 1851 classes únicas no conjunto de TESTE\n"
     ]
    }
   ],
   "source": [
    "#le_step_3 = LabelEncoder()\n",
    "#step_3['person'] = pd.Series(le_step_3.fit_transform(step_3['person']))\n",
    "original_columns = ['mean_q', 'mean_r', 'mean_s', 'stdev_q', 'stdev_r','stdev_s',\n",
    "                   'mean_rr_interval', 'mean_rq_amplitude', 'mean_qrs_interval']\n",
    "\n",
    "X_step_3 = step_3[original_columns]\n",
    "# Preenche os dados faltosos com a média da respectiva coluna\n",
    "X_step_3 = X_step_3.apply(lambda x: x.fillna(x.mean()))\n",
    "# O objeto da predição é 'y' (os rótulos das classes)\n",
    "y_step_3 = step_3['person']\n",
    "\n",
    "X_train_step_3, X_test_step_3, y_train_step_3, y_test_step_3 = train_test_split(X_step_3, y_step_3,\n",
    "                                                                                test_size = 0.2, stratify=y_step_3)\n",
    "print(f'Há {y_train_step_3.nunique()} classes únicas no conjunto de TREINO')\n",
    "print(f'Há {y_test_step_3.nunique()} classes únicas no conjunto de TESTE')"
   ]
  },
  {
   "cell_type": "code",
   "execution_count": 6,
   "metadata": {
    "colab": {},
    "colab_type": "code",
    "id": "j7hC7qujReaT"
   },
   "outputs": [
    {
     "name": "stdout",
     "output_type": "stream",
     "text": [
      "Elementos unicos no split 0: 1851\n",
      "Elementos unicos no split 1: 1851\n"
     ]
    },
    {
     "name": "stderr",
     "output_type": "stream",
     "text": [
      "[Parallel(n_jobs=1)]: Using backend SequentialBackend with 1 concurrent workers.\n"
     ]
    },
    {
     "name": "stdout",
     "output_type": "stream",
     "text": [
      "building tree 1 of 100\n"
     ]
    },
    {
     "name": "stderr",
     "output_type": "stream",
     "text": [
      "[Parallel(n_jobs=1)]: Done   1 out of   1 | elapsed:    0.7s remaining:    0.0s\n"
     ]
    },
    {
     "name": "stdout",
     "output_type": "stream",
     "text": [
      "building tree 2 of 100\n"
     ]
    },
    {
     "name": "stderr",
     "output_type": "stream",
     "text": [
      "[Parallel(n_jobs=1)]: Done   2 out of   2 | elapsed:    1.4s remaining:    0.0s\n"
     ]
    },
    {
     "name": "stdout",
     "output_type": "stream",
     "text": [
      "building tree 3 of 100\n",
      "building tree 4 of 100\n",
      "building tree 5 of 100\n",
      "building tree 6 of 100\n",
      "building tree 7 of 100\n",
      "building tree 8 of 100\n",
      "building tree 9 of 100\n",
      "building tree 10 of 100\n",
      "building tree 11 of 100\n",
      "building tree 12 of 100\n",
      "building tree 13 of 100\n",
      "building tree 14 of 100\n",
      "building tree 15 of 100\n",
      "building tree 16 of 100\n",
      "building tree 17 of 100\n",
      "building tree 18 of 100\n",
      "building tree 19 of 100\n",
      "building tree 20 of 100\n",
      "building tree 21 of 100\n",
      "building tree 22 of 100\n",
      "building tree 23 of 100\n",
      "building tree 24 of 100\n",
      "building tree 25 of 100\n",
      "building tree 26 of 100\n",
      "building tree 27 of 100\n",
      "building tree 28 of 100\n",
      "building tree 29 of 100\n",
      "building tree 30 of 100\n",
      "building tree 31 of 100\n",
      "building tree 32 of 100\n",
      "building tree 33 of 100\n",
      "building tree 34 of 100\n",
      "building tree 35 of 100\n",
      "building tree 36 of 100\n",
      "building tree 37 of 100\n",
      "building tree 38 of 100\n",
      "building tree 39 of 100\n",
      "building tree 40 of 100\n",
      "building tree 41 of 100\n",
      "building tree 42 of 100\n",
      "building tree 43 of 100\n",
      "building tree 44 of 100\n",
      "building tree 45 of 100\n",
      "building tree 46 of 100\n",
      "building tree 47 of 100\n",
      "building tree 48 of 100\n",
      "building tree 49 of 100\n",
      "building tree 50 of 100\n",
      "building tree 51 of 100\n",
      "building tree 52 of 100\n",
      "building tree 53 of 100\n",
      "building tree 54 of 100\n",
      "building tree 55 of 100\n",
      "building tree 56 of 100\n",
      "building tree 57 of 100\n",
      "building tree 58 of 100\n",
      "building tree 59 of 100\n",
      "building tree 60 of 100\n",
      "building tree 61 of 100\n",
      "building tree 62 of 100\n",
      "building tree 63 of 100\n",
      "building tree 64 of 100\n",
      "building tree 65 of 100\n",
      "building tree 66 of 100\n",
      "building tree 67 of 100\n",
      "building tree 68 of 100\n",
      "building tree 69 of 100\n",
      "building tree 70 of 100\n",
      "building tree 71 of 100\n",
      "building tree 72 of 100\n",
      "building tree 73 of 100\n",
      "building tree 74 of 100\n",
      "building tree 75 of 100\n",
      "building tree 76 of 100\n",
      "building tree 77 of 100\n",
      "building tree 78 of 100\n",
      "building tree 79 of 100\n",
      "building tree 80 of 100\n",
      "building tree 81 of 100\n",
      "building tree 82 of 100\n",
      "building tree 83 of 100\n",
      "building tree 84 of 100\n",
      "building tree 85 of 100\n",
      "building tree 86 of 100\n",
      "building tree 87 of 100\n",
      "building tree 88 of 100\n",
      "building tree 89 of 100\n",
      "building tree 90 of 100\n",
      "building tree 91 of 100\n",
      "building tree 92 of 100\n",
      "building tree 93 of 100\n",
      "building tree 94 of 100\n",
      "building tree 95 of 100\n",
      "building tree 96 of 100\n",
      "building tree 97 of 100\n",
      "building tree 98 of 100\n",
      "building tree 99 of 100\n",
      "building tree 100 of 100\n"
     ]
    },
    {
     "name": "stderr",
     "output_type": "stream",
     "text": [
      "[Parallel(n_jobs=1)]: Done 100 out of 100 | elapsed:  1.1min finished\n",
      "[Parallel(n_jobs=1)]: Using backend SequentialBackend with 1 concurrent workers.\n"
     ]
    },
    {
     "name": "stdout",
     "output_type": "stream",
     "text": [
      "building tree 1 of 100\n"
     ]
    },
    {
     "name": "stderr",
     "output_type": "stream",
     "text": [
      "[Parallel(n_jobs=1)]: Done   1 out of   1 | elapsed:    0.7s remaining:    0.0s\n"
     ]
    },
    {
     "name": "stdout",
     "output_type": "stream",
     "text": [
      "building tree 2 of 100\n"
     ]
    },
    {
     "name": "stderr",
     "output_type": "stream",
     "text": [
      "[Parallel(n_jobs=1)]: Done   2 out of   2 | elapsed:    1.4s remaining:    0.0s\n"
     ]
    },
    {
     "name": "stdout",
     "output_type": "stream",
     "text": [
      "building tree 3 of 100\n",
      "building tree 4 of 100\n",
      "building tree 5 of 100\n",
      "building tree 6 of 100\n",
      "building tree 7 of 100\n",
      "building tree 8 of 100\n",
      "building tree 9 of 100\n",
      "building tree 10 of 100\n",
      "building tree 11 of 100\n",
      "building tree 12 of 100\n",
      "building tree 13 of 100\n",
      "building tree 14 of 100\n",
      "building tree 15 of 100\n",
      "building tree 16 of 100\n",
      "building tree 17 of 100\n",
      "building tree 18 of 100\n",
      "building tree 19 of 100\n",
      "building tree 20 of 100\n",
      "building tree 21 of 100\n",
      "building tree 22 of 100\n",
      "building tree 23 of 100\n",
      "building tree 24 of 100\n",
      "building tree 25 of 100\n",
      "building tree 26 of 100\n",
      "building tree 27 of 100\n",
      "building tree 28 of 100\n",
      "building tree 29 of 100\n",
      "building tree 30 of 100\n",
      "building tree 31 of 100\n",
      "building tree 32 of 100\n",
      "building tree 33 of 100\n",
      "building tree 34 of 100\n",
      "building tree 35 of 100\n",
      "building tree 36 of 100\n",
      "building tree 37 of 100\n",
      "building tree 38 of 100\n",
      "building tree 39 of 100\n",
      "building tree 40 of 100\n",
      "building tree 41 of 100\n",
      "building tree 42 of 100\n",
      "building tree 43 of 100\n",
      "building tree 44 of 100\n",
      "building tree 45 of 100\n",
      "building tree 46 of 100\n",
      "building tree 47 of 100\n",
      "building tree 48 of 100\n",
      "building tree 49 of 100\n",
      "building tree 50 of 100\n",
      "building tree 51 of 100\n",
      "building tree 52 of 100\n",
      "building tree 53 of 100\n",
      "building tree 54 of 100\n",
      "building tree 55 of 100\n",
      "building tree 56 of 100\n",
      "building tree 57 of 100\n",
      "building tree 58 of 100\n",
      "building tree 59 of 100\n",
      "building tree 60 of 100\n",
      "building tree 61 of 100\n",
      "building tree 62 of 100\n",
      "building tree 63 of 100\n",
      "building tree 64 of 100\n",
      "building tree 65 of 100\n",
      "building tree 66 of 100\n",
      "building tree 67 of 100\n",
      "building tree 68 of 100\n",
      "building tree 69 of 100\n",
      "building tree 70 of 100\n",
      "building tree 71 of 100\n",
      "building tree 72 of 100\n",
      "building tree 73 of 100\n",
      "building tree 74 of 100\n",
      "building tree 75 of 100\n",
      "building tree 76 of 100\n",
      "building tree 77 of 100\n",
      "building tree 78 of 100\n",
      "building tree 79 of 100\n",
      "building tree 80 of 100\n",
      "building tree 81 of 100\n",
      "building tree 82 of 100\n",
      "building tree 83 of 100\n",
      "building tree 84 of 100\n",
      "building tree 85 of 100\n",
      "building tree 86 of 100\n",
      "building tree 87 of 100\n",
      "building tree 88 of 100\n",
      "building tree 89 of 100\n",
      "building tree 90 of 100\n",
      "building tree 91 of 100\n",
      "building tree 92 of 100\n",
      "building tree 93 of 100\n",
      "building tree 94 of 100\n",
      "building tree 95 of 100\n",
      "building tree 96 of 100\n",
      "building tree 97 of 100\n",
      "building tree 98 of 100\n",
      "building tree 99 of 100\n",
      "building tree 100 of 100\n"
     ]
    },
    {
     "name": "stderr",
     "output_type": "stream",
     "text": [
      "[Parallel(n_jobs=1)]: Done 100 out of 100 | elapsed:  1.3min finished\n"
     ]
    }
   ],
   "source": [
    "batch_size = 2\n",
    "list_of_training_x_step_3 = np.array_split(X_train_step_3, batch_size)\n",
    "list_of_training_y_step_3 = np.array_split(y_train_step_3, batch_size)\n",
    "n_estimators = 100\n",
    "\n",
    "# Verifica sem algum split ficou com uma amostra a menos\n",
    "for count, y in enumerate(list_of_training_y_step_3):\n",
    "    print(f'Elementos unicos no split {count}:', y.nunique())\n",
    "\n",
    "rf_step_3 = ExtraTreesClassifier(warm_start=True, n_estimators=n_estimators, max_depth=80, min_samples_leaf=3, min_samples_split=10, verbose=3)\n",
    "\n",
    "for i in range(batch_size):\n",
    "    rf_step_3.fit(list_of_training_x_step_3[i], list_of_training_y_step_3[i])\n",
    "    n_estimators += 100\n",
    "    rf_step_3.set_params(n_estimators=n_estimators)"
   ]
  },
  {
   "cell_type": "code",
   "execution_count": 7,
   "metadata": {
    "colab": {},
    "colab_type": "code",
    "id": "UkqHQnt_AIPp"
   },
   "outputs": [
    {
     "name": "stderr",
     "output_type": "stream",
     "text": [
      "[Parallel(n_jobs=1)]: Using backend SequentialBackend with 1 concurrent workers.\n",
      "[Parallel(n_jobs=1)]: Done   1 out of   1 | elapsed:   10.9s remaining:    0.0s\n",
      "[Parallel(n_jobs=1)]: Done   2 out of   2 | elapsed:   19.2s remaining:    0.0s\n",
      "[Parallel(n_jobs=1)]: Done 200 out of 200 | elapsed:  5.4min finished\n"
     ]
    }
   ],
   "source": [
    "predictions_step_3 = rf_step_3.predict(X_test_step_3)"
   ]
  },
  {
   "cell_type": "code",
   "execution_count": 8,
   "metadata": {
    "colab": {},
    "colab_type": "code",
    "id": "dc7_nFhay9VZ"
   },
   "outputs": [
    {
     "name": "stderr",
     "output_type": "stream",
     "text": [
      "/home/renato/anaconda3/lib/python3.7/site-packages/sklearn/metrics/classification.py:1143: UndefinedMetricWarning: Precision and F-score are ill-defined and being set to 0.0 in labels with no predicted samples.\n",
      "  'precision', 'predicted', average, warn_for)\n",
      "/home/renato/anaconda3/lib/python3.7/site-packages/sklearn/metrics/classification.py:1143: UndefinedMetricWarning: Precision and F-score are ill-defined and being set to 0.0 in labels with no predicted samples.\n",
      "  'precision', 'predicted', average, warn_for)\n",
      "/home/renato/anaconda3/lib/python3.7/site-packages/sklearn/metrics/classification.py:1143: UndefinedMetricWarning: Precision and F-score are ill-defined and being set to 0.0 in labels with no predicted samples.\n",
      "  'precision', 'predicted', average, warn_for)\n"
     ]
    }
   ],
   "source": [
    "cr_step_3 = classification_report(y_test_step_3, predictions_step_3, output_dict=True)\n",
    "cr_df_step_3 = pd.DataFrame(cr_step_3).transpose()\n",
    "cr_df_step_3.to_csv('result_3.csv')"
   ]
  },
  {
   "cell_type": "markdown",
   "metadata": {
    "colab_type": "text",
    "id": "l6UlsDoHyKO7"
   },
   "source": [
    "## Passo 4: Treino com novas features, segmentos gerados aleatoriamente e remoção de ouliers"
   ]
  },
  {
   "cell_type": "code",
   "execution_count": null,
   "metadata": {
    "colab": {},
    "colab_type": "code",
    "id": "ZtcnpNjEhRmN"
   },
   "outputs": [],
   "source": [
    "step_4.head()"
   ]
  },
  {
   "cell_type": "code",
   "execution_count": 3,
   "metadata": {
    "colab": {},
    "colab_type": "code",
    "id": "TvtX5VfByIo_"
   },
   "outputs": [],
   "source": [
    "## Remove pessoas que tem menos que 60 segmentos\n",
    "min_n_of_segments = 60\n",
    "mask = step_4['person'].value_counts() < min_n_of_segments\n",
    "people_to_remove = list(mask[mask].index)\n",
    "for person in people_to_remove:\n",
    "    step_4 = step_4[step_4.person != person]"
   ]
  },
  {
   "cell_type": "code",
   "execution_count": 4,
   "metadata": {
    "colab": {},
    "colab_type": "code",
    "id": "MzGiOgn9yi12"
   },
   "outputs": [
    {
     "name": "stdout",
     "output_type": "stream",
     "text": [
      "Há 1851 classes únicas no conjunto de TREINO\n",
      "Há 1851 classes únicas no conjunto de TESTE\n"
     ]
    }
   ],
   "source": [
    "#le_step_4 = LabelEncoder()\n",
    "#step_4['person'] = pd.Series(le_step_4.fit_transform(step_4['person']))\n",
    "\n",
    "X_step_4 = step_4.drop('person', axis=1)\n",
    "# Preenche os dados faltosos com a média da respectiva coluna\n",
    "X_step_4 = X_step_4.apply(lambda x: x.fillna(x.mean()))\n",
    "# O objeto da predição é 'y' (os rótulos das classes)\n",
    "y_step_4 = step_4['person']\n",
    "\n",
    "X_train_step_4, X_test_step_4, y_train_step_4, y_test_step_4 = train_test_split(X_step_4, y_step_4,\n",
    "                                                                                test_size = 0.2, stratify=y_step_4)\n",
    "print(f'Há {y_train_step_4.nunique()} classes únicas no conjunto de TREINO')\n",
    "print(f'Há {y_test_step_4.nunique()} classes únicas no conjunto de TESTE')"
   ]
  },
  {
   "cell_type": "code",
   "execution_count": 5,
   "metadata": {
    "colab": {},
    "colab_type": "code",
    "id": "f0Z1Kou4ynRM"
   },
   "outputs": [
    {
     "name": "stdout",
     "output_type": "stream",
     "text": [
      "Elementos unicos no split 0: 1851\n",
      "Elementos unicos no split 1: 1851\n"
     ]
    },
    {
     "name": "stderr",
     "output_type": "stream",
     "text": [
      "[Parallel(n_jobs=1)]: Using backend SequentialBackend with 1 concurrent workers.\n"
     ]
    },
    {
     "name": "stdout",
     "output_type": "stream",
     "text": [
      "building tree 1 of 100\n"
     ]
    },
    {
     "name": "stderr",
     "output_type": "stream",
     "text": [
      "[Parallel(n_jobs=1)]: Done   1 out of   1 | elapsed:    0.6s remaining:    0.0s\n"
     ]
    },
    {
     "name": "stdout",
     "output_type": "stream",
     "text": [
      "building tree 2 of 100\n"
     ]
    },
    {
     "name": "stderr",
     "output_type": "stream",
     "text": [
      "[Parallel(n_jobs=1)]: Done   2 out of   2 | elapsed:    1.3s remaining:    0.0s\n"
     ]
    },
    {
     "name": "stdout",
     "output_type": "stream",
     "text": [
      "building tree 3 of 100\n",
      "building tree 4 of 100\n",
      "building tree 5 of 100\n",
      "building tree 6 of 100\n",
      "building tree 7 of 100\n",
      "building tree 8 of 100\n",
      "building tree 9 of 100\n",
      "building tree 10 of 100\n",
      "building tree 11 of 100\n",
      "building tree 12 of 100\n",
      "building tree 13 of 100\n",
      "building tree 14 of 100\n",
      "building tree 15 of 100\n",
      "building tree 16 of 100\n",
      "building tree 17 of 100\n",
      "building tree 18 of 100\n",
      "building tree 19 of 100\n",
      "building tree 20 of 100\n",
      "building tree 21 of 100\n",
      "building tree 22 of 100\n",
      "building tree 23 of 100\n",
      "building tree 24 of 100\n",
      "building tree 25 of 100\n",
      "building tree 26 of 100\n",
      "building tree 27 of 100\n",
      "building tree 28 of 100\n",
      "building tree 29 of 100\n",
      "building tree 30 of 100\n",
      "building tree 31 of 100\n",
      "building tree 32 of 100\n",
      "building tree 33 of 100\n",
      "building tree 34 of 100\n",
      "building tree 35 of 100\n",
      "building tree 36 of 100\n",
      "building tree 37 of 100\n",
      "building tree 38 of 100\n",
      "building tree 39 of 100\n",
      "building tree 40 of 100\n",
      "building tree 41 of 100\n",
      "building tree 42 of 100\n",
      "building tree 43 of 100\n",
      "building tree 44 of 100\n",
      "building tree 45 of 100\n",
      "building tree 46 of 100\n",
      "building tree 47 of 100\n",
      "building tree 48 of 100\n",
      "building tree 49 of 100\n",
      "building tree 50 of 100\n",
      "building tree 51 of 100\n",
      "building tree 52 of 100\n",
      "building tree 53 of 100\n",
      "building tree 54 of 100\n",
      "building tree 55 of 100\n",
      "building tree 56 of 100\n",
      "building tree 57 of 100\n",
      "building tree 58 of 100\n",
      "building tree 59 of 100\n",
      "building tree 60 of 100\n",
      "building tree 61 of 100\n",
      "building tree 62 of 100\n",
      "building tree 63 of 100\n",
      "building tree 64 of 100\n",
      "building tree 65 of 100\n",
      "building tree 66 of 100\n",
      "building tree 67 of 100\n",
      "building tree 68 of 100\n",
      "building tree 69 of 100\n",
      "building tree 70 of 100\n",
      "building tree 71 of 100\n",
      "building tree 72 of 100\n",
      "building tree 73 of 100\n",
      "building tree 74 of 100\n",
      "building tree 75 of 100\n",
      "building tree 76 of 100\n",
      "building tree 77 of 100\n",
      "building tree 78 of 100\n",
      "building tree 79 of 100\n",
      "building tree 80 of 100\n",
      "building tree 81 of 100\n",
      "building tree 82 of 100\n",
      "building tree 83 of 100\n",
      "building tree 84 of 100\n",
      "building tree 85 of 100\n",
      "building tree 86 of 100\n",
      "building tree 87 of 100\n",
      "building tree 88 of 100\n",
      "building tree 89 of 100\n",
      "building tree 90 of 100\n",
      "building tree 91 of 100\n",
      "building tree 92 of 100\n",
      "building tree 93 of 100\n",
      "building tree 94 of 100\n",
      "building tree 95 of 100\n",
      "building tree 96 of 100\n",
      "building tree 97 of 100\n",
      "building tree 98 of 100\n",
      "building tree 99 of 100\n",
      "building tree 100 of 100\n"
     ]
    },
    {
     "name": "stderr",
     "output_type": "stream",
     "text": [
      "[Parallel(n_jobs=1)]: Done 100 out of 100 | elapsed:  1.1min finished\n",
      "[Parallel(n_jobs=1)]: Using backend SequentialBackend with 1 concurrent workers.\n"
     ]
    },
    {
     "name": "stdout",
     "output_type": "stream",
     "text": [
      "building tree 1 of 100\n"
     ]
    },
    {
     "name": "stderr",
     "output_type": "stream",
     "text": [
      "[Parallel(n_jobs=1)]: Done   1 out of   1 | elapsed:    0.7s remaining:    0.0s\n"
     ]
    },
    {
     "name": "stdout",
     "output_type": "stream",
     "text": [
      "building tree 2 of 100\n"
     ]
    },
    {
     "name": "stderr",
     "output_type": "stream",
     "text": [
      "[Parallel(n_jobs=1)]: Done   2 out of   2 | elapsed:    1.4s remaining:    0.0s\n"
     ]
    },
    {
     "name": "stdout",
     "output_type": "stream",
     "text": [
      "building tree 3 of 100\n",
      "building tree 4 of 100\n",
      "building tree 5 of 100\n",
      "building tree 6 of 100\n",
      "building tree 7 of 100\n",
      "building tree 8 of 100\n",
      "building tree 9 of 100\n",
      "building tree 10 of 100\n",
      "building tree 11 of 100\n",
      "building tree 12 of 100\n",
      "building tree 13 of 100\n",
      "building tree 14 of 100\n",
      "building tree 15 of 100\n",
      "building tree 16 of 100\n",
      "building tree 17 of 100\n",
      "building tree 18 of 100\n",
      "building tree 19 of 100\n",
      "building tree 20 of 100\n",
      "building tree 21 of 100\n",
      "building tree 22 of 100\n",
      "building tree 23 of 100\n",
      "building tree 24 of 100\n",
      "building tree 25 of 100\n",
      "building tree 26 of 100\n",
      "building tree 27 of 100\n",
      "building tree 28 of 100\n",
      "building tree 29 of 100\n",
      "building tree 30 of 100\n",
      "building tree 31 of 100\n",
      "building tree 32 of 100\n",
      "building tree 33 of 100\n",
      "building tree 34 of 100\n",
      "building tree 35 of 100\n",
      "building tree 36 of 100\n",
      "building tree 37 of 100\n",
      "building tree 38 of 100\n",
      "building tree 39 of 100\n",
      "building tree 40 of 100\n",
      "building tree 41 of 100\n",
      "building tree 42 of 100\n",
      "building tree 43 of 100\n",
      "building tree 44 of 100\n",
      "building tree 45 of 100\n",
      "building tree 46 of 100\n",
      "building tree 47 of 100\n",
      "building tree 48 of 100\n",
      "building tree 49 of 100\n",
      "building tree 50 of 100\n",
      "building tree 51 of 100\n",
      "building tree 52 of 100\n",
      "building tree 53 of 100\n",
      "building tree 54 of 100\n",
      "building tree 55 of 100\n",
      "building tree 56 of 100\n",
      "building tree 57 of 100\n",
      "building tree 58 of 100\n",
      "building tree 59 of 100\n",
      "building tree 60 of 100\n",
      "building tree 61 of 100\n",
      "building tree 62 of 100\n",
      "building tree 63 of 100\n",
      "building tree 64 of 100\n",
      "building tree 65 of 100\n",
      "building tree 66 of 100\n",
      "building tree 67 of 100\n",
      "building tree 68 of 100\n",
      "building tree 69 of 100\n",
      "building tree 70 of 100\n",
      "building tree 71 of 100\n",
      "building tree 72 of 100\n",
      "building tree 73 of 100\n",
      "building tree 74 of 100\n",
      "building tree 75 of 100\n",
      "building tree 76 of 100\n",
      "building tree 77 of 100\n",
      "building tree 78 of 100\n",
      "building tree 79 of 100\n",
      "building tree 80 of 100\n",
      "building tree 81 of 100\n",
      "building tree 82 of 100\n",
      "building tree 83 of 100\n",
      "building tree 84 of 100\n",
      "building tree 85 of 100\n",
      "building tree 86 of 100\n",
      "building tree 87 of 100\n",
      "building tree 88 of 100\n",
      "building tree 89 of 100\n",
      "building tree 90 of 100\n",
      "building tree 91 of 100\n",
      "building tree 92 of 100\n",
      "building tree 93 of 100\n",
      "building tree 94 of 100\n",
      "building tree 95 of 100\n",
      "building tree 96 of 100\n",
      "building tree 97 of 100\n",
      "building tree 98 of 100\n",
      "building tree 99 of 100\n",
      "building tree 100 of 100\n"
     ]
    },
    {
     "name": "stderr",
     "output_type": "stream",
     "text": [
      "[Parallel(n_jobs=1)]: Done 100 out of 100 | elapsed:  1.3min finished\n"
     ]
    }
   ],
   "source": [
    "batch_size = 2\n",
    "list_of_training_x_step_4 = np.array_split(X_train_step_4, batch_size)\n",
    "list_of_training_y_step_4 = np.array_split(y_train_step_4, batch_size)\n",
    "n_estimators = 100\n",
    "\n",
    "# Verifica sem algum split ficou com uma amostra a menos\n",
    "for count, y in enumerate(list_of_training_y_step_4):\n",
    "    print(f'Elementos unicos no split {count}:', y.nunique())\n",
    "\n",
    "rf_step_4 = ExtraTreesClassifier(warm_start=True, n_estimators=n_estimators, max_depth=100, min_samples_leaf=3, min_samples_split=10, verbose=3)\n",
    "\n",
    "for i in range(batch_size):\n",
    "    rf_step_4.fit(list_of_training_x_step_4[i], list_of_training_y_step_4[i])\n",
    "    n_estimators += 100\n",
    "    rf_step_4.set_params(n_estimators=n_estimators)"
   ]
  },
  {
   "cell_type": "code",
   "execution_count": 6,
   "metadata": {
    "colab": {},
    "colab_type": "code",
    "id": "o-GMp6LYzRWl"
   },
   "outputs": [
    {
     "name": "stderr",
     "output_type": "stream",
     "text": [
      "[Parallel(n_jobs=1)]: Using backend SequentialBackend with 1 concurrent workers.\n",
      "[Parallel(n_jobs=1)]: Done   1 out of   1 | elapsed:   13.2s remaining:    0.0s\n",
      "[Parallel(n_jobs=1)]: Done   2 out of   2 | elapsed:   19.4s remaining:    0.0s\n",
      "[Parallel(n_jobs=1)]: Done 200 out of 200 | elapsed:  4.2min finished\n"
     ]
    }
   ],
   "source": [
    "predictions_step_4 = rf_step_4.predict(X_test_step_4)"
   ]
  },
  {
   "cell_type": "code",
   "execution_count": 7,
   "metadata": {
    "colab": {},
    "colab_type": "code",
    "id": "ZjeGJS4-zTYL"
   },
   "outputs": [],
   "source": [
    "cr_step_4 = classification_report(y_test_step_4, predictions_step_4, output_dict=True)\n",
    "cr_df_step_4 = pd.DataFrame(cr_step_4).transpose()\n",
    "cr_df_step_4.to_csv('result_4.csv')"
   ]
  },
  {
   "cell_type": "markdown",
   "metadata": {
    "colab_type": "text",
    "id": "7ADmpqTQAm9M"
   },
   "source": [
    "## Visualizing the results"
   ]
  },
  {
   "cell_type": "code",
   "execution_count": 2,
   "metadata": {
    "colab": {},
    "colab_type": "code",
    "id": "7Ieu112kA9Wv"
   },
   "outputs": [],
   "source": [
    "def filter_results(results):\n",
    "    \"\"\" Remove the last three rows of a result csv\n",
    "        where there are the accuracy, macro avg and\n",
    "        weighted avg values\n",
    "    \"\"\"\n",
    "    results.rename(columns={\"Unnamed: 0\": \"person\"}, inplace=True)\n",
    "\n",
    "    accuracy = results[results['person'] == 'accuracy']\n",
    "    macro_avg = results[results['person'] == 'macro avg']\n",
    "    weighted_avg = results[results['person'] == 'weighted avg']\n",
    "\n",
    "    results.drop(results.tail(3).index,inplace=True)\n",
    "\n",
    "    return results, accuracy, macro_avg, weighted_avg"
   ]
  },
  {
   "cell_type": "code",
   "execution_count": 3,
   "metadata": {
    "colab": {},
    "colab_type": "code",
    "id": "l8_qSoaGH1cf"
   },
   "outputs": [],
   "source": [
    "sns.set_context(\"paper\")"
   ]
  },
  {
   "cell_type": "code",
   "execution_count": 4,
   "metadata": {
    "colab": {},
    "colab_type": "code",
    "id": "_2Y46T76Apsl"
   },
   "outputs": [],
   "source": [
    "results_step_1, accuracy_step_1, macro_avg_step_1, weighted_avg_step_1 = filter_results(pd.read_csv('result_1.csv'))\n",
    "results_step_2, accuracy_step_2, macro_avg_step_2, weighted_avg_step_2 = filter_results(pd.read_csv('result_2.csv'))\n",
    "results_step_3, accuracy_step_3, macro_avg_step_3, weighted_avg_step_3 = filter_results(pd.read_csv('result_3.csv'))\n",
    "results_step_4, accuracy_step_4, macro_avg_step_4, weighted_avg_step_4 = filter_results(pd.read_csv('result_4.csv'))"
   ]
  },
  {
   "cell_type": "code",
   "execution_count": 5,
   "metadata": {
    "colab": {},
    "colab_type": "code",
    "id": "2KvCXipOWlEs"
   },
   "outputs": [
    {
     "data": {
      "text/html": [
       "<div>\n",
       "<style scoped>\n",
       "    .dataframe tbody tr th:only-of-type {\n",
       "        vertical-align: middle;\n",
       "    }\n",
       "\n",
       "    .dataframe tbody tr th {\n",
       "        vertical-align: top;\n",
       "    }\n",
       "\n",
       "    .dataframe thead th {\n",
       "        text-align: right;\n",
       "    }\n",
       "</style>\n",
       "<table border=\"1\" class=\"dataframe\">\n",
       "  <thead>\n",
       "    <tr style=\"text-align: right;\">\n",
       "      <th></th>\n",
       "      <th>person</th>\n",
       "      <th>f1-score</th>\n",
       "      <th>precision</th>\n",
       "      <th>recall</th>\n",
       "      <th>support</th>\n",
       "    </tr>\n",
       "  </thead>\n",
       "  <tbody>\n",
       "    <tr>\n",
       "      <th>1846</th>\n",
       "      <td>tr14-0268</td>\n",
       "      <td>0.816327</td>\n",
       "      <td>0.769231</td>\n",
       "      <td>0.869565</td>\n",
       "      <td>23.0</td>\n",
       "    </tr>\n",
       "    <tr>\n",
       "      <th>1847</th>\n",
       "      <td>tr14-0272</td>\n",
       "      <td>0.893617</td>\n",
       "      <td>0.913043</td>\n",
       "      <td>0.875000</td>\n",
       "      <td>24.0</td>\n",
       "    </tr>\n",
       "    <tr>\n",
       "      <th>1848</th>\n",
       "      <td>tr14-0276</td>\n",
       "      <td>0.846154</td>\n",
       "      <td>1.000000</td>\n",
       "      <td>0.733333</td>\n",
       "      <td>15.0</td>\n",
       "    </tr>\n",
       "    <tr>\n",
       "      <th>1849</th>\n",
       "      <td>tr14-0278</td>\n",
       "      <td>0.714286</td>\n",
       "      <td>0.789474</td>\n",
       "      <td>0.652174</td>\n",
       "      <td>23.0</td>\n",
       "    </tr>\n",
       "    <tr>\n",
       "      <th>1850</th>\n",
       "      <td>tr14-0291</td>\n",
       "      <td>0.816327</td>\n",
       "      <td>0.800000</td>\n",
       "      <td>0.833333</td>\n",
       "      <td>24.0</td>\n",
       "    </tr>\n",
       "  </tbody>\n",
       "</table>\n",
       "</div>"
      ],
      "text/plain": [
       "         person  f1-score  precision    recall  support\n",
       "1846  tr14-0268  0.816327   0.769231  0.869565     23.0\n",
       "1847  tr14-0272  0.893617   0.913043  0.875000     24.0\n",
       "1848  tr14-0276  0.846154   1.000000  0.733333     15.0\n",
       "1849  tr14-0278  0.714286   0.789474  0.652174     23.0\n",
       "1850  tr14-0291  0.816327   0.800000  0.833333     24.0"
      ]
     },
     "execution_count": 5,
     "metadata": {},
     "output_type": "execute_result"
    }
   ],
   "source": [
    "results_step_4.tail(5)"
   ]
  },
  {
   "cell_type": "code",
   "execution_count": 6,
   "metadata": {
    "colab": {},
    "colab_type": "code",
    "id": "BdGgrYsrZAPS"
   },
   "outputs": [
    {
     "data": {
      "text/plain": [
       "<matplotlib.legend.Legend at 0x7f9db567e210>"
      ]
     },
     "execution_count": 6,
     "metadata": {},
     "output_type": "execute_result"
    },
    {
     "data": {
      "image/png": "[encoded data removed]",
      "text/plain": [
       "<Figure size 1440x864 with 4 Axes>"
      ]
     },
     "metadata": {
      "needs_background": "light"
     },
     "output_type": "display_data"
    }
   ],
   "source": [
    "f, axes = plt.subplots(4, 1, figsize=(20, 12), sharex='col')\n",
    "plt.xlim(0, 1)\n",
    "metric= 'precision'\n",
    "bins = 20\n",
    "kde=False\n",
    "for ax in axes: ax.set_ylim(0,300) \n",
    "f.suptitle(f'{metric} histogram', fontsize=17)\n",
    "sns.distplot(results_step_1[metric], bins=bins, kde=kde, ax=axes[0], color=\"skyblue\", label=\"Original Data\")\n",
    "axes[0].legend(loc=\"upper left\", prop={'size': 16})\n",
    "sns.distplot(results_step_2[metric], bins=bins, kde=kde, ax=axes[1], color=\"olive\", label=\"Increased number of examples\")\n",
    "axes[1].legend(loc=\"upper left\", prop={'size': 16})\n",
    "sns.distplot(results_step_3[metric], bins=bins, kde=kde, ax=axes[2], color=\"red\", label=\"Increased number of examples and outiliers removed\")\n",
    "axes[2].legend(loc=\"upper left\", prop={'size': 16})\n",
    "sns.distplot(results_step_4[metric], bins=bins, kde=kde, ax=axes[3], color=\"purple\", label=\"New Features, increased number of examples and outiliers removed\")\n",
    "axes[3].legend(loc=\"upper left\", prop={'size': 16})"
   ]
  },
  {
   "cell_type": "code",
   "execution_count": 7,
   "metadata": {
    "colab": {},
    "colab_type": "code",
    "id": "wlXdEUIAD217"
   },
   "outputs": [
    {
     "name": "stderr",
     "output_type": "stream",
     "text": [
      "/home/renato/anaconda3/lib/python3.7/site-packages/scipy/stats/stats.py:1713: FutureWarning: Using a non-tuple sequence for multidimensional indexing is deprecated; use `arr[tuple(seq)]` instead of `arr[seq]`. In the future this will be interpreted as an array index, `arr[np.array(seq)]`, which will result either in an error or a different result.\n",
      "  return np.add.reduce(sorted[indexer] * weights, axis=axis) / sumval\n"
     ]
    },
    {
     "data": {
      "text/plain": [
       "<matplotlib.legend.Legend at 0x7f9db55e3d50>"
      ]
     },
     "execution_count": 7,
     "metadata": {},
     "output_type": "execute_result"
    },
    {
     "data": {
      "image/png": "[encoded data removed]",
      "text/plain": [
       "<Figure size 1440x648 with 1 Axes>"
      ]
     },
     "metadata": {
      "needs_background": "light"
     },
     "output_type": "display_data"
    }
   ],
   "source": [
    "#TODO deix as cores do fundo opacas\n",
    "plt.figure(figsize=(20,9))\n",
    "bins = 20\n",
    "metric = 'precision'\n",
    "kde=True\n",
    "sns.distplot(results_step_4[metric], bins=bins, kde=kde, color=\"purple\", label=\"New Features, Increased number of examples and outiliers removed\")\n",
    "sns.distplot(results_step_3[metric], bins=bins, kde=kde, color=\"red\", label=\"Increased number of examples and outiliers removed\")\n",
    "sns.distplot(results_step_2[metric], bins=bins, kde=kde, color=\"olive\", label=\"Increased number of examples\")\n",
    "sns.distplot(results_step_1[metric], bins=bins, kde=kde, color=\"skyblue\", label=\"Original data\")\n",
    "plt.ylabel('Hundreds of people in bin', fontsize=16)\n",
    "plt.xlabel(metric, fontsize=16)\n",
    "plt.title(f'Overlapped {metric} histogram', fontsize=17)\n",
    "plt.xlim(0, 1)\n",
    "plt.legend(loc=\"upper left\", prop={'size': 16})"
   ]
  },
  {
   "cell_type": "code",
   "execution_count": 8,
   "metadata": {
    "colab": {},
    "colab_type": "code",
    "id": "pChbqn6ch2PC"
   },
   "outputs": [
    {
     "data": {
      "text/html": [
       "<div>\n",
       "<style scoped>\n",
       "    .dataframe tbody tr th:only-of-type {\n",
       "        vertical-align: middle;\n",
       "    }\n",
       "\n",
       "    .dataframe tbody tr th {\n",
       "        vertical-align: top;\n",
       "    }\n",
       "\n",
       "    .dataframe thead th {\n",
       "        text-align: right;\n",
       "    }\n",
       "</style>\n",
       "<table border=\"1\" class=\"dataframe\">\n",
       "  <thead>\n",
       "    <tr style=\"text-align: right;\">\n",
       "      <th></th>\n",
       "      <th>f1-score</th>\n",
       "      <th>precision</th>\n",
       "      <th>recall</th>\n",
       "    </tr>\n",
       "  </thead>\n",
       "  <tbody>\n",
       "    <tr>\n",
       "      <th>0</th>\n",
       "      <td>0.622810</td>\n",
       "      <td>0.660609</td>\n",
       "      <td>0.665191</td>\n",
       "    </tr>\n",
       "    <tr>\n",
       "      <th>1</th>\n",
       "      <td>0.724509</td>\n",
       "      <td>0.740167</td>\n",
       "      <td>0.738587</td>\n",
       "    </tr>\n",
       "    <tr>\n",
       "      <th>2</th>\n",
       "      <td>0.764051</td>\n",
       "      <td>0.786904</td>\n",
       "      <td>0.771769</td>\n",
       "    </tr>\n",
       "    <tr>\n",
       "      <th>3</th>\n",
       "      <td>0.824920</td>\n",
       "      <td>0.844981</td>\n",
       "      <td>0.828355</td>\n",
       "    </tr>\n",
       "  </tbody>\n",
       "</table>\n",
       "</div>"
      ],
      "text/plain": [
       "   f1-score  precision    recall\n",
       "0  0.622810   0.660609  0.665191\n",
       "1  0.724509   0.740167  0.738587\n",
       "2  0.764051   0.786904  0.771769\n",
       "3  0.824920   0.844981  0.828355"
      ]
     },
     "execution_count": 8,
     "metadata": {},
     "output_type": "execute_result"
    }
   ],
   "source": [
    "# unifica os resultados dos 4 testes em um dataframe unico\n",
    "list_of_results = [results_step_1.mean(), results_step_2.mean(), results_step_3.mean(), results_step_4.mean()]\n",
    "df = pd.DataFrame(list_of_results)\n",
    "df.drop(['support'],  axis=1, inplace=True)\n",
    "df"
   ]
  },
  {
   "cell_type": "markdown",
   "metadata": {
    "colab_type": "text",
    "id": "PwI_2PvXncW2"
   },
   "source": [
    "## Barplot empilhado"
   ]
  },
  {
   "cell_type": "code",
   "execution_count": 10,
   "metadata": {
    "colab": {},
    "colab_type": "code",
    "id": "dtkykwk3lq7f"
   },
   "outputs": [
    {
     "data": {
      "text/plain": [
       "<matplotlib.legend.Legend at 0x7f9db537ae90>"
      ]
     },
     "execution_count": 10,
     "metadata": {},
     "output_type": "execute_result"
    },
    {
     "data": {
      "image/png": "[encoded data removed]",
      "text/plain": [
       "<Figure size 1296x576 with 1 Axes>"
      ]
     },
     "metadata": {
      "needs_background": "light"
     },
     "output_type": "display_data"
    }
   ],
   "source": [
    ",# y-axis in bold\n",
    "plt.figure(figsize=(18,8))\n",
    "# \n",
    "bars1 = np.add(df.loc[0], df.loc[1]).tolist()\n",
    "bars2 = np.add(np.add(df.loc[0], df.loc[1]), df.loc[2]).tolist()\n",
    "# The position of the bars on the x-axis\n",
    "r = [0,1,2]\n",
    " \n",
    "# Names of group and bar width\n",
    "names = ['precision','recall','f1-score']\n",
    "barWidth = 0.80\n",
    "plt.ylim(0.50,0.90)\n",
    "\n",
    "# Create brown bars\n",
    "plt.bar(r, df.loc[3], color='#368069', width=barWidth, label=\"New Features, increased number of examples and outliers removed\")\n",
    "# Create green bars (middle), on top of the firs ones\n",
    "plt.bar(r, df.loc[2], color='#56CCA9', width=barWidth, label=\"Increased number of examples and outliers removed\")\n",
    "# Create green bars (top)\n",
    "plt.bar(r, df.loc[1], color='#6BFFD3', width=barWidth, label=\"Increased number of examples\")\n",
    "# step 4\n",
    "plt.bar(r, df.loc[0], color='#B8FFEA', width=barWidth, label=\"Original Data\")\n",
    " \n",
    "# Custom X axis\n",
    "plt.xticks(r, names, fontweight='bold')\n",
    "plt.title('Metrics increase over dataset improvements (ExtraTreesClassifier)', fontsize=16)\n",
    "plt.ylabel(\"Evaluation\")\n",
    "plt.xlabel(\"Metric\")\n",
    "plt.legend(loc=\"lower left\", prop={'size':15})"
   ]
  }
 ],
 "metadata": {
  "accelerator": "GPU",
  "colab": {
   "collapsed_sections": [],
   "machine_shape": "hm",
   "name": "Meu plot - backend.ipynb",
   "provenance": []
  },
  "kernelspec": {
   "display_name": "Python 3",
   "language": "python",
   "name": "python3"
  },
  "language_info": {
   "codemirror_mode": {
    "name": "ipython",
    "version": 3
   },
   "file_extension": ".py",
   "mimetype": "text/x-python",
   "name": "python",
   "nbconvert_exporter": "python",
   "pygments_lexer": "ipython3",
   "version": "3.7.4"
  }
 },
 "nbformat": 4,
 "nbformat_minor": 1
}
