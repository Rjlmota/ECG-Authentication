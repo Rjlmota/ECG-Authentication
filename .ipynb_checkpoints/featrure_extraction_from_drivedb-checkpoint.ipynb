{
 "cells": [
  {
   "cell_type": "code",
   "execution_count": 1,
   "metadata": {},
   "outputs": [],
   "source": [
    "import csv\n",
    "import pandas as pd\n",
    "import numpy as np\n",
    "import matplotlib.pyplot as plt\n",
    "from sklearn.pipeline import Pipeline\n",
    "from sklearn.preprocessing import StandardScaler\n",
    "# local imports\n",
    "from utilities import utilities"
   ]
  },
  {
   "cell_type": "markdown",
   "metadata": {},
   "source": [
    "## Alguns parametros especificos para este dataset"
   ]
  },
  {
   "cell_type": "code",
   "execution_count": 2,
   "metadata": {},
   "outputs": [],
   "source": [
    "path = 'physiobank_tool/drivedb'\n",
    "number_of_segments = 120\n",
    "low_cut = 0.1"
   ]
  },
  {
   "cell_type": "markdown",
   "metadata": {},
   "source": [
    "## Lendo os arquivos que contém o sinal"
   ]
  },
  {
   "cell_type": "code",
   "execution_count": 3,
   "metadata": {},
   "outputs": [
    {
     "name": "stdout",
     "output_type": "stream",
     "text": [
      "Read data for the following drivers:\n",
      " ['drive01', 'drive02', 'drive04', 'drive05', 'drive06', 'drive07', 'drive08', 'drive09', 'drive10', 'drive11', 'drive12', 'drive13', 'drive15', 'drive16', 'drive17']\n"
     ]
    }
   ],
   "source": [
    "files = []\n",
    "with open(path+'/header.txt') as f:\n",
    "    reader = csv.reader(f)\n",
    "    for row in reader:\n",
    "        #print(row)\n",
    "        files.append(row[0])\n",
    "print(\"Read data for the following drivers:\\n\", files)"
   ]
  },
  {
   "cell_type": "markdown",
   "metadata": {},
   "source": [
    "## Importando os arquivos para um DataFrame"
   ]
  },
  {
   "cell_type": "code",
   "execution_count": 4,
   "metadata": {},
   "outputs": [],
   "source": [
    "def read_file(file_name):\n",
    "    ''' docstring here later '''\n",
    "    cols_of_interest = [0,1,2]\n",
    "    ecg_data = pd.read_csv(f'{path}/{file_name}.csv', usecols=cols_of_interest)\n",
    "    # drop useless header\n",
    "    ecg_data = ecg_data.drop(ecg_data.index[0])\n",
    "    # name columns\n",
    "    ecg_data.columns = ['time', 'ECG', 'ECGF']\n",
    "    # cast some columns to float\n",
    "    ecg_data['time'] = ecg_data['time'].astype(float)\n",
    "    ecg_data['ECG'] = ecg_data['ECG'].astype(float)\n",
    "    \n",
    "    return ecg_data"
   ]
  },
  {
   "cell_type": "code",
   "execution_count": 5,
   "metadata": {},
   "outputs": [],
   "source": [
    "def run(ecg_data, file_name, number_of_segments, low_cut):\n",
    "    \"\"\"adiciona a docstring aqui depois\"\"\"\n",
    "    sample_rate = utilities.detect_sample_rate(ecg_data)\n",
    "    print(sample_rate)\n",
    "    high_cut = sample_rate/3.0\n",
    "    \n",
    "    data_preparation_pipeline = Pipeline([\n",
    "        ('filtering', utilities.Filter(sample_rate, low_cut, high_cut)),\n",
    "        ('feature_detection', utilities.FeatureExtractor(number_of_segments, sample_rate)),\n",
    "        ])\n",
    "\n",
    "    extracted_features_df = data_preparation_pipeline.fit_transform(ecg_data['ECG'])\n",
    "    #print(extracted_features_df)\n",
    "    #extracted_features_df.to_csv(f\"{path}_output/{file_name}.csv\")\n",
    "    extracted_features_df.reset_index(drop=True, inplace=True)\n",
    "    return extracted_features_df"
   ]
  },
  {
   "cell_type": "code",
   "execution_count": 6,
   "metadata": {},
   "outputs": [
    {
     "data": {
      "text/plain": [
       "array([0., 0., 0., 0., 0., 0., 0., 0., 0.])"
      ]
     },
     "execution_count": 6,
     "metadata": {},
     "output_type": "execute_result"
    }
   ],
   "source": [
    "np.array([0.0]*9)"
   ]
  },
  {
   "cell_type": "code",
   "execution_count": 7,
   "metadata": {},
   "outputs": [
    {
     "name": "stderr",
     "output_type": "stream",
     "text": [
      "/home/renato/anaconda3/lib/python3.7/site-packages/IPython/core/interactiveshell.py:3249: DtypeWarning: Columns (0,1,2) have mixed types. Specify dtype option on import or set low_memory=False.\n",
      "  if (await self.run_code(code, result,  async_=asy)):\n"
     ]
    },
    {
     "name": "stdout",
     "output_type": "stream",
     "text": [
      "496\n"
     ]
    },
    {
     "name": "stderr",
     "output_type": "stream",
     "text": [
      "/home/renato/anaconda3/lib/python3.7/site-packages/numpy/core/fromnumeric.py:2920: RuntimeWarning: Mean of empty slice.\n",
      "  out=out, **kwargs)\n",
      "/home/renato/anaconda3/lib/python3.7/site-packages/numpy/core/_methods.py:85: RuntimeWarning: invalid value encountered in double_scalars\n",
      "  ret = ret.dtype.type(ret / rcount)\n"
     ]
    },
    {
     "name": "stdout",
     "output_type": "stream",
     "text": [
      "Generated 1849 original segments\n"
     ]
    },
    {
     "data": {
      "image/png": "[encoded data removed]",
      "text/plain": [
       "<Figure size 432x288 with 1 Axes>"
      ]
     },
     "metadata": {
      "needs_background": "light"
     },
     "output_type": "display_data"
    }
   ],
   "source": [
    "features_df = pd.DataFrame()\n",
    "for file in files:\n",
    "    ecg_data = read_file(file)\n",
    "    plt.plot(ecg_data['ECG'][:10000])\n",
    "    current_df = run(ecg_data, file, number_of_segments, low_cut)\n",
    "    current_df['person'] = file\n",
    "    features_df = pd.concat([current_df, features_df], ignore_index=True)"
   ]
  },
  {
   "cell_type": "markdown",
   "metadata": {},
   "source": [
    "## dando uma olhada no signal e a filtragem obtida:"
   ]
  },
  {
   "cell_type": "code",
   "execution_count": 8,
   "metadata": {},
   "outputs": [
    {
     "data": {
      "text/html": [
       "<div>\n",
       "<style scoped>\n",
       "    .dataframe tbody tr th:only-of-type {\n",
       "        vertical-align: middle;\n",
       "    }\n",
       "\n",
       "    .dataframe tbody tr th {\n",
       "        vertical-align: top;\n",
       "    }\n",
       "\n",
       "    .dataframe thead th {\n",
       "        text-align: right;\n",
       "    }\n",
       "</style>\n",
       "<table border=\"1\" class=\"dataframe\">\n",
       "  <thead>\n",
       "    <tr style=\"text-align: right;\">\n",
       "      <th></th>\n",
       "      <th>mean_q</th>\n",
       "      <th>mean_r</th>\n",
       "      <th>mean_s</th>\n",
       "      <th>stdev_q</th>\n",
       "      <th>stdev_r</th>\n",
       "      <th>stdev_s</th>\n",
       "      <th>mean_qrs_interval</th>\n",
       "      <th>mean_rr_interval</th>\n",
       "      <th>mean_rq_amplitude</th>\n",
       "    </tr>\n",
       "  </thead>\n",
       "  <tbody>\n",
       "    <tr>\n",
       "      <th>0</th>\n",
       "      <td>-0.076557</td>\n",
       "      <td>0.726937</td>\n",
       "      <td>-0.089368</td>\n",
       "      <td>0.012151</td>\n",
       "      <td>0.028672</td>\n",
       "      <td>0.016181</td>\n",
       "      <td>799.395161</td>\n",
       "      <td>0.803493</td>\n",
       "      <td>61.827957</td>\n",
       "    </tr>\n",
       "    <tr>\n",
       "      <th>1</th>\n",
       "      <td>0.040557</td>\n",
       "      <td>0.751134</td>\n",
       "      <td>-0.027797</td>\n",
       "      <td>0.022051</td>\n",
       "      <td>0.064234</td>\n",
       "      <td>0.041294</td>\n",
       "      <td>685.483871</td>\n",
       "      <td>0.710577</td>\n",
       "      <td>60.483871</td>\n",
       "    </tr>\n",
       "    <tr>\n",
       "      <th>2</th>\n",
       "      <td>-0.087960</td>\n",
       "      <td>0.573185</td>\n",
       "      <td>-0.157539</td>\n",
       "      <td>0.010951</td>\n",
       "      <td>0.052700</td>\n",
       "      <td>0.039502</td>\n",
       "      <td>733.870968</td>\n",
       "      <td>0.661145</td>\n",
       "      <td>57.795699</td>\n",
       "    </tr>\n",
       "    <tr>\n",
       "      <th>3</th>\n",
       "      <td>-0.091657</td>\n",
       "      <td>0.597291</td>\n",
       "      <td>-0.134320</td>\n",
       "      <td>0.028864</td>\n",
       "      <td>0.022125</td>\n",
       "      <td>0.016704</td>\n",
       "      <td>608.870968</td>\n",
       "      <td>0.688948</td>\n",
       "      <td>60.483871</td>\n",
       "    </tr>\n",
       "    <tr>\n",
       "      <th>4</th>\n",
       "      <td>-0.050131</td>\n",
       "      <td>0.704164</td>\n",
       "      <td>-0.086183</td>\n",
       "      <td>0.025439</td>\n",
       "      <td>0.023942</td>\n",
       "      <td>0.027725</td>\n",
       "      <td>897.177419</td>\n",
       "      <td>0.754295</td>\n",
       "      <td>57.459677</td>\n",
       "    </tr>\n",
       "    <tr>\n",
       "      <th>5</th>\n",
       "      <td>-0.094434</td>\n",
       "      <td>0.607933</td>\n",
       "      <td>-0.113431</td>\n",
       "      <td>0.012614</td>\n",
       "      <td>0.018382</td>\n",
       "      <td>0.014636</td>\n",
       "      <td>753.024194</td>\n",
       "      <td>0.702367</td>\n",
       "      <td>62.500000</td>\n",
       "    </tr>\n",
       "    <tr>\n",
       "      <th>6</th>\n",
       "      <td>-0.067672</td>\n",
       "      <td>0.675807</td>\n",
       "      <td>-0.091626</td>\n",
       "      <td>0.015256</td>\n",
       "      <td>0.019826</td>\n",
       "      <td>0.018262</td>\n",
       "      <td>947.580645</td>\n",
       "      <td>0.743479</td>\n",
       "      <td>59.475806</td>\n",
       "    </tr>\n",
       "    <tr>\n",
       "      <th>7</th>\n",
       "      <td>0.000000</td>\n",
       "      <td>0.000000</td>\n",
       "      <td>0.000000</td>\n",
       "      <td>0.000000</td>\n",
       "      <td>0.000000</td>\n",
       "      <td>0.000000</td>\n",
       "      <td>0.000000</td>\n",
       "      <td>0.000000</td>\n",
       "      <td>0.000000</td>\n",
       "    </tr>\n",
       "    <tr>\n",
       "      <th>8</th>\n",
       "      <td>-0.075189</td>\n",
       "      <td>0.590012</td>\n",
       "      <td>-0.114151</td>\n",
       "      <td>0.001905</td>\n",
       "      <td>0.011590</td>\n",
       "      <td>0.003306</td>\n",
       "      <td>711.693548</td>\n",
       "      <td>0.665202</td>\n",
       "      <td>62.500000</td>\n",
       "    </tr>\n",
       "    <tr>\n",
       "      <th>9</th>\n",
       "      <td>-0.121485</td>\n",
       "      <td>0.556244</td>\n",
       "      <td>-0.173253</td>\n",
       "      <td>0.037438</td>\n",
       "      <td>0.031820</td>\n",
       "      <td>0.035558</td>\n",
       "      <td>794.354839</td>\n",
       "      <td>0.677729</td>\n",
       "      <td>61.155914</td>\n",
       "    </tr>\n",
       "    <tr>\n",
       "      <th>10</th>\n",
       "      <td>-0.077717</td>\n",
       "      <td>0.698995</td>\n",
       "      <td>-0.105662</td>\n",
       "      <td>0.000000</td>\n",
       "      <td>0.000000</td>\n",
       "      <td>0.000000</td>\n",
       "      <td>NaN</td>\n",
       "      <td>0.776712</td>\n",
       "      <td>62.500000</td>\n",
       "    </tr>\n",
       "    <tr>\n",
       "      <th>11</th>\n",
       "      <td>-0.080488</td>\n",
       "      <td>0.561807</td>\n",
       "      <td>-0.133338</td>\n",
       "      <td>0.030201</td>\n",
       "      <td>0.042248</td>\n",
       "      <td>0.044440</td>\n",
       "      <td>691.532258</td>\n",
       "      <td>0.642295</td>\n",
       "      <td>63.844086</td>\n",
       "    </tr>\n",
       "    <tr>\n",
       "      <th>12</th>\n",
       "      <td>-0.104803</td>\n",
       "      <td>0.580408</td>\n",
       "      <td>-0.121051</td>\n",
       "      <td>0.017312</td>\n",
       "      <td>0.004734</td>\n",
       "      <td>0.007109</td>\n",
       "      <td>601.814516</td>\n",
       "      <td>0.685210</td>\n",
       "      <td>59.139785</td>\n",
       "    </tr>\n",
       "    <tr>\n",
       "      <th>13</th>\n",
       "      <td>-0.059847</td>\n",
       "      <td>0.595015</td>\n",
       "      <td>-0.084835</td>\n",
       "      <td>0.033574</td>\n",
       "      <td>0.034622</td>\n",
       "      <td>0.039478</td>\n",
       "      <td>712.701613</td>\n",
       "      <td>0.654863</td>\n",
       "      <td>59.811828</td>\n",
       "    </tr>\n",
       "    <tr>\n",
       "      <th>14</th>\n",
       "      <td>-0.020150</td>\n",
       "      <td>0.638204</td>\n",
       "      <td>-0.060428</td>\n",
       "      <td>0.020826</td>\n",
       "      <td>0.024738</td>\n",
       "      <td>0.023148</td>\n",
       "      <td>686.491935</td>\n",
       "      <td>0.658354</td>\n",
       "      <td>56.451613</td>\n",
       "    </tr>\n",
       "    <tr>\n",
       "      <th>15</th>\n",
       "      <td>-0.034689</td>\n",
       "      <td>0.617573</td>\n",
       "      <td>-0.092314</td>\n",
       "      <td>0.003579</td>\n",
       "      <td>0.030390</td>\n",
       "      <td>0.023114</td>\n",
       "      <td>885.080645</td>\n",
       "      <td>0.652262</td>\n",
       "      <td>59.475806</td>\n",
       "    </tr>\n",
       "    <tr>\n",
       "      <th>16</th>\n",
       "      <td>-0.110528</td>\n",
       "      <td>0.529025</td>\n",
       "      <td>-0.183072</td>\n",
       "      <td>0.096140</td>\n",
       "      <td>0.093276</td>\n",
       "      <td>0.116327</td>\n",
       "      <td>614.919355</td>\n",
       "      <td>0.639552</td>\n",
       "      <td>58.467742</td>\n",
       "    </tr>\n",
       "    <tr>\n",
       "      <th>17</th>\n",
       "      <td>-0.065785</td>\n",
       "      <td>0.607017</td>\n",
       "      <td>-0.114409</td>\n",
       "      <td>0.007271</td>\n",
       "      <td>0.000838</td>\n",
       "      <td>0.002757</td>\n",
       "      <td>796.370968</td>\n",
       "      <td>0.672801</td>\n",
       "      <td>56.451613</td>\n",
       "    </tr>\n",
       "    <tr>\n",
       "      <th>18</th>\n",
       "      <td>-0.016101</td>\n",
       "      <td>0.697367</td>\n",
       "      <td>-0.051207</td>\n",
       "      <td>0.004721</td>\n",
       "      <td>0.013547</td>\n",
       "      <td>0.024613</td>\n",
       "      <td>981.854839</td>\n",
       "      <td>0.713468</td>\n",
       "      <td>57.459677</td>\n",
       "    </tr>\n",
       "    <tr>\n",
       "      <th>19</th>\n",
       "      <td>-0.048552</td>\n",
       "      <td>0.617721</td>\n",
       "      <td>-0.109857</td>\n",
       "      <td>0.017759</td>\n",
       "      <td>0.020432</td>\n",
       "      <td>0.012629</td>\n",
       "      <td>816.532258</td>\n",
       "      <td>0.666273</td>\n",
       "      <td>59.475806</td>\n",
       "    </tr>\n",
       "  </tbody>\n",
       "</table>\n",
       "</div>"
      ],
      "text/plain": [
       "      mean_q    mean_r    mean_s   stdev_q   stdev_r   stdev_s  \\\n",
       "0  -0.076557  0.726937 -0.089368  0.012151  0.028672  0.016181   \n",
       "1   0.040557  0.751134 -0.027797  0.022051  0.064234  0.041294   \n",
       "2  -0.087960  0.573185 -0.157539  0.010951  0.052700  0.039502   \n",
       "3  -0.091657  0.597291 -0.134320  0.028864  0.022125  0.016704   \n",
       "4  -0.050131  0.704164 -0.086183  0.025439  0.023942  0.027725   \n",
       "5  -0.094434  0.607933 -0.113431  0.012614  0.018382  0.014636   \n",
       "6  -0.067672  0.675807 -0.091626  0.015256  0.019826  0.018262   \n",
       "7   0.000000  0.000000  0.000000  0.000000  0.000000  0.000000   \n",
       "8  -0.075189  0.590012 -0.114151  0.001905  0.011590  0.003306   \n",
       "9  -0.121485  0.556244 -0.173253  0.037438  0.031820  0.035558   \n",
       "10 -0.077717  0.698995 -0.105662  0.000000  0.000000  0.000000   \n",
       "11 -0.080488  0.561807 -0.133338  0.030201  0.042248  0.044440   \n",
       "12 -0.104803  0.580408 -0.121051  0.017312  0.004734  0.007109   \n",
       "13 -0.059847  0.595015 -0.084835  0.033574  0.034622  0.039478   \n",
       "14 -0.020150  0.638204 -0.060428  0.020826  0.024738  0.023148   \n",
       "15 -0.034689  0.617573 -0.092314  0.003579  0.030390  0.023114   \n",
       "16 -0.110528  0.529025 -0.183072  0.096140  0.093276  0.116327   \n",
       "17 -0.065785  0.607017 -0.114409  0.007271  0.000838  0.002757   \n",
       "18 -0.016101  0.697367 -0.051207  0.004721  0.013547  0.024613   \n",
       "19 -0.048552  0.617721 -0.109857  0.017759  0.020432  0.012629   \n",
       "\n",
       "    mean_qrs_interval  mean_rr_interval  mean_rq_amplitude  \n",
       "0          799.395161          0.803493          61.827957  \n",
       "1          685.483871          0.710577          60.483871  \n",
       "2          733.870968          0.661145          57.795699  \n",
       "3          608.870968          0.688948          60.483871  \n",
       "4          897.177419          0.754295          57.459677  \n",
       "5          753.024194          0.702367          62.500000  \n",
       "6          947.580645          0.743479          59.475806  \n",
       "7            0.000000          0.000000           0.000000  \n",
       "8          711.693548          0.665202          62.500000  \n",
       "9          794.354839          0.677729          61.155914  \n",
       "10                NaN          0.776712          62.500000  \n",
       "11         691.532258          0.642295          63.844086  \n",
       "12         601.814516          0.685210          59.139785  \n",
       "13         712.701613          0.654863          59.811828  \n",
       "14         686.491935          0.658354          56.451613  \n",
       "15         885.080645          0.652262          59.475806  \n",
       "16         614.919355          0.639552          58.467742  \n",
       "17         796.370968          0.672801          56.451613  \n",
       "18         981.854839          0.713468          57.459677  \n",
       "19         816.532258          0.666273          59.475806  "
      ]
     },
     "execution_count": 8,
     "metadata": {},
     "output_type": "execute_result"
    }
   ],
   "source": [
    "primeiro_cara"
   ]
  },
  {
   "cell_type": "code",
   "execution_count": null,
   "metadata": {},
   "outputs": [],
   "source": []
  },
  {
   "cell_type": "code",
   "execution_count": 9,
   "metadata": {},
   "outputs": [
    {
     "ename": "NameError",
     "evalue": "name 'sample_rate' is not defined",
     "output_type": "error",
     "traceback": [
      "\u001b[0;31m---------------------------------------------------------------------------\u001b[0m",
      "\u001b[0;31mNameError\u001b[0m                                 Traceback (most recent call last)",
      "\u001b[0;32m<ipython-input-9-018702c2b8c0>\u001b[0m in \u001b[0;36m<module>\u001b[0;34m\u001b[0m\n\u001b[0;32m----> 1\u001b[0;31m \u001b[0mfilter\u001b[0m \u001b[0;34m=\u001b[0m \u001b[0mutilities\u001b[0m\u001b[0;34m.\u001b[0m\u001b[0mFilter\u001b[0m\u001b[0;34m(\u001b[0m\u001b[0msample_rate\u001b[0m\u001b[0;34m,\u001b[0m \u001b[0mlow_cut\u001b[0m\u001b[0;34m,\u001b[0m \u001b[0mhigh_cut\u001b[0m\u001b[0;34m)\u001b[0m\u001b[0;34m\u001b[0m\u001b[0;34m\u001b[0m\u001b[0m\n\u001b[0m\u001b[1;32m      2\u001b[0m \u001b[0mfiltered_two_seconds\u001b[0m \u001b[0;34m=\u001b[0m \u001b[0mfilter\u001b[0m\u001b[0;34m.\u001b[0m\u001b[0mfit_transform\u001b[0m\u001b[0;34m(\u001b[0m\u001b[0mtwo_seconds\u001b[0m\u001b[0;34m)\u001b[0m\u001b[0;34m\u001b[0m\u001b[0;34m\u001b[0m\u001b[0m\n\u001b[1;32m      3\u001b[0m \u001b[0;34m\u001b[0m\u001b[0m\n\u001b[1;32m      4\u001b[0m \u001b[0mfig\u001b[0m\u001b[0;34m=\u001b[0m\u001b[0mplt\u001b[0m\u001b[0;34m.\u001b[0m\u001b[0mfigure\u001b[0m\u001b[0;34m(\u001b[0m\u001b[0mfigsize\u001b[0m\u001b[0;34m=\u001b[0m\u001b[0;34m(\u001b[0m\u001b[0;36m20\u001b[0m\u001b[0;34m,\u001b[0m \u001b[0;36m7\u001b[0m\u001b[0;34m)\u001b[0m\u001b[0;34m,\u001b[0m \u001b[0mdpi\u001b[0m\u001b[0;34m=\u001b[0m \u001b[0;36m80\u001b[0m\u001b[0;34m,\u001b[0m \u001b[0mfacecolor\u001b[0m\u001b[0;34m=\u001b[0m\u001b[0;34m'w'\u001b[0m\u001b[0;34m,\u001b[0m \u001b[0medgecolor\u001b[0m\u001b[0;34m=\u001b[0m\u001b[0;34m'k'\u001b[0m\u001b[0;34m)\u001b[0m\u001b[0;34m\u001b[0m\u001b[0;34m\u001b[0m\u001b[0m\n\u001b[1;32m      5\u001b[0m \u001b[0;34m\u001b[0m\u001b[0m\n",
      "\u001b[0;31mNameError\u001b[0m: name 'sample_rate' is not defined"
     ]
    }
   ],
   "source": [
    "filter = utilities.Filter(sample_rate, low_cut, high_cut)\n",
    "filtered_two_seconds = filter.fit_transform(two_seconds)\n",
    "\n",
    "fig=plt.figure(figsize=(20, 7), dpi= 80, facecolor='w', edgecolor='k')\n",
    "\n",
    "plt.plot(filtered_two_seconds)\n",
    "two_seconds.plot()"
   ]
  },
  {
   "cell_type": "markdown",
   "metadata": {},
   "source": [
    "## Fazendo pre-processamento dos dados"
   ]
  },
  {
   "cell_type": "code",
   "execution_count": null,
   "metadata": {},
   "outputs": [],
   "source": [
    "df = read_file(files[0])\n",
    "df.sample(n=30)"
   ]
  },
  {
   "cell_type": "code",
   "execution_count": null,
   "metadata": {},
   "outputs": [],
   "source": []
  },
  {
   "cell_type": "code",
   "execution_count": null,
   "metadata": {},
   "outputs": [],
   "source": []
  }
 ],
 "metadata": {
  "kernelspec": {
   "display_name": "Python 3",
   "language": "python",
   "name": "python3"
  },
  "language_info": {
   "codemirror_mode": {
    "name": "ipython",
    "version": 3
   },
   "file_extension": ".py",
   "mimetype": "text/x-python",
   "name": "python",
   "nbconvert_exporter": "python",
   "pygments_lexer": "ipython3",
   "version": "3.7.4"
  }
 },
 "nbformat": 4,
 "nbformat_minor": 2
}
