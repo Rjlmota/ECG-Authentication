{
 "cells": [
  {
   "cell_type": "code",
   "execution_count": 1,
   "metadata": {},
   "outputs": [
    {
     "ename": "ValueError",
     "evalue": "attempted relative import beyond top-level package",
     "output_type": "error",
     "traceback": [
      "\u001b[0;31m---------------------------------------------------------------------------\u001b[0m",
      "\u001b[0;31mValueError\u001b[0m                                Traceback (most recent call last)",
      "\u001b[0;32m<ipython-input-1-9f8252206fd2>\u001b[0m in \u001b[0;36m<module>\u001b[0;34m\u001b[0m\n\u001b[1;32m      7\u001b[0m \u001b[0;32mfrom\u001b[0m \u001b[0mdatetime\u001b[0m \u001b[0;32mimport\u001b[0m \u001b[0mdatetime\u001b[0m\u001b[0;34m\u001b[0m\u001b[0;34m\u001b[0m\u001b[0m\n\u001b[1;32m      8\u001b[0m \u001b[0;31m# local imports\u001b[0m\u001b[0;34m\u001b[0m\u001b[0;34m\u001b[0m\u001b[0;34m\u001b[0m\u001b[0m\n\u001b[0;32m----> 9\u001b[0;31m \u001b[0;32mfrom\u001b[0m \u001b[0;34m.\u001b[0m\u001b[0;34m.\u001b[0m\u001b[0mutilities\u001b[0m \u001b[0;32mimport\u001b[0m \u001b[0mutilities\u001b[0m\u001b[0;34m\u001b[0m\u001b[0;34m\u001b[0m\u001b[0m\n\u001b[0m",
      "\u001b[0;31mValueError\u001b[0m: attempted relative import beyond top-level package"
     ]
    }
   ],
   "source": [
    "import csv\n",
    "import pandas as pd\n",
    "import numpy as np\n",
    "import matplotlib.pyplot as plt\n",
    "from sklearn.pipeline import Pipeline\n",
    "from sklearn.preprocessing import StandardScaler\n",
    "from datetime import datetime\n",
    "# local imports\n",
    "from ..utilities import utilities"
   ]
  },
  {
   "cell_type": "code",
   "execution_count": null,
   "metadata": {},
   "outputs": [],
   "source": [
    "# configure tqdm printing\n",
    "#%%capture\n",
    "from tqdm import tqdm_notebook as tqdm\n",
    "tqdm().pandas()"
   ]
  },
  {
   "cell_type": "code",
   "execution_count": null,
   "metadata": {},
   "outputs": [],
   "source": [
    "path = '../physiobank_tool/challenge'\n",
    "number_of_segments = 120\n",
    "low_cut = 0.1 # specific for this dataset"
   ]
  },
  {
   "cell_type": "code",
   "execution_count": null,
   "metadata": {},
   "outputs": [],
   "source": [
    "files = []\n",
    "with open(path+'/header.txt') as f:\n",
    "    reader = csv.reader(f)\n",
    "    for row in reader:\n",
    "        #print(row)\n",
    "        files.append(row[0])\n",
    "print(\"Read data for the following drivers:\\n\", files[:10])"
   ]
  },
  {
   "cell_type": "code",
   "execution_count": null,
   "metadata": {},
   "outputs": [],
   "source": [
    "def read_file(file_name):\n",
    "    ''' Read ecg information from a file and saves it to a dataframe  '''\n",
    "    cols_of_interest = [0,1]\n",
    "    ecg_data = pd.read_csv(f'{path}/{file_name}.csv', usecols=cols_of_interest)\n",
    "    # drop useless header\n",
    "    ecg_data = ecg_data.drop(ecg_data.index[0])\n",
    "    # name columns\n",
    "    ecg_data.columns = ['time', 'ECG']\n",
    "    # cast some columns to float\n",
    "    ecg_data['time'] = ecg_data['time'].astype(float)\n",
    "    ecg_data['ECG'] = ecg_data['ECG'].astype(float)\n",
    "    \n",
    "    return ecg_data"
   ]
  },
  {
   "cell_type": "code",
   "execution_count": null,
   "metadata": {},
   "outputs": [],
   "source": [
    "def run(ecg_data, file_name, number_of_segments, low_cut):\n",
    "    \"\"\"Execute the pipeline that segmentate and extract the features of a ecg signal \n",
    "    inputted as a dataframe\"\"\"\n",
    "    sample_rate = utilities.detect_sample_rate(ecg_data)\n",
    "    high_cut = sample_rate/3.0\n",
    "    \n",
    "    data_preparation_pipeline = Pipeline([\n",
    "        ('filtering', utilities.Filter(sample_rate, low_cut, high_cut)),\n",
    "        ('feature_detection', utilities.FeatureExtractor(number_of_segments, sample_rate)),\n",
    "        ])\n",
    "\n",
    "    extracted_features_df = data_preparation_pipeline.fit_transform(ecg_data['ECG'])\n",
    "    extracted_features_df.reset_index(drop=True, inplace=True)\n",
    "    return extracted_features_df"
   ]
  },
  {
   "cell_type": "code",
   "execution_count": null,
   "metadata": {},
   "outputs": [],
   "source": [
    "# A final dataframe to store all subjects (people) ecg information \n",
    "features_df = pd.DataFrame()\n",
    "# read every file and return the dataframe of extracted features for ech file\n",
    "for file in tqdm(files):\n",
    "    ecg_data = read_file(file)\n",
    "    current_df = run(ecg_data, file, number_of_segments, low_cut)\n",
    "    current_df['person'] = file\n",
    "    features_df = pd.concat([current_df, features_df], ignore_index=True)\n",
    "\n",
    "    "
   ]
  },
  {
   "cell_type": "code",
   "execution_count": null,
   "metadata": {},
   "outputs": [],
   "source": [
    "# Check an example\n",
    "features_df.head(5)"
   ]
  },
  {
   "cell_type": "code",
   "execution_count": null,
   "metadata": {},
   "outputs": [],
   "source": [
    "# check if we have equivalent number of examples per class   \n",
    "#features_df['person'].value_counts()"
   ]
  },
  {
   "cell_type": "code",
   "execution_count": null,
   "metadata": {},
   "outputs": [],
   "source": [
    "# Save the final extracted features\n",
    "now = str(datetime.now())\n",
    "features_df.to_csv(f\"../extracted_features_files/challange_{now}.csv\", index=False)"
   ]
  },
  {
   "cell_type": "code",
   "execution_count": null,
   "metadata": {},
   "outputs": [],
   "source": [
    "## Examples below"
   ]
  },
  {
   "cell_type": "code",
   "execution_count": null,
   "metadata": {},
   "outputs": [],
   "source": [
    "ecg_data = read_file(files[1])\n",
    "sample_rate = utilities.detect_sample_rate(ecg_data)\n",
    "two_seconds = ecg_data['ECG'][0:sample_rate*2]\n",
    "plt.figure(figsize=(20, 7), dpi= 80, facecolor='w', edgecolor='k')\n",
    "\n",
    "list_of_filters = [utilities.Filter(sample_rate, x, sample_rate/3.0) for x in np.linspace(0.1, 1, 10)]\n",
    "list_of_filtered_signals = [x.fit_transform(two_seconds) + index for index, x in enumerate(list_of_filters)]\n",
    "\n",
    "for index, signal in enumerate(list_of_filtered_signals):\n",
    "    plt.plot(signal, label=f'filtered_{index}')\n",
    "plt.plot(two_seconds+1.0, label='original')\n",
    "plt.legend()"
   ]
  }
 ],
 "metadata": {
  "kernelspec": {
   "display_name": "Python 3",
   "language": "python",
   "name": "python3"
  },
  "language_info": {
   "codemirror_mode": {
    "name": "ipython",
    "version": 3
   },
   "file_extension": ".py",
   "mimetype": "text/x-python",
   "name": "python",
   "nbconvert_exporter": "python",
   "pygments_lexer": "ipython3",
   "version": "3.7.4"
  }
 },
 "nbformat": 4,
 "nbformat_minor": 2
}
