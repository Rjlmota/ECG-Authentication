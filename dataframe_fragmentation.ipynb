{
 "cells": [
  {
   "cell_type": "code",
   "execution_count": 20,
   "metadata": {},
   "outputs": [],
   "source": [
    "import pandas as pd\n",
    "import random\n",
    "import numpy as np"
   ]
  },
  {
   "cell_type": "code",
   "execution_count": 29,
   "metadata": {},
   "outputs": [
    {
     "data": {
      "text/plain": [
       "1513"
      ]
     },
     "execution_count": 29,
     "metadata": {},
     "output_type": "execute_result"
    }
   ],
   "source": [
    "data = pd.read_csv(\"extracted_features_files/challange.csv\")\n",
    "len(data['person'].unique())"
   ]
  },
  {
   "cell_type": "code",
   "execution_count": 30,
   "metadata": {},
   "outputs": [],
   "source": [
    "def Diff(li1, li2): \n",
    "    return (list(set(li1) - set(li2))) "
   ]
  },
  {
   "cell_type": "code",
   "execution_count": 35,
   "metadata": {},
   "outputs": [
    {
     "name": "stdout",
     "output_type": "stream",
     "text": [
      "remaining users: 1413\n",
      "remaining users: 1313\n",
      "remaining users: 1213\n",
      "remaining users: 1113\n",
      "remaining users: 1013\n",
      "remaining users: 913\n",
      "remaining users: 813\n",
      "remaining users: 713\n",
      "remaining users: 613\n",
      "remaining users: 513\n",
      "remaining users: 413\n",
      "remaining users: 313\n",
      "remaining users: 213\n",
      "remaining users: 113\n",
      "remaining users: 13\n"
     ]
    }
   ],
   "source": [
    "list_of_users = list(data['person'].unique())\n",
    "#print(list_of_users - teste)\n",
    "df = pd.DataFrame()\n",
    "\n",
    "for block in range(100, 1501, 100):\n",
    "    selected = random.sample(list_of_users, 100)\n",
    "    list_of_users = Diff(list_of_users, selected)\n",
    "    print(\"remaining users:\", len(set(list_of_users)))\n",
    "    selected_df = data[data['person'].isin(selected)]\n",
    "    df = pd.concat([df, selected_df], ignore_index=True)\n",
    "    df.to_csv(f\"challange_data/block{block}.csv\", index=False)\n",
    "    "
   ]
  }
 ],
 "metadata": {
  "kernelspec": {
   "display_name": "Python 3",
   "language": "python",
   "name": "python3"
  },
  "language_info": {
   "codemirror_mode": {
    "name": "ipython",
    "version": 3
   },
   "file_extension": ".py",
   "mimetype": "text/x-python",
   "name": "python",
   "nbconvert_exporter": "python",
   "pygments_lexer": "ipython3",
   "version": "3.7.4"
  }
 },
 "nbformat": 4,
 "nbformat_minor": 2
}
