{
 "cells": [
  {
   "cell_type": "code",
   "execution_count": 5,
   "metadata": {},
   "outputs": [],
   "source": [
    "import pandas as pd\n",
    "import random\n",
    "import numpy as np"
   ]
  },
  {
   "cell_type": "code",
   "execution_count": 6,
   "metadata": {},
   "outputs": [
    {
     "data": {
      "text/plain": [
       "1983"
      ]
     },
     "execution_count": 6,
     "metadata": {},
     "output_type": "execute_result"
    }
   ],
   "source": [
    "data = pd.read_csv(\"extracted_features_files/challenge_raw_everyone.csv\")\n",
    "len(data['person'].unique())"
   ]
  },
  {
   "cell_type": "code",
   "execution_count": 7,
   "metadata": {},
   "outputs": [],
   "source": [
    "def Diff(li1, li2): \n",
    "    return (list(set(li1) - set(li2))) "
   ]
  },
  {
   "cell_type": "code",
   "execution_count": 9,
   "metadata": {},
   "outputs": [],
   "source": [
    "list_of_users = list(data['person'].unique())\n",
    "#print(list_of_users - teste)\n",
    "df = pd.DataFrame()\n",
    "\n",
    "for block in range(100, 1501, 100):\n",
    "    selected = random.sample(list_of_users, 100)\n",
    "    list_of_users = Diff(list_of_users, selected)\n",
    "    #print(\"remaining users:\", len(set(list_of_users)))\n",
    "    selected_df = data[data['person'].isin(selected)]\n",
    "    df = pd.concat([df, selected_df], ignore_index=True)\n",
    "    #print(df['person'].value_counts())\n",
    "    df.to_csv(f\"challange_data/block{block}.csv\", index=False)\n",
    "    #input()"
   ]
  },
  {
   "cell_type": "code",
   "execution_count": null,
   "metadata": {},
   "outputs": [],
   "source": []
  }
 ],
 "metadata": {
  "kernelspec": {
   "display_name": "Python 3",
   "language": "python",
   "name": "python3"
  },
  "language_info": {
   "codemirror_mode": {
    "name": "ipython",
    "version": 3
   },
   "file_extension": ".py",
   "mimetype": "text/x-python",
   "name": "python",
   "nbconvert_exporter": "python",
   "pygments_lexer": "ipython3",
   "version": "3.7.4"
  }
 },
 "nbformat": 4,
 "nbformat_minor": 2
}
