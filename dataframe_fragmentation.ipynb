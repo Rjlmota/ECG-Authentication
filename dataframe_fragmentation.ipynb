{
 "cells": [
  {
   "cell_type": "code",
   "execution_count": 1,
   "metadata": {},
   "outputs": [],
   "source": [
    "import pandas as pd\n",
    "import random\n",
    "import numpy as np"
   ]
  },
  {
   "cell_type": "code",
   "execution_count": 2,
   "metadata": {},
   "outputs": [
    {
     "data": {
      "text/plain": [
       "1983"
      ]
     },
     "execution_count": 2,
     "metadata": {},
     "output_type": "execute_result"
    }
   ],
   "source": [
    "data = pd.read_csv(\"extracted_features_files/challenge_processed_everyone.csv\")\n",
    "len(data['person'].unique())"
   ]
  },
  {
   "cell_type": "code",
   "execution_count": 3,
   "metadata": {},
   "outputs": [],
   "source": [
    "def Diff(li1, li2): \n",
    "    return (list(set(li1) - set(li2))) "
   ]
  },
  {
   "cell_type": "code",
   "execution_count": 4,
   "metadata": {},
   "outputs": [
    {
     "name": "stdout",
     "output_type": "stream",
     "text": [
      "remaining users: 1883\n",
      "remaining users: 1783\n",
      "remaining users: 1683\n",
      "remaining users: 1583\n",
      "remaining users: 1483\n",
      "remaining users: 1383\n",
      "remaining users: 1283\n",
      "remaining users: 1183\n",
      "remaining users: 1083\n",
      "remaining users: 983\n",
      "remaining users: 883\n",
      "remaining users: 783\n",
      "remaining users: 683\n",
      "remaining users: 583\n",
      "remaining users: 483\n"
     ]
    }
   ],
   "source": [
    "list_of_users = list(data['person'].unique())\n",
    "#print(list_of_users - teste)\n",
    "df = pd.DataFrame()\n",
    "\n",
    "for block in range(100, 1501, 100):\n",
    "    selected = random.sample(list_of_users, 100)\n",
    "    list_of_users = Diff(list_of_users, selected)\n",
    "    print(\"remaining users:\", len(set(list_of_users)))\n",
    "    selected_df = data[data['person'].isin(selected)]\n",
    "    df = pd.concat([df, selected_df], ignore_index=True)\n",
    "    df.to_csv(f\"challange_data/block{block}.csv\", index=False)\n",
    "    "
   ]
  }
 ],
 "metadata": {
  "kernelspec": {
   "display_name": "Python 3",
   "language": "python",
   "name": "python3"
  },
  "language_info": {
   "codemirror_mode": {
    "name": "ipython",
    "version": 3
   },
   "file_extension": ".py",
   "mimetype": "text/x-python",
   "name": "python",
   "nbconvert_exporter": "python",
   "pygments_lexer": "ipython3",
   "version": "3.7.4"
  }
 },
 "nbformat": 4,
 "nbformat_minor": 2
}
